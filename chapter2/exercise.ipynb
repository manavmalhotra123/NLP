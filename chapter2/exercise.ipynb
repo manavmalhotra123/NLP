{
 "cells": [
  {
   "cell_type": "code",
   "execution_count": 2,
   "metadata": {},
   "outputs": [
    {
     "data": {
      "text/plain": [
       "['austen-emma.txt',\n",
       " 'austen-persuasion.txt',\n",
       " 'austen-sense.txt',\n",
       " 'bible-kjv.txt',\n",
       " 'blake-poems.txt',\n",
       " 'bryant-stories.txt',\n",
       " 'burgess-busterbrown.txt',\n",
       " 'carroll-alice.txt',\n",
       " 'chesterton-ball.txt',\n",
       " 'chesterton-brown.txt',\n",
       " 'chesterton-thursday.txt',\n",
       " 'edgeworth-parents.txt',\n",
       " 'melville-moby_dick.txt',\n",
       " 'milton-paradise.txt',\n",
       " 'shakespeare-caesar.txt',\n",
       " 'shakespeare-hamlet.txt',\n",
       " 'shakespeare-macbeth.txt',\n",
       " 'whitman-leaves.txt']"
      ]
     },
     "execution_count": 2,
     "metadata": {},
     "output_type": "execute_result"
    }
   ],
   "source": [
    "# accessing the Gutenberg corpus \n",
    "import nltk\n",
    "nltk.corpus.gutenberg.fileids()"
   ]
  },
  {
   "cell_type": "code",
   "execution_count": 4,
   "id": "57aa1132",
   "metadata": {},
   "outputs": [
    {
     "name": "stdout",
     "output_type": "stream",
     "text": [
      "192427\n"
     ]
    }
   ],
   "source": [
    "emma = nltk.corpus.gutenberg.words('austen-emma.txt')\n",
    "print(len(emma))"
   ]
  },
  {
   "cell_type": "code",
   "execution_count": 6,
   "id": "7412790a",
   "metadata": {},
   "outputs": [
    {
     "name": "stdout",
     "output_type": "stream",
     "text": [
      "Displaying 5 of 37 matches:\n",
      "er father , was sometimes taken by surprize at his being still able to pity ` \n",
      "hem do the other any good .\" \" You surprize me ! Emma must do Harriet good : a\n",
      "Knightley actually looked red with surprize and displeasure , as he stood up ,\n",
      "r . Elton , and found to his great surprize , that Mr . Elton was actually on \n",
      "d aid .\" Emma saw Mrs . Weston ' s surprize , and felt that it must be great ,\n"
     ]
    }
   ],
   "source": [
    "emma = nltk.Text(nltk.corpus.gutenberg.words('austen-emma.txt'))\n",
    "emma.concordance(\"surprize\", lines = 5) # finding similarity or correlation"
   ]
  },
  {
   "cell_type": "code",
   "execution_count": 7,
   "id": "5011a38f",
   "metadata": {},
   "outputs": [
    {
     "data": {
      "text/plain": [
       "['austen-emma.txt',\n",
       " 'austen-persuasion.txt',\n",
       " 'austen-sense.txt',\n",
       " 'bible-kjv.txt',\n",
       " 'blake-poems.txt',\n",
       " 'bryant-stories.txt',\n",
       " 'burgess-busterbrown.txt',\n",
       " 'carroll-alice.txt',\n",
       " 'chesterton-ball.txt',\n",
       " 'chesterton-brown.txt',\n",
       " 'chesterton-thursday.txt',\n",
       " 'edgeworth-parents.txt',\n",
       " 'melville-moby_dick.txt',\n",
       " 'milton-paradise.txt',\n",
       " 'shakespeare-caesar.txt',\n",
       " 'shakespeare-hamlet.txt',\n",
       " 'shakespeare-macbeth.txt',\n",
       " 'whitman-leaves.txt']"
      ]
     },
     "execution_count": 7,
     "metadata": {},
     "output_type": "execute_result"
    }
   ],
   "source": [
    "from nltk.corpus import gutenberg\n",
    "gutenberg.fileids()"
   ]
  },
  {
   "cell_type": "markdown",
   "id": "422d071a",
   "metadata": {},
   "source": [
    "num_chars = len(gutenberg.raw(fileid)): Counts the total number of characters in the raw text of the file.\n",
    "num_words = len(gutenberg.words(fileid)): Counts the total number of words in the text.\n",
    "num_sents = len(gutenberg.sents(fileid)): Counts the total number of sentences in the text.\n",
    "num_vocab = len(set(w.lower() for w in gutenberg.words(fileid))): Counts the number of unique words (vocabulary) in the text, after converting all words to lowercase."
   ]
  },
  {
   "cell_type": "code",
   "execution_count": 8,
   "id": "cefd4c42",
   "metadata": {},
   "outputs": [
    {
     "name": "stdout",
     "output_type": "stream",
     "text": [
      "5 \t 25 \t 26 \t austen-emma.txt\n",
      "5 \t 26 \t 17 \t austen-persuasion.txt\n",
      "5 \t 28 \t 22 \t austen-sense.txt\n",
      "4 \t 34 \t 79 \t bible-kjv.txt\n",
      "5 \t 19 \t 5 \t blake-poems.txt\n",
      "4 \t 19 \t 14 \t bryant-stories.txt\n",
      "4 \t 18 \t 12 \t burgess-busterbrown.txt\n",
      "4 \t 20 \t 13 \t carroll-alice.txt\n",
      "5 \t 20 \t 12 \t chesterton-ball.txt\n",
      "5 \t 23 \t 11 \t chesterton-brown.txt\n",
      "5 \t 18 \t 11 \t chesterton-thursday.txt\n",
      "4 \t 21 \t 25 \t edgeworth-parents.txt\n",
      "5 \t 26 \t 15 \t melville-moby_dick.txt\n",
      "5 \t 52 \t 11 \t milton-paradise.txt\n",
      "4 \t 12 \t 9 \t shakespeare-caesar.txt\n",
      "4 \t 12 \t 8 \t shakespeare-hamlet.txt\n",
      "4 \t 12 \t 7 \t shakespeare-macbeth.txt\n",
      "5 \t 36 \t 12 \t whitman-leaves.txt\n"
     ]
    }
   ],
   "source": [
    "# adding tabs to make the output more presentable\n",
    "\n",
    "for fileid in gutenberg.fileids():\n",
    "    num_chars = len(gutenberg.raw(fileid))\n",
    "    num_words = len(gutenberg.words(fileid))\n",
    "    num_sents = len(gutenberg.sents(fileid))\n",
    "    num_vocab = len(set(w.lower() for w in gutenberg.words(fileid)))\n",
    "    print(round(num_chars/num_words), \"\\t\", round(num_words/num_sents), \"\\t\",\n",
    "          round(num_words/num_vocab), \"\\t\", fileid)"
   ]
  },
  {
   "cell_type": "code",
   "execution_count": 9,
   "id": "f8c6f5a7",
   "metadata": {},
   "outputs": [
    {
     "name": "stdout",
     "output_type": "stream",
     "text": [
      "4 \t 21 \t 23 \t austen-emma.txt\n",
      "4 \t 22 \t 15 \t austen-persuasion.txt\n",
      "4 \t 24 \t 19 \t austen-sense.txt\n",
      "4 \t 26 \t 63 \t bible-kjv.txt\n",
      "4 \t 16 \t 5 \t blake-poems.txt\n",
      "4 \t 16 \t 12 \t bryant-stories.txt\n",
      "4 \t 15 \t 11 \t burgess-busterbrown.txt\n",
      "4 \t 16 \t 10 \t carroll-alice.txt\n",
      "4 \t 17 \t 10 \t chesterton-ball.txt\n",
      "4 \t 19 \t 9 \t chesterton-brown.txt\n",
      "4 \t 16 \t 9 \t chesterton-thursday.txt\n",
      "4 \t 16 \t 20 \t edgeworth-parents.txt\n",
      "4 \t 21 \t 13 \t melville-moby_dick.txt\n",
      "4 \t 43 \t 9 \t milton-paradise.txt\n",
      "4 \t 9 \t 7 \t shakespeare-caesar.txt\n",
      "4 \t 10 \t 6 \t shakespeare-hamlet.txt\n",
      "4 \t 9 \t 5 \t shakespeare-macbeth.txt\n",
      "4 \t 29 \t 10 \t whitman-leaves.txt\n"
     ]
    }
   ],
   "source": [
    "enclitics = (\"d\", \"ll\", \"m\", \"re\", \"s\", \"t\", \"ve\")\n",
    "\n",
    "for fileid in gutenberg.fileids():\n",
    "    num_chars = len([w for w in gutenberg.raw(fileid) if w.isalpha()])\n",
    "    num_words = len([w for w in gutenberg.words(fileid) if w.isalpha() and w not in enclitics])\n",
    "    num_sents = len(gutenberg.sents(fileid))\n",
    "    num_vocab = len(set(w.lower() for w in gutenberg.words(fileid) if w.isalpha() and w not in enclitics))\n",
    "    print(round(num_chars/num_words), \"\\t\", round(num_words/num_sents), \"\\t\",\n",
    "          round(num_words/num_vocab), \"\\t\", fileid)"
   ]
  },
  {
   "cell_type": "code",
   "execution_count": 12,
   "id": "1f0bcf9c",
   "metadata": {},
   "outputs": [
    {
     "name": "stdout",
     "output_type": "stream",
     "text": [
      "158\n",
      "[['Doubtfull', 'it', 'stood', ',', 'As', 'two', 'spent', 'Swimmers', ',', 'that', 'doe', 'cling', 'together', ',', 'And', 'choake', 'their', 'Art', ':', 'The', 'mercilesse', 'Macdonwald', '(', 'Worthie', 'to', 'be', 'a', 'Rebell', ',', 'for', 'to', 'that', 'The', 'multiplying', 'Villanies', 'of', 'Nature', 'Doe', 'swarme', 'vpon', 'him', ')', 'from', 'the', 'Westerne', 'Isles', 'Of', 'Kernes', 'and', 'Gallowgrosses', 'is', 'supply', \"'\", 'd', ',', 'And', 'Fortune', 'on', 'his', 'damned', 'Quarry', 'smiling', ',', 'Shew', \"'\", 'd', 'like', 'a', 'Rebells', 'Whore', ':', 'but', 'all', \"'\", 's', 'too', 'weake', ':', 'For', 'braue', 'Macbeth', '(', 'well', 'hee', 'deserues', 'that', 'Name', ')', 'Disdayning', 'Fortune', ',', 'with', 'his', 'brandisht', 'Steele', ',', 'Which', 'smoak', \"'\", 'd', 'with', 'bloody', 'execution', '(', 'Like', 'Valours', 'Minion', ')', 'caru', \"'\", 'd', 'out', 'his', 'passage', ',', 'Till', 'hee', 'fac', \"'\", 'd', 'the', 'Slaue', ':', 'Which', 'neu', \"'\", 'r', 'shooke', 'hands', ',', 'nor', 'bad', 'farwell', 'to', 'him', ',', 'Till', 'he', 'vnseam', \"'\", 'd', 'him', 'from', 'the', 'Naue', 'toth', \"'\", 'Chops', ',', 'And', 'fix', \"'\", 'd', 'his', 'Head', 'vpon', 'our', 'Battlements']] "
     ]
    }
   ],
   "source": [
    "# getting the longest sentence from the text\n",
    "longest = max(len(s) for s in gutenberg.sents('shakespeare-macbeth.txt'))\n",
    "print(longest)\n",
    "print([s for s in gutenberg.sents('shakespeare-macbeth.txt') if len(s) == longest], end = \" \")"
   ]
  },
  {
   "cell_type": "markdown",
   "id": "fd772006",
   "metadata": {},
   "source": [
    "## WEB And CHAT TEXT"
   ]
  },
  {
   "cell_type": "code",
   "execution_count": 14,
   "id": "33f7ff96",
   "metadata": {},
   "outputs": [
    {
     "name": "stdout",
     "output_type": "stream",
     "text": [
      "firefox.txt Cookie Manager: \"Don't allow sites that set removed cookies to se ...\n",
      "grail.txt SCENE 1: [wind] [clop clop clop] \n",
      "KING ARTHUR: Whoa there!  [clop ...\n",
      "overheard.txt White guy: So, do you have any plans for this evening?\n",
      "Asian girl ...\n",
      "pirates.txt PIRATES OF THE CARRIBEAN: DEAD MAN'S CHEST, by Ted Elliott & Terr ...\n",
      "singles.txt 25 SEXY MALE, seeks attrac older single lady, for discreet encoun ...\n",
      "wine.txt Lovely delicate, fragrant Rhone wine. Polished leather and strawb ...\n"
     ]
    }
   ],
   "source": [
    "from nltk.corpus import webtext\n",
    "for fileid in webtext.fileids():\n",
    "    print(fileid, webtext.raw(fileid)[:65],'...')"
   ]
  },
  {
   "cell_type": "code",
   "execution_count": 15,
   "id": "fbc9b19b",
   "metadata": {},
   "outputs": [
    {
     "name": "stdout",
     "output_type": "stream",
     "text": [
      "['i', 'do', \"n't\", 'want', 'hot', 'pics', 'of', 'a', 'female', ',', 'I', 'can', 'look', 'in', 'a', 'mirror', '.']"
     ]
    }
   ],
   "source": [
    "from nltk.corpus import nps_chat\n",
    "chatroom = nps_chat.posts('10-19-20s_706posts.xml')\n",
    "print(chatroom[123], end = '')"
   ]
  },
  {
   "cell_type": "markdown",
   "id": "5e67ab99",
   "metadata": {},
   "source": [
    "##### Reuters CORPUS"
   ]
  },
  {
   "cell_type": "code",
   "execution_count": 27,
   "id": "a01eaee1",
   "metadata": {},
   "outputs": [
    {
     "name": "stderr",
     "output_type": "stream",
     "text": [
      "[nltk_data] Downloading package reuters to /home/manav/nltk_data...\n"
     ]
    },
    {
     "name": "stdout",
     "output_type": "stream",
     "text": [
      "['test/14826', 'test/14828', 'test/14829', 'test/14832', 'test/14833', 'test/14839', 'test/14840', 'test/14841', 'test/14842', 'test/14843', 'test/14844', 'test/14849', 'test/14852', 'test/14854', 'test/14858', 'test/14859', 'test/14860', 'test/14861', 'test/14862', 'test/14863', 'test/14865', 'test/14867', 'test/14872', 'test/14873', 'test/14875', 'test/14876', 'test/14877', 'test/14881', 'test/14882', 'test/14885', 'test/14886', 'test/14888', 'test/14890', 'test/14891', 'test/14892', 'test/14899', 'test/14900', 'test/14903', 'test/14904', 'test/14907', 'test/14909', 'test/14911', 'test/14912', 'test/14913', 'test/14918', 'test/14919', 'test/14921', 'test/14922', 'test/14923', 'test/14926']"
     ]
    }
   ],
   "source": [
    "nltk.download('reuters')\n",
    "from nltk.corpus import reuters\n",
    "print(reuters.fileids()[:50], end = '')"
   ]
  },
  {
   "cell_type": "code",
   "execution_count": 29,
   "id": "dc33aa90",
   "metadata": {},
   "outputs": [
    {
     "name": "stdout",
     "output_type": "stream",
     "text": [
      "['acq', 'alum', 'barley', 'bop', 'carcass', 'castor-oil', 'cocoa', 'coconut', 'coconut-oil', 'coffee', 'copper', 'copra-cake', 'corn', 'cotton', 'cotton-oil', 'cpi', 'cpu', 'crude', 'dfl', 'dlr', 'dmk', 'earn', 'fuel', 'gas', 'gnp', 'gold', 'grain', 'groundnut', 'groundnut-oil', 'heat', 'hog', 'housing', 'income', 'instal-debt', 'interest', 'ipi', 'iron-steel', 'jet', 'jobs', 'l-cattle', 'lead', 'lei', 'lin-oil', 'livestock', 'lumber', 'meal-feed', 'money-fx', 'money-supply', 'naphtha', 'nat-gas', 'nickel', 'nkr', 'nzdlr', 'oat', 'oilseed', 'orange', 'palladium', 'palm-oil', 'palmkernel', 'pet-chem', 'platinum', 'potato', 'propane', 'rand', 'rape-oil', 'rapeseed', 'reserves', 'retail', 'rice', 'rubber', 'rye', 'ship', 'silver', 'sorghum', 'soy-meal', 'soy-oil', 'soybean', 'strategic-metal', 'sugar', 'sun-meal', 'sun-oil', 'sunseed', 'tea', 'tin', 'trade', 'veg-oil', 'wheat', 'wpi', 'yen', 'zinc']"
     ]
    }
   ],
   "source": [
    "print(reuters.categories(), end = \"\")"
   ]
  },
  {
   "cell_type": "code",
   "execution_count": 33,
   "id": "947475ec",
   "metadata": {},
   "outputs": [
    {
     "name": "stdout",
     "output_type": "stream",
     "text": [
      "['barley', 'corn', 'grain', 'wheat']\n",
      "['money-fx']\n",
      "['barley', 'corn', 'grain', 'money-fx', 'wheat']\n"
     ]
    }
   ],
   "source": [
    "print(reuters.categories('training/9865'))\n",
    "print(reuters.categories('training/9880'))\n",
    "print(reuters.categories(['training/9865','training/9880']))"
   ]
  },
  {
   "cell_type": "code",
   "execution_count": null,
   "id": "d3d9e2b2",
   "metadata": {},
   "outputs": [],
   "source": []
  }
 ],
 "metadata": {
  "kernelspec": {
   "display_name": "Python 3",
   "language": "python",
   "name": "python3"
  },
  "language_info": {
   "codemirror_mode": {
    "name": "ipython",
    "version": 3
   },
   "file_extension": ".py",
   "mimetype": "text/x-python",
   "name": "python",
   "nbconvert_exporter": "python",
   "pygments_lexer": "ipython3",
   "version": "3.10.12"
  }
 },
 "nbformat": 4,
 "nbformat_minor": 5
}
