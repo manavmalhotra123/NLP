{
 "cells": [
  {
   "cell_type": "code",
   "execution_count": 1,
   "metadata": {},
   "outputs": [
    {
     "data": {
      "text/plain": [
       "8"
      ]
     },
     "execution_count": 1,
     "metadata": {},
     "output_type": "execute_result"
    }
   ],
   "source": [
    "# trying kind of calculator\n",
    "\n",
    "8008 // ((10 * 10 * 10) + 1)"
   ]
  },
  {
   "cell_type": "markdown",
   "id": "5a1685a5",
   "metadata": {},
   "source": [
    " Given an alphabet of 26 letters, there are 26 to the power 10, or 26 ** 10, ten-letter strings we can form. That works out to 141167095653376. How many hundred-letter strings are possible?\n",
    "\n",
    "print(\"{}\".format) has not yet been introduced in the book, but it can be used to make strings - especially numerical ones - much more legible."
   ]
  },
  {
   "cell_type": "code",
   "execution_count": 2,
   "id": "40bffb58",
   "metadata": {},
   "outputs": [
    {
     "name": "stdout",
     "output_type": "stream",
     "text": [
      "3,142,930,641,582,938,830,174,357,788,501,626,427,282,669,988,762,475,256,374,173,175,398,995,908,420,104,023,465,432,599,069,702,289,330,964,075,081,611,719,197,835,869,803,511,992,549,376\n"
     ]
    }
   ],
   "source": [
    "print(\"{:,}\".format(26**100))"
   ]
  },
  {
   "cell_type": "markdown",
   "id": "0fd57758",
   "metadata": {},
   "source": [
    "☼ The Python multiplication operation can be applied to lists. What happens when you type ['Monty', 'Python'] * 20, or 3 * sent1"
   ]
  },
  {
   "cell_type": "code",
   "execution_count": 3,
   "id": "78c5783d",
   "metadata": {},
   "outputs": [
    {
     "name": "stdout",
     "output_type": "stream",
     "text": [
      "['Monty', 'Python', 'Monty', 'Python', 'Monty', 'Python', 'Monty', 'Python', 'Monty', 'Python', 'Monty', 'Python', 'Monty', 'Python', 'Monty', 'Python', 'Monty', 'Python', 'Monty', 'Python', 'Monty', 'Python', 'Monty', 'Python', 'Monty', 'Python', 'Monty', 'Python', 'Monty', 'Python', 'Monty', 'Python', 'Monty', 'Python', 'Monty', 'Python', 'Monty', 'Python', 'Monty', 'Python']"
     ]
    }
   ],
   "source": [
    "\n",
    "print(['Monty', 'Python'] * 20, end = '')"
   ]
  },
  {
   "cell_type": "markdown",
   "id": "635cf80e",
   "metadata": {},
   "source": [
    "### NlTK Book "
   ]
  },
  {
   "cell_type": "code",
   "execution_count": 4,
   "id": "ca02ffea",
   "metadata": {},
   "outputs": [
    {
     "name": "stderr",
     "output_type": "stream",
     "text": [
      "[nltk_data] Downloading package gutenberg to /home/manav/nltk_data...\n",
      "[nltk_data]   Package gutenberg is already up-to-date!\n",
      "[nltk_data] Downloading package genesis to /home/manav/nltk_data...\n",
      "[nltk_data]   Package genesis is already up-to-date!\n",
      "[nltk_data] Downloading package inaugural to /home/manav/nltk_data...\n",
      "[nltk_data]   Package inaugural is already up-to-date!\n",
      "[nltk_data] Downloading package nps_chat to /home/manav/nltk_data...\n",
      "[nltk_data]   Package nps_chat is already up-to-date!\n",
      "[nltk_data] Downloading package webtext to /home/manav/nltk_data...\n",
      "[nltk_data]   Package webtext is already up-to-date!\n",
      "[nltk_data] Downloading package treebank to /home/manav/nltk_data...\n",
      "[nltk_data]   Package treebank is already up-to-date!\n"
     ]
    },
    {
     "data": {
      "text/plain": [
       "True"
      ]
     },
     "execution_count": 4,
     "metadata": {},
     "output_type": "execute_result"
    }
   ],
   "source": [
    "# corpus downloader\n",
    "import nltk\n",
    "# books we need to install when using nltk books\n",
    "nltk.download('gutenberg')\n",
    "nltk.download('genesis')\n",
    "nltk.download('inaugural')\n",
    "nltk.download('nps_chat')\n",
    "nltk.download('webtext')\n",
    "nltk.download('treebank')\n"
   ]
  },
  {
   "cell_type": "code",
   "execution_count": 5,
   "id": "59aa368e",
   "metadata": {},
   "outputs": [
    {
     "name": "stdout",
     "output_type": "stream",
     "text": [
      "*** Introductory Examples for the NLTK Book ***\n",
      "Loading text1, ..., text9 and sent1, ..., sent9\n",
      "Type the name of the text or sentence to view it.\n",
      "Type: 'texts()' or 'sents()' to list the materials.\n",
      "text1: Moby Dick by Herman Melville 1851\n",
      "text2: Sense and Sensibility by Jane Austen 1811\n",
      "text3: The Book of Genesis\n",
      "text4: Inaugural Address Corpus\n",
      "text5: Chat Corpus\n",
      "text6: Monty Python and the Holy Grail\n",
      "text7: Wall Street Journal\n",
      "text8: Personals Corpus\n",
      "text9: The Man Who Was Thursday by G . K . Chesterton 1908\n"
     ]
    }
   ],
   "source": [
    "import nltk\n",
    "# all the books are installed\n",
    "from nltk.book import *"
   ]
  },
  {
   "cell_type": "code",
   "execution_count": 6,
   "id": "08cdfe70",
   "metadata": {},
   "outputs": [
    {
     "name": "stdout",
     "output_type": "stream",
     "text": [
      "['Call', 'me', 'Ishmael', '.', 'Call', 'me', 'Ishmael', '.', 'Call', 'me', 'Ishmael', '.']['The', 'family', 'of', 'Dashwood', 'had', 'long', 'been', 'settled', 'in', 'Sussex', '.', 'The', 'family', 'of', 'Dashwood', 'had', 'long', 'been', 'settled', 'in', 'Sussex', '.', 'The', 'family', 'of', 'Dashwood', 'had', 'long', 'been', 'settled', 'in', 'Sussex', '.']"
     ]
    }
   ],
   "source": [
    "# printing the content 3 time of message sent1\n",
    "\n",
    "print(3 * sent1, end = '')\n",
    "print(3 * sent2, end = '')\n"
   ]
  },
  {
   "cell_type": "code",
   "execution_count": 7,
   "id": "e00ebf30",
   "metadata": {},
   "outputs": [
    {
     "name": "stdout",
     "output_type": "stream",
     "text": [
      "{'guest', 'pointers', 'opposed', 'holds', 'risk', 'inn', 'grace', 'showers', 'DEAR', 'playing', 'universally', 'overlooked', 'reliance', 'ones', 'removal', 'gallantry', 'rated', 'c', 'witnessed', 'unfortunate', 'momentary', 'understood', 'purse', 'amiable', 'offer', 'offences', 'am', 'contrary', 'policy', 'accommodation', 'amongst', 'features', 'bed', 'ability', 'drift', 'allowances', 'spontaneous', 'conclusions', 'invariably', 'thence', 'neighbourhood', 'evening', 'breath', 'preferred', 'embarrassment', 'attend', 'forbidding', 'minuteness', 'a', 'appropriate', 'undeceiving', 'proofs', 'began', 'puzzled', 'wet', 'reduced', 'flushed', 'pianoforte', 'TWO', 'reports', '30', 'instead', 'debating', 'ESTEEM', 'stares', 'representing', 'lament', 'dry', '21', 'slightly', 'humiliating', 'Amongst', 'strong', 'cherished', 'writing', 'differing', 'owned', 'kissed', 'exert', 'laid', 'foreplanned', 'joking', 'deliverance', 'laughing', 'exceeding', 'mentioning', 'survived', 'string', 'inch', 'year', 'ascertained', 'perfectly', 'opinions', 'moderation', 'Ungracious', 'merest', 'sore', 'indulge', 'NOT', 'pray', 'settled', 'especially', 'poking', 'fame', 'habits', 'restored', 'endeavors', 'stretch', 'whispered', 'ears', 'assembled', 'misfortune', 'secure', 'kill', 'rain', 'desertion', 'mutton', 'raillery', 'impression', 'per', 'comparatively', 'affectedly', 'humoured', 'wrote', 'troop', 'bonnet', 'addition', 'worded', 'friendship', 'I', 'maxims', 'cheerful', 'are', 'confidence', 'Willing', 'alleged', 'Unaccountable', 'compassion', 'money', 'fate', 'parent', 'credulous', 'profiting', 'extinction', 'performance', 'tempted', 'shillings', 'awakening', 'innocence', 'conceited', 'handsomest', 'dismiss', 'sickly', 'Simpson', 'Twice', 'Conduit', 'condemnation', 'guardians', 'overheard', 'remembrances', 'residence', 'bigger', 'on', 'heroically', 'inconsolable', 'fright', 'spared', 'approaching', 'supports', 'esteem', 'Three', 'comes', 'merriment', 'latter', 'imagery', 'considerable', 'profess', 'high', 'nt', 'unfolded', 'your', 'worth', 'treasured', 'Should', 'choose', 'Lodging', 'often', 'dissatisfied', 'stroke', 'safety', 'patroness', 'Sometimes', 'commands', 'HERS', 'production', 'conveniently', 'calmness', 'impulse', 'Fortunately', 'd', 'farm', 'unconquerable', 'urgency', 'irritates', 'whom', 'possible', 'placed', 'uppermost', 'demand', 'sofa', 'eligible', 'fever', 'wretchedness', 'downs', 'emptiness', 'party', 'ninny', 'instructions', 'uniting', 'expand', 'constantly', 'free', 'Far', 'lead', 'wettest', 'awake', 'acted', 'closing', 'far', 'working', 'cultivated', 'again', 'housemaid', 'impracticable', 'restriction', 'ordinary', 'human', 'cunning', 'secured', 'parliament', 'alarming', 'attack', 'pitying', 'there', 'fortunate', 'reconsider', 'explanation', 'toilet', 'Mamma', 'supposition', 'solely', 'warning', 'division', 'footman', 'desperate', 'sleepless', 'provided', 'generations', 'intrusion', 'caution', 'caresses', 'discern', 'resentment', 'reproved', 'assigned', 'unlocked', 'ay', 'foresaw', 'opposite', 'fruit', 'most', 'power', 'Others', 'destroy', 'misery', 'needless', 'preceded', 'angrily', 'persisted', 'illaudable', 'joy', 'ball', 'lighter', 'distrusts', 'bargain', 'song', 'approached', 'obstacles', 'dishonorable', 'As', 'delays', 'foibles', 'watchfulness', 'its', 'determinate', 'expenses', 'successful', 'persuasion', 'audacity', 'forfeiting', 'coats', 'inelegant', 'Hour', 'hateful', 'trifle', 'duration', 'subsequent', 'answers', 'performed', 'partners', 'dooming', 'meadows', 'ended', 'deterred', 'repine', 'prevail', 'subdue', 'submit', 'stretched', 'fox', 'low', 'reparation', 'workmen', 'mutually', 'Prescriptions', 'gaining', 'Taylor', 'indulgent', 'huswifes', 'had', 'dances', 'previous', 'openly', 'tired', 'faded', 'inferior', 'presence', 'depressed', 'attribute', 'vouchsafed', 'Willoughbys', 'centered', 'talent', 'offending', 'inclined', 'fingers', 'thankful', 'added', 'genial', 'rained', 'indolent', 'sweetly', 'bowling', 'induce', 'meditations', 'irritability', 'reasonably', 'benefit', 'philosophic', 'however', 'liquor', 'pupil', 'pitched', 'merit', 'bore', 'walked', 'nervous', 'summons', 'parties', '.\\'\"', 'reception', 'common', 'repressed', '22', 'Mary', 'confessedly', 'fortunes', 'aim', 'since', 'retired', 'conviction', '[', 'inspect', 'violoncello', 'political', 'bespeak', 'wondered', 'sagaciously', 'fifteen', 'subject', 'Pope', 'reciprocal', 'require', 'surviving', 'concealing', 'probable', 'regular', 'counteract', 'happening', 'slowly', 'ponds', 'innocent', 'DID', 'apology', 'auspicious', 'dreading', 'attained', 'thorough', 'don', 'medicine', 'W', 'wretched', 'spent', 'illustration', 'conjectured', 'observer', 'Many', 'recovery', 'crept', 'proposed', 'helpless', 'interfering', 'Tell', 'friendliest', 'deficient', 'misapprehension', 'talker', 'same', 'amusing', 'persuaded', 'valley', 'insured', 'views', 'Thus', 'eldest', 'approbation', 'betray', 'projecting', 'professions', '36', 'unremitting', 'separately', 'honor', 'failed', 'blunt', 'scratching', 'mortified', 'unresisted', 'orator', 'amusement', 'lips', 'correctness', 'mounted', 'bluntly', 'sincerely', 'ardent', 'authority', 'so', 'dejection', 'copying', 'Domestic', 'conduct', 'appetite', 'ugly', 'dissembling', 'insignificance', 'awaken', 'surprised', 'likes', 'extremest', 'demonstrations', 'proceeded', 'exorbitant', 'sufferer', 'animating', 'unfortunately', 'drink', 'create', 'advanced', 'broke', 'influenced', 'rent', 'personally', 'gloves', 'seats', 'complexion', 'intends', 'life', 'usual', 'number', 'Colonel', 'inflict', 'mistaken', 'strikingly', 'try', 'angel', 'score', 'Ladyship', 'inquiry', 'uniform', 'composedly', 'past', 'frightened', 'Jenning', 'sunk', 'stew', 'Whatever', 'church', 'untried', 'fallen', 'Within', '?)', 'speed', '(', 'unequivocal', 'Where', 'professed', 'opinion', 'happy', 'mortifying', 'delineated', 'extolling', 'violins', 'raises', 'delicate', 'evince', 'puppyism', 'acceptance', 'take', 'controlled', 'noisier', 'collected', 'continuance', 'tend', 'disinterestedness', 'bred', 'lasting', 'enlargement', 'Barton', 'intercourse', 'Excuse', 'MONTH', 'services', 'inconsiderable', 'fourth', 'urgent', 'installed', 'abhorrence', 'Could', 'without', 'noise', 'festival', 'off', 'insinuations', 'silent', 'rapture', 'nourishment', 'voice', 'That', 'simplest', 'hastening', 'laying', 'recognised', 'desirous', 'additional', 'villain', 'authors', 'remembering', 'changing', 'insipidity', 'bid', 'under', 'direction', 'excited', 'Sparks', 'older', 'passed', 'tea', 'justification', 'dead', 'unfair', 'mistress', 'disregarded', 'speculative', 'mean', 'hostess', 'monopolize', 'alternative', 'warmly', 'scrawls', 'housekeeper', 'Ellisons', 'treat', 'length', 'torment', 'detail', 'worked', 'restrain', 'Reserved', 'pretended', ':--', 'assured', 'consoled', 'defined', 'mouth', 'twelvemonth', 'imperfect', 'unluckily', 'Steele', 'hating', 'recovered', 'eighteen', 'wrapt', 'HER', 'put', 'vacant', 'mortify', 'appeal', 'claims', 'actions', 'reconciled', 'fainter', 'acknowledging', 'represented', 'perhaps', 'fall', 'addresses', 'stubborn', 'where', 'meals', 'detestably', 'pecuniary', 'rejoiced', 'About', 'contrivance', 'Without', 'entrusted', 'worried', 'quicker', 'bears', 'resemblance', 'questions', 'comments', 'manage', ':', 'humble', 'gape', 'joined', 'offered', 'remainder', 'comprehension', 'joked', 'accustom', 'Doctor', '34', 'powerfully', 'ornamented', 'revived', 'last', 'importunate', 'grief', 'irreconcilable', 'Reading', 'different', 'undecided', 'projects', 'undoubted', 'significant', 'contracted', 'invitation', 'mystery', 'Depend', 'entirely', 'hot', 'rapid', 'abominably', 'detection', 'finger', 'virtuous', 'appearance', 'Preparation', 'emergence', 'breeding', 'lived', 'beneath', 'beheld', 'calmly', 'stole', 'providing', 'severely', 'extremity', 'supply', 'may', 'importance', 'possesses', 'detain', 'morrow', 'page', 'soul', 'mentioned', 'seclusion', 'sensitive', 'anticipated', 'food', 'deviation', 'undergone', 'introduce', 'proposals', 'worthiest', 'Tis', 'strengthened', 'perceptible', 'spoke', 'Secrecy', 'healthy', 'generosity', 'moiety', 'morning', 'teazing', 'discretion', 'spoilt', 'intimately', 'ribbons', 'stirring', 'guilty', 'nice', 'blackest', 'audible', 'affect', 'holding', 'abundance', 'smokes', 'basis', 'temple', 'esteeming', 'US', 'town', 'tenderly', 'bold', 'madam', 'lady', 'breed', 'throat', 'black', 'breathing', 'insolence', 'endless', 'exceeded', 'May', 'unpleasantest', 'm', 'probabilities', 'consists', 'plead', 'raising', 'doubts', 'mosquitoes', 'leaning', 'calm', 'unpleasing', 'never', 'arbour', 'important', 'Steeles', 'unsubdued', 'individual', 'plans', 'tied', 'luckily', 'brother', 'catch', 'damp', 'disclosure', 'enquiries', 'WE', 'referring', 'sloping', 'decide', 'significantly', 'Shyness', 'rank', 'declining', 'wrapped', 'spurned', 'muttered', 'Esq', 'repeated', 'summer', 'tenderest', 'chariot', 'sakes', 'wildly', 'stating', 'Disappointed', 'bitter', 'severe', 'Never', 'gallop', 'wonderful', 'dwell', 'Still', 'effectually', 'Constantia', 'consternation', 'tract', 'wiping', 'errand', 'tediously', 'obstinate', 'mirth', 'renewing', 'alienated', 'nieces', 'fortnight', 'extravagance', 'burnt', 'discourse', 'stage', 'concurrence', 'Selfish', 'torture', 'attentive', 'debated', 'mix', 'composure', 'caught', 'west', 'obtain', 'compass', 'fainting', 'recollection', 'refusal', 'distrust', 'caricature', 'clergyman', 'they', '40', '37', 'truths', 'white', '26', 'dirty', 'oh', 'varied', 'stirred', 'obstacle', 'force', 'Did', 'creating', 'firmness', 'healthful', 'quite', 'faults', 'heir', 'night', 'dashing', 'unconnected', 'families', 'rise', 'clerk', 'thrill', 'persecution', 'pasturage', 'goings', 'gentle', 'instruction', 'heads', 'avoiding', 'phrase', 'chaise', 'despondence', 'charge', 'gown', 'speaks', 'decisions', 'On', 'mile', 'improvident', 'support', 'hurried', 'booksellers', 'courted', 'pre', '9', 'qualified', 'bye', 'real', 'established', 'embraces', 'for', 'lengths', 'unshaken', 'S', 'concluded', 'favour', 'decay', '33', 'lamps', 'rupture', 'naturally', 'longer', 'inconstant', 'charming', 'field', 'lowered', 'indigence', 'elder', 'abode', 'AM', 'remarks', 'enumeration', 'constancy', 'earned', 'fairer', 'satisfaction', 'Willoughby', 'bequest', 'sweetness', 'anticipating', 'imagined', 'With', 'dullness', 'curacy', 'suspicions', 'useless', 'dislike', 'pulse', 'kindest', 'unstudied', 'requires', 'supplanted', 'sourness', 'sober', 'At', 'agitated', 'content', 'Michaelmas', 'disengaged', 'respecting', 'tablecloth', 'minded', 'afterwards', 'nothing', 'distress', 'wholly', 'strangers', 'mood', 'yearly', 'grandeur', 'winding', 'lately', 'decline', 'whole', 'relationship', 'caused', 'borrow', 'sociable', 'twice', '7000L', 'lingering', 'chicken', 'preserved', 'cordiality', 'blameless', 'invented', 'supposing', 'Bishop', 'legal', 'distance', 'glance', 'provisions', 'regiment', 'Among', 'retained', 'telling', 'effusion', 'repeatedly', 'subsist', 'bursts', 'saw', 'terror', 'clapped', 'flannel', 'expressions', 'barouches', 'due', 'restore', 'rejoicing', 'Devonshire', 'rouse', 'diabolical', 'guilt', 'impertinently', 'sooth', 'novel', 'murmurings', 'Ah', 'wound', 'comprise', 'affairs', 'spunging', 'qualification', 'evils', 'restless', '?\"', 'contribution', 'suit', 'seen', 'untied', 'scarcely', 'sugar', 'examination', 'brothers', 'intelligent', 'mistake', 'smiled', 'weight', 'discovered', 'expose', 'getting', 'luck', 'Somehow', 'possessing', 'modern', 'meat', 'steps', 'takes', 'associating', 'altogether', 'clamorous', 'funeral', 'miniature', 'Who', 'Courtland', 'defended', 'privilege', 'action', 'discussions', 'here', 'timed', 'imprint', 'obstinacy', 'started', 'hunt', 'quarters', 'test', 'Marianne', 'commanded', 'One', 'dearer', 'begins', 'path', 'admires', 'held', 'undergoing', 'sanguine', 'befell', 'lastingly', 'gravely', 'thirteen', 'unavailing', 'lamenting', 'stockings', 'blamable', 'proclaimed', 'toothpick', 'satisfying', 'Confess', 'scissors', 'CATCHING', 'obviating', 'provision', 'contemptible', 'admittance', 'departure', 'appointed', 'cold', 'resembled', 'curiosity', 'mutual', 'inheriting', 'raised', 'verbal', 'nobly', 'soon', 'possibly', 'merrier', 'jargon', 'wealth', 'excuses', 'Considering', 'outstaid', 'conveyed', 'respected', 'once', 'discrimination', 'pleasant', '-?\"', 'vanity', 'divorce', 'whiter', 'not', 'want', 'trouble', 'sky', 'alleviation', '?--\"', 'cast', 'granted', 'husbands', 'fix', 'work', 'part', 'Sensibility', 'Choice', 'leave', 'injure', 'composition', 'gowns', 'explained', 'landing', 'Me', 'reservedness', 'above', 'reviving', 'eager', 'mourning', 'impoverishing', 'she', 'veracity', 'addressed', 'tiptoe', 'prettily', 'ladies', 'stairs', 'excessive', 'whomsoever', 'disgusting', 'Invited', 'insufferably', 'turning', 'every', 'immoveable', 'arrives', 'suffer', 'kind', 'judgments', 'speak', 'relative', 'inevitable', 'recalled', 'frank', 'accents', 'importunity', 'adieu', 'However', 'unobtrusive', ',-', 'confinement', 'billiard', 'colouring', 'Careless', 'demanded', 'fortunately', 'deter', 'guardian', 'assisting', 'destroys', 'shape', 'consciousness', 'say', 'tortured', 'illness', 'landscape', 'benefactress', 'bedrooms', 'amidst', 'tries', 'wives', 'family', 'terms', 'Henry', 'displayed', 'conducted', 'rectory', 'down', 'ruin', 'volunteer', 'art', 'cherishing', 'Ay', 'point', 'conjectures', 'Plymouth', 'unable', 'pained', 'eighty', 'slept', 'Going', 'exhilarated', 'Long', 'carefully', 'amuse', 'attentively', 'faith', 'distinction', 'intelligible', 'swollen', 'END', 'STILL', 'fixed', 'pursuing', 'asked', 'minuter', 'A', 'observed', 'genteelly', 'YOU', 'inspired', 'justly', 'gates', 'rings', 'cheeks', 'dispatches', 'hanging', 'green', 'engagement', 'Upon', 'welcomed', 'mortification', 'gate', 'commendation', 'consisted', 'laughter', ';--', 'constant', 'blossoms', 'entreaty', 'Richardson', 'exactness', 'curtsying', 'intermission', 'rug', 'ecstasy', 'wicket', 'denoted', 'economy', 'ensured', 'compares', 'containing', 'know', 'hills', 'plantations', 'catching', 'soothing', 'Regard', 'politely', 'purity', 'incessantly', 'hollow', 'avarice', 'glebe', 'shy', 'reputation', 'library', 'spirits', 'violently', 'Being', 'character', 'lie', 'eventually', 'occasion', 'travelled', 'acquit', 'Annamaria', 'enormously', 'Saturday', 'passionate', 'among', 'should', 'DO', 'branched', 'recollect', 'For', 'blasted', 'worsted', 'blamed', 'closed', 'communicated', 'proposition', 'homes', 'undertaking', 'perplexed', 'screamed', 'produce', 'stayed', 'heirs', 'formed', 'inheritor', 'months', 'shew', 'dairy', 'chained', 'share', 'serious', 'this', 'ailment', 'nonsensical', 'echoed', 'silk', 'neck', 'whence', 'uninfluenced', 'apprehended', 'Biddy', 'LESS', 'crying', 'drives', 'creditable', 'unwillingly', 'perplexity', 'practised', 'classed', 'twisted', ')--', 'visits', 'reproaching', 'Chagrined', 'Hunters', 'chamber', 'reside', 'concerto', 'Astonished', 'inconsiderately', 'somehow', 'auspiciously', 'drew', 'forbearance', 'colonel', 'virtue', 'lot', 'passing', 'implied', 'weaknesses', 'doors', 'acknowledgments', 'relations', 'unnatural', 'reckoned', 'facts', 'rejected', 'tame', 'denied', 'Hope', 'feverish', 'marmalade', 'shocking', 'evident', 'exhausted', 'ending', 'Dr', 'rushed', 'grown', 'tuition', 'nuncheon', 'disastrous', 'hear', 'revive', 'paleness', 'impartiality', 'prejudice', 'several', 'fill', 'pause', 'Surprised', 'failure', 're', 'disappointments', 'indifference', 'resorted', 'seduced', 'largest', 'afflict', 'MUST', 'plump', 'coffee', 'impenetrable', 'mornings', 'embellishment', 'disagreements', 'travel', 'tore', 'ever', 'contributing', 'twenty', 'romantic', 'insufficiency', 'worn', 'Have', 'vex', 'constitution', 'it', 'repeat', 'task', 'time', 'newspapers', 'villages', 'prospects', 'over', 'whip', 'attach', 'familiar', 'affirmative', 'delivered', 'touched', 'shrubbery', 'yours', 'narrator', 'petty', 'intuitively', 'faulty', 'excused', 'oddest', 'approach', 'stuffed', 'by', 'indispensably', 'together', 'healing', 'enamoured', 'inquired', 'Allenham', 'visiting', 'Towards', 'countless', 'relied', 'Half', 'forebodings', 'intreat', 'Other', 'perform', 'Somerset', 'value', 'naming', 'unpardoned', 'lock', 'indecorous', 'ease', 'pity', 'true', 'world', 'asking', 'Come', 'laboured', 'dinner', '>', 'fruitless', 'command', 'brought', 'might', 'promise', 'Again', 'duly', 'carelessness', 'connoisseurship', 'proper', 'olives', 'vacate', 'Betty', 'pieces', 'remembrance', 'ornament', 'studies', 'prevented', 'shewn', 'forgetting', 'teach', 'sound', 'THE', 'They', 'madness', 'bless', 'meaning', 'attitude', 'CAN', 'bequeathed', 'soothings', 'elucidation', 'handle', 'performing', 'relent', 'overcame', 'extreme', 'spend', 'sixpence', 'bee', 'robbed', 'excellence', 'image', 'exclaiming', 'repulsed', 'articulation', 'SHE', 'Get', 'excursion', 'ROBERT', 'involved', 'Norland', 'considerately', 'inattentive', 'allowed', 'bias', 'required', 'apprehensive', 'commercial', 'submissive', 'natural', 'consequences', 'were', 'throughout', 'compliance', 'hears', 'mankind', 'GAUCHERIE', 'highest', 'run', 'confidant', 'articulate', 'avowal', 'house', 'experienced', 'critique', 'BOTH', 'rejoice', 'tidings', 'servants', 'beg', 'tale', 'assiduities', 'nodding', 'Law', 'departing', 'mistrust', 'effected', 'malice', 'colder', 'suddenly', 'ring', 'younger', 'communication', 'tribute', 'shuffling', 'enemy', 'sentiments', 'chanced', 'informed', 'partook', 'practiced', 'meanness', 'limited', 'going', 'unusually', 'delighted', 'mulberry', 'Buildings', 'ranging', 'wandering', 'ivory', 'TOLD', 'guessing', 'reluctantly', 'self', 'compact', 'dispersed', 'lain', 'chuse', 'counsellor', 'receive', 'enrich', 'invention', 'disregard', 'detract', 'steadiness', 'Born', 'allowable', 'repose', 'mental', 'thunderbolt', 'motive', 'vulgar', 'frivolous', 'Quite', 'soothe', '.]', 'moving', 'truest', 'presentation', 'plain', 'goes', ':--\"', 'suitor', 'excite', 'accordant', 'deceitful', 'affronting', 'hesitation', 'abused', 'ruling', 'demur', 'bind', 'cutlets', 'circumstance', 'reasonable', 'dropt', 'derive', 'meant', 'unthought', 'contradictory', 'plants', 'conciliation', 'messages', 'club', 'preserve', 'improved', 'distant', 'joke', '46', 'minutes', 'talk', 'drawings', 'example', 'scrutinies', 'friends', 'riding', 'liking', 'lifted', 'indeed', 'detaining', 'told', 'female', 'hospitality', 'household', 'drawn', 'doubt', 'depart', 'released', 'stay', 'ridiculous', 'dimensions', 'abundantly', 'received', 'engage', 'apologies', 'cottages', 'odd', 'harp', 'truly', 'shedding', 'deceived', 'decorum', 'Palmer', 'absolutely', 'motionless', 'lamentation', 'ere', 'transgressed', 'dissipation', 'compliant', 'reproachfully', 'commissioned', 'wisest', 'All', 'pictured', 'body', 'heightened', 'excessively', 'dictate', 'refinements', 'retreat', 'Even', 'dream', 'recollecting', 'calculate', 'necessity', 'possess', 'Believe', 'wrought', 'forming', 'unaccountable', 'stare', 'MADAM', 'Building', 'humour', 'today', 'agree', 'somewhat', 'enjoying', 'entitled', 'abstruse', 'therefore', 'news', 'acacia', 'confounded', 'meritorious', 'wicked', 'desire', 'finished', 'wind', 'brooding', 'pass', 'Elliott', 'across', 'prophecies', 'Priory', 'casement', 'cavil', 'elegance', 'leaving', 'captivate', 'These', 'busily', 'thoughts', 'accompany', 'dismissed', 'unpromising', 'aimed', 'peculiar', 'neither', 'fickle', 'females', '45', 'day', 'Continual', 'tells', 'interviews', 'demure', 'finally', 'certainties', 'solitude', 'perfections', 'accommodating', 'artful', 'prepossession', 'maternal', 'unconscious', 'liberal', 'theirs', 'surplice', 'mark', 'quarter', 'become', 'sought', 'modestest', 'loss', 'prepossessed', 'inconstancy', 'metaphor', 'piano', 'froid', 'supported', 'lasted', 'sensibly', 'shame', 'handsomer', 'city', 'imminent', 'repentance', 'waistcoat', 'pry', 'enraged', 'begging', 'source', 'boiled', 'COULD', 'flattering', 'sense', 'general', 'respective', 'merits', 'eyed', 'pointing', 'ear', 'enclosure', 'covered', 'distinguish', 'cheap', 'giddy', 'The', 'described', 'blooming', 'grievous', 'direct', 'hop', 'farthest', 'comer', 'despised', 'inconveniences', 'finest', 'Is', 'originated', 'answering', 'university', 'PARTIES', 'disadvantage', 'affects', 'meet', 'Only', 'threatened', 'taste', 'enfranchisement', 'nine', 'polished', 'premeditated', 'outstripped', 'divided', 'Reflection', 'rewarded', 'allowance', 'sport', 'tumbled', 'unexpressed', 'monstrous', 'recollected', 'Because', 'particulars', 'Edward', 'ordained', 'packed', 'inspire', 'penny', 'urged', 'nor', 'pure', 'retarded', 'puzzle', 'period', 'pour', 'clue', 'devil', 'desponding', 'convincing', 'tall', 'beings', 'complaint', 'serve', 'settle', 'render', 'charmed', 'yesterday', 'reasons', 'billiards', 'greater', 'Disappointment', 'languages', \";'\", 'resigned', 'spirit', 'faces', 'anger', 'shade', 'below', 'affluence', 'benignant', 'mountain', 'wanton', 'terrible', 'misconstruction', 'themselves', 'ashamed', 'waistcoats', 'liable', 'idle', 'pale', 'wishes', 'message', 'Once', 'hold', 'sigh', 'Which', 'seasons', 'reasoning', 'NOW', 'reserved', 'gratification', 'days', 'beaux', 'begin', 'Christian', 'gum', 'horrors', 'Early', 'belongs', 'feared', 'presume', '13', 'see', 'made', 'September', 'apiece', 'commonly', 'decision', 'arrangement', 'remark', 'negligence', 'preparing', 'gentleman', 'designs', 'goodwill', 'endure', 'figure', 'furniture', 'THAT', 'concerns', 'fulfilled', 'incurred', 'applied', 'dread', 'nabobs', 'maid', 'forgotten', 'praise', 'pinching', 'little', 'hinder', 'legacies', 'Bond', 'prepared', 'pausing', 'find', 'leisurely', 'our', 'pleasantness', 'foolish', 'within', 'inquiries', \"'\", 'notice', 'wedding', 'easier', 'famous', 'unspeakable', 'walls', 'space', 'February', 'discharged', 'reproving', 'resume', 'honourably', 'perseverance', 'the', 'attentions', 'goodby', 'apartment', 'delay', 'consolation', 'hundred', 'biased', 'Last', 'D', 'widen', 'rival', 'beholding', 'apprehension', 'vanish', 'sportsman', 'circuit', 'arguments', 'shamefully', 'Allow', 'novelty', 'from', 'yielded', 'paint', 'species', 'breast', 'attacked', 'difference', 'replace', 'injunction', 'brilliancy', 'pretence', 'ushered', 'proclaiming', 'date', 'Cassino', 'nettles', 'quest', '-', 'propose', 'tattered', 'hardness', 'cheek', 'interesting', 'left', 'exclaimed', 'Sophia', 'lurking', 'judging', 'friendliness', 'events', 'neglected', 'steep', 'affability', 'hazarding', 'doubtless', 'jokes', 'need', 'invitations', 'Monday', 'united', 'another', 'desperation', 'restraint', 'took', 'fatigue', 'complaints', 'seal', 'cramps', 'spare', 'totally', 'regarded', 'Down', 'relation', 'unanswerable', 'fondness', 'Hanover', 'Fifteen', 'convenience', 'viewing', 'senses', 'Bad', '8', 'establishment', 'third', 'endeavoured', 'Easter', 'defective', 'folly', 'settling', 'tables', 'forbear', 'mend', 'capable', 'illusion', 'An', 'deliberating', 'pocket', 'Walker', 'seem', 'attention', 'let', 'contrived', 'possessions', 'Morton', 'leading', 'privacy', 'sleep', 'solid', 'moments', 'disposing', 'worry', 'election', 'Combe', 'wherever', 'reform', 'brown', 'carry', 'struggled', 'Richard', 've', 'paying', 'reproof', 'admire', 'confusedly', 'holidays', 'sporting', 'concerning', 'unpleasant', 'banditti', 'during', 'accustomary', 'elect', 'lies', '43', 'involuntary', 'prenticed', 'forlorn', 'usually', 'restraints', 'believe', 'dagger', 'Has', 'thither', 'wooded', 'promontories', 'solemnity', 'Precious', 'extort', 'irresistible', 'Columella', 'shook', 'quiet', 'hardily', 'talks', 'scold', 'easily', 'answerable', 'undivided', 'prohibited', 'Twill', 'respects', 'consequently', 'foresee', 'rescued', 'bloom', 'pictures', 'absence', ';', 'easy', 'pleasure', 'fulfil', 'slighter', 'heat', 'fairly', 'various', 'rambles', 'happiness', 'anymore', 'shewing', 'Sackville', 'chimney', 'blast', 'denote', 'refrain', 'procured', 'Luckily', 'grave', 'active', 'couched', 'crowned', 'No', 'air', 'suspended', 'sends', 'affectionately', 'spoken', 'doatingly', 'lessened', 'stranger', 'concerned', 'kneeling', 'advantages', 'overpowered', 'darling', 'lively', 'blackguard', 'intimate', 'earthly', 'equality', 'editions', \".'--\", 'vigorous', 'reward', 'extraordinary', 'breaking', 'acceptably', 'please', 'considerably', 'depends', 'assurances', 'uneasy', 'women', 'rapturously', 'pulled', 'inherit', 'stood', 'nurse', 'strains', 'Infirmity', 'ascended', 'Offended', 'dismounted', 'speedily', 'parts', 'sterling', 'Harris', 'impudently', 'attractive', 'trusted', 'respectable', 'relating', 'claiming', 'clouds', 'seated', 'believes', 'lest', 'marked', 'breakfast', 'favourite', 'solicitation', 'piqued', 'mild', 'trying', 'design', 'surfaces', 'duty', 'earnestly', 'regards', 'grieve', 'shrubberies', 'bidding', 'windows', 'broad', 'This', 'quietly', 'estranged', 'maintained', 'feel', 'broader', 'patient', 'who', 'suspects', 'pull', 'shock', 'regulated', 'closely', 'struggling', 'pretend', 'willing', 'prospect', 'uncommonly', 'disinherited', 'commended', 'local', 'incompatible', '.\"', 'hallooing', 'declared', 'Add', 'inconvenient', 'discarded', 'whisper', 'plaguing', 'prescribed', 'blown', 'endurance', 'parlour', 'letter', 'hence', 'recital', 'undeceive', 'enlarge', 'closer', 'relieved', 'proceed', 'arrived', 'aspect', 'await', 'banker', 'compared', 'stomach', 'conjecturing', 'complained', 'scanty', 'exercising', 'solicitude', 'formidable', 'Know', 'shutting', 'mode', 'is', 'affectation', 'all', 'alarm', 'legacy', 'guided', 'concession', 'heart', 'preserver', 'drunk', 'prepossessing', 'conversing', 'pretensions', 'lay', 'proud', 'companion', 'messenger', 'mysterious', 'ingratitude', 'reverted', 'safe', 'entreaties', 'briefly', 'ventured', 'red', 'studied', 'laugh', 'CHAPTER', 'afford', 'idolized', 'station', 'cried', 'his', 'F', 'towards', 'strive', 'filigree', 'Newton', 'astonishment', 'us', 'refused', 'devoted', 'discussion', 'hens', 'cows', 'imitate', 'elsewhere', '20', 'head', 'Seven', 'LOOKED', 'modest', 'ailments', 'intend', 'receipt', 'venturing', 'sending', 'acute', 'but', 'disorder', 'leaves', 'laudable', 'father', 'intelligence', 'foolishly', 'gift', 'SHALL', 'alternately', 'mind', 'supposed', 'dropped', 'slighted', 'vindication', 'expected', 'shed', 'cod', 'softened', 'eye', 'soften', 'conspicuous', 'March', 'weather', 'practise', 'And', 'officious', 'regulate', 'struck', 'conforming', 'as', 'beds', 'unequal', 'houses', 'dog', 'argument', 'trick', 'connoisseur', 'Hamlet', 'condition', 'Oxford', 'patterns', 'minutiae', 'afforded', 'dissuade', 'pretext', 'wood', 'trivial', '38', 'inhabitants', '--(', 'roof', 'effecting', 'diction', 'charged', 'principally', 'hither', 'charity', 'growing', 'owe', 'conscious', 'fat', 'Thank', 'coat', 'declares', 'forgiven', 'horse', 'roused', 'kindness', 'wore', '31', 'performances', 'conveying', 'conjectural', 'unworthy', 'redeem', 'slightingly', 'bide', 'cause', 'grand', 'reconciliation', 'consequence', 'ceasing', 'beauties', 'acknowledgment', 'wretchedly', 'invaluable', 'listening', 'Gibson', 'swallow', 'advantageous', 'readily', 'describe', 'independent', 'Ellison', 'faithful', 'vastly', 'satirical', 'tranquility', 'William', 'husband', 'autumn', 'brood', 'earnest', 'visitor', 'aloud', 'steepest', 'extorted', 'deed', 'experience', 'manly', 'shaken', 'dependent', 'oftener', 'extremely', 'Can', 'unintentional', 'failing', 'assented', 'employment', 'artlessness', 'stammered', 'fervent', 'rest', 'filled', 'prejudiced', '.)--', 'anguish', 'disclaiming', 'outgrown', 'attributed', 'satisfied', 'unexpectedly', 'Yes', 'hints', 'press', 'westward', 'safeguard', 'housekeeping', 'Mind', 'feature', 'recreating', 'enough', 'contrition', 'deal', 'nurses', 'right', 'dignity', 'illiberal', 'store', 'Truth', 'undiscerning', 'talking', 'blockhead', 'stated', 'imagine', 'dissented', 'THIS', 'sufficient', 'cross', 'hit', 'whims', 'breakfasting', 'near', 'stiffly', 'unsolicited', '--\"', 'danced', 'break', 'used', 'taught', 'England', 'affectionate', 'partial', 'horrid', 'communicate', 'WITHOUT', 'send', 'lodgings', 'conjure', 'HE', 'accidental', 'could', 'whoever', 'Our', 'method', 'perceive', 'consented', 'treachery', 'exertion', 'unknown', 'Of', 'claimed', '...\"', 'restoring', 'luxurious', 'staying', 'panting', 'paid', 'recurred', 'Master', 'augment', 'agreed', 'Drury', 'confined', 'coxcomb', 'slope', 'comforts', 'assist', 'newness', 'relief', 'beneficial', 'Recollecting', 'excuse', 'excess', 'increase', 'boyish', 'giving', 'assurance', 'followed', 'deepest', 'nonsense', 'sickness', 'supper', 'treating', 'convince', 'him', 'opening', 'indignity', 'ankle', 'forcing', 'St', 'pang', 'smartness', 'occasions', 'contrasted', 'stealing', 'Whoever', 'devolved', 'fact', 'familiarly', 'portrait', 'injustice', 'encouraged', 'burst', 'prodigiously', 'relying', 'respect', 'suffers', 'forte', 'outlived', 'God', 'repetition', 'Five', 'scheme', 'story', 'seemed', 'Music', 'pleased', 'thanked', 'consulted', 'foreseeing', 'final', 'comforted', 'first', 'occasionally', 'intentions', 'surpass', 'lodges', 'declaring', 'nods', 'contrast', 'There', 'deserved', 'word', 'spring', 'sneer', 'sure', 'groom', 'irreparable', 'sometime', 'ought', 'insist', 'Epicurism', 'Mr', 'rousing', 'planning', 'forward', 'investigation', 'acutely', 'darker', 'deeply', 'desired', 'avail', 'indolence', 'trifling', 'absolute', 'unitedly', 'attendance', 'chiefly', 'indefatigable', 'overstrained', 'fool', 'three', 'trifled', 'minutely', 'muff', 'barouche', 'pronounced', 'words', 'likeness', ',\"--', 'through', 'next', 'entreat', 'apparent', 'thistles', 'series', 'thoroughly', 'memento', 'insensible', 'forwards', 'discovering', 'civility', 'maintenance', 'transact', 'innumerable', 'Will', 'mischievous', 'shoulders', 'assisted', '28', 'haughty', 'resists', 'resistance', 'lovers', 'fish', 'worst', 'adhering', 'rash', 'requesting', 'pursuits', 'sacrificed', 'provident', 'disquiet', 'unnoticed', 'nicety', 'stocks', '!', 'pacified', 'parish', 'implies', 'porter', 'deserves', 'quitting', 'needle', 'control', 'exclamations', 'advised', 'occupy', 'eight', 'yourself', 'persons', 'partiality', 'observing', 'front', 'Misses', 'draw', 'honour', 'soft', 'tone', 'bustle', 'arrival', 'heavens', 'exist', 'round', 'pleasanter', 'clearly', 'screen', 'requiring', 'alike', 'faultless', 'bent', 'sketch', 'think', 'else', 'Knowing', 'habitual', 'seized', 'scale', 'frightens', 'weaken', 'firm', 'harmony', 'foretold', 'form', 'minute', 'dares', 'eyes', 'Go', 'error', 'them', 'grievance', 'willingness', 'precise', 'guidance', 'conscientious', 'unwarily', 'savings', 'detecting', 'zealous', 'chosen', 'gently', 'retailed', 'Something', 'protect', 'counteracted', 'mine', 'announce', 'incapable', '1', 'directly', 'borrowed', 'deserts', 'get', 'appear', 'connect', 'colicky', 'prodigious', 'declare', 'upstairs', 'Somersetshire', 'eclat', 'impertinent', 'clear', 'surprising', 'Godby', 'cessation', 'protege', 'ornaments', 'La', 'unhappiness', 'understanding', 'hysterics', 'threats', 'mingle', 'delight', 'prompted', 'astonishing', 'bolder', 'Parsonage', 'convert', 'derived', 'hunts', 'interest', 'looked', 'despising', 'any', 'mothers', 'play', 'awaited', 'price', 'ground', 'unwounded', 'express', 'shield', 'procure', 'anxiety', 'evidence', 'possessed', 'report', 'relinquished', 'spending', 'auditors', 'Gardens', 'tedious', 'protestations', 'Charlotte', 'walnut', 'read', 'solicitous', '?', 'Heaven', 'fifty', 'envy', 'setting', 'misconduct', 'change', 'dispatch', 'piquet', 'view', 'scattered', 'warmest', 'unavoidably', 'benefited', 'comprised', 'himself', 'attending', 'lowness', 'destroyed', 'total', 'Dashwood', \",'\", 'successfully', 'pillow', 'resources', 'shelter', 'confirming', 'make', 'pin', 'scenes', 'infant', 'conclusion', 'crossness', 'yet', 'inattention', 'affixed', 'hearty', 'blood', 'amiably', 'quick', 'Henshawe', 'comfortably', 'angry', 'reproached', 'Grecian', 'edge', 'estimating', 'cheated', 'hero', 'habitation', 'unpleasantness', 'felt', 'named', 'impertinence', 'impatiently', 'anybody', 'dare', 'imperfection', 'withhold', 'disappointing', 'joyful', 'Supported', 'vexed', 'bound', 'Would', 'sauntered', 'untouched', 'tell', 'sadness', 'inspection', 'happier', 'sincerity', 'establishing', 'execution', 'differently', 'aside', 'obliging', 'turnpike', 'travelling', 'candour', 'Improve', 'Relate', 'distractedly', '24', 'demeanor', 'wife', 'behave', 'duties', 'tongue', 'further', 'condolence', 'Wherever', 'reality', 'disordered', 'ejaculation', 'instantaneous', 'fretful', 'advise', 'Vanity', 'appetites', 'makes', 'worship', 'describing', 'limits', 'additions', 'professedly', 'agonies', 'hilarity', 'earth', 'voluntary', 'accompanied', 'livings', 'indistinct', 'pride', 'print', 'obey', 'lightened', 'gave', 'irrational', 'shops', 'calming', 'hour', 'horses', 'liberty', 'fashion', 'juvenile', 'emphasis', 'inducement', 'incoherently', 'reflection', 'promoting', 'fretted', 'playfellows', 'remains', 'flower', 'impediment', 'irritated', 'quietness', 'smiling', 'singing', 'gazing', 'something', 'distinguished', 'would', 'tuned', 'bowed', 'ours', '27', 'aptitude', 'deserving', 'vestibule', 'washing', 'peace', 'annum', 'cries', 'danger', 'unfit', 'boasting', 'Middleton', 'proportion', 'Strange', 'straight', 'vicinity', 'issued', 'loitered', 'similar', 'altar', 'many', 'augmented', 'privately', 'collection', 'renewal', 'wear', 'duets', 'owners', 'cases', 'undertake', 'conquest', 'worse', 'undoubtedly', 'traits', 'arm', 'repeating', 'diminution', 'violence', 'post', 'indulged', 'advancing', 'build', 'newspaper', 'beauty', 'making', ',', 'afraid', 'doubtingly', 'comfort', 'wants', 'instance', 'kicked', 'recommended', 'deprive', 'keen', 'rivals', 'sex', 'sallow', 'resembling', 'alacrity', 'encumbered', 'Burgess', 'adorned', 'insincere', 'mention', 'criminal', 'gravel', 'hint', 'falsehood', 'outweigh', 'request', 'Dartford', 'entered', 'perceiving', 'Concealing', 'cheat', 'justify', 'accomplished', 'clearer', 'Esteem', 'add', 'hereafter', 'Mall', 'approved', 'dwelt', 'means', 'have', 'outdone', 'Sense', 'Pardon', 'Duty', 'owning', 'ruined', 'children', 'salmon', 'pink', 'celebrated', 'flowing', 'enquired', 'disobedient', 'fond', 'probably', 'Greatness', 'subsisting', 'unlikely', 'critical', 'consider', 'suppose', 'thirds', 'lesser', 'service', 'widow', 'origin', 'Please', 'Impossible', '1811', 'county', 'besides', 'lanes', 'insensibility', 'dispirited', 'assent', 'delicacies', 'occurred', 'assertion', 'sister', 'weak', 'vehemence', 'seconded', 'doting', 'esteems', 'hiding', 'commission', 'Very', 'galling', 'dwelling', 'too', 'accent', 'sit', 'honours', 'THESE', 'Volume', 'herself', 'invalid', 'sighed', 'jewels', 'unanimous', 'old', 'ungracious', 'succeeded', 'kept', 'intervals', 'measured', 'Brandon', 'deliberate', 'trusting', 'difficulties', 'possession', 'evenings', 'Court', 'praised', 'girl', 'In', 'sake', 'tricks', 'forego', 'persuading', 'unamiable', 'foretell', 'join', 'spoiling', 'Surely', 'eagerness', 'coldness', 'credit', 'trees', 'circumstanced', 'lose', 'surrounding', 'appearances', 'sin', 'remembers', 'starting', 'unfeigned', 'instantaneously', 'She', 'resisting', 'oath', 'cordials', 'jacket', 'materially', 'eternal', 'Sharpe', 'comparisons', 'generous', 'consideration', 'bowing', 'vigor', 'perfection', 'stopt', 'Just', 'branch', 'floor', 'screens', 'resisted', 'bodily', 'pursue', 'thankfully', 'dividing', 'liked', 'inhabit', 'trembled', 'accident', 'dinners', 'necessarily', 'called', 'believing', 'Indies', 'born', 'IN', 'upright', 'resumed', 'contemptuous', 'promises', 'atoning', 'tricking', 'Mistress', 'variation', 'temptation', 'success', 'minds', 'including', 'Perhaps', 'escaped', 's', 'instigation', 'writer', 'worthless', 'frost', 'productive', 'disturbed', 'suffering', 'Folly', 'feather', 'rapturous', 'replied', 'BEEN', 'inner', 'hunted', 'now', 'complete', 'tranquillity', 'shoulder', 'advance', 'retirement', 'immediate', 'aware', 'nicest', 'eyeing', 'dealt', 'dreadful', 'estimate', 'belonging', 'withstood', 'contradicted', 'hat', 'manager', 'discompose', 'humiliations', 'chambers', 'annihilation', 'fetch', 'reseated', 'with', 'charms', 'dissent', 'then', 'feelingly', 'producing', 'plagued', 'unchanged', 'Use', \"'--\", 'sorrow', 'zealously', 'swelling', 'conversed', 'unites', 'presumed', 'placing', 'confessed', 'Gone', 'edtions', 'Anne', 'seventeen', 'scruple', 'greatly', 'business', 'commonest', 'frequent', 'broken', 'spiritless', 'shuddering', 'actual', 'conclude', 'flourishing', 'aching', 'repaired', 'forbore', 'yes', 'relatives', 'militate', 'Soon', 'flutter', 'feebly', 'paragraph', 'punctuality', 'obstructed', 'awhile', 'strengthen', 'Affecting', 'disposition', 'nature', 'parents', 'ample', 'By', 'fancy', 'conceit', 'oppression', 'stone', 'bury', 'douceur', ',)', 'hasty', 'surprise', 'deserve', 'beautifully', 'incessant', 'merry', 'rose', 'ceiling', 'substance', 'satisfy', 'unabated', 'ideas', 'letting', 'KNEW', 'Impudence', 'P', 'property', 'haste', 'shared', 'cheerfulness', 'unkindness', 'languid', 'dove', 'infamous', 'frankness', 'fitted', 'sheath', 'falls', 'wounding', 'ride', 'retreating', 'attracted', 'lover', 'pounds', 'calling', 'honorable', 'censure', '18', 'hardening', 'simplicity', 'patronage', 'circumspection', 'remaining', 'unkind', 'recently', 'compunction', 'relate', 'plighted', 'tendency', 'striving', 'conditions', 'pursued', 'plate', 'wishing', 'mare', 'silencing', 'dance', 'playfulness', 'two', 'gratitude', 'drive', 'affecting', 'schemes', 'fates', '2', 'dupe', 'deficiency', 'joyfully', 'persecutions', 'ran', 'demands', 'safely', 'o', '48', 'farewell', 'utmost', 'unpremeditated', 'believed', 'absurdity', 'successively', 'sobered', 'interruption', 'Business', 'horrible', 'debate', 'dreadfully', 'saint', 'officiously', 'bit', 'gratefully', 'call', 'retain', 'appointment', 'unchanging', 'effusions', 'Every', 'interests', 'large', 'defy', 'name', 'guests', 'disgraced', 'gradually', 'arms', 'wise', 'ablest', 'undeserving', 'checking', 'hue', 'Abundance', 'deception', 'divide', 'amazingly', 'gained', 'delighful', 'scoundrel', 'only', 'playful', 'liveliness', 'regain', 'unsuitableness', 'pardonable', 'comprehend', 'land', 'tastes', 'hartshorn', 'negotiation', 'negligent', 'intent', 'minor', 'suspicion', 'striking', 'reflections', 'band', 'hope', 'streamed', 'disposal', 'narrowly', 'heightening', 'circles', 'arose', 'dawned', 'sent', 'difficulty', 'seeming', 'times', 'weakened', 'Beyond', '42', 'fear', 'warmed', '39', 'exposed', 'unavoidable', 'quitted', 'nought', 'blow', 'unwillingness', 'temporary', 'sink', 'seat', 'THEY', 'pointer', 'hoping', 'imperfections', 'meal', 'garrets', 'blank', 'expressive', 'knowledge', 'recall', 'Excellent', 'London', 'denial', 'consistency', 'hinted', 'bely', 'refreshments', 'terminated', 'defect', 'asserted', 'northward', 'silently', 'defer', 'objected', 'weakening', 'religion', 'even', 'arisen', 'after', 'incivility', 'preparation', 'fury', 'sagacity', 'Lord', 'WILLOUGHBY', 'always', 'thousand', 'except', 'imagining', 'felicitations', 'wearing', 'admission', 'From', 'Jane', 'around', 'maids', 'enthusiasm', 'firmly', 'Berkeley', 'desiring', 'clemency', 'judicious', 'unemployed', 'praises', 'Farm', 'Whereas', 'Are', 'joint', 'running', 'unfathomable', 'journey', 'enforcement', 'jest', 'intimacy', 'contriving', 'keep', 'extensive', 'eligibility', 'Consider', 'Ferrars', 'explanations', 'correspondence', 'Brown', 'forsaking', 'unquiet', 'stress', 'tended', 'precision', 'admit', 'intimated', 'deplorable', 'absurd', 'order', 'bright', 'awaking', 'deciding', 'line', 'allow', 'candlelight', 'deference', 'steadfast', 'forbade', 'mass', 'strangeness', 'Norfolk', 'indisputable', 'pimples', 'plainly', 'thus', 'invent', 'accounts', 'Pleased', 'canal', 'stolen', 'accelerate', 'whispering', 'Grandeur', 'seldom', 'embarrassed', 'reluctance', 'complicated', 'expense', 'reprimand', 'veal', 'effect', 'servilely', 'came', 'strengthening', 'draws', 'spoil', 'remedy', 'prevailed', 'statement', 'hang', 'foundation', 'consequent', 'than', 'unnecessary', 'finishing', 'revealment', 'harmless', 'fertile', 'showed', 'mantelpiece', 'gratify', '17', 'selfishness', 'But', 'procuring', 'idleness', 'knocking', 'canvassing', 'when', 'certainly', 'wasted', 'wealthy', 'embitter', 'exclaim', 'cry', 'plague', 'removed', 'dilatoriness', 'vowed', 'hopes', 'tasted', 'laughs', 'helpmate', 'Here', 'congratulated', 'start', 'Not', 'crowd', 'unison', 'scolded', 'blue', 'Restless', 'casts', 'magnificent', 'shocked', 'slight', 'also', 'determine', 'rooms', 'outward', 'compassionate', 'vague', 'given', 'no', 'incommode', 'storm', 'likely', 'lawn', 'penetration', 'mother', 'After', 'Nothing', 'recovering', 'courtesy', 'carrying', 'pay', 'Hitherto', 'tempting', 'disappointment', 'noticed', 'brief', 'employments', 'irresolute', 'condemning', 'gives', 'displeased', 'deny', 'ho', 'thing', 'did', 'cheerless', 'faintness', 'taken', 'rightly', 'fourteenth', 'interfere', 'fortitude', 'unsettle', 'Whom', 'impossibility', 'considerate', 'timber', 'orders', 'witty', 'Hush', 'genuine', 'twelve', 'afflictions', 'inhabited', 'affair', 'valuable', 'SIR', 'thoughtfully', 'insufficient', 'army', 'riches', 'answered', 'intruding', 'knew', 'gossip', 'caprice', 'discomposed', 'vain', 'everything', 'interference', 'people', 'note', 'WHAT', 'nobleman', 'unpardonable', 'expressing', 'overcoming', 'conversation', 'kindly', 'withdrawn', 'open', 'bout', 'Lucy', 'seclude', 'account', 'conform', 'keeping', 'degraded', 'sensations', 'coloured', 'we', 'Tuesday', 'triumphantly', 'irregular', 'calmer', 'unjustifiable', 'oftenest', 'gay', 'Palmers', 'plait', 'discerning', 'abatement', 'TIME', 'stronger', \"--'\", 'secretly', 'can', 'speculation', 'promote', 'obtaining', 'gracefulness', 'Sunday', 'shameless', 'sick', 'souls', 'much', 'advisable', 'resolving', 'fancying', 'combat', 'expectations', 'disproportion', 'SHOULD', 'performers', 'Must', 'dared', 'Or', 'rested', 'Life', 'newer', 'everlasting', 'dreaded', 'blights', '25', 'harm', 'fresh', 'Poor', 'anticipation', 'howsever', 'startled', 'flowed', 'known', 'coolness', 'at', 'letters', 'nerve', 'midst', 'parlors', 'rider', 'sooner', 'tricked', 'lines', 'rationally', 'feelings', 'reproach', 'secures', 'gone', 'alluded', 'moment', 'forwarded', 'Imagine', 'girls', 'tis', 'innate', 'justice', 'although', 'position', 'confirm', 'negative', 'propensity', 'agitation', 'diffuse', 'preferment', 'witnesses', 'succour', 'rheumatisms', 'oppose', 'answer', 'observations', 'imprudent', 'prettiest', 'alter', 'shake', 'nights', 'unsatiable', '10', 'puts', 'completion', 'genuinely', 'carpet', 'deliberation', 'strongest', 'later', 'Cowper', 'oblige', 'nephew', 'WAS', 'intoxication', 'home', 'exertions', 'application', 'buy', 'wept', 'late', 'learned', 'Bonomi', 'expecting', 'lying', 'maxim', 'really', 'thorns', 'matter', 'Martha', 'author', 'separation', 'Much', 'ME', 'unfairly', 'seduction', 'Mab', 'unblemished', 'proof', 'doat', 'grandmothers', 'severity', 'guineas', 'loose', 'doubtful', 'steady', 'rich', 'injuries', 'punctual', 'How', 'myself', 'age', 'Extend', 'closet', 'amounted', 'thoughtless', 'watchful', 'uselessly', 'transporting', 'unwell', 'disapproves', 'John', 'unobserved', 'lengthened', 'fullest', 'morality', 'says', 'considers', 'agony', 'escape', 'delightfully', 'heard', 'wandered', 'peculiarly', 'To', 'infirm', 'grounds', 'undoubtingly', 'weddings', 'formality', 'stormy', 'exultation', 'imprudence', 'remove', 'condescend', 'expression', 'carries', 'reached', 'information', 'Benevolent', 'otherwise', 'horseback', 'exhilaration', 'surrounded', 'abridge', 'trials', 'alarms', '***', 'penitent', 'deficiencies', 'which', ')', 'emigrant', 'seconds', 'elderly', 'introduction', 'flew', 'circumstances', 'perfect', 'smooth', 'stupid', 'wrung', 'New', 'hunters', 'comforter', 'REALLY', 'separated', 'garret', 'carefulness', 'Misery', 'fears', 'manners', 'rugged', 'furnished', 'advice', 'moonlight', 'spite', 'fascinating', 'submission', 'wished', 'idea', 'degree', 'thrown', 'guard', 'surveying', 'Park', 'examining', 'Cold', 'WORD', 'odious', 'honourable', 'poor', 'Dorsetshire', 'prescience', 'deemed', 'depend', 'retort', 'll', 'rises', 'cruelty', 'inarticulate', 'superintend', 'High', 'obtained', 'fixing', 'disrespectfully', 'sole', 'neighbouring', 'unlover', 'banish', 'if', 'cherries', 'Time', 'horizon', 'infer', '.\"--', 'Hon', 'heaven', 'compromise', ',--\"', 'using', 'season', 'quit', 'We', 'language', 'judge', 'occupied', 'names', 'hearted', 'encroachments', 'descendant', 'philanthropic', 'water', 'excellencies', 'avoided', 'confirmed', 'principal', 'continuation', 'interrupted', 'tallest', 'died', 'management', 'Yet', 'loving', 'sedateness', 'permit', 'forfeited', 'ways', 'advances', 'graceful', 'grieving', 'payment', 'worlds', 'thickly', 'cordially', 'conscientiously', 'During', 'MAY', 'Watched', 'atonement', 'sly', 'deeper', 'occupations', 'shoes', 'Your', 'precaution', 'stared', 'Most', 'Sir', 'shot', 'desperately', 'sprained', 'undressed', 'screened', 'amply', 'nasty', 'alarmed', '16', 'gain', 'created', 'posts', 'estate', 'nursing', 'winks', 'alteration', 'essential', 'dear', 'misapplied', 'sell', 'silks', 'men', 'mysteriously', 'attempts', 'widely', 'Donavan', 'argue', 'enjoyment', 'richer', 'merely', 'hazard', 'whiled', 'requisite', 'overpowering', 'reach', 'young', 'bewitching', 'Delaford', 'embellishments', 'guessed', 'subservient', 'cares', 'borne', 'spends', 'superiority', 'summoned', 'wisher', 'Gilberts', 'loved', 'barbarous', 'thinking', 'retreated', 'amazement', ',--', 'lap', 'dissipated', 'marking', 'baby', 'patron', 'venture', 'MY', 'persevered', 'subsisted', 'Wednesday', 'necessitous', 'Shakespeare', 'quarrelling', 'pasture', 'banns', 'Oh', 'impossible', 'evidently', 'unpacked', 'founded', 'manor', 'weathered', 'scratch', 'butcher', 'sorry', 'forty', 'ignorant', 'limbs', 'brilliant', 'clothes', 'feeling', 'drains', '.)', 'good', 'stylish', 'short', 'offend', 'woods', 'continued', 'pattern', 'exclamation', 'five', 'labor', 'fault', 'honesty', 'asunder', 'bestowed', 'gold', 'situation', 'instrument', 'imprudently', 'favourable', 'abhorred', 'secrecy', 'soldier', 'stepped', 'Fanny', 'clogged', 'stop', 'James', 'thanks', 'cards', 'shut', 'remain', 'residing', 'insulting', 'end', 'exchange', 'civilities', 'conditioned', 'creature', 'Dearest', 'contentment', 'rubber', 'gloominess', 'unawares', 'anxious', 'stepping', 'beloved', 'knives', 'yards', 'plums', 'dress', '47', 'diverted', 'keeps', 'weary', 'affront', 'submitting', 'was', 'discovery', 'taverns', 'backwards', 'encouraging', 'half', '11', 'ingenuity', 'passion', 'tree', ',\"', 'characters', 'staid', 'suggested', 'present', 'pitied', 'whose', 'strange', 'changed', 'collation', 'notion', 'warehouse', 'distressing', 'suffered', 'disclosing', 'cautious', 'income', 'yard', 'defend', 'office', 'display', 'blessing', 'brush', 'eminence', 'somewhere', 'apologized', 'false', 'dearest', 'THERE', 'do', 'joys', 'Besides', 'heavy', 'contraction', 'invite', 'Happy', 'accosted', 'attainable', 'saved', '--', 'competence', 'hill', 'endured', 'quarrel', 'gladly', 'salutation', 'banished', 'according', 'blessed', 'vivacity', '50', 'wittiest', 'pangs', 'likelihood', 'JOHN', 'Determined', 'dissimilar', 'scruples', 'indignation', 'agitate', 'Conversation', 'gaily', 'expectation', 'affliction', 'mixing', 'somebody', 'inspiring', 'newly', 'discharge', 'Why', 'ungraciously', 'gales', 'formal', 'calculated', 'inexperienced', 'vigour', 'delayed', 'contributed', 'impoverished', 'one', 'decent', 'staircase', 'kisses', 'object', 'Astonishment', 'experiencing', 'indispensable', 'promising', 'Davies', 'temper', 'flaring', 'hardships', 'single', 'humouring', 'inquisitive', 'thoughtfulness', 'lit', 'go', 'omitted', 'passage', 'risen', 'opportunity', 'climate', 'acquiesced', 'reasonings', 'signify', 'appearing', 'disappeared', 'owed', 'Certainly', 'highly', 'tidy', 'to', 'others', 'familiarity', 'demesne', 'handsomely', 'welcome', 'firmer', 'delivery', 'stipulate', 'rate', 'entertained', 'uncheerful', 'Pratt', 'Cartwright', 'vouchsafe', 'succession', 'sportsmen', 'week', 'exactly', 'detected', 'errors', 'extorting', 'sprung', 'encourage', 'sufferings', 'kiss', 'mildness', 'handsome', 'gravity', 'M', 'confound', 'repaid', 'particular', 'thick', 'quickened', 'handed', 'rascal', 'own', 'respectably', 'rumour', 'amused', 'LOOK', 'offence', 'termination', 'unseen', 'melancholy', 'accordingly', 'strictest', 'pencil', 'cost', 'boldly', 'winter', 'smile', 'musical', 'scenery', 'suspect', 'confident', 'careless', 'comings', 'comparison', 'miles', 'strict', 'mighty', 'such', 'sudden', 'things', 'pain', 'ordered', '!\\'\"', 'glowing', 'utter', 'glass', 'humored', 'brow', 'giggling', 'outstretched', 'constitutional', 'Valley', 'way', 'Kensington', 'respectful', 'interim', 'presenting', 'hard', 'irrepressible', 'You', 'pointed', 'prove', 'incommoded', 'landlord', 'violent', 'disputes', 'diminished', 'permission', 'cheered', 'temperate', 'supplied', 't', 'sashes', 'readiness', 'ambition', 'woody', 'engaged', 'Do', 'THEM', 'ignorance', 'drinking', 'benevolence', 'entertainment', 'longest', 'matrimony', 'refreshment', 'moss', 'shades', 'be', 'imaginable', 'cannot', 'fire', 'Jennings', 'abilities', 'despatching', 'shorten', 'malady', 'singly', 'cousin', 'presided', 'explanatory', 'regrets', 'small', 'troublesome', 'ceased', 'frequently', 'headed', 'visit', 'certainty', 'unreserve', 'useful', 'animated', 'set', 'nameless', 'sir', 'expel', 'frequency', 'departed', 'ingratiating', 'inquisitiveness', 'annuity', 'permitting', 'china', 'specimen', 'ages', 'faint', 'wisdom', 'cough', 'indication', 'measuring', 'Portman', 'case', 'It', 'disgust', 'badness', 'signs', 'animation', 'disturb', 'points', 'included', 'resist', 'turn', 'hastened', 'daughter', 'anew', 'gross', 'flattered', 'forgot', 'Absence', 'la', 'companionableness', 'endeavor', 'luxury', 'purchase', 'libertine', 'traded', 'unless', 'well', 'interrupt', 'trust', 'stand', 'history', 'confirmation', 'seducer', 'Before', 'reclining', 'declined', 'urging', 'strikes', 'uncommon', 'forgave', 'place', 'continue', 'ash', 'neighbours', 'accounted', 'miracle', 'Design', 'exceed', 'destination', 'properly', 'reasonableness', 'wiser', 'Westminster', 'recommendation', 'bribing', 'played', 'plea', 'East', 'Frosts', 'Pity', 'enter', 'dogs', 'Sincerely', 'sensibility', 'exterior', 'sources', 'precious', 'injury', 'brighter', 'lustily', 'scrupulous', 'beef', 'deprived', 'stock', 'heroism', 'henceforward', 'HAS', 'chuckle', 'lost', 'dejected', 'security', 'effects', 'solemn', 'Altogether', 'lesson', 'Fifty', 'Madam', 'eluded', 'rob', 'chair', 'forbid', 'expatiate', 'altering', 'harbour', 'absent', 'taxed', 'leisure', 'indisposed', 'sting', 'love', 'doubting', 'though', 'exciting', 'great', 'amiss', 'SOMETIMES', 'disapprove', 'drawing', 'EDWARD', 'presently', 'noble', 'Remember', 'pearls', 'guarded', 'nests', 'smart', 'worldly', 'ineligible', 'communicating', 'commiseration', 'grudge', 'consent', 'Well', 'popt', 'nominal', 'shall', 'garden', 'behind', 'literature', 'tenderness', 'expressively', 'exquisite', 'represent', 'suited', 'principle', 'hearing', 'notes', 'close', 'foresight', 'weakness', 'FAITH', 'seriously', 'infamously', 'softener', 'attendant', 'arriving', 'estimable', 'drain', 'rapidly', 'referred', 'Opposition', 'particularly', 'applauded', 'attraction', 'withdrew', 'gardener', 'ago', '3', 'imperfectly', 'inventive', 'sincere', 'conference', 'revival', 'accepted', 'welfare', 'hers', 'obviated', 'prevailing', 'protest', 'witness', 'secrets', 'oneself', 'narration', 'opera', 'liberality', 'improving', 'unaffectedly', 'requested', 'stuff', 'solemnly', 'prosecution', 'refinement', 'adjusting', 'bank', 'triumph', 'sadly', 'independently', 'whatever', 'awakened', 'warmth', 'slightest', 'claim', 'Little', 'tolerable', 'offended', 'constrained', 'sellers', 'fearing', 'hours', 'announced', 'eloping', 'glow', 'improve', 'occurrence', 'unsteady', 'contenting', 'will', 'diffident', 'prefer', 'tempers', 'painting', 'April', 'congratulations', 'reverse', 'repining', 'entanglement', 'reminding', 'spirited', 'papers', 'ordination', 'Whether', 'shewed', 'symptom', 'dined', 'acquaintance', 'agreeable', \".'\", 'infancy', 'produced', 'Richardsons', 'continual', 'sha', 'dependence', 'coxcombs', 'apprehensions', 'frugality', 'prepare', 'boy', 'blind', 'incomprehensible', 'Another', 'simpered', 'widower', 'practicable', 'desirable', 'quarrelled', 'joining', 'My', 'induced', 'accept', 'public', 'guardianship', 'Though', 'comfortable', 'decisive', 'spreading', 'watching', 'uncivil', 'learning', 'seeking', 'directions', 'you', 'Cottage', 'sentence', '!--', 'lessen', 'complaisance', 'glances', 'afflicted', 'dies', 'modesty', 'pretends', 'walks', 'better', 'Margaret', 'deserted', 'unprincipled', '14', 'incautiousness', 'narrow', 'aid', 'candles', 'rascally', 'splendidly', 'puppy', 'endeavour', 'indignant', 'tranquilize', 'event', 'marries', 'dawdling', 'gun', 'painter', 'yew', 'entire', 'fit', 'Bartlett', 'fir', 'feeding', 'agreement', 'conspired', 'fettered', 'hoped', 'labour', 'plantation', 'Stanhill', 'external', 'Holburn', 'Aye', 'judgment', 'simply', 'undervalued', '\"\\'', 'footsteps', 'provocation', 'inquiring', 'painfully', 'Were', 'accusation', 'give', 'atoned', 'pleasures', 'hardened', 'glad', 'seeing', 'awkward', 'ARE', 'proved', 'confess', 'employed', 'impose', 'country', 'discover', 'affable', ';\"--', 'disgrace', 'YOUR', 'caressing', 'rocks', 'expect', 'unaffected', 'presents', 'valleys', 'actually', 'suspecting', 'frightful', 'malignant', 'elevated', 'managed', 'wondering', 'abandoned', 'slumber', 'handkerchief', 'four', 'occasional', 'reserve', 'forbidden', 'adequate', 'counsel', 'woman', 'troubles', 'suggest', 'defects', 'proportionately', 'ourselves', 'engaging', 'grows', 'enthusiastic', 'dresses', 'chaperon', 'rap', 'faster', 'imply', 'receiving', 'inclination', 'injured', 'smaller', 'hesitatingly', 'fowls', 'checked', 'Want', 'impudence', 'visited', 'degrade', 'humility', 'OUGHT', 'opened', 'celebration', 'valueless', 'equally', 'has', 'decrease', 'Their', 'blame', 'guess', 'cap', 'suspicious', '12', 'Dawlish', 'before', 'companions', 'undervalue', \"',\", 'intended', 'clever', 'apparently', 'Shall', 'stable', 'pronounce', 'accurately', 'thoughtful', 'repulsive', 'Rather', 'laughed', 'bell', 'shown', 'help', 'everybody', 'outside', 'Writing', 'preferring', 'flatteries', 'quivered', 'happened', 'dressed', 'retrenched', 'selfish', 'hussy', 'grieved', 'unsuited', 'irritable', 'beamed', 'study', 'Harley', 'sheet', 'size', 'expediency', 'exceedingly', 'uncomfortable', 'against', 'harshly', 'years', 'distinguishing', 'justified', 'graces', 'turf', 'employ', 'forget', 'treatment', 'valued', 'warranted', 'school', 'conceive', 'manner', 'waited', 'admirers', 'beautiful', 'inexperience', 'disapproving', 'music', '15', 'careful', 'weeks', 'hackneyed', 'introduced', 'feigned', 'jealous', 'civil', 'Scott', 'explain', 'accidently', 'horridly', 'attaching', 'matters', 'censured', 'Weymouth', 'showing', 'Sussex', 'knees', 'illiterate', 'rub', 'unforeseen', 'Thunderbolts', 'objection', 'Bath', 'uniformly', 'boys', 'unexhilarating', 'eloquence', 'qualifications', 'confiding', 'shivering', 'learnt', 'betrayed', 'Whenever', 'Sandersons', 'grass', 'forcibly', 'wrong', 'regret', 'DOES', 'twould', 'robbing', 'boisterous', 'that', 'almost', ']', 'still', 'permitted', 'expensiveness', 'freeze', 'skin', 'Exchange', '7', 'acquitted', 'gathered', 'Austen', 'decided', 'and', 'voluntarily', \"?'\", ';\"', 'what', 'situations', 'gentility', 'postponing', 'forced', 'inflicting', 'outweighs', 'lifting', 'dawdled', 'engross', 'presented', 'infection', 'greatest', 'wonder', '44', 'worthy', 'excursive', 'listen', 'unreasonable', 'birth', 'ascending', 'unjust', 'lodging', 'visitors', 'atmosphere', 'playthings', 'judiciously', 'married', 'expedient', 'dearly', 'Supposing', 'sharing', 'monkey', 'delirium', 'bow', 'stupified', 'in', 'intending', 'observation', 'Encouraged', 'youngest', 'offices', 'securing', 'irremediable', 'knows', '35', 'Square', 'been', 'adding', 'Nobody', 'misunderstood', 'tiled', 'driving', 'alterations', 'pitiable', 'magnanimity', 'adapted', 'affected', 'toleration', 'amendment', 'falling', 'rung', 'jilting', 'endeavours', 'some', 'none', 'horror', 'reverie', 'nineteen', 'Hum', 'dissatisfaction', 'adopt', 'immediately', 'spasm', 'gout', 'returned', 'sentences', 'bones', 'clock', 'afflicting', 'involve', 'fly', 'less', 'lounging', 'poorly', 'superannuated', 'remind', 'topic', 'voices', 'search', 'emotion', 'Common', 'bespoke', 'Magna', 'pleasing', 'discernment', 'sing', 'inforce', 'accrue', 'recurrence', 'lief', 'felicity', 'instantly', 'effectual', 'blush', 'completely', 'speedy', 'betraying', 'assuage', 'malevolence', 'lower', 'unobtrusiveness', 'discontent', 'ingenious', 'allusion', 'loud', 'Grey', 'grew', 'westerly', 'Two', 'forwarding', 'assuring', 'systems', 'overcome', 'separations', 'examine', 'swell', 'Nor', 'bathed', 'enjoyments', 'artless', 'Lady', 'knowing', 'brightened', 'regretted', 'complaining', 'hair', 'evil', 'unfashionable', 'marriage', 'Does', 'crimsoned', 'fastidious', 'silenced', 'Mine', 'debt', 'eat', 'Careys', 'conveniences', 'motherly', 'consultation', 'hoarded', 'feet', 'helping', 'friendly', 'unconcerned', 'reading', 'miserable', 'hand', 'atone', 'sobs', 'strongly', 'packages', 'acknowledge', 'beau', 'jumbled', 'uncouth', 'Hanger', 'ebullition', 'pains', 'remember', 'nobody', 'books', '19', 'raise', 'unfeeling', 'recognition', 'dotted', 'company', 'or', 'wine', 'sedulously', 'genteel', 'inhabiting', 'denoting', 'having', 'alloy', 'improvement', 'speaking', 'befallen', 'curate', 'chance', 'fatigues', 'insulted', 'resolution', 'persevering', 'Marlborough', 'involuntarily', 'ready', 'knoll', 'wildness', 'either', 'spotted', 'transport', 'Exeter', 'imparted', 'bachelor', 'medium', 'losing', 'begun', 'gracious', 'patience', 'travellers', 'awful', 'park', 'course', 'table', '!--\"', 'light', 'traced', 'acquired', 'ALWAYS', 'bulk', 'Whitakers', 'converse', 'punish', 'prejudices', 'understand', 'obedient', 'resolute', 'living', 'hurry', 'Months', 'said', 'positive', 'walking', 'compliment', 'Some', 'contained', 'inconvenience', 'fetching', 'exuberance', 'invited', 'snug', 'divine', 'found', 'authorised', 'displeasure', 'smallest', 'each', 'adjoining', 'gentlemanlike', 'painted', 'vast', 'engrossed', 'me', 'saloon', 'fulfill', 'afternoon', 'October', 'hurrying', 'prudence', 'dissolving', 'Concern', 'wounded', 'variety', 'earlier', 'declaration', 'face', 'potent', 'halves', 'entrance', 'orphan', 'consistent', 'affection', 'secret', 'considering', 'meetings', 'preferable', 'strike', 'arise', 'quieted', 'building', 'threw', 'cash', 'What', 'busy', 'vulgarity', 'drop', 'equalled', 'Ashamed', 'His', '.--\"', 'unexpected', 'astray', 'abroad', 'second', 'trial', 'Think', 'inquietude', 'Dullness', 'look', '--,', 'strength', 'Engaged', 'attachments', 'showery', 'lingered', 'move', 'pretty', 'sons', 'returning', 'invariable', 'fatigued', 'inconsistency', 'reanimate', 'swallowed', 'sympathy', 'amazing', 'confederacy', 'existed', 'kingdom', 'altered', 'pages', 'penetrate', 'forgiveness', 'plenty', 'following', 'separate', 'hall', 'bringing', 'accidentally', 'dispatched', 'oldest', 'pursuit', 'waiting', 'defence', 'dried', 'meditation', 'tax', 'Mansion', 'unconcern', 'sisters', 'penitence', 'watched', 'use', 'window', 'incumbent', 'unlucky', 'dispose', 'pitch', 'styled', 'ankles', 'deceive', 'transparency', 'rid', 'attract', 'lightly', 'behold', 'grateful', 'abuses', 'accepting', 'centre', 'sobbed', 'economically', 'reprobate', 'approve', 'ceremony', 'trace', 'Clarke', 'farther', 'theme', 'tranquil', 'endowed', 'entering', 'seek', 'boast', 'aunt', 'insipid', 'equal', 'philippic', 'afterward', 'wait', 'wanted', 'sitting', 'temporizing', 'awoke', 'arrangements', 'confidential', 'Pall', 'Thomson', 'inforced', 'correspond', 'while', 'paces', 'struggle', 'jealousy', 'Had', 'release', 'disarm', 'irritation', 'inevitably', 'Holborn', 'possibility', 'wanting', 'heights', 'indignantly', 'bitterly', 'prior', 'powers', 'encouragements', 'friend', 'lavender', 'beyond', 'usage', 'neighbour', 'mechanically', 'restorative', 'bliss', 'examined', 'hastily', 'Nay', 'sometimes', 'compare', 'niece', 'measures', 'annexed', 'preyed', 'gloomy', 'resented', 'neighbourly', 'promoted', '-?', 'alive', 'sounds', 'deliver', 'fully', 'attractions', 'seems', 'prayers', 'dying', 'attempted', 'witnessing', 'dull', 'acquisition', 'Mrs', 'syllable', 'cure', 'amended', 'archness', 'shews', 'Forgive', 'feeble', 'internally', 'latest', 'steadier', 'loves', 'bashful', 'copy', 'hysterical', 'disengagement', 'sale', 'prose', 'Her', 'hearts', 'creatures', 'asleep', 'detested', 'protested', 'shooting', 'infatuation', 'befalls', 'like', 'wit', 'Robert', 'toned', 'fatiguing', 'resided', 'Lane', 'candid', 'sunshine', 'unfulfilled', 'up', 'LUCY', 'bitterness', 'Don', 'Take', 'ridge', 'bitch', 'slow', 'opposition', 'revenge', 'songs', 'Williams', 'symptoms', 'parsonage', 'promptitude', 'militated', 'conformity', 'cottage', 'he', 'numerous', 'sufficiently', 'inclinations', 'unkindly', 'unceasing', 'owner', 'fellow', 'apartments', 'mere', 'extent', 'rheumatic', 'cool', 'buying', 'poured', 'learn', 'November', 'complacency', 'drawback', 'turns', 'coming', 'imaginations', 'Laughing', 'meanwhile', 'smallness', 'writes', 'Civil', 'doubly', 'mindful', 'interposed', 'style', 'grieves', 'depravity', 'zeal', 'Cruel', 'remained', 'gloried', 'Temple', 'blinded', 'unfavourable', 'courting', 'interspersed', 'reckons', 'agreeing', 'governed', 'served', 'prevent', 'scrupled', 'announcing', 'intrinsically', 'sparkling', 'relish', 'watch', 'variations', 'jointure', 'strictly', 'solicitations', 'HAD', 'generously', 'passions', 'premises', 'enfeebled', 'Ma', 'quickly', 'certain', 'smiles', 'inadvertence', 'cats', 'completed', 'roads', 'Having', 'sealed', 'smitten', 'earnestness', 'etiquette', 'sides', 'admired', 'satisfactory', 'supplication', 'insurmountable', 'smoothly', 'Sally', 'shrugging', 'inclosing', 'Extravagance', 'admirable', 'pique', 'hazy', 'January', 'proposal', 'very', 'fine', 'vexation', 'difficult', 'surpassing', 'IS', 'determining', 'awkwardness', 'original', 'recommending', 'Was', 'wronged', '?\"--', 'Christmas', 'Short', 'ungenerous', 'prudently', 'surpassed', 'summits', 'beat', 'repent', 'rapacious', 'contrives', 'provoke', 'alphabet', 'sympathised', 'instant', 'powerful', 'seizure', 'heartiness', 'moderate', 'infants', 'book', 'mantel', 'syllables', 'sad', 'entreated', 'lane', 'child', 'speech', 'sweet', 'parcels', 'why', 'disbelief', 'delightful', 'progress', 'marry', 'backwardness', 'Exert', 'feels', 'unintelligible', 'back', 'urge', 'interval', 'enable', 'Middletons', '32', 'saying', 'engagements', 'intruded', 'cheerfuller', 'beset', 'knave', 'exigence', 'detest', 'door', 'chatty', 'moved', 'related', 'counter', 'artificial', 'perusal', 'Queen', 'oppressed', 'relics', 'concessions', 'Scarcely', 'youthful', 'exercise', 'dispersing', 'incurring', 'subjection', 'rheumatism', 'ascertain', 'long', 'observe', 'representations', 'match', 'FERRARS', 'becoming', 'pressed', 'WHERE', 'remorse', 'meeting', 'dressing', 'ate', 'LONG', 'nay', 'Parliament', 'prosperously', 'chose', 'considered', 'miss', 'appeased', 'advantage', 'distressed', 'conquests', 'solitary', 'lip', 'aye', 'warrant', 'freedom', 'choked', 'youth', 'ye', 'Cleveland', 'countenance', 'propriety', 'lucky', 'hated', 'hitherto', 'sympathize', 'sensation', 'fanciful', 'article', 'basket', 'remedies', 'flow', '),', 'Street', 'silly', ';--\"', 'full', '!\"', 'early', 'nerves', 'hung', 'their', 'inviting', 'Look', 'touch', 'feed', 'cease', 'virtues', 'openness', 'address', 'emergency', 'unreasonably', 'tediousness', 'law', 'subjects', 'cut', 'energy', 'remembered', 'unaccountably', 'acquainted', 'impatient', 'augmenting', 'accommodations', 'exultingly', 'headstrong', 'proclaim', 'OWN', 'indulgence', 'Dashwoods', 'both', 'effort', 'governing', 'yield', 'portion', 'transacted', 'enquire', 'exclusively', '29', 'streets', 'consult', 'suspense', 'Neither', 'higher', 'just', 'accomplishment', 'tender', 'accommodate', 'tower', 'occasioned', 'twilight', 'enabled', 'complain', 'mistakes', 'bluster', 'folded', 'blessings', 'hazarded', 'excepting', 'ennui', 'THREE', 'Smith', 'disliked', 'scornfully', 'material', 'continuing', 'decease', 'submitted', 'upon', 'result', 'cleared', 'dispute', 'He', 'outrun', 'regard', 'her', 'shift', 'copied', 'projection', 'unembarrassed', 'hopeless', 'assiduous', 'poverty', 'contents', 'henceforth', 'possessor', 'an', 'uninteresting', 'reaching', 'kinder', 'mediation', 'kitchen', 'Pray', 'discharging', 'carelessly', 'differed', 'hate', 'favourites', 'picturesque', 'calculation', 'HIM', 'ma', 'linen', 'noisy', 'disagreement', 'remarkably', 'listened', 'suggesting', 'rational', 'collecting', 'obligations', 'disinclination', 'collect', 'eagerly', 'contribute', 'behaviour', 'promotion', 'coachmaker', 'domestic', 'jealousies', 'being', 'Undoubtedly', 'provoked', 'curious', 'removes', 'despatch', 'whist', 'clearing', 'trim', 'cautiously', 'contend', 'lowering', 'hearer', 'relieve', 'tonight', 'keys', 'depended', 'reaped', 'utterance', 'rage', 'enlightened', 'ungrateful', 'scene', 'gentlemen', 'vile', 'fashionable', 'cant', 'doomed', 'undesirable', 'able', 'yourselves', 'More', 'hates', 'enjoyed', 'along', 'confidante', 'respectfully', 'saves', 'son', 'met', 'bearing', 'reconcile', 'immovable', 'bestow', 'acquiescence', 'silence', 'few', 'II', 'changes', 'Westons', 'misinformed', 'turned', 'pressing', 'extending', 'acceptable', 'group', 'anxiously', 'Casino', 'barbarously', 'recommend', 'chairs', 'acting', 'flatter', 'expects', 'stimulated', 'blindly', 'sort', 'virulence', 'cousins', 'uncertain', 'Streets', 'steadily', 'thirty', 'preference', 'disgraceful', 'indubitable', 'least', 'Dear', 'imaginary', 'unsuspected', 'testimony', 'indulging', 'Miss', 'couple', 'reproaches', 'does', 'familiarized', 'identify', 'influence', 'needed', 'anticipations', 'breach', 'between', 'write', 'dryness', 'mohrs', 'Really', 'foot', '\"--', 'blundered', 'hardly', 'disappointed', '6', 'searched', 'lovely', 'HIS', 'profited', 'sun', 'heartily', 'outraged', 'pardon', 'reason', 'gratifying', 'exact', 'depending', 'chat', 'my', 'finds', 'abridgement', 'precisely', 'obligation', 'balls', 'astonished', 'gloom', 'So', 'enforcing', 'sold', 'preparations', 'driven', 'tolerably', 'attendants', 'suffice', 'threatening', 'forms', 'merited', 'itself', 'step', 'palm', 'attempt', 'extended', '49', 'tardy', 'save', 'fearful', 'principles', 'simpering', 'infirmity', 'construction', 'disapprobation', 'led', 'connections', 'alone', 'surely', 'unmoved', 'sat', 'stupor', 'embraced', '!\"--', 'quickest', 'govern', 'Lombardy', 'linger', 'comprehended', 'contempt', 'medicines', 'crossing', 'unbounded', 'doubted', 'respectability', 'annuities', 'return', 'practice', 'disliking', 'WILL', 'universal', 'irksome', 'correct', 'occupation', 'Rose', 'inventing', 'Opportunity', 'follow', 'undesignedly', 'provoking', 'profession', 'necessary', 'exercised', 'motion', 'alighted', 'preceding', 'sang', 'parting', 'best', 'interested', '41', 'informing', 'society', 'south', 'endear', 'sign', 'greatness', 'person', 'resuscitation', 'Mid', 'live', 'repair', 'Those', 'blunder', 'inquire', 'Friday', 'polite', 'hospitable', 'refuse', 'ill', 'feminine', 'refusing', 'death', 'honestly', 'treated', 'reflect', 'earliest', 'Then', 'punishment', 'apologize', 'colour', 'wild', 'irreproachable', 'reminded', 'flattery', 'swept', 'heavily', 'pleasantly', 'doing', 'tete', 'road', 'arranging', 'lives', 'because', 'bedroom', 'braving', 'perpetual', 'hurt', 'larger', 'paused', 'Such', 'endeavouring', 'significancy', 'carried', 'prosperous', 'forth', 'indecision', 'purchases', 'shrewd', 'must', 'purpose', 'fluctuating', 'Since', 'rectitude', 'incitement', 'Cross', 'grate', 'accuse', 'reflecting', 'rooted', 'exerted', 'honeysuckles', 'sorrowful', 'mama', 'extinguished', 'faithfully', 'sighing', 'decree', 'daughters', 'belief', 'incurable', 'Inn', 'compound', 'destiny', 'spacious', 'unworthiness', 'east', 'stake', 'thank', 'got', 'assemblies', 'shyness', 'wonderer', 'saucy', 'card', 'away', 'Engagement', 'expressed', 'unrestrained', 'regretting', 'uproar', 'carriages', 'blushes', 'concern', 'apothecary', 'board', 'hauteur', 'Comparisons', 'unread', 'ardour', 'spraining', 'insult', 'fair', 'servant', 'continually', 'unbiased', 'recent', 'acuteness', 'idled', 'dancing', 'attachment', 'act', 'aggrandizement', 'disappoint', 'removing', 'starved', 'moreover', 'nearer', 'frame', 'aggravation', 'into', 'determined', 'whither', 'unacknowledged', 'poultry', 'teazed', 'couples', 'lecture', 'spot', 'noticing', 'stationer', 'bruised', 'bequeath', 'passages', 'sighted', 'WOULD', 'Whitwell', 'disgusted', 'choice', 'perceived', 'ladyship', 'Now', 'conceal', 'behaved', 'delicacy', 'similarity', 'judged', 'cruelly', 'observable', 'tempt', 'House', 'whether', 'cutting', 'scrape', 'Sit', 'glimpse', 'former', 'renounced', 'Scotland', 'intention', 'Thomas', 'height', 'enquiry', 'soured', 'amends', 'walk', 'description', 'unwilling', 'these', 'covenant', 'inflicted', 'rapidity', 'Honiton', 'ice', 'uncertainty', 'doted', 'honest', 'bear', 'beginning', 'conjurer', 'thought', 'entry', 'mansion', 'Avignon', \"!'\", 'situated', 'administer', 'dangerous', 'curricle', 'justifying', 'navy', 'furnishing', 'looks', 'sum', 'theft', 'ELINOR', 'adopted', 'simple', 'propensities', 'pair', 'addressing', 'lobby', 'determination', 'smirked', 'insisted', 'nearly', 'powered', 'conversations', 'abruptness', 'street', 'charm', 'opportunities', 'formerly', 'more', 'conciliate', 'thin', '5', 'tears', 'lessening', 'leaf', 'shortness', 'penury', 'DRAW', 'feebleness', 'fancied', 'ONE', 'Each', 'uncle', 'truth', 'care', 'come', 'leagued', 'sacrificing', 'TWICE', 'outwardly', 'doctrine', 'overspreading', 'future', 'increasing', 'Indeed', 'recover', 'prudent', 'wide', 'promised', 'coach', 'easiest', 'forenoon', 'neglect', 'tumbling', 'refreshed', 'efficacy', 'deep', 'won', 'volume', 'deceiving', 'inferiority', 'degrees', 'rushing', 'proprietor', 'dining', 'courage', 'Everybody', 'arranged', 'torn', 'unguarded', 'enquiring', 'VERY', 'crooked', 'excellent', 'noon', 'INconvenience', 'intruder', 'ineffectual', 'attributing', 'beasts', 'Good', 'reformed', 'Am', 'sweetest', 'court', 'steward', 'nipped', 'lamentations', 'restrained', 'admitting', 'ALL', 'ringing', 'improvements', 'impartial', 'pointedly', 'heighten', 'marrying', 'bedchamber', 'rare', 'unlike', 'amount', 'impolitic', 'rising', 'indifferent', 'assistance', 'fell', 'tried', 'destruction', 'economical', 'indelicacy', 'sight', 'fetches', 'gaze', 'circle', 'genius', 'habit', 'regarding', 'resolutely', 'assure', 'muslin', 'ecstatic', 'None', 'built', 'cruel', 'natured', 'slyly', 'uninformed', 'humbled', 'capability', 'endeavoring', '200', 'rendered', 'creation', 'rather', 'directing', 'encouragement', 'about', 'acquitting', 'foregoing', 'disinterested', 'extravagant', 'game', 'practices', 'occur', 'graciousness', 'elegant', 'concise', 'toward', 'foundations', 'calls', 'happen', 'finding', 'health', 'village', 'indisposition', 'Longstaple', 'Gentleman', '.', 'painful', 'succeeding', '...', 'Eliza', 'Like', 'dirt', '4', 'observant', 'poignant', 'admiration', 'When', 'how', 'unreserved', 'composed', 'discontented', 'entertain', 'vent', 'meditated', 'Wait', 'standard', 'comparative', 'Parrys', 'Beautifully', 'tomorrow', 'gaiety', 'option', 'missed', 'ensued', 'existence', 'confused', 'expeditiously', 'picture', 'Thursday', 'middle', 'cote', 'regularity', 'introducing', 'wander', 'works', 'politeness', 'blameable', 'offering', 'ten', 'avoid', 'warm', 'fled', 'aches', 'Mama', 'unsuitable', 'varying', 'fast', 'bottom', 'decisively', '.--', 'screams', 'enforced', 'obeyed', 'replying', 'frantic', 'scorning', 'droll', 'humanity', 'patronised', 'stopping', 'personal', 'Till', 'man', 'follows', 'Abbeyland', 'those', 'pint', 'ruins', 'Elinor', 'condemned', 'viewed', 'brightness', 'thinks', 'provide', 'flourish', 'piece', 'puppies', 'happily', 'impatience', 'swoon', 'show', 'wager', 'ancient', 'headache', 'anything', 'succeed', 'attempting', 'new', 'objects', 'question', 'went', 'conjecture', 'expensive', 'publication', 'resettled', 'exchanged', 'fondly', 'fortune', 'unfatherly', 'misled', 'hands', 'While', 'Bristol', 'crime', 'leant', 'considerations', 'daggers', 'concluding', 'wildest', 'LET', 'spread', 'Dennison', 'protection', 'grey', 'of', 'increased', 'daily', 'shutter', 'inexcusable', 'abruptly', 'romance', '&', 'connected', 'hesitated', 'brings', 'tending', 'eating', '23', 'persisting', 'lawyer', 'OCCASION', 'raptures', 'proportioned', 'moan', 'unwelcome', 'abuse', 'despise', 'other', 'blushing', 'THEIR', 'coincide', 'corner', 'connection', 'wish', 'arrive', 'concealment', 'hostile', 'Harry', 'coachman', 'Midsummer', 'THEN', 'admitted', 'slighting', 'standing', 'shan', '?--', 'attacks', 'intentionally', 'ALMOST', 'pace', 'visibly', 'stopped', 'attached', 'estimation', 'expressly', 'gathering', 'relapse', 'impropriety', 'bottoms', 'Kingham', 'dessert', 'nearest', 'six', 'anticipate', 'remarkable', 'communicative', 'reply', 'partly', 'check', 'persuade', 'em', 'enjoy', 'taking', 'obligingly', 'despair', 'shutters', 'intents', 'availed', 'gigs', 'reflected', 'residue', 'assertions', 'allowing', 'suggestion', 'honoured', 'sacred', 'formally', 'adieus', 'advancement', 'integrity', 'out', 'appeared', 'poplars', 'uncordial', 'Sure', '\"', 'longed', 'cloud', 'gentleness', 'talked', 'marriages', 'comment', 'shop', 'sail', 'memory', 'discontents', 'pen', 'consumption', 'foreseen', 'abstraction', 'affording', 'motives', 'risking', 'covert', 'belonged', 'acts', 'befall', 'Instead', 'chusing', 'carriage', 'became', 'purposes', 'square', 'directed', 'listener', 'previously', 'Men', 'environs', 'attended', 'Against', 'affections', 'concealed', 'begged', 'congratulate', 'tremour', 'associate', 'goodness', 'resolved', 'whenever', 'throw', 'looking', 'dreaming', 'acknowledged', 'survey', 'nuisance', 'unknowingly', 'compliments', 'disposed', 'ends', 'dark', 'perturbation', 'seven', 'prettier', 'posture', 'civilly', 'paper', 'plan', 'Let', 'ANY', 'reclaim', 'guide', 'niggardly', 'conscience', 'distresses', 'incredulity', 'mound', 'debts', 'apologising', 'rendering', 'talents', 'bring', 'scrupling', 'objections', 'happens', 'acquaintances', 'Gray', 'philosophy', 'insincerity', 'rolling', 'blushed', 'chief', 'inform', 'scorn', 'convenient', 'Nancy', 'frighten', 'contemptuously', 'abounded', 'forfeit', 'throwing', 'education', 'fail', 'perverseness', 'renewed', 'imbibed', 'ham', 'measure', 'contented', 'interrupting', 'imagination', 'contradict', 'parted', 'subdued', 'immoderately', 'sweep', 'trades', 'memorable', 'Four', 'If', 'decently', 'applying', 'sixteen', 'Gracious', 'grounded', 'ranked', 'prosperity', 'drove', 'confession', 'solidly', 'discreet', 'hardship', 'Between', 'tithes', 'palanquins', 'independence', 'suspected', 'witticisms', 'insolent', 'covering', 'putting', 'hindrance', 'uneasiness', 'superior', 'sentiment', 'esteemed', 'knack', 'bags', 'pronouncing', 'stout', 'WERE', 'sisterly', 'cautiousness', 'revealed', 'utility', 'publishing', 'positively', 'nodded', 'private', 'guarding', 'pocketbook', 'Few', 'L', 'shortly', 'mercy', 'tormented', 'month', 'disqualifications', 'impetuous', 'TRIED', 'written', 'politics', 'interview', 'neat', 'putrid', 'apricot', 'conning', 'roared', 'disagreeable', 'congratulating', 'instigated', 'wont', 'abhor', 'room', 'representation', 'convinced', 'rude', 'ONCE', 'dine', 'define', 'side', 'Almost', 'cordial', 'patches', 'already', 'MIND', 'state', 'sensible', 'fashioned', 'forgive', 'climbing', 'villainy', 'administering', 'unbroken', 'candidly', 'confusion', 'sorrows', 'disapproved', 'descend', 'overlook', 'Eager', 'likewise', 'ridicule', 'Impatient', 'fourteen', 'project', 'imputed', 'finish', 'resolve', 'supplying', 'meantime', 'honorably', 'abstracted', 'bad', 'torrent', 'fuss', 'unhappy', 'equals', 'sharp', 'amusements', 'unusual', 'obliged', 'ungenteel', 'particularity', 'notions', 'infinitely', 'done', 'improperly', 'passionately', 'establish', 'happiest', 'drops', 'generally', 'captivating', 'bestowing', 'purposely', 'offspring', 'dignified', 'probability', 'pleasantest', 'Anxiety', 'seating', 'suitable', 'reminds', 'ask', 'till', 'erred', 'admiring', 'sweetmeats', 'heath', 'salts', 'sacrifice', 'unite'}\n",
      "6833\n"
     ]
    }
   ],
   "source": [
    "\n",
    "print(set(text2))\n",
    "print(len(set(text2)))"
   ]
  },
  {
   "cell_type": "markdown",
   "id": "4900d56d",
   "metadata": {},
   "source": [
    "to remove the non alphabetic strings in the problem we need to use the method  \n",
    "## .isalpha()"
   ]
  },
  {
   "cell_type": "code",
   "execution_count": 8,
   "id": "c57c15ad",
   "metadata": {},
   "outputs": [
    {
     "data": {
      "text/plain": [
       "6713"
      ]
     },
     "execution_count": 8,
     "metadata": {},
     "output_type": "execute_result"
    }
   ],
   "source": [
    "len(set([w for w in text2 if w.isalpha()]))"
   ]
  },
  {
   "cell_type": "markdown",
   "id": "b5e5952a",
   "metadata": {},
   "source": [
    "However, another problem is that the tokenizer splits words with apostrophes (i.e., contractions and possessives) into their constituent parts, so that a word such as didn't would become didn, ', and t. .isalpha() will remove apostrophes from the count, but it would be inaccurate to separately count all the enclitics d, ll, m, re, s, t, ves that result from tokenization. Therefore, we'll add the boolean and not in (\"d\", \"ll\", \"m\", \"re\", \"s\", \"t\", \"ve\") to the list comprehension to account for these"
   ]
  },
  {
   "cell_type": "code",
   "execution_count": 9,
   "id": "15810eba",
   "metadata": {},
   "outputs": [
    {
     "data": {
      "text/plain": [
       "6706"
      ]
     },
     "execution_count": 9,
     "metadata": {},
     "output_type": "execute_result"
    }
   ],
   "source": [
    "# adding a sort of condition to removal again \n",
    "len(set([w for w in text2 if w.isalpha() and w not in (\"d\", \"ll\", \"m\", \"re\", \"s\", \"t\", \"ve\")]))"
   ]
  },
  {
   "cell_type": "markdown",
   "id": "1c1f533d",
   "metadata": {},
   "source": [
    "☼ Compare the lexical diversity scores for humor and romance fiction in 1.1. Which genre is more lexically diverse?\n",
    "\n",
    "Humor (0.231) is about twice as lexically diverse as romance fiction (0.121).\n",
    "\n",
    "6.\n",
    "☼ Produce a dispersion plot of the four main protagonists in Sense and Sensibility: Elinor, Marianne, Edward, and Willoughby. What can you observe about the different roles played by the males and females in this novel? Can you identify the couples?"
   ]
  },
  {
   "cell_type": "code",
   "execution_count": 10,
   "id": "0817be5f",
   "metadata": {},
   "outputs": [
    {
     "data": {
      "image/png": "[encoded data removed]",
      "text/plain": [
       "<Figure size 640x480 with 1 Axes>"
      ]
     },
     "metadata": {},
     "output_type": "display_data"
    }
   ],
   "source": [
    "%matplotlib inline \n",
    "\n",
    "text2.dispersion_plot([\"Elinor\", \"Marianne\", \"Edward\", \"Willoughby\"])"
   ]
  },
  {
   "cell_type": "markdown",
   "id": "87b513dd",
   "metadata": {},
   "source": [
    "In natural language processing (NLP), a collocation refers to a sequence of words that tend to appear together frequently in a specific context. Collocations are words that have a strong tendency to co-occur more often than would be expected by chance. They are often used in a specific order to convey a particular meaning or idea. Collocations provide valuable insights into the way language is structured and the associations between words"
   ]
  },
  {
   "cell_type": "code",
   "execution_count": 11,
   "id": "4388f1e5",
   "metadata": {},
   "outputs": [
    {
     "name": "stdout",
     "output_type": "stream",
     "text": [
      "wanna chat; PART JOIN; MODE #14-19teens; JOIN PART; PART PART;\n",
      "cute.-ass MP3; MP3 player; JOIN JOIN; times .. .; ACTION watches; guys\n",
      "wanna; song lasts; last night; ACTION sits; -...)...- S.M.R.; Lime\n",
      "Player; Player 12%; dont know; lez gurls; long time\n"
     ]
    }
   ],
   "source": [
    "text5.collocations()\n"
   ]
  },
  {
   "cell_type": "code",
   "execution_count": 12,
   "id": "7f67f662",
   "metadata": {},
   "outputs": [
    {
     "data": {
      "text/plain": [
       "10025"
      ]
     },
     "execution_count": 12,
     "metadata": {},
     "output_type": "execute_result"
    }
   ],
   "source": [
    "# show the unique values number from the text\n",
    "len(set(text4))"
   ]
  },
  {
   "cell_type": "code",
   "execution_count": 13,
   "id": "4edcdfd7",
   "metadata": {},
   "outputs": [
    {
     "data": {
      "text/plain": [
       "{'interoceanic',\n",
       " 'ELECTION',\n",
       " 'dedicated',\n",
       " 'beholds',\n",
       " 'isle',\n",
       " 'dynamic',\n",
       " 'voted',\n",
       " 'opposed',\n",
       " 'incidental',\n",
       " 'Legitimate',\n",
       " 'holds',\n",
       " 'risk',\n",
       " 'numberless',\n",
       " 'stale',\n",
       " 'revision',\n",
       " 'grace',\n",
       " 'engrosses',\n",
       " 'wane',\n",
       " 'specify',\n",
       " 'proudly',\n",
       " 'universally',\n",
       " 'overlooked',\n",
       " 'reliance',\n",
       " 'unauthorized',\n",
       " 'ones',\n",
       " 'promoters',\n",
       " 'removal',\n",
       " 'gallantry',\n",
       " 'regional',\n",
       " 'sings',\n",
       " 'witnessed',\n",
       " 'decade',\n",
       " 'unfortunate',\n",
       " 'molest',\n",
       " 'surpluses',\n",
       " 'understood',\n",
       " 'Act',\n",
       " 'felicities',\n",
       " 'mockery',\n",
       " 'purse',\n",
       " 'recommends',\n",
       " 'amiable',\n",
       " 'strove',\n",
       " 'offer',\n",
       " 'am',\n",
       " 'contrary',\n",
       " 'policy',\n",
       " 'overshadowed',\n",
       " 'accommodation',\n",
       " 'amongst',\n",
       " 'detachment',\n",
       " 'contemplate',\n",
       " 'divisible',\n",
       " 'features',\n",
       " 'Foreign',\n",
       " 'abandonment',\n",
       " 'bed',\n",
       " 'ability',\n",
       " 'hire',\n",
       " 'naturalization',\n",
       " 'drift',\n",
       " 'Above',\n",
       " 'domination',\n",
       " 'conclusions',\n",
       " 'invariably',\n",
       " 'developing',\n",
       " 'thence',\n",
       " 'enriching',\n",
       " 'evening',\n",
       " 'breath',\n",
       " 'damage',\n",
       " 'attend',\n",
       " 'embarrassment',\n",
       " 'forbidding',\n",
       " 'a',\n",
       " 'appropriate',\n",
       " 'hides',\n",
       " 'concept',\n",
       " 'proofs',\n",
       " 'activities',\n",
       " 'magistrates',\n",
       " 'began',\n",
       " 'angels',\n",
       " 'reduced',\n",
       " 'potential',\n",
       " 'ruthlessly',\n",
       " 'prevalence',\n",
       " 'obtruding',\n",
       " 'alluring',\n",
       " 'Earth',\n",
       " 'usefulness',\n",
       " 'reports',\n",
       " 'logic',\n",
       " '30',\n",
       " 'instead',\n",
       " 'utterly',\n",
       " 'litigation',\n",
       " 'unlearned',\n",
       " 'representing',\n",
       " 'enforce',\n",
       " 'base',\n",
       " 'delivering',\n",
       " 'transcendent',\n",
       " 'dry',\n",
       " 'slightly',\n",
       " 'humiliating',\n",
       " 'Amongst',\n",
       " 'strong',\n",
       " 'cherished',\n",
       " 'demonstration',\n",
       " 'writing',\n",
       " 'despots',\n",
       " 'Floridas',\n",
       " 'encroaches',\n",
       " 'whirlwind',\n",
       " 'differing',\n",
       " 'emerging',\n",
       " 'limiting',\n",
       " 'exert',\n",
       " 'laid',\n",
       " 'captive',\n",
       " 'retard',\n",
       " 'deliverance',\n",
       " 'scales',\n",
       " 'domiciliary',\n",
       " 'inexpressibly',\n",
       " 'exceeding',\n",
       " 'humankind',\n",
       " 'survived',\n",
       " 'appertain',\n",
       " 'hungry',\n",
       " 'clothed',\n",
       " 'lofty',\n",
       " 'impassable',\n",
       " 'legend',\n",
       " 'lowest',\n",
       " 'Help',\n",
       " 'year',\n",
       " 'ascertained',\n",
       " 'defenders',\n",
       " 'noted',\n",
       " 'continuity',\n",
       " 'unfitness',\n",
       " 'perfectly',\n",
       " 'lift',\n",
       " 'Corporations',\n",
       " 'famed',\n",
       " 'smother',\n",
       " 'opinions',\n",
       " 'peculation',\n",
       " 'moderation',\n",
       " 'treading',\n",
       " 'contract',\n",
       " 'bounds',\n",
       " 'everyone',\n",
       " 'sore',\n",
       " 'indulge',\n",
       " 'lastly',\n",
       " 'favor',\n",
       " 'pray',\n",
       " 'settled',\n",
       " 'especially',\n",
       " 'Depression',\n",
       " 'clinching',\n",
       " 'fame',\n",
       " 'missing',\n",
       " 'habits',\n",
       " 'shielded',\n",
       " 'traditional',\n",
       " 'restored',\n",
       " 'Penetrating',\n",
       " 'endeavors',\n",
       " 'enslaved',\n",
       " 'leadersâ',\n",
       " 'dispelled',\n",
       " 'assembled',\n",
       " 'ears',\n",
       " 'misfortune',\n",
       " 'secure',\n",
       " 'succumbed',\n",
       " 'profuse',\n",
       " 'kill',\n",
       " 'Actual',\n",
       " 'concentrating',\n",
       " 'scientific',\n",
       " '1776',\n",
       " 'presentiments',\n",
       " 'intentioned',\n",
       " 'rice',\n",
       " 'impression',\n",
       " 'imperious',\n",
       " 'disquisitions',\n",
       " 'comparatively',\n",
       " 'role',\n",
       " 'comities',\n",
       " 'accomplishing',\n",
       " 'ambiguity',\n",
       " 'imperishable',\n",
       " 'wrote',\n",
       " 'sacredness',\n",
       " 'addition',\n",
       " 'operating',\n",
       " 'friendship',\n",
       " 'sustain',\n",
       " 'I',\n",
       " 'thirdly',\n",
       " 'unhampered',\n",
       " 'clocks',\n",
       " 'alien',\n",
       " 'precarious',\n",
       " 'maxims',\n",
       " 'cheerful',\n",
       " 'are',\n",
       " 'confidence',\n",
       " 'rallied',\n",
       " 'Universal',\n",
       " 'elasticity',\n",
       " 'impulses',\n",
       " 'synagogue',\n",
       " 'alleged',\n",
       " 'scrutinize',\n",
       " 'revenues',\n",
       " 'omission',\n",
       " 'product',\n",
       " 'money',\n",
       " 'compassion',\n",
       " 'chargeable',\n",
       " 'fate',\n",
       " 'parent',\n",
       " 'extinction',\n",
       " 'performance',\n",
       " 'quicken',\n",
       " 'adopting',\n",
       " 'grudging',\n",
       " 'confer',\n",
       " 'tempted',\n",
       " 'negro',\n",
       " 'innocence',\n",
       " 'Kansas',\n",
       " 'inexpedient',\n",
       " 'tempered',\n",
       " 'guardians',\n",
       " 'Kindly',\n",
       " 'fighting',\n",
       " 'inauguration',\n",
       " 'lures',\n",
       " 'transform',\n",
       " 'electric',\n",
       " 'residence',\n",
       " 'establishments',\n",
       " 'on',\n",
       " 'stifles',\n",
       " 'bigger',\n",
       " 'operated',\n",
       " 'California',\n",
       " 'Confidently',\n",
       " 'centers',\n",
       " 'recriminations',\n",
       " 'spared',\n",
       " 'approaching',\n",
       " 'Pelosi',\n",
       " 'supports',\n",
       " 'Legislation',\n",
       " 'Naval',\n",
       " 'esteem',\n",
       " 'comes',\n",
       " 'bureaus',\n",
       " 'latter',\n",
       " 'considerable',\n",
       " 'profess',\n",
       " 'Reconstruction',\n",
       " 'dad',\n",
       " 'Giver',\n",
       " 'penalties',\n",
       " 'high',\n",
       " 'suggestions',\n",
       " 'doesn',\n",
       " 'falsity',\n",
       " 'unfolded',\n",
       " 'your',\n",
       " 'worth',\n",
       " 'treasured',\n",
       " 'Seeking',\n",
       " 'choose',\n",
       " 'Should',\n",
       " 'brightly',\n",
       " 'levees',\n",
       " 'extricate',\n",
       " 'replaced',\n",
       " 'springs',\n",
       " 'agitations',\n",
       " 'Capital',\n",
       " 'often',\n",
       " 'temptations',\n",
       " 'dissatisfied',\n",
       " 'manufacturer',\n",
       " 'spoliation',\n",
       " 'safety',\n",
       " 'Sometimes',\n",
       " 'production',\n",
       " 'commands',\n",
       " 'conservative',\n",
       " 'amalgamated',\n",
       " '¡¦',\n",
       " 'battle',\n",
       " 'impulse',\n",
       " 'electoral',\n",
       " 'inviolable',\n",
       " 'latitude',\n",
       " 'factions',\n",
       " 'endowments',\n",
       " 'Fortunately',\n",
       " 'd',\n",
       " 'someone',\n",
       " 'farm',\n",
       " 'unconquerable',\n",
       " 'hidden',\n",
       " 'urgency',\n",
       " 'whom',\n",
       " 'possible',\n",
       " 'placed',\n",
       " 'uppermost',\n",
       " 'demand',\n",
       " 'BUSINESS',\n",
       " 'fever',\n",
       " 'wretchedness',\n",
       " 'immeasurably',\n",
       " 'geographical',\n",
       " 'dissolution',\n",
       " 'party',\n",
       " 'Additional',\n",
       " 'negotiations',\n",
       " 'industrial',\n",
       " 'unclench',\n",
       " 'lessons',\n",
       " 'instructions',\n",
       " 'corruption',\n",
       " 'cardinal',\n",
       " 'denies',\n",
       " 'tomorrows',\n",
       " 'bay',\n",
       " 'uniting',\n",
       " 'rightness',\n",
       " 'expand',\n",
       " 'nomination',\n",
       " 'constantly',\n",
       " 'free',\n",
       " 'Far',\n",
       " 'rectified',\n",
       " 'lead',\n",
       " 'ordeal',\n",
       " 'awake',\n",
       " 'communion',\n",
       " 'financing',\n",
       " 'historic',\n",
       " 'uttermost',\n",
       " 'acted',\n",
       " 'structure',\n",
       " 'closing',\n",
       " '1917',\n",
       " 'far',\n",
       " 'devastates',\n",
       " 'beacon',\n",
       " 'planting',\n",
       " 'working',\n",
       " 'cultivated',\n",
       " 'again',\n",
       " 'impracticable',\n",
       " 'aspirations',\n",
       " 'futility',\n",
       " 'communism',\n",
       " 'confines',\n",
       " 'finance',\n",
       " 'restriction',\n",
       " 'ordinary',\n",
       " 'human',\n",
       " 'colored',\n",
       " 'harbor',\n",
       " 'secured',\n",
       " 'eminently',\n",
       " 'Commissioners',\n",
       " 'attack',\n",
       " 'statute',\n",
       " 'errant',\n",
       " 'unimpressive',\n",
       " 'invoking',\n",
       " 'profaned',\n",
       " 'there',\n",
       " 'fortunate',\n",
       " 'North',\n",
       " 'complications',\n",
       " 'misconceptions',\n",
       " 'reconsider',\n",
       " 'commencement',\n",
       " 'explanation',\n",
       " 'surround',\n",
       " 'themes',\n",
       " 'tumultuous',\n",
       " 'untrusting',\n",
       " 'equipment',\n",
       " 'solely',\n",
       " 'warning',\n",
       " 'division',\n",
       " 'desperate',\n",
       " 'provided',\n",
       " 'cascading',\n",
       " 'prey',\n",
       " 'generations',\n",
       " 'troubled',\n",
       " 'Fort',\n",
       " 'minorities',\n",
       " 'wield',\n",
       " 'earn',\n",
       " 'favoritism',\n",
       " 'enterprise',\n",
       " 'pave',\n",
       " 'caution',\n",
       " 'reverence',\n",
       " 'intrusion',\n",
       " 'testifying',\n",
       " 'mysteries',\n",
       " 'mortgage',\n",
       " 'discern',\n",
       " 'resentment',\n",
       " 'grants',\n",
       " 'assigned',\n",
       " 'dominated',\n",
       " 'peril',\n",
       " 'abnormal',\n",
       " 'instruments',\n",
       " 'speculations',\n",
       " 'occupants',\n",
       " 'Overlooking',\n",
       " 'opposite',\n",
       " 'foresaw',\n",
       " 'reforms',\n",
       " 'fruit',\n",
       " 'most',\n",
       " 'deepen',\n",
       " 'invaded',\n",
       " 'power',\n",
       " 'destroy',\n",
       " 'Others',\n",
       " 'legally',\n",
       " 'racism',\n",
       " 'needless',\n",
       " 'misery',\n",
       " 'preceded',\n",
       " 'Northerners',\n",
       " 'sweats',\n",
       " 'Terrific',\n",
       " 'strides',\n",
       " 'eastward',\n",
       " 'Revolutionary',\n",
       " 'persisted',\n",
       " 'undeviating',\n",
       " 'wage',\n",
       " 'ownership',\n",
       " 'joy',\n",
       " 'allude',\n",
       " 'mechanism',\n",
       " 'bargain',\n",
       " 'WORLD',\n",
       " 'song',\n",
       " 'Relying',\n",
       " 'approached',\n",
       " 'predecessors',\n",
       " 'sundered',\n",
       " 'spectators',\n",
       " 'obstacles',\n",
       " 'devastation',\n",
       " 'dishonorable',\n",
       " 'As',\n",
       " 'delays',\n",
       " 'watchfulness',\n",
       " 'hopefully',\n",
       " 'minimize',\n",
       " 'fervently',\n",
       " 'centennial',\n",
       " 'federal',\n",
       " 'its',\n",
       " 'hymns',\n",
       " 'continents',\n",
       " 'expenses',\n",
       " 'wily',\n",
       " 'organizations',\n",
       " 'successful',\n",
       " 'persuasion',\n",
       " 'audacity',\n",
       " 'outworn',\n",
       " 'distrusted',\n",
       " 'democrat',\n",
       " 'lawgivers',\n",
       " 'hateful',\n",
       " 'duration',\n",
       " 'subsequent',\n",
       " 'performed',\n",
       " 'appropriately',\n",
       " 'partners',\n",
       " 'mill',\n",
       " 'inestimable',\n",
       " 'immeasurable',\n",
       " 'ended',\n",
       " 'corrective',\n",
       " 'Cape',\n",
       " 'prevail',\n",
       " 'Great',\n",
       " 'submit',\n",
       " 'stretched',\n",
       " 'facilitate',\n",
       " '1972',\n",
       " 'Pence',\n",
       " 'columns',\n",
       " 'reparation',\n",
       " 'low',\n",
       " 'skepticism',\n",
       " 'jurisdiction',\n",
       " 'fearfully',\n",
       " 'mutually',\n",
       " 'unadjusted',\n",
       " 'gaining',\n",
       " 'oppress',\n",
       " 'had',\n",
       " 'previous',\n",
       " 'openly',\n",
       " 'inferior',\n",
       " 'presence',\n",
       " 'patriotic',\n",
       " 'depressed',\n",
       " 'diversified',\n",
       " 'vouchsafed',\n",
       " 'theorists',\n",
       " 'centered',\n",
       " 'talent',\n",
       " 'Detroit',\n",
       " '1800',\n",
       " 'effectively',\n",
       " 'rely',\n",
       " 'Confederacy',\n",
       " 'nearing',\n",
       " 'thankful',\n",
       " 'marble',\n",
       " 'added',\n",
       " 'warming',\n",
       " 'genial',\n",
       " 'wavering',\n",
       " 'Intentions',\n",
       " 'induce',\n",
       " 'plainest',\n",
       " 'reasonably',\n",
       " 'benefit',\n",
       " 'suitably',\n",
       " 'however',\n",
       " 'Americansâ',\n",
       " 'appalling',\n",
       " 'liquor',\n",
       " 'jurisdictions',\n",
       " 'fellowmen',\n",
       " 'merit',\n",
       " 'bore',\n",
       " 'walked',\n",
       " 'summons',\n",
       " 'parties',\n",
       " 'preposterous',\n",
       " 'recurring',\n",
       " 'avowing',\n",
       " 'common',\n",
       " 'holders',\n",
       " 'usurpation',\n",
       " 'contended',\n",
       " 'elections',\n",
       " 'repressed',\n",
       " 'dominant',\n",
       " 'uninterrupted',\n",
       " 'exception',\n",
       " 'stilling',\n",
       " 'predilection',\n",
       " 'inadmissible',\n",
       " 'confessedly',\n",
       " 'vote',\n",
       " 'fortunes',\n",
       " 'aim',\n",
       " 'investing',\n",
       " 'since',\n",
       " 'retired',\n",
       " 'conviction',\n",
       " '[',\n",
       " 'SESSION',\n",
       " 'Cheney',\n",
       " 'clauses',\n",
       " 'dividend',\n",
       " 'political',\n",
       " 'justifies',\n",
       " 'lone',\n",
       " 'fifteen',\n",
       " 'subject',\n",
       " 'unwanted',\n",
       " 'reciprocal',\n",
       " 'foremost',\n",
       " 'Abhorring',\n",
       " 'require',\n",
       " 'surviving',\n",
       " 'Contemplating',\n",
       " 'probable',\n",
       " 'insurrectional',\n",
       " 'regular',\n",
       " 'counteract',\n",
       " 'freed',\n",
       " 'slowly',\n",
       " 'sect',\n",
       " 'indicators',\n",
       " 'domain',\n",
       " 'enjoys',\n",
       " 'bimetallism',\n",
       " 'host',\n",
       " 'soundly',\n",
       " 'auspicious',\n",
       " 'apology',\n",
       " 'lash',\n",
       " 'attained',\n",
       " 'thorough',\n",
       " 'solving',\n",
       " 'don',\n",
       " 'arrogate',\n",
       " 'medicine',\n",
       " 'Homes',\n",
       " 'deputed',\n",
       " 'shadows',\n",
       " 'Price',\n",
       " 'horizons',\n",
       " 'havoc',\n",
       " 'shepherd',\n",
       " 'coherence',\n",
       " 'spent',\n",
       " 'stead',\n",
       " 'nuclear',\n",
       " 'eventual',\n",
       " 'observer',\n",
       " 'Many',\n",
       " 'recovery',\n",
       " 'agreeably',\n",
       " 'rod',\n",
       " 'proposed',\n",
       " 'suppression',\n",
       " 'Following',\n",
       " 'interfering',\n",
       " 'helpless',\n",
       " 'steeled',\n",
       " 'lamented',\n",
       " 'friendliest',\n",
       " 'overburdened',\n",
       " 'outlines',\n",
       " 'deaths',\n",
       " 'bloody',\n",
       " 'same',\n",
       " 'teem',\n",
       " 'sanctioned',\n",
       " 'persuaded',\n",
       " 'valley',\n",
       " 'views',\n",
       " 'Thus',\n",
       " 'realistically',\n",
       " 'instrumentality',\n",
       " 'fitting',\n",
       " 'economics',\n",
       " 'approbation',\n",
       " 'betray',\n",
       " 'professions',\n",
       " 'enjoins',\n",
       " 'bacteria',\n",
       " 'patrol',\n",
       " 'honor',\n",
       " 'mills',\n",
       " 'failed',\n",
       " 'distinctly',\n",
       " 'tombstones',\n",
       " 'annexation',\n",
       " 'combination',\n",
       " 'activity',\n",
       " 'stimulating',\n",
       " 'cooperation',\n",
       " 'professionals',\n",
       " 'Politicians',\n",
       " 'sincerely',\n",
       " 'ardent',\n",
       " 'authority',\n",
       " 'Convention',\n",
       " 'so',\n",
       " 'Happiness',\n",
       " 'afresh',\n",
       " 'thrashed',\n",
       " 'jobbers',\n",
       " 'Domestic',\n",
       " 'conduct',\n",
       " 'Schumer',\n",
       " 'ugly',\n",
       " 'insignificance',\n",
       " 'weld',\n",
       " 'awaken',\n",
       " 'peacefullyâ',\n",
       " 'surprised',\n",
       " 'downward',\n",
       " 'secondhand',\n",
       " 'European',\n",
       " 'likes',\n",
       " 'confront',\n",
       " 'demonstrations',\n",
       " 'proceeded',\n",
       " 'naturalizing',\n",
       " 'gratified',\n",
       " 'erode',\n",
       " 'massive',\n",
       " 'Xthe',\n",
       " 'precautions',\n",
       " 'animating',\n",
       " 'unfortunately',\n",
       " 'singular',\n",
       " 'transpire',\n",
       " 'create',\n",
       " 'advanced',\n",
       " 'available',\n",
       " 'Ohio',\n",
       " 'broke',\n",
       " 'heroes',\n",
       " 'influenced',\n",
       " 'seduce',\n",
       " 'concert',\n",
       " 'liability',\n",
       " 'Fortunate',\n",
       " 'surface',\n",
       " 'seats',\n",
       " 'diverting',\n",
       " 'workshop',\n",
       " 'retaining',\n",
       " 'intends',\n",
       " 'voting',\n",
       " 'life',\n",
       " 'Middle',\n",
       " 'misunderstanding',\n",
       " 'usual',\n",
       " 'number',\n",
       " 'Colonel',\n",
       " 'removable',\n",
       " 'equipped',\n",
       " 'inflict',\n",
       " '¡¨¡',\n",
       " 'mistaken',\n",
       " 'try',\n",
       " 'entangled',\n",
       " 'angel',\n",
       " 'score',\n",
       " 'punitive',\n",
       " 'dimness',\n",
       " 'inquiry',\n",
       " 'uniform',\n",
       " 'computer',\n",
       " 'seventy',\n",
       " 'past',\n",
       " 'frightened',\n",
       " 'Mississippi',\n",
       " 'Happily',\n",
       " 'sunk',\n",
       " 'Whatever',\n",
       " '15th',\n",
       " 'maritime',\n",
       " 'church',\n",
       " 'capitalist',\n",
       " 'untried',\n",
       " 'fallen',\n",
       " 'Within',\n",
       " 'hath',\n",
       " 'speed',\n",
       " 'banishment',\n",
       " '(',\n",
       " 'unequivocal',\n",
       " 'untrammeled',\n",
       " 'decreased',\n",
       " 'Where',\n",
       " 'preparatory',\n",
       " 'professed',\n",
       " 'rounded',\n",
       " 'fascism',\n",
       " 'happy',\n",
       " 'opinion',\n",
       " 'Higher',\n",
       " 'arouse',\n",
       " 'evenly',\n",
       " 'induction',\n",
       " 'stays',\n",
       " 'Xtested',\n",
       " 'subsists',\n",
       " 'Mayflower',\n",
       " 'delineated',\n",
       " 'Immunity',\n",
       " 'fold',\n",
       " 'grim',\n",
       " 'evince',\n",
       " 'delicate',\n",
       " 'casual',\n",
       " 'acceptance',\n",
       " 'candle',\n",
       " 'Rico',\n",
       " 'locks',\n",
       " 'take',\n",
       " 'poetry',\n",
       " 'mountaintop',\n",
       " 'controlled',\n",
       " 'defense',\n",
       " 'swarming',\n",
       " 'truthsâ',\n",
       " 'entwined',\n",
       " 'collected',\n",
       " 'continuance',\n",
       " 'tend',\n",
       " 'visitation',\n",
       " 'bred',\n",
       " 'embody',\n",
       " 'lasting',\n",
       " 'bankrupt',\n",
       " 'enlargement',\n",
       " 'Certain',\n",
       " 'aborigines',\n",
       " 'jungles',\n",
       " 'intercourse',\n",
       " 'usurpations',\n",
       " 'services',\n",
       " 'inconsiderable',\n",
       " 'fourth',\n",
       " 'urgent',\n",
       " 'Nature',\n",
       " 'installed',\n",
       " 'apathy',\n",
       " 'ills',\n",
       " 'implicit',\n",
       " 'denominations',\n",
       " 'without',\n",
       " 'model',\n",
       " 'off',\n",
       " 'exhortations',\n",
       " 'attributes',\n",
       " 'suppress',\n",
       " 'marred',\n",
       " 'maps',\n",
       " 'Due',\n",
       " 'silent',\n",
       " 'dictatorship',\n",
       " 'Peace',\n",
       " 'Information',\n",
       " 'producers',\n",
       " 'jealously',\n",
       " 'statesmen',\n",
       " 'pacifists',\n",
       " 'unexceptionable',\n",
       " 'predecessor',\n",
       " 'endearing',\n",
       " 'enumerates',\n",
       " 'voice',\n",
       " 'stream',\n",
       " 'platforms',\n",
       " 'That',\n",
       " 'Mediterranean',\n",
       " 'Latent',\n",
       " 'gifts',\n",
       " 'unmistakable',\n",
       " 'laying',\n",
       " 'crush',\n",
       " 'additional',\n",
       " 'civilization',\n",
       " 'desirous',\n",
       " 'summit',\n",
       " 'pandemic',\n",
       " 'authors',\n",
       " 'remembering',\n",
       " 'changing',\n",
       " 'wayâ',\n",
       " 'details',\n",
       " 'trade',\n",
       " 'territories',\n",
       " 'under',\n",
       " 'direction',\n",
       " 'sanction',\n",
       " 'excited',\n",
       " 'levers',\n",
       " 'bondsman',\n",
       " 'palladium',\n",
       " 'older',\n",
       " 'passed',\n",
       " 'justification',\n",
       " 'Anxious',\n",
       " 'dead',\n",
       " 'uncanny',\n",
       " 'diverse',\n",
       " 'unfair',\n",
       " 'speculative',\n",
       " 'disregarded',\n",
       " 'emancipated',\n",
       " 'mean',\n",
       " 'immunity',\n",
       " 'alternative',\n",
       " 'warmly',\n",
       " 'diminish',\n",
       " 'savages',\n",
       " 'irresistibly',\n",
       " 'provides',\n",
       " 'censorship',\n",
       " 'programs',\n",
       " 'evoke',\n",
       " 'gets',\n",
       " 'length',\n",
       " 'treat',\n",
       " 'torment',\n",
       " 'detail',\n",
       " 'unmatched',\n",
       " 'worked',\n",
       " 'indirect',\n",
       " 'capacity',\n",
       " 'central',\n",
       " 'restrain',\n",
       " 'mines',\n",
       " 'tests',\n",
       " 'formulating',\n",
       " 'unmade',\n",
       " 'assured',\n",
       " 'senate',\n",
       " 'consoled',\n",
       " 'defined',\n",
       " 'unequaled',\n",
       " 'mouth',\n",
       " 'advisers',\n",
       " 'imperfect',\n",
       " 'provincials',\n",
       " 'sphere',\n",
       " 'aggression',\n",
       " 'eradicate',\n",
       " 'suppressing',\n",
       " 'hasten',\n",
       " 'tribes',\n",
       " 'recovered',\n",
       " 'compete',\n",
       " 'put',\n",
       " 'vacant',\n",
       " 'tremendous',\n",
       " 'inhabitant',\n",
       " 'appeal',\n",
       " 'aloofness',\n",
       " 'claims',\n",
       " 'comprehensive',\n",
       " 'actions',\n",
       " 'Prices',\n",
       " 'reconciled',\n",
       " 'acknowledging',\n",
       " 'inexhaustible',\n",
       " 'represented',\n",
       " 'elapsed',\n",
       " 'perhaps',\n",
       " 'payable',\n",
       " 'league',\n",
       " 'avenues',\n",
       " 'Renewed',\n",
       " 'fall',\n",
       " 'addresses',\n",
       " 'where',\n",
       " 'pecuniary',\n",
       " 'reviewed',\n",
       " 'demoralizing',\n",
       " 'inaugurate',\n",
       " 'notably',\n",
       " 'About',\n",
       " '1886',\n",
       " 'devising',\n",
       " 'deposits',\n",
       " 'impede',\n",
       " 'appalled',\n",
       " 'Without',\n",
       " 'entrusted',\n",
       " 'bears',\n",
       " 'redounds',\n",
       " 'oar',\n",
       " 'process',\n",
       " 'questions',\n",
       " 'delusions',\n",
       " 'demonstrate',\n",
       " 'manage',\n",
       " 'loses',\n",
       " ':',\n",
       " 'colors',\n",
       " 'Tarawa',\n",
       " 'humble',\n",
       " 'addâ',\n",
       " 'absorbing',\n",
       " 'profit',\n",
       " 'joined',\n",
       " 'offered',\n",
       " 'handmaid',\n",
       " 'remainder',\n",
       " 'slaves',\n",
       " 'comprehension',\n",
       " 'emphasize',\n",
       " 'bastion',\n",
       " '2017',\n",
       " ...}"
      ]
     },
     "execution_count": 13,
     "metadata": {},
     "output_type": "execute_result"
    }
   ],
   "source": [
    "set(text4)\n",
    "# printing the text"
   ]
  },
  {
   "cell_type": "code",
   "execution_count": 14,
   "id": "f375b56a",
   "metadata": {},
   "outputs": [
    {
     "data": {
      "text/plain": [
       "\"Something more interesting than 'My String'\""
      ]
     },
     "execution_count": 14,
     "metadata": {},
     "output_type": "execute_result"
    }
   ],
   "source": [
    "my_string = \"Something more interesting than 'My String'\"\n",
    "\n",
    "my_string"
   ]
  },
  {
   "cell_type": "code",
   "execution_count": 15,
   "id": "21a32e90",
   "metadata": {},
   "outputs": [
    {
     "name": "stdout",
     "output_type": "stream",
     "text": [
      "Something more interesting than 'My String'\n"
     ]
    }
   ],
   "source": [
    "print(my_string)"
   ]
  },
  {
   "cell_type": "code",
   "execution_count": 16,
   "id": "cc65d14e",
   "metadata": {},
   "outputs": [
    {
     "name": "stdout",
     "output_type": "stream",
     "text": [
      "Something more interesting than 'My String'--Something more interesting than 'My String'--Something more interesting than 'My String'--\n"
     ]
    }
   ],
   "source": [
    "# printing the string 3 times \n",
    "print((my_string + \"--\")*3)"
   ]
  },
  {
   "cell_type": "code",
   "execution_count": 17,
   "id": "b78c33a2",
   "metadata": {},
   "outputs": [
    {
     "name": "stdout",
     "output_type": "stream",
     "text": [
      "Something more interesting than 'My String' Something more interesting than 'My String' Something more interesting than 'My String'\n"
     ]
    }
   ],
   "source": [
    "# joining each occurence with each other \n",
    "print(' '.join([my_string] * 3))"
   ]
  },
  {
   "cell_type": "code",
   "execution_count": 18,
   "id": "3ebf85a8",
   "metadata": {},
   "outputs": [
    {
     "name": "stdout",
     "output_type": "stream",
     "text": [
      "['manav', 'is', 'trying', 'to', 'learn', 'nltk']\n",
      "manav is trying to learn nltk\n",
      "['manav', 'is', 'trying', 'to', 'learn', 'nltk'] "
     ]
    }
   ],
   "source": [
    "# maing a string list \n",
    "my_sent = [\"manav\", \"is\", \"trying\", \"to\", \"learn\",\"nltk\"]\n",
    "\n",
    "print(my_sent)\n",
    "\n",
    "# printing the list in the form of string \n",
    "my_string = ' '.join(my_sent)\n",
    "print(my_string)\n",
    "\n",
    "# converting it again to list \n",
    "print(my_string.split() , end = \" \")\n",
    "\n"
   ]
  },
  {
   "cell_type": "code",
   "execution_count": 19,
   "id": "36978430",
   "metadata": {},
   "outputs": [
    {
     "name": "stdout",
     "output_type": "stream",
     "text": [
      "['Manav', 'Malhotra']\n",
      "['is', 'a', 'gym', 'coder']\n",
      "Manav Malhotra is a gym coder.\n",
      "29\n",
      "6\n"
     ]
    }
   ],
   "source": [
    "# joining two phrases into single sentence \n",
    "phrase1 = [\"Manav\" , \"Malhotra\"]\n",
    "phrase2 = [\"is\", \"a\",\"gym\",\"coder\"]\n",
    "\n",
    "print(phrase1)\n",
    "print(phrase2)\n",
    "\n",
    "# joining two phrases into single sentence\n",
    "actual = ' '.join(phrase1  + phrase2)\n",
    "print(actual + '.')\n",
    "\n",
    "print(len(actual))\n",
    "print(len(phrase1 + phrase2))"
   ]
  },
  {
   "cell_type": "code",
   "execution_count": 20,
   "id": "44f7aadf",
   "metadata": {},
   "outputs": [
    {
     "name": "stdout",
     "output_type": "stream",
     "text": [
      "['In', 'the', 'beginning', 'God', 'created', 'the', 'heaven', 'and', 'the', 'earth', '.'] "
     ]
    }
   ],
   "source": [
    "# printing the sentence from text 3 \n",
    "print(sent3, end = ' ')"
   ]
  },
  {
   "cell_type": "code",
   "execution_count": 21,
   "id": "b4d679ee",
   "metadata": {},
   "outputs": [
    {
     "name": "stdout",
     "output_type": "stream",
     "text": [
      "1\n",
      "5\n",
      "8\n"
     ]
    }
   ],
   "source": [
    "i = 0\n",
    "for w in sent3:\n",
    "    if w == 'the':\n",
    "        i = sent3.index(w, i, -1)\n",
    "        print(i)\n",
    "        i += 1"
   ]
  },
  {
   "cell_type": "code",
   "execution_count": 22,
   "id": "a38716a7",
   "metadata": {},
   "outputs": [
    {
     "name": "stdout",
     "output_type": "stream",
     "text": [
      "{'', 'Video', 'guest', 'brb', 'WOMAN', 'hugggs', 'HUGE', 'hep', 'holds', 'bleach', \"PM's\", 'ahhh', 'playing', 'sf', 'ones', 'sings', 'c', 'waaa', 'Screach', 'akon', 'molest', 'KNOW', '.owner.', 'everone', 'offer', 'am', 'Mo', 'policy', 'downloading', 'nothin', 'Daveeee', 'erotic', 'super', 'maidstone', 'bed', 'kinda', 'reproduce', '//', '.op.', 'crusty', 'paypal', 'receprion', 'laptop', 'baked', 'evening', 'breath', 'eeeeeeeeewwwwwwww', 'attend', 'Officer', 'U80', 'cop', 'a', 'ah', 'Sun', 'wet', 'kickass', 'Ugh', 'Earth', 'TWO', '30', 'instead', 'yeah', 'wats', 'stares', 'base', 'U153', 'dry', '21', \"pm'n\", 'strong', 'writing', 'seagulls', 'ldskdlsf', '!!!!!!!!!', 'kissed', '1-900-anal-sex', 'laid', 'bedford', 'joking', \"ya'\", 'tryer', 'deliverance', 'laughing', \"doin'\", 'U148', 'string', 'inch', 'hungry', 'cuz', 'n.n', 'coupons', 'bois', 'Ummm', 'MODE', 'Help', 'year', 'powter', 'nicnames', 'whos', 'eay', 'grrrrrrrrr', 'noted', 'Thats', 'OUT', 'moderation', 'thingy', \"='s\", 'slick', 'busted', 'everyone', 'sore', 'tah', 'NOT', 'pray', 'especially', 'wid', 'sum1', 'missing', 'U51', '1.98', 'gm', 'happend', 'dang', 'ears', 'ughhh', 'kill', '423', 'rain', '!!!!', 'keyboard', 'FreesBee', '76%', 'U22', 'impression', 'per', 'wrote', 'dangit', 'Bloooooooooood', 'HOW', 'pfft', 'driveby', 'da', 'gguyyyzzzz', 'I', 'rag', 'Albany', 'are', 'bust', '*blush*', 'product', 'money', 'parent', 'nose', '................', 'cooking', '--------->', 'newp', 'yoooou', 'Kansas', 'conceited', 'pimp', \"RN's\", 'soory', '*', 'oppertunity', 'Dang', 'fighting', 'electric', 'dirrrrty', 'samn', 'on', '..................', 'California', 'chatr', \"iggy'd\", 'Ohhh', 'edmonton', 'sesky', 'S.M.R.', 'drools', 'clients', 'esteem', 'Three', 'comes', 'dad', 'Dipset', 'hrs', 'Guess', 'high', 'suggestions', 'your', 'worth', 'basically', 'choose', 'floating', 'U85', 'often', 'smacks', 'temptations', 'hong', 'contact', 'hellos', 'd', '!=', 'Max', 'someone', '2DAY', 'grrr', 'demand', 'ghost', 'fee', 'james', 'lmao', 'rapest', 'downs', 'Sunrise', 'herpes', 'tatatatnanaantatat', 'party', 'COM', 'U18', 'docs', 'scare', 'neked', 'streaks', 'fascination', 'listenin', 'fawk', 'bay', 'tickets', 'belive', 'hedge', 'free', 'eng', 'lead', 'awake', 'bucks', \"t'anks\", 'patsy', 'U109', 'bunch', 'far', 'piggy', 'working', 'Foxwoods', 'again', 'HAVE', 'U46', 'warts', 'human', 'smoker', 'yello', 'N', '(((((((((', '102.6', 'chics', 'there', 'North', '(((((((', 'warning', 'awwwwww', 'STOP', 'wireless', 'Fort', 'sis', 'pineapples', '++', 'ewwwwwww', 'caution', 'hottie', 'okikes', 'Need', 'hahaaa', \"'n'\", 'opposite', 'fruit', 'most', 'power', 'lucifuge', 'sweats', 'satisfie', 'cripos', 'joy', 'hmph', 'ball', 'Ridin', 'spose', 'song', 'button', 'Downy', 'reminder', 'Mono', 'As', 'hopefully', 'its', 'preoccupied', '...........', 'lbs', 'whew', 'torturing', 'answers', 'zombie', 'Sneeze', 'raymond', 'heyheyhey', 'sheesh', 'dueling', 'Great', 'COME', 'wher', \"scrollin'\", 'garlic', 'cardinals', 'poem', 'MUAH', 'honey', 'U57', 'hearthechatters', 'freaks', 'low', 'NIght', 'Crazy', 'Gracemont', 'had', 'dances', 'babiess', 'Yeh', 'mango', 'backroom', 'masturbating', 'subscription', 'cheating', 'tired', 'depressed', 'Heyyy', 'whuuped', 'rarly', 'Average', 'yikes', 'grilfriend', 'fingers', 'added', 'rained', 'bumped', 'AHAHHA', 'sores', 'creme', 'however', 'tdr', 'Books', 'raaaaaaaaaaaaaaaaaaaaaaaaaaaaa', 'ehh', 'walked', 'cuss', 'mmmmk', ':-@', 'common', 'elections', 'lavendar', '22', 'Mary', 'exception', '+', 'U26', 'vote', 'aim', 'since', 'huggss', 'rafters', 'political', '51', 'wondered', 'eitther', 'subject', 'proked', 'normy', 'Whereabouts', 'End', 'laffs', 'lust', 'contast', 'happening', 'slowly', 'gret', 'innocent', 'enjoys', 'LA', 'boredom', '99701', 'medicine', 'W', 'Check', 'YaY', 'flippin', 'nooooo', 'Wowsa', 'Tell', \"it's\", 'deaths', 'bloody', 'same', '<<<<<<,', 'zzzzzzzing', 'ussy', 'hearin', '!!...', 'rotflmao', '36', 'Thanks', 'Lil', 'pukes', 'blunt', 'wb', 'stron', 'wed-lock', '99703', 'so', 'cal', 'Days', 'ugly', 'fan', 'salt', ',,,,', 'surprised', 'likes', 'U83', 'mercedes', 'gurrrrl', '(((((((((((', 'sticky', 'recomend', 'Parkway', 'weeeeeeeeeeeeeeeeeeeeeeeeed', 'drink', 'Ohio', 'texas', 'broke', 'heroes', 'N\"T', 'rent', 'seduce', ';0', '(__I__)', '29803', 'kennedy', 'life', 'usual', 'K-Fed', 'mi', 'number', 'goddamn', 'camel', 'try', 'angel', 'okay', '12%', 'computer', 'uniform', 'elo', 'past', '.A.n.a.c.?.n.?.a.', 'lucy-fur', 'bloe', 'Nickelback', 'speed', 'belongings', 'Slide', 'cuffed', '(', 'Where', '0', 'pedals', 'happy', 'opinion', 'buh', 'hfglhs', 'havent', 'stays', 'straightens', 'noooooooooooooo', 'jus', 'take', 'Nooo', 'tonite', 'acros', 'Ug', 'tend', 'nitty', 'bred', '_', 'haha', '1900', 'serg', 'U132', 'Joe', 'Flatts', 'fourth', 'technique', 'Could', 'CT', 'congrat', 'without', 'noise', 'Wtf', 'off', 'rats', ':O', 'italian', 'voice', 'That', '<<<<<<<<<<<<<<', 'tingly', 'hheeyy', 'PDT', 'hick', '-(', 'CSI', 'changing', 'yoll', 'under', 'redirect', 'agaibn', 'older', 'NO', 'passed', 'nm', 'dead', 'robbie', 'gays', 'dya', 'lmaooo', 'withdrawl', 'mean', 'chops', 'Haha', 'Ive', 'playin', 'az', 'meyooky', 'gets', \"'ll\", 'worked', 'splinter', 'whered', 'mines', 'gaaaaaaay', 'sucka', 'yup', 'mouth', 'anythin', 'adduser', 'clay', 'bj', 'Dude', 'put', 'Meep', 'gn', 'TALKING', 'GIRLS', 'JTo', 'blowjob', 'hawaii', 'perhaps', '138', 'aaahhhh', 'sweater', 'fall', 'opr', 'lala', 'stubborn', 'where', 'greeter', 'porn', '******', 'dizzy', 'About', 'props', 'horriable', 'awww', 'bears', 'netflix', 'comments', 'questions', 'manage', ':', 'colors', 'Lousiana', 'thirsty', 'joined', 'Lithium', 'U27', 'Marlaya', '<empty>', '34', 'Females', 'footprints', 'guyz', 'outa', 'nekkies', 'last', 'opps', 'grief', 'Heys', 'U54', 'Reading', 'different', 'breaks', 'darlings', 'bong', ':(', 'ads', 'mystery', 'gritt', 'astral', 'U1', 'hot', '05.', 'fluids', 'Cheeeez', 'finger', 'U32', 'naw', 'lotsa', 'breeding', '.....', 'lived', 'throught', 'Lmao', 'humple', 'U31', 'pop', 'weekend', 'popcorn', 'may', 'page', 'soul', 'Ty', 'otay', '=)', 'pokkies', 'sensitive', 'food', 'nebraska', '300', 'laughin', 'YoU', 'morning', 'lmaooooo', 'discretion', 'sayn', 'Living', 'necromancers', 'nice', 'misbeahve', 'talented', 'victors', 'dotn', 'smokes', 'mikeeeeeeeeeeeeeeeeeeeeeeeeee', 'numb', 'town', 'BUT', 'site', 'wonna', 'Hahhaa', 'lady', 'solution', 'heyyy', 'black', 'innocently', 'endless', 'roomate', 'Pounder', 'msg', 'm', 'Uh', 'drags', 'paragraphs', 'practically', 'calm', 'never', 'important', 'ohh', 'oklahoma', 'individual', 'betta', 'maryland', 'costumes', 'stalk', 'xbox', 'brother', 'hiii', 'catch', 'drivin', 'Rush', 'plays', 'wubs', 'bird', 'scream', 'huh', 'chik', 'birthday', 'issue', 'va', 'until', 'Wisconsin', 'coastal', '@$$', 'sox', 'choc', 'NOTICE', 'gotta', 'apoligize', 'summer', 'Iowa', 'cotton', 'LoL', 'homies', 'wonderful', 'U164', 'Still', 'complex', 'Shore', 'waves', 'weeeeeeeeeeeeeeee', 'wiggleZ', 'e-mail', 'Kold', '<3333333333333333', 'rubs', 'ae', 'u', '220', 'messed', 'irl', 'asses', 'unwind', 'soup', 'ohhhhhhhhhhhhhhhh', 'Cookies', 'SO', 'blues', 'U6', 'Silverstein', 'caught', 'hahhahahaha', 'west', 'ovr', 'U74', 'PA', 'seconds.', 'horrified', 'they', '37', 'silver', 'bagel', 'white', '26', 'oh', 'dirty', 'stirred', 'akron', 'yuuuuuuuuuuuummmmmmmmmmmm', 'moonie', 't he', 'heartbreaker', 'dolls', 'Connected', 'alwys', 'moon', 'U147', 'pal', 'Did', 'sites', '*VBS*', '-------------', 'quite', 'Ask', 'Aberdeen', 'Own', 'night', 'ahhhhhh', 'alert', 'thrill', 'rethinks', 'litening', 'hawT', 'soakin', 'Ico', 'heads', 'adults', 'Punta', 'charge', 'coworkers', 'header', 'hahahahahahahahahahahahahahahaha', 'Web', 'On', '.45', 'guyzz', 'U989', '....................', 'beuty', 'devotion', '9', 'bye', 'real', 'member', 'brwn', 'for', 'o.k.', 'S', 'warnings', 'Wellbutrin', '33', 'fulfilling', 'Humidity', 'ontario', 'longer', 'geesh', 'field', 'freaked', 'Man', 'AM', '69', 'O.K', 'nz', 'douchebag', 'involves', 'austin', 'wo', 'jude', 'nicname', 're-thinks', 'jack', 'smooch', 'U84', 'Tim', 'Rothlisburger', 'kidding', 'wtf', 'yawnssss', 'chica', 'sober', 'At', 'cheking', 'bro', 'Smoochies', 'blah', 'teehee', 'relax', 'QQ', 'minded', 'nothing', 'slaps', 'WTF', 'strangers', '??@', 'specially', 'clown', 'penis', 'allergies', 'beans', 'luv', 'reschedual', 'martin', 'whole', 'Christianity', 'caused', 'jump', 'pffft', 'shoots', 'http://forums.talkcity.com/tc-adults/start ', 'realize', 'shelf', ')))))))', 'twice', 'chicken', 'anygirl', 'distance', 'yepper s', 'Care', 'telling', 'dojn', 'saw', 'brady', 'surf', '!!!!!!!!!!!!!!!!', 'tom', 'dik', 'bisexual', 'dentist', 'thje', 'bites', '1012.', 'impressed', 'novel', 'noooooooooo', 'QUIT', 'U110', 'dawg', 'label', 'Ah', 'sleeping', 'hahahhahah', 'YES', \"''\", 'paradis', 'affairs', 'seen', 'U53', 'sugar', 'sneak', 'People', 'brothers', 'intelligent', 'purty', 'mistake', 'weight', 'getting', 'luck', 'definitely', 'originally', 'biyatch', 'cya', 'alohaaa', 'meat', 'Plssss', 'Kiss', 'takes', 'pics', 'PMs', 'affari', 'willy', 'freak', 'Who', 'studio', 'eww', 'maine', 'Chat', 'toenails', 'wall', 'action', 'here', '55.', ':beer:', 'started', 'Shakin', 'Whore', 'test', 'bug', 'chucking', 'commanded', 'HolocaustYourMom', 'U138', 'U10', 'Obviously', 'Fingers', 'AWAY', '[[[[[[[[[[[[[[[[[[', 'livin', 'poll', 'Yikes', '7:45', 'thru', 'actualy', 'cold', 'Length', 'Yeah', 'hiya', '!!.', 'comin', \"'ve\", 'oOo', 'soon', 'possibly', 'bummer', '\"...', 'once', 'chocolate', 'toledo', 'not', 'highway', 'tail', 'amen', 'want', 'sky', 'trouble', 'aww', 'despises', 'cast', 'gator', 'estra', 'fix', 'work', 'fired', 'part', 'spelled', 'U150', 'ridem', 'sauce', 'im', 'leave', 'whiteys', 'bothering', 'playas', 'Me', 'above', 'ihavehotnips', 'anytime', 'she', 'twin', 'Naples', 'U71', 'ladies', \"ol'\", 'stairs', 'Bwhaha', 'News', 'disgusting', 'turning', 'every', 'suffer', 'Aww', 'kind', 'sooo', 'comon', 'fellows', 'Okay', 'hehehee', 'hurling', 'shape', 'yessum', 'say', 'declaw', 'nah', 'mami', 'tries', 'family', 'tuesday', 'aligator', 'dildo', 'down', 'art', 'point', 'ewwwww', 'blowing', 'cool1024', 'Hahaaaa', 'U16', 'sevendust', 'ltnc', 'whatcha', 'kit', 'convo', 'cheer', 'slept', 'pic', 'spanked', 'official', '100%', 'U73', 'Long', 'carefully', 'biiiatch', 'SEE', 'hhaaaaatttee', 'fixed', 'asked', 'rofl', 'surgery', 'A', 'canadian', 'YOU', 'rush', 'nawt', 'thanksss', 'jar', 'OR', 'toe', 'defragging', 'Simple', 'hanging', 'green', 'ppolitical', 'whats', 'Patient', 'darwin', 'fawked', 'surfing', 'macho', 'hail', 'brooklyn', 'wonders', 'Midwest', 'hello', 'handy', 'smallfry', 'sincy', 'CanEhda', 'Cradle', 'know', 'untouchable', 'soothing', 'tu', 'U40', 'king', 'lovelies', 'politely', \"makin'\", 'hafta', 'Strapped', 'physically', 'tyvm', 'allo', '(((', 'spirits', 'lie', 'Ha', 'problem', 'lazy', 'Saturday', 'praying', 'gonna', 'pinches', '98.5', 'should', 'Upstate', 'ans', 'DO', 'For', 'U143', 'Borat', 'peek', 'ol', 'herd', 'homes', 'cos', 'match.', 'months', 'share', 'serious', 'files', 'this', 'boots', 'no-no', 'touches', 'neck', 'bored', 'Dew', 'othah', 'crying', 'scuse', '<~~~', 'U156', 'ewedding', 'Relax', 'beaten', 'cyclone', 'twisted', 'depressant', 'Lol', 'comps', 'U146', '-stay-', 'somehow', 'blooded', '?????????', 'drew', 'chanowner', 'doin', 'rememberer', 'yawn', 'lot', 'passing', 'xcitable', 'doors', ')))))))))', 'pms', 'hu', 'dummmm', 'pweeze', 'hr', 'Touching', 'AHAHH', 'tosses', 'oooOOOOoooo', 'laundry', 'Dr', 'grown', 'hear', 'Jason', 'title', 'hPa', 're', '!!!!!', 'fitness', 'U123', 'AHHAH', 'coffee', 'afk', 'ever', 'nuttin', '..(..', 'romantic', 'defrags', 'teasing', 'Have', 'empty', 'yooou', 'plenaty', 'xxxed', '..........', 'it', 'police', 'time', 'orange', 'Fergie', 'over', 'whip', 'Jonesboro', 'level', 'covers', 'ysssssssss', 'pulling', 'cusion', 'yours', 'Highway', 'shit', 'ello', 'sleepy', 'by', 'together', 'Cards', 'Its', 'suprised', 'Hello', 'cookies', 'goody', 'obviously', 'gottsa', 'TY', 'chatroom', 'depression', '=]', 'hehe', 'courst', 'b-day', 'warned', 'jammed', 'Stalker', 'IF', 'ty', 'GN', 'Track', 'aiiiiiiiiiiiiiiiiiiiiiiii', 'heyyyyyyyyyyyyyy', 'true', 'Rule', 'world', 'neighbor', 'asking', 'Come', ':tongue:', 'kong', 'dinner', '>', 'brought', 'might', 'promise', 'Again', 'wow', 'maddish', 'proper', 'mmmmmmmmmmmmm', '\"?', 'Tina', 'Round', 'turkish', 'bottle', 'teach', 'shes', 'sound', 'THE', 'They', 'heyyyyyyyyy', 'bless', 'heyyyy', 'World', 'smirks', 'PMing', 'slip', 'CAN', 'anti', '.(.', 'vamp', 'controlling', 'Scorpio', 'handle', 'frm', '-s', '53', 'spend', 'shakin', 'pisses', 'DING', 'Get', 'P.', 'f.b.i.', 'Nice', 'thnx', 'involved', 'alzheimers', 'ft.', 'buff', 'brain', 'Images', 'allowed', 'k-mart', 'piff', 'natural', 'were', 'bares', 'wha', 'workout', 'thomas', 'bacl', 'yout', 'run', 'moms', 'WEEEEEEEEEEEEEEEEEE', 'Pullin', 'eeekk', 'bandito', 'sweeeeeeeeet', 'eeewwwwww', 'distracted', 'house', \"yw's\", 'Eddie', 'unique', 'mah', 'youer', 'prays', 'beg', 'fraggle', 'jammies', 'HAHAHA', 'ring', 'Rooster', 'Chica', 'younger', 'cutes', 'dr', 'golf', 'byeee', '!???', 'wire', 'HUH', 'slap', 'resize', 'perked', 'jr', 'Amazingness', 'CHIPS', 'XXXXXXXXXX', 'cherry', 'going', 'Maidstone', '<3333', 'kansas', 'cramp', 'Watching', 'guessing', 'Mooooooooooooooooooooooooooo', ']:)', 'self', 'Male', 'lurch', 'boo', 'oatmeal', 'oxymoron', 'overtime', 'lagging', 'AROUND', 'invention', 'hmmmmm', 'Born', 'beer', 'tad', 'SAY', 'R', 'ogan', 'Boyz', 'Checked', '..............................', 'Froogle', 'apple', 'needy', 'moving', 'goes', 'center', 'Ack', 'soccer', 'attorney', 'U117', 'kev', 'oops', 'ignoring', 'pc', 'mmmmmmmmmmmmmm', 'pounces', 'handyMan', 'congrats', 'feeds', 'dum', 'haaa', 'geessh', 'adams', 'meant', 'cyb3r-lover', 'checkin', 'messages', 'club', 'joke', '46', 'minutes', 'mmmm', 'sweat', 'profiles', 'talk', 'spelling', 'friends', 'riding', 'turkey', 'liking', 'babble', 'stretches', 'ouch', 'indeed', 'told', 'female', 'drawn', 'holy', 'Morgan', 'dislocated', 'doubt', 'urs', 'teo', 'puter', 're-thinking', 'stay', 'grin', 'aloha', 'cigars', 'wee', 'odd', 'operator', 'U108', 'deceived', 'danny', 'firs', 'ere', 'bbs', 'geeshh', 'lapd', 'drinks', 'pervs', 'weird', '<<<<<', 'pictured', 'Reub', 'body', 'Tiff', 'bruises', 'Even', 'Type', 'dream', 'specials', '?....', 'stoned', 'limit', 'gals', 'throws', 'alohas', '............', 'Tense', 'today', 'agree', '!!!!!!!!!!!!!!!!!!!!!!!!!!!!!!!!!!!!!!!!!!!!!!!!!!!!!!', 'entitled', 'sharpie', 'aTerry', '1299', 'yall', 'obscene', 'violators', 'Playstation', 'canadaian', 'wicked', 'college', 'aok', 'mary', 'desire', 'sexi', '. . .', 'bigest', 'finished', 'url', 'Im', 'wind', 'pass', 'across', 'ben', 'cream', 'yoder', 'chats', 'picks', 'biggest', '*drools*', 'leaving', 'animal', 'online', 'Over', 'thoughts', '6:53', 'martini', 'addict', 'PMING', 'car', 'appleton', 'neither', 'females', ';p', 'bied', '45', 'louis', 'day', 'U97', 'crap', 'finally', '>:->', 'beanbag', 'JESUS', 'palmer', 'Dixie', 'Always', 'U103', 'fight', 'thx', 'n\"t', 'mark', 'become', 'fishercat', 'Ct', 'loss', 'charlie', 'prittier', 'Sunny', 'neone', 'bother', 'vega', 'doggies', 'fuck', 'housewife', 'hogs', 'city', 'bible', 'scorpion', 'mofo', 'Welcome', 'i', 'Benjamin', 'webcam', 'sense', 'clap', 'someday', 'soaked', '((((((((((((', 'pointing', 'ear', 'lick', '3:45', 'Talk', 'covered', 'cheap', 'The', 'yoko', 'churches', 'hop', 'canadain', 'MP3', 'chit', 'Is', 'paitently', 'answering', 'Muahz', 'pervert', 'grrrrrrrr', 'lolol', 'que', '59', 'affects', 'meet', 'typin', 'Only', 'BAAAAALLLLLLLLIIIIIIINNNNNNNNNNN', 'taste', 'elvis', 'Barometer', 'yayayayayyy', 'woooooooooaaaahhhhhhhhhhhh', 'sport', 'brat', 'Because', 'frankly', 'jk', '(((((((((((((((((((((((', 'Change', 'term', 'pure', 'retarded', 'RI', 'cat', 'graciously', 'smewchies', 'Whisper', 'period', 'pour', 'clue', 'reunion.', 'devil', 'assholes', 'cyb3r', 'tall', 'guns', 'yummylicious', 'Fixed', 'settle', 'teh', 'yesterday', 'hugsssssssss', 'reasons', 'Fails', 'n;t', 'vetrabrate', 'fillin', 'SSRI', 'co op', 'pwns', 'hb', 'Denver', 'mountain', 'b4', 'terrible', 'chattanooga', 'themselves', 'heeee', 'ashamed', 'cepn', 'sweetie', 'scopes', 'U126', 'Oy', 'wishes', 'shine', 'hold', 'o0o', 'nickname', 'sigh', 'jerkettes', 'kitty', 'worries', 'days', 'disc', 'begin', 'b', 'outrageously', 'shup', 'poorrr', 'gum', 'profilrs', 'noth', 'caca', 'weeeeeeeee', 'barrel', 'presume', '13', 'aussie', 'scared', 'see', 'made', '>>>>>>>>>>>', 'hmmmmmmm', 'yerself', 'pine', 'heyyyyyy', 'republican', 'figure', \"pro's\", 'furniture', 'THAT', 'Hay', 'wiltou', 'o_0', 'singer', 'forgotten', 'id', 'Paxil', 'TRUTH', 'bein', 'little', 'Reminder', 'jackie', 'find', 'our', 'jacking', 'de', 'within', 'Record', \"'\", 'pujols', 'wedding', 'easier', 'famous', 'space', 'perv', 'atl', 'awwwwwww', 'ssi', ';-)', '((((((', 'coast', 'prob', 'frozen', '??!?!??!', \"passin'\", 'the', 'Cardinals', 'Away', 'pming', 're-think', 'U113', 'apartment', 'lamborgini', 'client', 'Last', 'D', 'Wb', 'Rofl', 'metallica', 'H', 'enuff', 'twit', 'from', 'dixie', 'snowy', 'David', ')))))))))))))))))', 'Point', 'difference', '*smewchies*', 'frown', 'agurlwithbigguns', 'kewl', 'definately', 'hurr', 'al', 'date', 'whiskey', 'wean', 'glitches', '-', 'truck', 'gas', 'cook', 'skateboard', 'interesting', 'gezzz', 'cuddlicious', 'antidepressants', 'left', 'knw', 'callifornia', 'unisom', 'chatter', 'latina', 'Until', 'RULES', 'til', 'snort', 'du', 'shaun', 'adds', 'ms.', 'jokes', 'need', 'Jayse', 'U61', 'haze', 'mowin', 'another', 'took', 'knock', 'shows', 'harder', 'perved', 'pervin', 'toke', 'cramps', 'babies', 'totally', 'sexiest', 'cover', 'nostrils', 'Down', 'hives', 'relation', 'arizona', 'earplugs', '20.', 'Show', 'O.k.', 'Supreme', 'mmmkay', '8', 'third', 'lag', 'pounce', 'apron', '#talkcity-20s', 'Indiantown', 'ny', ':D', 'console', 'pokes', 'capable', 'cutie', 'mum', 'farmer', 'Drew', 'An', 'alot', 'cuppers', 'pocket', 'seem', 'attention', 'leakin', 'U19', 'pet', 'let', '93%', 'soo', 'U8', 'martinis', 'Horace', 'leading', 'wth', 'ta', '<---', 'Filth', 'sand', 'sleep', '65%', 'type', 'INTERESTING', 'bike', 'system', 'tazzmaniane', 'worry', 'U197', 'election', 'icky', 'PEOPLE', 'grrl', 'brown', 'G', 'carry', 'hmmm', 'ominous', 'ahem', 'inside', 'hio', 'snores', 'yeas', 'Booyah', 'Carolina', 'nyc', 'Richard', 'couch', 'dating', 'Hey', 'chip', 'concerning', 'ahh', 'TYPR', '-17', 'during', '1.99', '......', 'anyhow', 'lies', 'italy', '43', 'sheepishly', 'sea', 'senor', 'hola', 'usually', 'needer', 'U76', 'burps', 'umm', 'believe', 'anyways', 'claire', 'cooler', 'cmon', 'shook', 'quiet', 'md', 'talks', 'lotta', 'bend', 'tryina', '!!!!!!!', 'lubbs', 'Ciara', 'victims', 'eskimo', 'tounge', 'PErvs', 'pictures', 'Flames', 'DON', 'muscle', ';', 'gigantic', 'coherent', 'easy', 'beachhhh', 'BUt', 'corny', 'mwahhss', 'heat', 'com', 'bikini', '6:51', 'cyber.', '((((((((', 'Hummmm', 'sleeps', 'oopps', 'appears', 'anymore', 'builds', 'U25', 'chunks', '--------------------', 'Kick', 'refrain', 'lookin', 'dork', 'Michigan', 'shore', 'Heya', 'slipping', 'No', 'air', 'U86', 'quizes', 'choke', 'stranger', 'darling', '.).', 'ASS', '39.3', 'caan', 'sustaining', 'FROM', 'vomiting', 'ladis', 'euphamisms', 'traffic', 'kool', '75', '????????', 'Advisory', 'depeche', ':p', '=p', 'dem', 'U90', 'hoi', 'freeeezinggg', 'please', 'depends', '700', 'women', 'nude', 'Eggs', 'spins', 'n9ne', 'spit', 'mike', 'gurlie', 'whupped', 'co', 'cuteness', 'snorts', 'burpin', 'nurse', 'chokes', 'homosexual', 'every1', 'exwife', 'BOOTY', 'purple', \"miss'n\", 'lurkin', 'U92', 'bi', 'willie', 'morbidly', 'flavors', '60s', 'adreniline', 'chant', 'marked', 'scrolls', 'Rascal', 'Dreams', 'mirror', 'fongul', 'jeep', 'iz', 'Anyone', 'trying', 'tightly', '?..', 'ono', '~blusherZ~', 'This', '55%', 'ing', '!!!.', 'feel', 'who', 'asks', 'pull', 'mmmomom', 'pretend', 'e-herpes', 'seeee', 'outta', 'sry', '#40sPlus', 'U141', 'local', 'remembah', 'chococake', 'nudes', 'Bud', 'U120', 'nicer', '>>>>>>>>>>>>', 'favorite', 'whisper', 'nu', 'mising', 'AGAIN', 'York', 'pit', 'lasts30', 'h', 'peel', 'U542', 'track', 'development', 'arrived', '57', 'lingo', 'flavor', 'sympathies', 'C', 'e', 'Memory', '20s', 'dollars', 'goodnite', 'mode', 'Lime', 'wasnt', 'is', 'all', 'babycakeses', 'wisconsin', 'heyyyyyyyyyy', 'italians', 'Quarter', 'heart', 'drunk', 'conversion', 'MRIs', 'kissy', 'proud', 'School', 'messenger', 'nce', 'safe', 'tooooooooooo', 'yeee', 'benz', 'red', 'studied', 'Ahh', 'ABOUT', \"talkin'\", 'Martian', 'laugh', 'JRZ', 'TO', 'Drop', 'U105', 'his', 'U196', 'F', 'us', 'tapes', 'Diary', 'elsewhere', 'polllution', '20', 'head', 'girlfriend', 'popular', '>.>->', 'goooooo', 'weigh', 'barely', 'complains', 'Chris', 'Ima', 'banjoes', 'U130', 'Offspring', 'waits', 'but', 'shoppin', 'darlin', 'leaves', 'kmph', 'stick', 'Phil', 'Florida', 'cho-co-late', 'deals', 'bishes', 'ballin', 'gift', 'root', 'use full', 'mind', 'supposed', 'dropped', 'nawwww', 'sucker', 'rashes', 'eye', 'muahz', 'Hmm', 'harley', 'arrange', 'weather', 'leaders', 'And', 'hater', 'cho-co-la-te', 'Trivium', 'Mercy', 'Yo', 'screamo', 'as', 'hahahahahaha', 'Ceiling', 'adjusts', 'Wow', 'erics', 'dog', 'houses', 'VVil', 'dsklgjsdk', 'condition', 'eighth', 'sunny', 'trippy', 'wheres', 'wack', 'column', 'wood', '38', 'U37', 'pants', 'roof', 'streetcar', 'crashed', 'bag', 'td', 'jerk', 'fallz', 'lurks', 'growing', '98.6', 'fat', 'coat', 'Thank', \"'m\", 'horse', 'trapped', 'mono', 'spiff', 'wore', '31', 'hon', 'gooo', 'Bible', 'LoVe', 'Heyy', '>>>>>>>>>>', 'Rang', 'tc', 'swing', 'teacher', 'hey', 'cause', 'BOY', 'couldnt', 'U56', 'Zebrahead', 'listening', 'standin', 'pleez', 'coonarsee', 'swallow', 'scramble', 'omnious', 'helpful', 'placce', 'husband', '68%', 'roaring', 'chilly', 'experience', 'shaken', 'regularly', 'sheesin', 'U23', 'magical', '((((((((((((((((((', 'Can', 'bahahahaa', 'w/b', 'FEMALE', 'rest', 'filled', 'O', 'Ctrl', 'strickly', 'woof', 'hugsss', 'Yes', 'possum', 'sticking', 'suprise', 'byb', 'davis', 'enough', 'nakey', 'deal', '#talkcity_adults', 'rumours', 'right', 'christianity', 'store', 'Ruth', 'perving', 'nightie', 'Truth', 'U66', 'talking', 'Bonus', 'Hi', 'stated', 'imagine', 'btw', 'boed', 'sowwy', 'hit', 'near', 'break', 'Rock', 'used', 'monday', 'results', 'hmmmmmmmm', '396', 'partial', 'horrid', 'send', 'HE', 'could', 'rocker', 'whoever', 'Salesman', 'Our', 'prisoner', 'blueberry', 'argh', 'f.', 'salsa', 'pos', 'Of', 'NY', 'impaired', 'Kellogs', 'exchanging', 'ELSE', 'burp', 'Constitution', 'pleaseeeee', 'catches', 'paid', 'bbiam', 'beside', 'GIRL', 'dude', 'stores', 'U142', 'doodle', 'radio', 'cute', 'Jeter', 'fighter', 'hmmmm', 'giving', 'constituents', 'nonsense', 'fetterline', '73%', 'him', 'wut', 'poof', 'kitten', 'current', 'Oops', 'St', 'pssst', 'DIRTY', '))))))))', 'UFC', 'kid', 'extras', 'stealing', 'Kent', 'games', 'Craig', 'lube', 'abide', 'Howdy', 'hugss', 'perverted', 'excuuuuuuse', 'respect', 'suffers', '*waves*', 'God', 'FOLKS', 'correction', '18ST', 'pokin', 'story', '<-', 'o0', 'Music', 'sighs', 'pleased', '(((((', 'imma', 'whewwwwww', 'belly', 'U98', 'first', 'Fishers', 'phone', 'nods', 'items', 'holiday', 'elbows', 'drifter', 'Niceeeee', 'word', 'spring', 'didnt', 'sure', 'lmaoo', 'sometime', 'teeth', 'Spank', 'forward', 'px', 'deeply', '85%', 'supervisor', 'settles', 'fool', 'egg', 't/c', 'three', 'words', '=O', 'QUESTION', 'U45', 'through', 'next', 'pathetic', 'series', 'heyyyyy', 'Sexy', 'forwards', 'Judy', 'flesh', 'fella', '#prideIsland', 'beleive', 'Will', 'shoulders', '28', 'lovers', 'fish', 'worst', 'fabric', 'IRC', '<----------', 'stocks', '!', 'aaaaaaaaaaaaaaaaa', 'Pic', '. ...', 'gomer', 'rockies', 'french', 'ooooooo', 'control', 'Everytime', 'yourself', 'Slip', 'april', 'hooo', 'front', '???????', 'Whistlin', 'MD', 'concernin', 'humid', 'draw', 'soft', 'abs', 'puzzles', 'bumper', 'heavens', 'jesus', 'round', 'clearly', 'askin', 'whoopZ', 'chick', 'screen', 'sexs', 'think', 'else', 'fascist', 'killing', 'Troy', 'o.0', 'wooooohoooo', 'donuts', 'mature', 'yep', 'form', 'minute', 'dobson', 'U55', 'eyes', 'Go', 'them', 'cops', 'gimp', 'bulls', 'laterssss', 'poot', 'Ghetto', 'australia', 'www.Wunderground.com', 'AND', 'gently', 'Something', 'Permenant', 'givs', 'mine', 'prison', 'suked', '1', 'get', 'appear', 'betrayal', 'Dr.', '.........', 'ca', 'clear', 'yess', 'brunswick', '*sniffs*', 'fav', '(((((((((((((', 'l', 'cessation', '-21', 'Drive', 'mittens', 'flight', '.;)', 'sup', 'lmaoooo', \"rollin'\", 'contagious', 'looked', 'nationality', 'any', 'Jordison', 'mothers', 'play', 'wakes', 'price', 'Ooo', 'anyyyyyyyyyyyyyyyyy', 'Puddle', 'ground', 'bouncers', 'lovin', 'losted', 'LONLEY', 'Perception', 'anxiety', 'f*cktards', 'mopeds', 'tabasco', 'trippin', 'truss', 'dated', 'spending', '<----', 'list', 'OK', 'CALI', 'hardware', 'Chop', 'teachers', 'read', 'ex', 'summon', '?', 'change', 'whore', 'doctor', 'themselvs', 'himself', 'total', '4:03', 'pillow', 'nic', 'tonawanda', 'U115', 'yrs', 'nj', 'cris-cross', 'itch', 'make', 'weasel', 'yahoo', 'lez', 'Through', 'Hungry', 'males', 'yet', 'yvw', 'blech', 'blood', 'razor', 'george', 'quick', 'K', 'special', 'Money', 'johnson', 'CA', 'detroit', ')))))))))))', 'yes.', 'theory', 'Roadrunner', 'sw', 'chews', 'win', 'felt', 'named', 'shortage', 'P.ussy', 'jush', 'anybody', 'lthen', 'flashed', 'trolls', 'whipped', ':P', 'bound', 'Would', 'paxil', 'ribs', 'non-smoker', 'untouched', 'tell', 'DONT', 'ryaon', 'differently', 'howdy', 'gagas', 'dissing', 'aside', 'flaw', 'Kids', 'Lampert', 'roses', 'homeboys', '24', 'wife', 'pppppppppppew', 'behave', 'tongue', 'further', 'troll', 'genital', ':blush:', 'reality', 'chinese', 'garciae', 'bikes', 'makes', 'limits', 'massage', 'quiz', 'whereabouts', 'wears', \"sayin'\", 'hour', 'hotties', 'bunny', 'Paul', 'nyone', 'sposs', 'flower', 'ducking', 'grope', 'DETROIT', 'Lion', '3333333', 'singing', 'U0', 'meds', 'sorta', 'pad', 'something', 'would', 'tuned', 'woohoo', '27', 'cnnecticut', \"pm's\", 'cries', 'danger', 'USA', 'memories', 'clicked', 'GOING', 'bc', 'Hard', 'straight', 'flavour', 'immersed', 'bounced', 'altar', 'fragged', 'many', 'Ohh', ')?', 'whjat', 'wear', 'worse', 'doesnt', 'relaxes', 'paints', 'arm', 'repeating', 'post', '!!!!!!!!!!!!!!!!!!!!!!!!!!!!', 'periodically', 'wel', 'build', 'stories', '*WOW*', 'newspaper', 'making', ',', 'hissy', 'wants', 'peolpe', 'U144', 'kicked', 'Love', 'innocense', 'fliuds', 'sex', 'eeeek', 'Up', 'naughty', 'jammers', 'fawker', 'hint', 'cyas', 'Yarrrr', 'shorter', '<33333', 'dumbass', 'shower', 'Harmony', 'cookie', 'ltnsea', 'burger', 'Eastern', 'means', 'U43', 'have', 'out.', 'smirkz', 'Covered', 'double', 'welome', 'maniacal', 'whatca', '57401', 'Finding', 'humm', 'Anyway', 'pink', 'children', 'talkcity', 'neighborhood', 'aggravated', 'U820', 'probably', 'backup', 'TALK', 'knocked', 'Shinedown', 'abortions', 'suppose', 'service', 'widow', 'definitley', 'ohhhh', '(((((..', 'Please', 'boning', 'e-v-e-r-y', 'U155', 'edgewood', 'asthma', '-...)...-', 'besides', '.......', 'rape', 'geez', 'nads', '@', 'sister', 'rowdy', 'whisling', 'drawers', 'es', 'rolls', 'hiding', ':)', 'U30', 'Very', \"shinnin'\", 'too', 'daft', 'accent', 'sit', 'mcgraw', '####', 'sigur', 'mkay', 'alotta', 'Yay', 'herself', 'old', '6:41', 'kept', 'NICK', 'Playing', 'gf', '?!', 'yelling', 'courtney', 'girl', 'In', \"n't\", 'roller', 'bouncer', 'wat', 'Fisher', 'waters', 'shocks', 'credit', 'whistles', 'lose', 'touchy', 'elevation', 'Salut', 'starting', 'remembers', 'She', 'resisting', 'boyfriend', 'enuf', 'wins', 'scuk', '~winkZ~', 'hx', '!??', 'scar', 'hhehe', 'http://www.shadowbots.com', 'wrecked', 'research', 'Just', '.. .', 'floor', 'goodie', 'seuss', 'tks', 'Kittie', 'scorpio', 'Current', 'liked', 'senseless', 'lunch', 'accident', 'called', 'thinkin', 'born', 'IN', 'SHOWS', 'Tigers', 'racist', 'escaped', 's', 'jw', 'Oklahoma', 'Barbieee', 'THERES', 'Joey', 'awwwwwwwwww', 'guitar', 'now', 'voter', 'aware', 'immediate', 'poooland', 'missin', 'lipstick', 'inheritance', 'multitasking', 'ops', 'hat', 'U11', 'naked', 'U121', 'mostly', 'orta', 'trip', 'with', 'ooopppps', 'peeps', 'hmmmmmmmmmm', 'Catterick', 'doody', 'cums', 'perth', 'then', 'oooh', 'offensive', 'moped', 'midgets', 'puke', 'win win', 'thumb', 'swelling', 'annoying', 'fuckin', 'welll', 'searching', 'confessed', 'Observed', 'breathe', 'national', '!!!!!!!!!!!!!', 'husteling', 'babe', 'payday', 'jujubees', 'City', 'WA', 'yada', 'aching', 'co-op', 'yes', 'scary', 'hickory', 'fallout', 'jimmy', 'Aw', 'MORE', 'barn', 'Bloooooooood', 'switch', 'paragraph', 'Edgewood', 'awhile', '10th', 'yu', 'Amy', 'desert', 'U119', 'parents', 'STALLION', 'spark', 'cheep', 'nelson', 'comprende', 'surprise', 'lool', '(((((((((((((((((((((', 'WOW', 'mom', 'bossy', 'este', 'Jess', 'rose', 'PS', 'hassle', 'P', 'TC', 'yr', 'computor', 'U78', 'humor', 'falls', 'harsh', 'ride', 'mhm', 'tacoma', 'attracted', 'shouldve', 'lover', 'pounds', 'calling', '18', 'huggs', 'heeheeheeheeheehee', 'swim', 'ahhhh', 'excitement', 'invisible', 'recently', 'pursued', '(((((((((((((((((', 'specialist', 'graphics', 'dance', 'two', 'drive', 'shpwing', 'typo', 'fu', 'access', 'Jones', '2', 'ran', 'Space', 'smack', 'babi', 'wuuppin', 'splenda', 'capab;e', 'o', 'Sat.', 'fck', 'bought', 'interruption', 'wansta', 'steak', 'horrible', 'brass', 'suck', 'bit', 'scrabble', 'tellin', 'pro-se', 'call', '(((((((((((((((((((((((((', 'shhhh', '(.', 'backfrontsidewaysandallaroundtheworld', 'wildcard', 'ck', 'everbody', 'luvs', 'hav', 'closes', 'U87', 'leg', 'lake', '<3', 'large', 'omg', '8082653953', 'name', 'bugs', 'subscriptions', 'whud', 'deop', 'entertaining', 'arms', 'Wainwright', 'checking', 'arent', 'teens', 'Biographys', 'attic', 'gained', 'only', 'cupper', 'controll', '<<<<,', 'Uhhh', 'land', 'tastes', 'mp3', 'Cry', 'dl', 'band', 'brrrrrrr', 'hope', 'elbowS', 'sent', 'times', 'lisa', 'Nope', 'EVERYTHING', 'van', 'impared', 'pa', 'hahahaHA', 'fear', 'OF', 'S3x0r', '39', 'sooners', 'blow', 'sink', 'seat', 'intersting', 'Niceeee', 'THEY', 'holdin', 'pointer', 'hoping', 'yo', 'blank', \"'ello\", 'mite', 'yow', 'Washing', 'nails', 'Red', 'Meh', 'recall', 'Cream', 'London', 'Hott', 'denial', 'currious', 'Unboring', '; ..', 'fl', 'nicks', 'kness', 'charger', 'pmsl', '!?', 'tx', 'religion', 'even', 'euphemism', 'after', 'U145', 'early20s', 'Lord', 'always', 'big', 'except', 'forgets', 'wearing', 'proocessing', 'From', 'Jane', 'around', 'LOLOLOLLL', 'p u s s y', 'virginity', 'lil', 'sunset', 'Are', 'chatting', 'running', 'huuuuuuuuuuuuuuuuuuuuuuuuuuuuuuuuuuugZ', '1996', 'keep', 'AOL.COM', 'H0rny', 'noting', 'dayum', '56.', 'pick', 'PmS', 'admit', 'bright', 'U89', 'United', 'deciding', 'line', 'allow', 'sexcite', 'gurls', '14-16', \"k's\", 'jeans', 'GNG', 'mass', 'wasup', 'Norfolk', 'Cool', 'ahahah', 'plus', 'BIG', 'ugh', 'abourted', 'comenting', 'whispering', 'U106', 'folks', 'complicated', 'soy', 'U50', 'came', 'T-Mobile', ')))))', 'dispatcher', 'whisperer', 'hoo', 'guys', 'hang', 'gettin', 'thristy', 'beats', 'o_O', 'than', 'ass', 'trout', 'wv', 'log', 'Alaska', 'coughs', 'Unlimited', '56', '17', 'lawl', 'But', '453', '-6', 'when', 'scum', 'caiuse', 'u550436035', 'cry', 'juice', 'aqwesome', 'GUYS', 'laughs', 'Here', 'start', 'finers', 'Mom', 'Snake', 'Not', 'trash', 'blue', 'o.o', 'casts', 'balance', 'Fix', 'shocked', 'also', 'jeff', 'rooms', 'niteeeeeeeeeeeeeeeeeee', 'given', 'Rutger', 'no', 'nickleback', 'grade', 'snow', 'cup', 'mother', 'Nothing', 'wouldnt', 'hott', 'butterscotch', 'recovering', 'courtesy', 'Daniel', 'carrying', 'pay', 'syck', 'lung', 'oil', 'U104', 'categories', ';]', 'plently', '!!!!!!!!!!!', 'byeeeeeeeeeeeee', '<<<', 'gives', 'thanksgiving', 'ho', 'thing', 'nerd', 'sleepin', 'biebsa', 'criss', 'faints', 'tackles', 'did', 'boss', 'U99', 'hyy', 'lets', 'ghet', 'poeple', 'taken', 'fucking', 'sucking', 'splelnig', 'box', 'tock', 'farts', 'Heyyyyyyy', 'mena', 'monsters', 'heeeey', 'orders', 'hii', 'Older', 'Break', 'Whitesnake', 'nakie', 'bagels', 'affair', '))))', 'army', 'Teck', 'knew', 'rum', 'boi', 'valiant', 'everything', 'Dood', 'people', 'note', 'yap', 'asnwer', 'repeats', 'cams', 'bus', 'torah', 'conversation', 'fettish', 'buffalo', 'open', 'goof', 'bout', '#', 'grammar', 'gags', 'we', 'Finally', 'Pierre', 'roll', 'anithing', 'homeade', 'incoming', 'scarecrow', 'tlak', 'gay', 'sumfin', 'U172', 'TIME', 'schlep', 'profile', 'shell', 'Sorry', 'can', 'hangs', 'SINGLEEEEEEEE', 'Road', 'hug', 'disease', 'sick', 'Fairbanks', ']]]]]]]]]]]]]]]]]]]]]', 'much', '//www.wunderground.com/cgi-bin/findweather/getForecast?query=95953#FIR', 'biatch', 'pool', 'aka', 'Or', 'weed', 'bomb', 'Life', 'idiot', 'dyed', 'dreaded', 'golden', '25', 'upset', 'Poor', 'deleware', 'nuff', '!!!!!!!!!!!!!!!!!!!!!!!!!!!', 'wooooooooooooohoooooooooooooooo', 'msn', 'thah', 'U9', 'puhleaze', 'known', 'ewwww', 'at', 'financial', 'pours', 'mixed', 'dint', 'yum', 'ontrobution', 'rider', 'PRIVMSG', 'WHOA', 'happpy', 'zzzzzzzz', 'Rick', 'feelings', 'y/w', 'gettign', 'Night', 'ooeer', 'figured', 'spin', 'gone', 'descriminate', 'moment', 'tjhe', 'withing', 'Jon', 'shoot', 'llloooozzzzeeerrrrzzzzzzzzzzzzzzzzzzzzzzzzzzzzzzzzzzzzzzzzzzzzzzzzz', 'girls', 'position', 'Chickens', 'trashed', 'ignored', 'wheel', 'lolololll', 'woo', 'oO', 'answer', 'kneess', 'nights', '10', 'puts', 'AKST', 'Compliments', 'EVEN', 'chatland', 'carpet', 'matrix', 'identity', 'later', 'idnt', 'byeeee', 'shrugs', 'home', 'ms', 'ltr', 'Course', 'buy', 'mwahhs', 'late', '30.', 'brbbb', 'lying', '^^', 'bull', 'Troll', 'really', 'isnt', 'gal', 'hooooo', 'matter', 'AKDT', 'hom', 'ME', 'Live', 'Boone', 'yay', 'yummy', 'o.O', 'smoke', '!!', 'rich', 'dahlin', 'How', 'beach', 'dratts', 'myself', 'borderline', 'age', 'closet', 'blinks', 'crack', 'downloaded', 'phylosipher', '185', 'U49', 'topless', 'John', 'NAME', 'pissing', 'Someone', 'tooo', 'says', 'lixxx', 'heard', 'To', 'heading', 'GrlZ', 'suree', 'insuklting', 'San', 'remove', 'iamahotnipwithhotnippics', 'expression', 'okies', 'reached', 'information', 'idiots', 'trials', 'hI', 'which', 'Food', ')', 'seconds', '2nd', 'Gosh', 'perfect', 'Hug', 'Metallica', 'reallly', 'stupid', 'South', 'AFK', 'New', 'hunters', 'kep', 'foreplay', '46.', 'Yea', 'BOOTS', 'U81', 'aberdeen', 'manners', 'geeZe', 'advice', 'dick', 'jajajaaa', 'idea', 'carolina', 'guard', 'thrown', 'aim.com', 'john', 'Niters', 'goodnight', 'GA', 'poor', 'j/k', 'Song', 'geeshhh', '?.', 'll', 'whoaaaaaaaaaaaa', 'louisianna', 'hmm', 'illinois', 'chopped', 'gaspppp', 'Holy', 'High', 'PERVS', 'Coincidence', 'chocha', 'burned', 'tracey', 'washington', 'e1', 'drank', 'prime', 'key', 'saME', 'if', 'Time', 'visual', 'heaven', 'talkiing', 'using', 'season', 'quit', 'We', 'freeezinggggg', 'thows', 'judge', 'names', 'ticket', 'SYNDORME', 'mexicans', 'peanut', '>?', 'water', '73042', 'miiiiiinnnnnnnnnneeeeeeee', 'hide', 'died', 'tiff', 'tory', 'doc', 'frags', 'ways', 'enters', 'Maps', 'handing', 'Apparently', 'Dawn', 'deeper', 'shoes', 'Your', 'evah', '1930', 'fucks', 'Thugs', ':-o', 'Cum', 'shot', 'hendrix', 'mexican', 'video', 'Added', 'nasty', 'disagree', '16', 'posts', 'febe', 'Roses', 'hugzzzzzzz', 'winks', 'pepper', 'moron', 'dear', 'MSN', 'sell', 'men', 'teenagers', 'boom', 'yepper', 'wana', 'knockin', 'X', 'spat', 'conway', 'revolving', 'Raymond', 'neysa', 'Tyrese', 'virgin', 'reach', 'young', 'Zyban', 'cline', ',,,', 'nut', 'registration', 'cares', 'therapy', 'Painted', 'CST', 'loved', 'takers', 'SOMETHING', 'ciggareets', 'physical', 'thinking', 'lap', 'NC', 'specalily', 'baby', 'chase', 'MY', '2:55', 'sho', 'Wednesday', ')))))))))))))))))))))', 'riiiight', 'candy', 'virginal', 'stressed', 'moves', 'Oh', 'impossible', 'e-bay', 'Messaging', 'buses', 'sorry', 'geeze', 'bluer', 'hawt', 'hopin', 'clothes', 'asl', 'crib', 'feeling', 'lol.', 'sumpin', 'howl', 'email', '.)', 'Deep', 'good', 'Turn', 'outs', 'short', 'woods', 'Dakota', 'starts', 'Omg', 'cheaking', 'hugs', 'U95', 'U168', 'cereals', 'five', 'U82', 'fault', 'kids', 'wings', 'lmfao', 'honesty', 'yesh', 'gente', 'recognize', 'react', 'welcomes', 'gold', 'raarrrrrr', 'recieve', 'psh', 'situation', 'die', 'sweetshybbw', 'stop', 'James', 'thanks', 'shut', 'remain', 'kinky', 'Ladies', 'U158', 'end', 'exchange', 'SOME', 'eva', 'nick', 'ohhh', 'yards', '47', 'Foley', 'keeps', 'was', 'd=', 'half', '100', '11', 'ken', 'byeeeeeeee', 'Nooooooooooooooo', '06.', 'platform', 'yoghurt', 'suggested', 'waitin', 'whose', 'strange', 'changed', 'anal', 'sleepover', 'U70', 'MATCH', 'yard', '!!!!!!!!!!', 'office', ')))))))))))))))))))', 'x', 'somewhere', 'DAMN', '3~<-..4@.', 'pouts', 'cute.-ass', 'THERE', 'do', 'CUZ', 'invite', ';)', 'Dying', 'licks', 'dontcha', '--', 'moanin', 'hill', 'quarrel', 'LATE', 'saratoga', 'spain', \"ok'd\", '50', 'crowded', 'LuverZ', 'sucked', 'fo', 'Hero', 'goodbye', 'somebody', 'border', 'fart', 'popper', 'diseast', 'Why', ',,,,,,,', 'horny', 'smax', 'WHEN', 'one', 'decent', 'PART', 'kisses', 'promoter', 'single', 'Ahhh', 'go', 'legs', 'heyy', 'Been', 'gotaa', 'opportunity', 'climate', 'grettings', 'hahahaha', 'armtnpeat', 'internet', 'dman', 'Awww', 'lacking', 'boinked', 'ROFL', 'douche', 'mame', 'fwd', 'sassy', 'florida', 'arrested', 'Soilwork', 'moths', 'to', 'others', 'lyin', 'welcome', 'Nashville', 'beeehave', 'whou', 'creative', 'babes', '.(..(.vMp3 v1.7.4.).)', 'U169', 'week', 'exactly', 'washboard', 'tart', 'beckley', 'Connecticutt', 'booty', 'kiss', 'diego', 'handsome', 'Visit', 'M', 'yah', ':-(', 'lois', 'particular', 'msners', 'own', 'rumour', 'e-husband', 'Prof', 'offence', 'arround', 'beam', 'cost', 'winter', 'smile', 'Gothic', 'comp', 'gtg', 'johny', 'Splashing', 'watches', 'naughtier', 'rey', 'miles', 'such', 'pain', 'things', 'Liam', 'christian', 'ooh', 'quistion', 'woot', 'WANNA', 'blade', 'coffe', 'AI', 'Children', 'scroll', 'giggling', 'bootay', 'haw', 'way', 'Room', 'rough', 'howz', 'hard', 'Chingy', 'Steel', 'playstation', 'crossed', 'guy', 'You', 'cars', 'shane', 'sheep', 'uuuhhh', 'permission', 'U64', 't', 'awwww', 'tootsie', 'bak', 'ditto', 'wash', 'fuddahnut', 'shopgirl', 'comfy', 'Do', 'drinking', 'sprays', 'aw', 'U107', 'kawing', 'West', 'topics', 'pot', 'hheeyyy', 'r', \"c'm\", '247', 'shades', 'be', 'cannot', 'fire', 'munches', 'MsUtah', 'thanx', 'havin', 'cell', 'insanity', 'asshole', 'sits', 'holla', 'cousin', 'Depends', 'small', 'birfday', 'bra', 'headed', 'pension', 'eeek', 'booted', 'set', 'Eyes', 'rock', 'U190', 'choco', 'china', 'ya', 'doupt', 'computers', 'gray', 'nc', 'ages', 'HHEEYYYYYYYYYYYYYYYYYYYYYYYYYYYYYYYYYYYYYYYYYYYYYYY', 'faint', 'cough', '.............', 'hahaha', 'case', 'pills', 'dunno', 'splains', 'It', 'mmhmm', 'Norah', 'counts', 'U13', 'included', '-->', 'sips', '2Pac', 'Kewl', 'turn', 'chronic', 'daughter', 'mspace', '))))))))))', 'fantasy', '??!!', ')))))))))))))', 'flattered', 'forgot', 'la', 'streched', 'pussy', 'mainland', 'Diego', 'MISHAP', 'mmmmmmmmiiiiiiiiinnnnnnnnneeeeeeee', '!!!!!!', 'sp', 'Swackhammer', 'grea', '))))))))))))', 'herE', 'unless', 'well', 'mouse', 'trust', 'amy', 'stand', 'history', 'Apocalypse', 'f**kalicious', 'yucky', 'marilyn', 'NTMN', 'alterz', 'drug', 'place', 'Oak', 'U21', 'drivers', \"e'wjfghky\", 'twizted', 'pvt', 'bandsaw', 'youre', 'ifr', 'san', 'whhhooooo', 'plow', 'planned', 'tthe', 'played', 'enter', 'Silent', '20S', 'dogs', \"y'\", 'Groups', 'itches', 'strait', 'google', 'timing', 'SIZE', 'eric', '=(', 'DJ', 'ssid', 'massaged', 'ahhhhhhhhhhhhhh', 'wowsa', 'Define', 'chuckle', 'lost', 'VIRGINIA', 'Tide', 'woooohoooo', 'lesson', 'rob', 'freaking', 'Everyone', 'chair', 'paste', 'dryer', 'waz', 'k', 'doll', '*hugs*', 'iamahotniplickme', 'Bye', 'watchin', '^_^', ',,', 'love', 'shorty', 'though', 'great', 'norny', 'pmers', 'hiy', 'raed', 'Remember', 'Nevermind', 'smart', 'Well', 'junk', 'shall', 'hehehe', 'behind', 'literature', 'rang', 'git', 'heal', 'aussies', 'Sup', '(((((((((((((((', 'frst', 'hearing', 'pasties', 'manhattan', 'close', 'notes', 'tennessee', 'burryed', 'seriously', 'softener', 'U4', 'wanan', 'hiYas', 'rapidly', 'backatchya', 'ky', 'attraction', 'meeeeeeeeeeeee', 'h.s', 'ago', 'Elev', '3', 'Nu', 'eeewww', 'U62', 'il', 'HOTT', 'welfare', 'weenis', 'dragged', 'themself', 'assumes', 'riiiiight', 'shivers', 'knuckles', 'margarita', 'stuff', 'royalty', 'FL', 'feat', ',,,,,,,,,,,', 'whatever', 'U34', 'Laters', 'Little', 'pseudo', 'offended', 'hahahah', '<<<<', 'hours', 'de-tubetop', 'bone', 'perfectionist', 'funny', 'butter', 'eroticaust', '$', '1980', 'Question', 'realise', 'will', 'harvest', 'fake', 'U39', 'issues', 'eh', 'Hughes', '((((((((((((((((((((((((((', '1985', 'muahhhhh', 'canned', \"N'T\", 'pies', 'combo', 'sec', 'classroom', \"O's\", 'boy', 'nickelback', 'HOT', 'RIGHT', 'blind', '<--', 'toes', 'FACE', 'U91', 'Cardnials', 'Hill', 'joining', 'WHY', 'My', 'accept', \"s'\", 'appologise', 'ft', 'watching', 'hertory', 'seeking', 'you', 'kina', 'microwave', \"'re\", 'fiddles', 'drugs', 'ahah', 'experimenting', 'nbc', 'dies', 'ther', 'walks', 'rolled', 'fractured', 'better', 'push', 'jerks', '14', 'yeppers', '147.7', 'beattles', 'min', 'Figured', 'chuckles', 'boost', 'HEY', 'cruise', 'youuu', 'laters', 'forwads', 'lix', 'male', 'bases', 'laffin', 'hahah', 'gun', 'crust', 'Cyber', 'fir', 'fit', 'wheeeeeeeeeeeeeeeeeeeeeeeeeeeeeeeeee', 'Pour', 'Doing', '1200', '))))))))))))))))))))))', 'ur', 'sux', 'simply', 'qwertyuiop', 'giva', 'eeww', 'england', 'U72', 'queen', 'Were', 'Whats', 'give', 'wellbutrin', 'hiiii', 'w', '<333', 'helloooo', 'hows', 'U35', 'simular', 'swamp', 'diggin', 'urself', 'yell', 'glad', 'hog', 'oatmel', 'seeing', 'Hugs', 'ARE', 'decades', 'employed', 'christ', 'WHISPER', 'country', 'smarter', 'boooooooooooglyyyyyy', 'exit', 'SEEN', 'ltns', 'fucker', 'Pat', 'YOUR', 'rocks', 'earrings', 'expect', 'dyslexic', 'pm', 'ally', 'actually', '99', 'U2', 'wondering', 'four', 'occasional', 'bodies', 'tummy', 'shakes', 'woman', '\\\\', 'freakishly', 'technologically', 'SExy', 'suggest', 'tradition', 'U116', 't/y', 'extensions', 'loser', 'rap', 'faster', 'Burger', '<33', 'U96', 'chest', 'waddup', 'Tennessee', 'Hail', 'has', 'CHOCO', 'miiiiiiiiiiiiinnnnnnnnnnneeeeeeeeee', 'U65', 'guess', 'veg', 'munch', 'scintillating', 'U137', '12', 'before', 'kneez', 'youve', '((((((((((((((((((((((((', 'puff', 'farms', ':.', '!!!!....', 'laughed', 'bell', 'help', 'everybody', 'hohohohhohhoo', 'outside', 'Stop', 'mm', 'bowl', 'flooding', 'happened', 'dressed', 'Zoloft', 'owww', '-_-', 'othing', 'CDT', 'crosses', 'downtown', 'hahahahahahaha', 'wrek', 'blew', 'sheet', 'size', 'boned', 'Damn', 'against', 'barks', 'years', 'oi', 'Devil', 'itz', 'z-ro', 'walmart', 'forget', 'DELIGHTFUL', 'oppsss', 'appearently', 'school', 'beautiful', '=D', 'bosom', '<,', 'music', '15', 'careful', '59%', 'rooster', 'weeks', 'rule', 'Scott', 'showered', 'Maybe', 'Seee', 'frustrating', 'prep', 'knees', 'rub', 'pinch', 'texan', 'lambergini', '16.', 'U15', 'boys', 'permanent', 'cow', 'mac', 'PMSL', ':]', 'rights', 'lol', 'wrong', 'prrty', 'regret', 'DOES', 'Lmfao', 'winds', 'mwahs', '( o Y o )', 'gloria', 'that', 'pumpkins', 'almost', 'still', 'wif', 'skin', '7', 'cooter', 'decided', 'Swim', '!...', 'homophobic', 'and', 'american', 'peeks', \"?'\", 'Post-haste', 'what', 'huge', 'ooooook', 'telllin', 'sexual', 'weapons', 'JUST', 'czeching', 'pr', 'infection', 'gosh', 'wonder', 'puppet', 'savvy', 'seth', 'ooo', 'listen', 'cottons', 'femine', 'chp', 'married', 'U12', 'sharing', 'PayPal', 'hits', '!!!!!!!!!!!!!!!!!!!!!!', 'bow', 'in', 'anyway', 'kc', 'nirvana', 'knows', 'gamefly', '35', 'been', 'officer', 'cabbage', 'werent', 'ladz', '<', 'retahhhhded', 'smell', 'elected', 'aynawy', 'Virius', 'O.o', 'therapist', '1016.', 'bbl', 'falling', 'asss', 'some', 'none', 'IM', 'History', 'consultant', 'horror', 'U988', 'CHATHIDE', 'lysol', 'mess', 'coem', 'judges', 'fantastical', '&^', ')))', 'http', 'smoking', 'sullivan', 'DVD', 'despie', '........................', 'sentences', 'bones', 'clock', 'oates', 'theere', 'fenks', 'fly', 'voices', 'topic', 'goneee', 'pssssh', 'U136', 'ummm', 'mins', 'spouse', 'balad', 'Tower', 'sing', 'U3', '((((((((((', 'outlook', 'Set', 'pumpkin', ',,,,,', 'appologize', '90', 'loud', 'grew', 'lincoln', 'checks', 'chcken', 'totaly', 'dam', 'dumb', 'coconuts', '###', 'Laguna', 'slkfjsldkfjs', 'alternatives', 'uyes', 'youuuu', 'Randy', 'ooer', 'brightened', 'hair', 'coggieeee', 'evil', 'WHISPre', 'marriage', 'Does', 'refill', 'Mine', 'pedofile', 'EST', 'prolly', 'loc', 'arggghhh', 'eat', 'soybeans', 'lesbo', 'Um', 'feet', 'LOVES', 'Bloooooooooooood', 'Broken', 'barbie', 'helping', 'Aiken', 'friendly', 'blocking', 'scrambled', 'dust', 'U133', 'reading', 'unreal', 'hugsssss', 'hand', 'kookies', '#14-19teens', 'european', 'blankie', 'hots', 'sdlfkjsj', 'excitin', 'U111', 'OOooOO', 'kentucky', 'acid', 'scares', 'whooo', 'ether', 'remember', 'nobody', '19', 'Ahhhh', 'spewing', '#prideisland', 'or', 'job', '75%', 'wine', 'CHAT', 'steve', 'satan', 'island', 'having', 'Greetings', '~smirkZ~', 'duet', 'speaking', 'cus', 'player', 'chance', 'uffff', 'prono', 'reads', 'anyone', 'ready', 'either', \"'s\", 'confusing', 'towels', '121.7', 'gayoholic', 'gettysburg', 'medium', 'U28', 'losing', 'HELLO', 'major', 'park', 'lb', 'course', 'talkin', 'table', 'dreammm', 'light', \"cyberin'\", 'Gorda', 'ohio', 'sucks', 'flirting', 'TX', 'fkajslf', 'LOl', '=/', 'converse', 'color', 'understand', 'dunkin', 'living', 'ppl', 'hurry', 'said', 'widdle', '?????', 'misty', 'wax', 'typed', 'byes', 'heheh', 'hgey', 'top', 'found', 'mmmmm', 'each', 'bio', 'alley', 'uk', 'awesome', 'socks', 'upstate', 'whaaaaats', 'me', 'bread', 'afternoon', 'indoor', 'ebay', 'October', '80', 'loosen', 'U79', 'U88', 'awesomee', 'mad', 'face', 'sue', 'ros', '28147', 'secret', 'everyday', 'considering', 'minus', 'twister', 'erm', 'Kentucky', 'threw', 'Mmm', 'G-Mobile', 'cash', 'hitting', 'What', 'busy', 'lasts', 'drop', 'afe', 'second', 'Think', 'hartford', 'look', 'U14', 'urls', 'english', 'move', 'pretty', 'achiever', 'ahead', 'owuldnt', 'o<|=D', '~', 'sympathy', 'slipped', 'rules', 'amazing', '<<<<<<', 'toop', 'pages', 'UK', 'following', 'nana', 'hall', 'thot', 'oldest', 'walderslade', 'lord', 'U819', 'waiting', 'thunder', 'sisters', 'watched', 'use', 'TELLIN', 'waddles', 'window', 'bite', 'facilitated', '246', 'whoa', 'gawd', 'rid', 'bitches', 'albert', \"mf'er\", 'coughed', 'azerbaijan', 'OC', 'kicks', 'CAPS', 'whitte', 'U36', 'snickers', 'bum', 'aunt', 'Ark', 'pineapple', 'Sessions', 'equal', 'wait', 'wanted', 'smells', 'sitting', 'heh', 'winner', 'wuts', 'problemo', 'mornign', 'nad', 'hell', 'while', '`', 'peace-and-quiet', 'release', 'killed', 'Ocean', 'software', 'disturbing', 'wanting', 'oooooooooooglyyyyyyyy', 'shouting', 'sleep over', 'JOIN', 'powers', 'friend', 'U5', 'bliss', 'sometimes', '??????', 'shouldnt', 'Row', 'punch', 'problems', 'alive', 'sounds', 'Ships', 'roleplay', 'fishin', 'seems', 'tips', 'attempted', 'U59', 'pork', 'Save', 'cure', 'crisis', 'latest', 'x-mas', 'stinky', 'loves', 'Her', '>.>', 'manson', 'asleep', 'Ben', 'handheld', '^', 'wonderin', 'Finger', 'like', 'twoel', '(*&(^', 'tapping', 'wit', 'U154', 'ripping', 'farting', 'movie', 'lots', 'Shaneeeeeeeee', 'sunshine', 'up', 'bare', 'shining', 'thang', 'ENOUGH', '!!!!!!.', 'Take', '((((((((((((((', 'bitch', 'slow', 'Arkansas', 'songs', 'el', 'conspiracy', 'he', '4.20', 'Ok', 'Leeches', 'passes', 'tok', 'fellow', 'questioned', 'pope', 'parrot', 'blazed', 'theres', 'tennies', 'ep', 'cool', 'buying', 'learn', 'muahzzzz', 'turns', 'belong', 'coming', 'area', 'Evanescence', 'druid', 'Ut', 'U63', 'ROOM', 'democrats', 'cripes', 'kold', 'controllers', 'op', 'congressman', 'whilst', 'crop', 'headach', 'balck', 'ne', 'watch', 'prisoners', 'pushes', '43.', 'Girl', \"g'\", 'FINE', 'f-ing', 'ahhahahaha', 'forever', 'smiles', 'U175', 'n', 'Justin', 'roads', '<<', 'wussups', 'holocaust', 'addicted', 'awsome', 'bot', 'LMAO', 'tune', 'okey', 'hazy', 'p', 'wheels', 'ha', 'saunders', 'very', 'fine', 'progressive', 'sexuality', 'smacked', 'gee', '2006', 'sounded', 'estefan', 'IS', '/', 'baord', 'original', 'appreciate', 'lame', 'U38', 'wallpaper', 'hairs', 'banned', 'caint', 'beat', 'hahahahaaa', 'ignore', 'pussies', 'lists', 'Guy', 'Chamillionaire', 'Ultimate', 'fun', 'realises', 'book', 'syllables', 'sad', 'Wind', 'y', 'child', 'speech', 'sweet', 'hm', 'why', 'innit', 'marry', 'Swinging', 'boring', 'LIVE', 'chatt', 'toy', 'feels', 'boobs', 'back', 'packs', 'addy', 'hugging', 'mang', 'enable', 'hank', 'Actually', 'drama', '32', 'saying', 'NONE', 'hub', 'vindictive', 'door', 'moved', 'ps2', 'divorced', 'U58', 'wearin', 'spank', 'counter', 'moanz', 'Better', 'beeeeehave', 'corn', 'pissed', 'heyyyyyyyy', 'bf', 'Lay', ':love:', 'canada', 'confusting', 'disocvered', 'China', 'n e', 'Eticket', 'Box', 'long', 'loveliest', 'match', 'U170', 'Pearl', 'imhave', 'les', 'meeting', 'ate', 'weave', 'LONG', 'ruff', 'norman', 'considered', 'miss', 'bonus', 'hatchet', 'uh', 'cuddle', '..', 'BYE', 'sales', 'football', 'lip', 'Back', 'scuba', 'yas', '))))))))))))))', 'respec', 'Cleveland', 'minigames', 'jungle', 'PM', 'helped', 'clubs', 'oot', 'lucky', 'hurting', 'n/', 'Changing', 'hes', 'redneck', 'U165', \"ex's\", '!!!!!!!!!!!!!!!!!!!!!!!', '+*+*+*+*', 'pp', 'TEXT', 'roomies', 'basket', 'flow', 'underwear', 'U181', 'movin', 'full', 'early', 'ensure', 'damn', 'inviting', 'their', 'lamborghini', 'fot', 'Look', 'touch', 'eats', 'address', 'emergency', 'superman', 'law', 'cut', 'myspace', 'delivers', 'energy', 'knee', 'ID', 'completly', 'sunnn', 'DAamn', 'both', 'effort', 'ohhhhhh', 'distrustful', '....', 'Russion', '29', 'just', 'sexy', 'nd', 'injureis', 'burito', 'schedule', 'whys', 'myspace.com', 'Hold', 'complain', 'sext', 'hiom', 'blessings', 'battery', '????', 'metal', 'ar', 'Whaaa', 'Pastor', 'yea', 'U24', 'stalker', 'result', 'cleared', 'Hand', 'temples', 'He', 'U114', 'U29', 'claws', 'phil', 'j/p', 'Gs', 'lllllllliiiiiiiiiikeee', 'her', 'homicide', 'student', 'didnts', 'waking', 'hammock', 'oooooooooooooonnnnnnnnnnnneeeeeeeeeeeeeeesssssssss', 'Elle', 'xxxxxx', 'mauh', 'muahssssssssssssssss', 'Birdgang', 'Fade', 'signed', 'grrrrrrrrrrrrrrrrr', 'um', 'an', 'rainbow', \"martini's\", 'OMG', 'kitchen', 'tits', 'robert', 'Lee', 'hate', 'lex', 'jail', 'heee', 'Uhh', 'caps', 'ma', '<33333333333333333', 'Fergalicious', 'Werd', 'cooooooooookiiiiiiiiiiiieeeeeeeeeeee', 'collect', 'kent', 'salvation', 'contribute', 'butt', 'fantastic', 'being', 'Breaking', 'zone', 'fits', 'bbbbbyyyyyyyeeeeeeeee', 'LIX', 'declawed', 'whoo', 'curious', 'er', 'removes', 'LPN', 'pie', 'plows', 'invisiable', 'U67', 'reunion', 'orgies', 'sets', 'tonight', 'keys', 'MOUTH', 'nevah', ';-(', 'cancer', 'Marvin', '818', 'U52', 'gentlemen', 'spell', 'thats', 'U134', 'cant', 'withdrawal', 'able', 'hih', 'hates', 'plz', 'killeded', 'along', 'son', 'met', 'fruity', 'moochhhhhhhhh', '!!!', 'few', 'serties', 'II', 'star', 'Cute', 'dokey', 'Repeatedly', 'homework', 'trance', 'KoOL', 'turned', 'consuming', 'listens', 'LAst', 'acting', 'flirts', 'nauty', 'sort', 'chattin', 'Nadda', 'preference', 'least', 'encore', 'imaginary', '*grins*', '224', 'couple', 'does', 'hubby', 'needed', 'between', 'mahn', 'write', 'gritty', 'Really', 'foot', 'peppersteak', 'contemplating', 'bachelorette', 'hardly', 'awrighty', 'disappointed', '6', 'tv', 'techniques', 'lovely', 'alo', 'sun', 'reason', 'god', 'fiance', 'U20', 'chat', 'depending', 'Holland', 'my', '))))))))))))))))))))))))))))', 'stans', 'finds', 'ok', 'balls', 'Home', 'U42', 'outhouse', 'Yoko', 'So', 'trigger', 'wanna', 'suffice', 'deaf', 'petanmart', 'itself', 'Same', 'Hallo', 'wrap', 'nodda', 'DOING', 'catastrophic', 'concrete', 'dis', '49', '64.8', 'fer', 'ga', 'cingular', 'construction', 'shups', 'leash', 'dreams', 'Pa', 'pigs', 'alone', 'tommorrow', 'sat', 'technical', 'illin', 'span', 'foothills', 'Beach', 'denomination', 'bes', '=', 'tug', 'sammich', 'return', 'shots', 'muh', 'WILL', 'refrains', 'iamahotnip', 'vuela', 'follow', 'japanese', 'kick', 'fries', 'daniel', 'typing', 'Temp.', 'kissing', '92780', 'Matt', 'burns', 'needs', 'U68', 'minister', 'sang', '<333333333', 'biz', 'atmospheric', 'best', 'team', 'U60', 'interested', 'stationed', 'woah', 'trailer', '41', 'aime', 'onuimso', 'loaded', 'ban', 'society', 'south', 'numbers', 'sign', '...................', 'person', 'live', 'xmas', 'sticks', '~!', '70%', 'Friday', 'polite', 'ill', 'tough', 'goofy', 'yw', 'record', 'ja', 'death', 'Then', 'punishment', 'wa', 'U1370', 'dabble', 'wild', 'iamahotnipwithpics', 'reminded', 'gear', 'awesomes', 'doing', 'aint', 'IL', 'road', \"shakin'\", 'jerimiah', 'lives', 'because', 'bedroom', 'magnet', 'dump', 'hurt', 'dont', 'U163', 'soda', 'loveing', 'stuck', 'wooo', 'raining', 'overplaying', 'Ontario', 'boot', 'HERE', 'elle', 'Jam', '<<<<<<<', 'must', 'runs', 'infor', 'mmmmmm', 'ai', 'inhales', 'Any', 'essentially', 'ANYONE', 'love4s', 'mama', 'beatles', 'virgo', 'In.', 'daughters', 'stripper', 'towel', '60', 'vigilant', 'destiny', 'flame', 'mornin', 'Came', 'east', 'grrrrrring', 'stake', 'U112', 'hilarious', 'thank', 'got', 'PST', 'pasa', 'U219', 'card', 'away', 'bob', 'Vroooom', 'fishercats', 'toss', 'curls', 'U128', 'U7', 'concern', 'booboo', 'board', 'IT', 'ed', 'fair', 'burried', 'coexistence', '=-\\\\', 'Salisbury', '95953', 'errrrr', 'sunglasses', 'dancing', 'chanop', 'act', 'removing', 'into', ')))))))))))))))))))))))))))))))', 'criss-cross', '!!!!!.', 'U44', 'spot', 'uses', 'Dokken', 'WOULD', 'choice', 'opener', 'Now', 'Lovely', 'soojn', 'channel', 'saving', 'whether', 'copone', 'seminilla', 'White', 't-shirt', 'cutting', 'limp', 'riverside', 'adoted', 'former', 'RUN', 'HI', 'YOu', 'un-freeze', '1cos', 'alright', 'nap', 'walk', 'these', 'fock', 'ice', 'fuked', 'honest', 'bear', 'U102', 'ooppsss', 'st', 'cigarette', 'thought', \"'d\", '.(..(.vMp3 vi.p.t.)..).', '\\\\ty', 'cock', 'looks', 'sum', 'theft', 'nope', 'Dolls', 'adopted', 'OOH', 'nawp', 'pair', \"@..3-,'~.\", 'clinicals', 'misses', 'hel', 'gees', 'street', 'charm', 'Mp3', '\"s', 'more', 'Lets', 'cyber', 'vm', '5', 'tears', 'Series', 'million', 'U17', 'ONE', 'dd', \"<3's\", 'bar', 'willams', 'sicily', 'care', 'come', 'ooperative', 'hubbys', 'softner', 'future', 'Indeed', 'om', 'stalked', '93', 'LATER', 'wide', 'mmmmmmmmmm', 'Player', 'photshopped', 'cheers', 'OOPS', 'sleeved', 'Out', 'babay', 'sean', '>_>', 'foxes', 'scorpions', 'sock', 'compoud', 'deep', 'bet', 'degrees', 'won', 'heya', 'offa', 'Louisville', 'chineese', 'crazy', '-o', 'excellent', '((((((((((((((((((((', 'U122', 'headlights', 'vanished', 'hired', 'Good', '?!?!', ')))))))))))))))', 'petition', 'ALL', 'skydiving', 'solved', 'tick', 'vinyl', 'F5', 'U129', 'tisk', 'tha', 'barfights', 'sexist', 'usa', 'ima', 'tried', 'omggg', 'Huh', 'pushed', 'destruction', 'Romance', 'Joshy', 'circle', 'regarding', 'dun', 'blowup', 'adventure', 'giggles', 'slam', 'None', 'walrus', 'obsession', 'See', 'built', '$27', 'retared', 'Private', 'tape', 'ques', 'haters', 'dat', 'peoples', 'rather', 'U41', 'about', 'whispers', ':/', 'game', 'controllin', 'vs.', 'toward', 'sports', 'Dustin', 'calls', 'happen', 'finding', 'ciao', 'oo', 'village', 'VBox', '.', ':|', 'painful', 'swats', '...', 'Like', 'dirt', 'meredith', '4', 'U149', 'When', 'how', ':):):)', 'WHO', 'doublewide', 'tab', 'freind', 'entertain', 'vent', '.:', 'Easily', 'ACTION', 'tomorrow', 'ewwwwww', 'DOWNS', 'option', 'missed', 'Holla', 'damnit', 'monthes', 'ewww', 'confused', 'yikesssss', 'wOOt', 'picture', 'halo', 'obbts', 'King', 'middle', 'frenchkiss', 'works', 'kts', 'bouts', 'Nova', 'Wyte', 'muahsssssssssssssssssss', '!!!!!!!!', 'warm', 'michigan', 'U118', 'coudl', 'fast', 'born-again', 'screams', '$$', 'wothough', 'shush', 'U47', 'snuggles', '33982', 'yak', '55', 'steal', 'humanity', 'Geographic', 'personal', 'freakin', '<perk>', 'man', 'those', 'U101', 'subsitute', 'Fighting', 'bwahahahahahahahahahaha', 'redraft', 'thinks', 'provide', 'muhaha', '6:38', 'piece', 'happily', '579', 'randy', 'U75', 'brad', 'goths', 'show', 'boing', 'anything', 'new', 'Gay', 'hun', 'question', 'went', '. .', 'expensive', 'donno', 'classic', 'exchanged', 'LOUDER', 'U48', 'con', 'U520', 'hands', 'worl', 'Americans', 'spread', 'shirt', 'Biiiiiitch', 'of', 'romance', '45.5', '&', 'Clock', 'brings', '?!?!?', 'eating', '23', 'kellogs', 'syndrome', \"'.\", 'me/', 'clooney', 'cpr', 'moaning', 'wimmins', 'hgfhgfjgf', 'jucilicious', 'UnScramble', 'other', '47.', 'corner', 'predicted', 'connection', 'pro', 'wish', 'poked', 'wz', 'scusezzy', 'petunias', 'sldfjlsdf', 'Way', '10:49', 'buttons', 'necklace', 'U139', 'standing', '29.88.', 'BE', 'stopped', '*spank*', 'alcohol', 'flops', 'wiltshire', 'ohwa', ':o *', 'grassy', 'orgy', '!.', 'bumber', 'tere', 'Fetish', 'six', 'propper', '9.53', 'check', 'em', 'Lies', 'enjoy', 'applaudes', 'schmoopies', 'noo', 'Jerketts', 'taking', 'tho', 'flooder', 'wanders', 'Id', '30.00.', 'murder', 'boght', 'Considerably', 'updated', 'spaces', 'sori', 'out', 'denzel', 'glorious', 'LOUD', 'lucifer', 'Sure', '\"', 'cali', 'cloud', 'talked', 'comment', '>>>', 'shop', 'freaing', 'swear', 'siver', 'GOOD', 'coolcat', 'webcams', 'Okkkkkk', 'seee', 'hangin', 'FF', '9:10', 'CO', 'Dawnstar', '280', 'Men', 'First', 'grins', 'sluggish', 'downnnnnn', 'refer', 'pouting', 'yer', 'HALO', 'doe', 'Hiya', 'halloween', 'hump', '???', 'Whispering', 'U33', 'ive', 'YALL', 'teck', 'menu', 'choices', 'popped', 'beams', '2.3', 'U', 'goodness', 'whenever', 'tabbed', 'throw', \"stuffin'\", 'looking', 'lights', 'lesbian', 'chatted', '??', 'ole', 'U100', 'Looking', 'wc', 'magine', 'dark', 'futurama', 'paper', 'b/c', 'plan', 'Let', 'ANY', 'nortenos', 'SLEEP', 'guide', 'moral', 'tryin', 'moans', 'brakes', 'gaming', 'tennesee', 'jumps', \"@-,'~\", 'latins', 'bring', 'cam', 'vicious', 'hook', 'wahoooooooski', 'spanish', 'neverneverland', 'psychologist', 'happens', '295', 'rolling', '^^^', '((((', 'kiddin', 'danes', 'bitdh', 'superhiway', 'cougs', 'goin', 'o/~', 'misbehaving', 'HAHA', 'Usually', 'Favorite', 'contented', 'babblein', 'abou', '92129', ':-)', 'hi', 'Bone', 'Stick', 'Evil', 'If', 'American', 'pandas', 'poop', '360', 'chapter', ':@', 'heck', 'vodka', 'hehehehe', 'B', 'WITH', 'sneezed', 'lonely', 'anti-sexy', 'putting', 'Too', 'guts', 'superior', 'private', 'U69', 'j', 'xD', 'geeks', 'ringtones', 'mercy', 'month', 'nite', 'mothas', 'Jesus', 'politics', 'interview', 'wantin', '77', 'tenn', 'wont', 'room', 'convinced', 'buddyyyyyy', 'duh', 'tighty', 'f', 'side', 'jumpin', 'Almost', 'evertonr', 'already', 'kidnaped', 'state', 'hahahaa', 'forgive', 'peddle', 'class', 'halfa', 'mmm', 'MAN', 'yawns', 'temp', 'Tisk', 'w/', 'muahhh', 'priorities', 'finish', '........', 'perk', 'Lives', 'wazz', 'bad', 'Death', 'grabs', 'main', 'sharp', 'cakes', 'hix', 'hah', 'willis', 'unusual', 'BLONDES', 'oooooooooooo', 'Ms', 'done', 'passionately', 'drops', '=[', 'laguna', 'any1', 'nada', 'filthy', 'dj', 'wahoooooooo', 'waht', 'ask', 'muzak', 'Resident', 'Sat', 'till', 'LOL', 'huskers', 'maybe'}\n",
      "{'bouts', 'brb', 'byeeee', 'baord', 'brass', 'bit', 'bagel', 'body', 'Been', 'buy', 'bunny', 'Bonus', 'bruises', 'bleach', 'bloody', 'blankie', 'backfrontsidewaysandallaroundtheworld', 'banned', 'brbbb', 'beat', 'btw', 'boed', 'bull', 'burps', 'believe', 'boinked', 'born-again', 'break', 'Boone', 'Borat', 'bugs', 'book', 'bend', 'blunt', 'burns', 'bed', 'blueberry', 'biz', 'boring', 'best', 'beach', 'Biographys', 'boobs', 'borderline', 'boots', 'bigest', 'better', 'back', 'beachhhh', 'BUt', 'beeehave', 'blinks', 'bwahahahahahahahahahaha', 'babes', 'baked', 'ban', 'ben', 'bored', 'bc', 'bikini', 'breath', 'beattles', 'beckley', 'biggest', 'bounced', 'brad', 'booty', 'band', 'builds', 'brrrrrrr', 'beuty', 'boing', 'burp', 'bye', 'boost', 'brwn', 'broke', 'bbiam', 'bases', 'Better', 'beeeeehave', 'beside', 'bf', 'beaten', 'beam', 'base', 'blow', 'bied', 'build', 'Box', 'beanbag', 'because', 'blank', 'blooded', 'bedroom', 'bedford', 'Biiiiiitch', 'blade', 'become', 'bloe', 'brings', 'belongings', 'boooooooooooglyyyyyy', 'bonus', 'boot', 'bootay', 'bois', 'bother', 'big', 'BYE', 'buh', 'byes', 'bro', 'BOOTS', 'Back', 'bible', 'burpin', 'blah', 'busted', 'bio', 'burger', 'bodies', 'bread', 'Benjamin', 'beatles', 'beans', 'BOOTY', 'buttons', 'bi', 'bred', 'belly', 'bak', 'BE', 'backup', 'bob', 'Burger', 'basket', 'burned', 'Bloooooooooood', 'bumber', 'boning', 'bright', 'busy', 'booboo', 'board', 'besides', 'be', 'BAAAAALLLLLLLLIIIIIIINNNNNNNNNNN', 'bust', 'brady', 'burried', 'Barometer', 'BIG', 'before', 'boght', 'brat', 'bisexual', 'birfday', 'bra', 'Because', 'both', 'bites', 'booted', 'by', 'bell', 'beats', 'Bud', 'bowl', 'b-day', 'burito', 'beleive', 'blew', 'boned', 'brothers', 'barks', 'blessings', 'battery', 'bouncer', 'basically', 'But', 'biyatch', 'bite', 'brought', 'beautiful', 'bosom', 'bj', 'b4', 'bear', 'bitches', 'boyfriend', 'babycakeses', 'beams', 'boom', 'bottle', 'blowjob', 'bumper', 'bug', 'Birdgang', 'bless', 'blue', 'begin', 'b', 'bum', 'boys', 'balance', 'bears', 'bay', 'barrel', 'benz', 'belive', 'b/c', 'bucks', 'born', 'bunch', 'bandsaw', 'brakes', 'bulls', 'butterscotch', 'breaks', 'buff', 'bong', 'brain', 'bring', 'baby', 'butt', 'bar', 'Breaking', 'being', 'bein', 'Barbieee', 'bares', 'bbbbbyyyyyyyeeeeeeeee', 'bacl', 'barely', 'byeeeeeeeeeeeee', 'bummer', 'bitdh', 'betrayal', 'banjoes', 'bliss', 'bandito', 'breeding', 'but', 'buses', 'brunswick', 'biebsa', 'boss', 'babay', 'bluer', 'beg', 'babblein', 'bishes', 'ballin', 'Bone', 'box', 'bet', 'bothering', 'bow', 'Break', 'bagels', 'byeee', 'been', 'Bye', 'bouncers', 'ball', 'Ben', 'B', 'Bwhaha', 'boi', 'button', 'bbl', 'breathe', 'bare', 'BUT', 'babe', 'bus', 'behind', 'buffalo', 'bout', 'black', 'bitch', 'barfights', 'burryed', 'boo', 'bag', 'barn', 'Bloooooooood', 'Born', 'beer', 'backatchya', 'bones', 'blazed', 'blowup', 'babiess', 'buddyyyyyy', 'betta', 'backroom', 'Boyz', 'between', 'byeeeeeeee', 'buying', 'Bible', 'brother', 'built', 'blowing', 'belong', 'bachelorette', 'blech', 'balad', 'biatch', 'blood', 'BOY', 'bird', 'babies', 'bossy', 'bumped', 'bomb', 'birthday', 'biiiatch', 'Books', 'balls', 'bad', 'balck', 'bone', 'bound', 'butter', 'babble', 'bahahahaa', 'BLONDES', 'brightened', 'brooklyn', 'bike', 'behave', 'bot', 'border', 'boredom', 'babi', 'brown', 'blues', 'Booyah', 'bikes', 'bbs', 'Bloooooooooooood', 'Broken', 'byb', 'barbie', 'bought', 'boy', 'Beach', 'blocking', 'bes', 'blind'}\n",
      "['b', 'B', 'b-day', 'b/c', 'b4', 'BAAAAALLLLLLLLIIIIIIINNNNNNNNNNN', 'babay', 'babble', 'babblein', 'babe', 'babes', 'babi', 'babies', 'babiess', 'baby', 'babycakeses', 'bachelorette', 'back', 'Back', 'backatchya', 'backfrontsidewaysandallaroundtheworld', 'backroom', 'backup', 'bacl', 'bad', 'bag', 'bagel', 'bagels', 'bahahahaa', 'bak', 'baked', 'balad', 'balance', 'balck', 'ball', 'ballin', 'balls', 'ban', 'band', 'bandito', 'bandsaw', 'banjoes', 'banned', 'baord', 'bar', 'barbie', 'Barbieee', 'bare', 'barely', 'bares', 'barfights', 'barks', 'barn', 'Barometer', 'barrel', 'base', 'bases', 'basically', 'basket', 'battery', 'bay', 'bbbbbyyyyyyyeeeeeeeee', 'bbiam', 'bbl', 'bbs', 'bc', 'BE', 'be', 'beach', 'Beach', 'beachhhh', 'beam', 'beams', 'beanbag', 'beans', 'bear', 'bears', 'beat', 'beaten', 'beatles', 'beats', 'beattles', 'beautiful', 'because', 'Because', 'beckley', 'become', 'bed', 'bedford', 'bedroom', 'beeeeehave', 'beeehave', 'Been', 'been', 'beer', 'before', 'beg', 'begin', 'behave', 'behind', 'bein', 'being', 'beleive', 'believe', 'belive', 'bell', 'belly', 'belong', 'belongings', 'ben', 'Ben', 'bend', 'Benjamin', 'benz', 'bes', 'beside', 'besides', 'best', 'bet', 'betrayal', 'betta', 'better', 'Better', 'between', 'beuty', 'bf', 'bi', 'biatch', 'bible', 'Bible', 'biebsa', 'bied', 'big', 'BIG', 'bigest', 'biggest', 'biiiatch', 'Biiiiiitch', 'bike', 'bikes', 'bikini', 'bio', 'Biographys', 'bird', 'Birdgang', 'birfday', 'birthday', 'bisexual', 'bishes', 'bit', 'bitch', 'bitches', 'bitdh', 'bite', 'bites', 'biyatch', 'biz', 'bj', 'black', 'blade', 'blah', 'blank', 'blankie', 'blazed', 'bleach', 'blech', 'bless', 'blessings', 'blew', 'blind', 'blinks', 'bliss', 'blocking', 'bloe', 'BLONDES', 'blood', 'blooded', 'bloody', 'Bloooooooood', 'Bloooooooooood', 'Bloooooooooooood', 'blow', 'blowing', 'blowjob', 'blowup', 'blue', 'blueberry', 'bluer', 'blues', 'blunt', 'board', 'bob', 'bodies', 'body', 'boed', 'boght', 'boi', 'boing', 'boinked', 'bois', 'bomb', 'Bone', 'bone', 'boned', 'bones', 'bong', 'boning', 'Bonus', 'bonus', 'boo', 'booboo', 'boobs', 'book', 'Books', 'boom', 'Boone', 'boooooooooooglyyyyyy', 'boost', 'boot', 'bootay', 'booted', 'boots', 'BOOTS', 'booty', 'BOOTY', 'Booyah', 'Borat', 'border', 'borderline', 'bored', 'boredom', 'boring', 'born', 'Born', 'born-again', 'bosom', 'boss', 'bossy', 'bot', 'both', 'bother', 'bothering', 'bottle', 'bought', 'bounced', 'bouncer', 'bouncers', 'bound', 'bout', 'bouts', 'bow', 'bowl', 'Box', 'box', 'BOY', 'boy', 'boyfriend', 'boys', 'Boyz', 'bra', 'brad', 'brady', 'brain', 'brakes', 'brass', 'brat', 'brb', 'brbbb', 'bread', 'break', 'Break', 'Breaking', 'breaks', 'breath', 'breathe', 'bred', 'breeding', 'bright', 'brightened', 'bring', 'brings', 'bro', 'broke', 'Broken', 'brooklyn', 'brother', 'brothers', 'brought', 'brown', 'brrrrrrr', 'bruises', 'brunswick', 'brwn', 'btw', 'bucks', 'Bud', 'buddyyyyyy', 'buff', 'buffalo', 'bug', 'bugs', 'buh', 'build', 'builds', 'built', 'bull', 'bulls', 'bum', 'bumber', 'bummer', 'bumped', 'bumper', 'bunch', 'bunny', 'burger', 'Burger', 'burito', 'burned', 'burns', 'burp', 'burpin', 'burps', 'burried', 'burryed', 'bus', 'buses', 'bust', 'busted', 'busy', 'BUt', 'But', 'but', 'BUT', 'butt', 'butter', 'butterscotch', 'button', 'buttons', 'buy', 'buying', 'bwahahahahahahahahahaha', 'Bwhaha', 'by', 'byb', 'bye', 'BYE', 'Bye', 'byeee', 'byeeee', 'byeeeeeeee', 'byeeeeeeeeeeeee', 'byes']\n"
     ]
    }
   ],
   "source": [
    "# check the text 4 and find all the words that start from b and then print them in sorted form \n",
    "\n",
    "# printing the words of the text4\n",
    "print(set(text5))\n",
    "\n",
    "# printing the words start from b \n",
    "print(set([w for w in text5 if w.startswith(\"b\") or w.startswith(\"B\")]))\n",
    "\n",
    "# printing the words start from b in sorted form\n",
    "print(sorted(set([w for w in text5 if w.startswith(('b', 'B'))]), key = str.casefold))\n"
   ]
  },
  {
   "cell_type": "code",
   "execution_count": 23,
   "id": "bf190e7b",
   "metadata": {},
   "outputs": [
    {
     "name": "stdout",
     "output_type": "stream",
     "text": [
      "[0, 1, 2, 3, 4, 5, 6, 7, 8, 9]\n",
      "[1, 2, 3, 4, 5, 6, 7, 8, 9, 10]\n",
      "[1, 3, 5, 7, 9]\n"
     ]
    }
   ],
   "source": [
    "# printing the range of number from 1 to 10 \n",
    "print(list(range(10)))\n",
    "print(list(range(1,11)))\n",
    "print(list(range(1,10,2)))"
   ]
  },
  {
   "cell_type": "code",
   "execution_count": 24,
   "id": "4e34bff7",
   "metadata": {},
   "outputs": [
    {
     "data": {
      "text/plain": [
       "629"
      ]
     },
     "execution_count": 24,
     "metadata": {},
     "output_type": "execute_result"
    }
   ],
   "source": [
    "# using the word to find it's index in the text \n",
    "text9.index('sunset')"
   ]
  },
  {
   "cell_type": "code",
   "execution_count": 25,
   "id": "197a71db",
   "metadata": {},
   "outputs": [
    {
     "name": "stdout",
     "output_type": "stream",
     "text": [
      "The index of sunset is 629\n",
      "first sentence ends at index 21\n",
      "['[', 'The', 'Man', 'Who', 'Was', 'Thursday', 'by', 'G', '.', 'K', '.', 'Chesterton', '1908', ']', 'To', 'Edmund', 'Clerihew', 'Bentley', 'A', 'cloud', 'was'].[ The Man Who Was Thursday by G . K . Chesterton 1908 ] To Edmund Clerihew Bentley A cloud was\n"
     ]
    }
   ],
   "source": [
    "for i in range(600,700):\n",
    "    if text9[i] == 'sunset':\n",
    "        print(f'The index of sunset is {i}')\n",
    "        break\n",
    "\n",
    "for i in range(0,len(text5)):\n",
    "    if text5[i] == '.':\n",
    "        print(f\"first sentence ends at index {i}\")\n",
    "        break\n",
    "\n",
    "print(text9[0:21],end = \".\")\n",
    "\n",
    "\n",
    "print(' '.join(text9[0:21]))\n"
   ]
  },
  {
   "cell_type": "code",
   "execution_count": 26,
   "id": "0a66f67d",
   "metadata": {},
   "outputs": [
    {
     "name": "stdout",
     "output_type": "stream",
     "text": [
      "C H A P T E R I T H E T W O P O E T S O F S A F F R O N P A R K T H E s u b u r b o f S a f f r o n P a r k l a y o n t h e s u n s e t s i d e o f L o n d o n, a s r e d a n d r a g g e d a s a c l o u d o f s u n s e t. \n"
     ]
    }
   ],
   "source": [
    "full_sent = \"\"\n",
    "alpha_text = []\n",
    "\n",
    "for i in range(613, 644):\n",
    "    \n",
    "    if text9[i].isalpha():\n",
    "        alpha_text += text9[i]\n",
    "    else:\n",
    "        full_sent += (' '.join(alpha_text) + text9[i] + ' ')\n",
    "        alpha_text = []\n",
    "        \n",
    "print(full_sent)"
   ]
  },
  {
   "cell_type": "code",
   "execution_count": 27,
   "id": "be054a39",
   "metadata": {},
   "outputs": [
    {
     "data": {
      "text/plain": [
       "['aye', 'captain']"
      ]
     },
     "execution_count": 27,
     "metadata": {},
     "output_type": "execute_result"
    }
   ],
   "source": [
    "# sorting of the words \n",
    "test = [\"Aye\",\"aye\",\"captain\"]\n",
    "sorted(set(w.lower() for w in test))\n"
   ]
  },
  {
   "cell_type": "code",
   "execution_count": 28,
   "id": "49c74493",
   "metadata": {},
   "outputs": [
    {
     "data": {
      "text/plain": [
       "{'aye', 'captain'}"
      ]
     },
     "execution_count": 28,
     "metadata": {},
     "output_type": "execute_result"
    }
   ],
   "source": [
    "# converting the whole list in lower case \n",
    "set(w.lower() for w in test)"
   ]
  },
  {
   "cell_type": "code",
   "execution_count": 29,
   "id": "46cfc1f8",
   "metadata": {},
   "outputs": [
    {
     "data": {
      "text/plain": [
       "19317"
      ]
     },
     "execution_count": 29,
     "metadata": {},
     "output_type": "execute_result"
    }
   ],
   "source": [
    "# trying it on text 1 \n",
    "len(sorted(w.lower() for w in set(text1)))"
   ]
  },
  {
   "cell_type": "code",
   "execution_count": 30,
   "id": "3b364e60",
   "metadata": {},
   "outputs": [
    {
     "data": {
      "text/plain": [
       "True"
      ]
     },
     "execution_count": 30,
     "metadata": {},
     "output_type": "execute_result"
    }
   ],
   "source": [
    "# checking for upper case \n",
    "ch = \"X\"\n",
    "ch.isupper()"
   ]
  },
  {
   "cell_type": "code",
   "execution_count": 31,
   "id": "1af369ce",
   "metadata": {},
   "outputs": [
    {
     "data": {
      "text/plain": [
       "True"
      ]
     },
     "execution_count": 31,
     "metadata": {},
     "output_type": "execute_result"
    }
   ],
   "source": [
    "not ch.islower()"
   ]
  },
  {
   "cell_type": "code",
   "execution_count": 32,
   "id": "c65fdbff",
   "metadata": {},
   "outputs": [
    {
     "data": {
      "text/plain": [
       "['THE', 'END']"
      ]
     },
     "execution_count": 32,
     "metadata": {},
     "output_type": "execute_result"
    }
   ],
   "source": [
    "# writing a slice of last two words of text2 \n",
    "text2[-2:]"
   ]
  },
  {
   "cell_type": "code",
   "execution_count": 33,
   "id": "07d0bc29",
   "metadata": {},
   "outputs": [
    {
     "name": "stdout",
     "output_type": "stream",
     "text": [
      "<FreqDist with 1181 samples and 10204 outcomes>\n"
     ]
    }
   ],
   "source": [
    "# Find all the four letter words in chat corpus text5 \n",
    "four_letter_frequency = FreqDist([w for w in text5 if len(w) == 4])\n",
    "print(four_letter_frequency)"
   ]
  },
  {
   "cell_type": "code",
   "execution_count": 34,
   "id": "9a2efbc5",
   "metadata": {},
   "outputs": [
    {
     "data": {
      "text/plain": [
       "1181"
      ]
     },
     "execution_count": 34,
     "metadata": {},
     "output_type": "execute_result"
    }
   ],
   "source": [
    "# printing the number of four letter lenght words \n",
    "len(four_letter_frequency)"
   ]
  },
  {
   "cell_type": "code",
   "execution_count": 35,
   "id": "2f2066c7",
   "metadata": {},
   "outputs": [
    {
     "name": "stdout",
     "output_type": "stream",
     "text": [
      "[('JOIN', 1021), ('PART', 1016), ('that', 274), ('what', 183), ('here', 181), ('....', 170), ('have', 164), ('like', 156), ('with', 152), ('chat', 142), ('your', 137), ('good', 130), ('just', 125), ('lmao', 107), ('know', 103), ('room', 98), ('from', 92), ('this', 86), ('well', 81), ('back', 78), ('hiya', 78), ('they', 77), ('dont', 75), ('yeah', 75), ('want', 71), ('love', 60), ('guys', 58), ('some', 58), ('been', 57), ('talk', 56), ('nice', 52), ('time', 50), ('when', 48), ('haha', 44), ('make', 44), ('girl', 43), ('need', 43), ('U122', 42), ('MODE', 41), ('will', 40), ('much', 40), ('then', 40), ('over', 39), ('work', 38), ('were', 38), ('take', 37), ('U121', 36), ('U115', 36), ('song', 36), ('even', 35), ('does', 35), ('seen', 35), ('U156', 35), ('U105', 35), ('more', 34), ('damn', 34), ('only', 33), ('come', 33), ('hell', 29), ('long', 28), ('them', 28), ('name', 27), ('tell', 27), ('away', 26), ('sure', 26), ('look', 26), ('baby', 26), ('call', 26), ('play', 25), ('U110', 25), ('U114', 25), ('NICK', 24), ('down', 24), ('cool', 24), ('sexy', 23), ('many', 23), ('hate', 23), ('said', 23), ('last', 22), ('ever', 22), ('hear', 21), ('life', 21), ('live', 20), ('feel', 19), ('very', 19), ('mean', 19), ('give', 19), ('same', 19), ('must', 19), ('stop', 19), ('LMAO', 19), ('!!!!', 18), ('hugs', 18), ('What', 18), ('find', 18), ('cant', 18), ('left', 17), ('????', 17), ('shit', 17), ('nite', 17)]"
     ]
    }
   ],
   "source": [
    "# printing each word with its frequency\n",
    "print(four_letter_frequency.most_common(100), end = \"\")"
   ]
  },
  {
   "cell_type": "code",
   "execution_count": 36,
   "id": "b22a256c",
   "metadata": {},
   "outputs": [
    {
     "name": "stdout",
     "output_type": "stream",
     "text": [
      "[('part', 1022), ('join', 1021), ('that', 284), ('what', 201), ('here', 185), ('have', 171), ('....', 170), ('like', 160), ('with', 154), ('chat', 146), ('your', 142), ('good', 132), ('lmao', 128), ('just', 128), ('know', 104), ('room', 103), ('this', 98), ('from', 96), ('well', 91), ('yeah', 85), ('hiya', 85), ('they', 84), ('back', 79), ('dont', 77), ('want', 71), ('love', 63), ('guys', 59), ('some', 59), ('talk', 58), ('been', 58), ('nice', 54), ('when', 54), ('time', 52), ('haha', 46), ('girl', 45), ('make', 44), ('need', 44), ('will', 42), ('song', 42), ('mode', 42), ('u122', 42), ('then', 41), ('much', 40), ('over', 40), ('were', 39), ('take', 38), ('does', 38), ('work', 38), ('even', 37), ('u121', 36), ('u115', 36), ('only', 36), ('damn', 36), ('seen', 36), ('come', 36), ('more', 35), ('u156', 35), ('u105', 35), ('nick', 33), ('long', 30), ('hell', 29), ('last', 29), ('tell', 29), ('name', 28), ('away', 28), ('sure', 28), ('them', 28), ('look', 27), ('baby', 26), ('call', 26), ('down', 26), ('cool', 26), ('sexy', 25), ('play', 25), ('u110', 25), ('u114', 25), ('many', 23), ('hate', 23), ('said', 23), ('same', 23), ('live', 23), ('stop', 23), ('life', 22), ('ever', 22), ('hear', 21), ('very', 20), ('feel', 19), ('hugs', 19), ('mean', 19), ('give', 19), ('must', 19), ('!!!!', 18), ('find', 18), ('cant', 18), ('left', 17), ('fine', 17), ('lets', 17), ('????', 17), ('shit', 17), ('nite', 17)]"
     ]
    }
   ],
   "source": [
    "four_letter_fd = FreqDist(w.lower() for w in text5 if len(w) == 4)\n",
    "print(four_letter_fd.most_common(100), end = '')"
   ]
  },
  {
   "cell_type": "code",
   "execution_count": 37,
   "id": "e8aed710",
   "metadata": {},
   "outputs": [
    {
     "data": {
      "image/png": "[encoded data removed]",
      "text/plain": [
       "<Figure size 1000x600 with 1 Axes>"
      ]
     },
     "metadata": {},
     "output_type": "display_data"
    }
   ],
   "source": [
    "import matplotlib.pyplot as plt\n",
    "\n",
    "# Set the figure size\n",
    "plt.figure(figsize=(10, 6))  # Adjust width and height as needed\n",
    "\n",
    "# Create your plot using the appropriate function\n",
    "four_letter_fd.plot(50)  # Replace this with the correct function call from your library\n",
    "\n",
    "# Show the plot\n",
    "plt.show()\n"
   ]
  },
  {
   "cell_type": "code",
   "execution_count": 38,
   "id": "1919151b",
   "metadata": {},
   "outputs": [
    {
     "name": "stdout",
     "output_type": "stream",
     "text": [
      "['she', 'shells', 'shore']\n"
     ]
    }
   ],
   "source": [
    "# filter out the words that starts from sh\n",
    "\n",
    "sent = ['she', 'sells', 'sea', 'shells', 'by', 'the', 'sea', 'shore']\n",
    "\n",
    "\n",
    "print([w for w in sent if w.startswith('sh')])"
   ]
  },
  {
   "cell_type": "markdown",
   "id": "1da15c65",
   "metadata": {},
   "source": [
    "Define a function percent(word, text) that calculates how often a given word occurs in a text, and expresses the result as a percentage.\n",
    "\n",
    "We'll want to tabulate words regardless of their case, so I'm adding the method .lower() to the list comprehension."
   ]
  },
  {
   "cell_type": "code",
   "execution_count": 40,
   "id": "7122fc95",
   "metadata": {},
   "outputs": [],
   "source": [
    "def vocab_size(text):\n",
    "    \"\"\"\n",
    "    Returns the number of words in a text.  Only alphabetic strings\n",
    "    are considered.  Enclitics are removed from the count.\n",
    "    \"\"\"\n",
    "    \n",
    "    return len([w for w in text if w.isalpha() and w.lower not in (\"d\", \"ll\", \"m\", \"re\", \"s\", \"t\", \"ve\")])"
   ]
  },
  {
   "cell_type": "code",
   "execution_count": 41,
   "id": "c295a91e",
   "metadata": {},
   "outputs": [],
   "source": [
    "def percent(word, text):\n",
    "    \"\"\"\n",
    "    Returns the percentage that a given word comprises in a text.\n",
    "    \"\"\"\n",
    "    word_count = len([w for w in text if w.lower() == word.lower()])\n",
    "    total_words = vocab_size(text)\n",
    "    return 100 * word_count/total_words "
   ]
  },
  {
   "cell_type": "code",
   "execution_count": 42,
   "id": "3c2e4442",
   "metadata": {},
   "outputs": [
    {
     "data": {
      "text/plain": [
       "0.561455571278754"
      ]
     },
     "execution_count": 42,
     "metadata": {},
     "output_type": "execute_result"
    }
   ],
   "source": [
    "percent(\"whale\", text1)"
   ]
  }
 ],
 "metadata": {
  "kernelspec": {
   "display_name": "Python 3",
   "language": "python",
   "name": "python3"
  },
  "language_info": {
   "codemirror_mode": {
    "name": "ipython",
    "version": 3
   },
   "file_extension": ".py",
   "mimetype": "text/x-python",
   "name": "python",
   "nbconvert_exporter": "python",
   "pygments_lexer": "ipython3",
   "version": "3.10.12"
  }
 },
 "nbformat": 4,
 "nbformat_minor": 5
}
