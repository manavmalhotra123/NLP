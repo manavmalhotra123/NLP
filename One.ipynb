{
 "cells": [
  {
   "cell_type": "code",
   "execution_count": 2,
   "metadata": {},
   "outputs": [
    {
     "data": {
      "text/plain": [
       "8"
      ]
     },
     "execution_count": 2,
     "metadata": {},
     "output_type": "execute_result"
    }
   ],
   "source": [
    "# trying kind of calculator\n",
    "\n",
    "8008 // ((10 * 10 * 10) + 1)"
   ]
  },
  {
   "cell_type": "markdown",
   "id": "5a1685a5",
   "metadata": {},
   "source": [
    " Given an alphabet of 26 letters, there are 26 to the power 10, or 26 ** 10, ten-letter strings we can form. That works out to 141167095653376. How many hundred-letter strings are possible?\n",
    "\n",
    "print(\"{}\".format) has not yet been introduced in the book, but it can be used to make strings - especially numerical ones - much more legible."
   ]
  },
  {
   "cell_type": "code",
   "execution_count": 3,
   "id": "40bffb58",
   "metadata": {},
   "outputs": [
    {
     "name": "stdout",
     "output_type": "stream",
     "text": [
      "3,142,930,641,582,938,830,174,357,788,501,626,427,282,669,988,762,475,256,374,173,175,398,995,908,420,104,023,465,432,599,069,702,289,330,964,075,081,611,719,197,835,869,803,511,992,549,376\n"
     ]
    }
   ],
   "source": [
    "print(\"{:,}\".format(26**100))"
   ]
  },
  {
   "cell_type": "markdown",
   "id": "0fd57758",
   "metadata": {},
   "source": [
    "☼ The Python multiplication operation can be applied to lists. What happens when you type ['Monty', 'Python'] * 20, or 3 * sent1"
   ]
  },
  {
   "cell_type": "code",
   "execution_count": 4,
   "id": "78c5783d",
   "metadata": {},
   "outputs": [
    {
     "name": "stdout",
     "output_type": "stream",
     "text": [
      "['Monty', 'Python', 'Monty', 'Python', 'Monty', 'Python', 'Monty', 'Python', 'Monty', 'Python', 'Monty', 'Python', 'Monty', 'Python', 'Monty', 'Python', 'Monty', 'Python', 'Monty', 'Python', 'Monty', 'Python', 'Monty', 'Python', 'Monty', 'Python', 'Monty', 'Python', 'Monty', 'Python', 'Monty', 'Python', 'Monty', 'Python', 'Monty', 'Python', 'Monty', 'Python', 'Monty', 'Python']"
     ]
    }
   ],
   "source": [
    "\n",
    "print(['Monty', 'Python'] * 20, end = '')"
   ]
  },
  {
   "cell_type": "markdown",
   "id": "635cf80e",
   "metadata": {},
   "source": [
    "### NlTK Book "
   ]
  },
  {
   "cell_type": "code",
   "execution_count": 5,
   "id": "ca02ffea",
   "metadata": {},
   "outputs": [
    {
     "name": "stderr",
     "output_type": "stream",
     "text": [
      "[nltk_data] Downloading package gutenberg to /home/manav/nltk_data...\n",
      "[nltk_data]   Package gutenberg is already up-to-date!\n",
      "[nltk_data] Downloading package genesis to /home/manav/nltk_data...\n",
      "[nltk_data]   Package genesis is already up-to-date!\n",
      "[nltk_data] Downloading package inaugural to /home/manav/nltk_data...\n",
      "[nltk_data]   Package inaugural is already up-to-date!\n",
      "[nltk_data] Downloading package nps_chat to /home/manav/nltk_data...\n",
      "[nltk_data]   Package nps_chat is already up-to-date!\n",
      "[nltk_data] Downloading package webtext to /home/manav/nltk_data...\n",
      "[nltk_data]   Package webtext is already up-to-date!\n",
      "[nltk_data] Downloading package treebank to /home/manav/nltk_data...\n",
      "[nltk_data]   Package treebank is already up-to-date!\n"
     ]
    },
    {
     "data": {
      "text/plain": [
       "True"
      ]
     },
     "execution_count": 5,
     "metadata": {},
     "output_type": "execute_result"
    }
   ],
   "source": [
    "# corpus downloader\n",
    "import nltk\n",
    "# books we need to install when using nltk books\n",
    "nltk.download('gutenberg')\n",
    "nltk.download('genesis')\n",
    "nltk.download('inaugural')\n",
    "nltk.download('nps_chat')\n",
    "nltk.download('webtext')\n",
    "nltk.download('treebank')\n"
   ]
  },
  {
   "cell_type": "code",
   "execution_count": 6,
   "id": "59aa368e",
   "metadata": {},
   "outputs": [
    {
     "name": "stdout",
     "output_type": "stream",
     "text": [
      "*** Introductory Examples for the NLTK Book ***\n",
      "Loading text1, ..., text9 and sent1, ..., sent9\n",
      "Type the name of the text or sentence to view it.\n",
      "Type: 'texts()' or 'sents()' to list the materials.\n",
      "text1: Moby Dick by Herman Melville 1851\n",
      "text2: Sense and Sensibility by Jane Austen 1811\n",
      "text3: The Book of Genesis\n",
      "text4: Inaugural Address Corpus\n",
      "text5: Chat Corpus\n",
      "text6: Monty Python and the Holy Grail\n",
      "text7: Wall Street Journal\n",
      "text8: Personals Corpus\n",
      "text9: The Man Who Was Thursday by G . K . Chesterton 1908\n"
     ]
    }
   ],
   "source": [
    "import nltk\n",
    "# all the books are installed\n",
    "from nltk.book import *"
   ]
  },
  {
   "cell_type": "code",
   "execution_count": 8,
   "id": "08cdfe70",
   "metadata": {},
   "outputs": [
    {
     "name": "stdout",
     "output_type": "stream",
     "text": [
      "['Call', 'me', 'Ishmael', '.', 'Call', 'me', 'Ishmael', '.', 'Call', 'me', 'Ishmael', '.']['The', 'family', 'of', 'Dashwood', 'had', 'long', 'been', 'settled', 'in', 'Sussex', '.', 'The', 'family', 'of', 'Dashwood', 'had', 'long', 'been', 'settled', 'in', 'Sussex', '.', 'The', 'family', 'of', 'Dashwood', 'had', 'long', 'been', 'settled', 'in', 'Sussex', '.']"
     ]
    }
   ],
   "source": [
    "# printing the content 3 time of message sent1\n",
    "\n",
    "print(3 * sent1, end = '')\n",
    "print(3 * sent2, end = '')\n"
   ]
  },
  {
   "cell_type": "code",
   "execution_count": 9,
   "id": "e00ebf30",
   "metadata": {},
   "outputs": [
    {
     "name": "stdout",
     "output_type": "stream",
     "text": [
      "{'Why', 'tied', 'noisier', 'obligation', 'mare', 'resolute', 'pictured', 'errors', 'wishing', 'inclination', 'disgraced', 'dies', 'policy', 'centre', 'conspicuous', 'sourness', 'scrape', 'true', 'earnest', 'desperation', 'humored', 'incurring', 'unfashionable', 'DID', 'undesirable', 'lived', 'candles', 'lustily', 'admit', 'barouche', 'potent', 'misconduct', 'Sunday', 'worsted', 'display', 'comes', 'stubborn', 'reasonings', 'everything', 'chuse', 'hurry', 'instantly', 'evince', 'amusing', 'presentation', 'gently', 'reception', 'auspicious', 'fact', 'depart', 'boisterous', 'arrives', '--,', 'strength', 'girls', 'effects', 'attributed', ']', 'Five', 'highest', 'readily', 'tempting', 'tremour', 'sadness', 'wretchedly', 'muff', 'Am', 'letters', 'associate', 'edtions', 'felt', 'persecution', 'temporary', 'unison', 'remembrance', 'bound', 'detain', 'overcome', 'life', 'atonement', 'Lane', 'phrase', 'rises', 'packed', 'Infirmity', 'convincing', 'pearls', 'LOOK', '.)--', 'undergone', 'unjustifiable', 'Only', 'remorse', 'relating', 'make', 'Ma', 'once', 'flatter', 'Shall', 'production', 'creature', 'south', 'over', 'separated', 'bedchamber', 'alternately', 'aunt', 'tediously', 'powerfully', 'interested', 'Honiton', 'settling', 'delirium', 'frantic', 'wronged', 'quest', 'dwelling', 'HIM', 'control', 'afford', 'oppose', 'contemptible', 'horrid', 'glimpse', 'prettiest', 'Brandon', 'contradicted', 'doubtingly', 'sell', 'partial', 'rooms', 'assisted', 'inconvenient', 'ranging', 'efficacy', 'YOUR', 'stand', 'attachments', 'convinced', 'reseated', 'recreating', 'unable', 'resistance', 'Jennings', 'fruitless', 'muttered', 'encourage', 'dagger', 'centered', 'effectually', 'invitations', 'grate', 'relent', 'inspired', 'authorised', 'kind', 'Selfish', 'ruling', 'rumour', 'beheld', 'discrimination', 'exclusively', 'undressed', 'calm', 'confirmation', 'deep', 'task', 'sedulously', 'warehouse', 'undertake', 'boasting', 'simplest', 'management', 'ambition', 'busy', 'apprehensive', 'consistency', 'nieces', 'intruded', 'stopt', 'repeated', 'Gibson', 'toilet', 'mix', '36', 'accompanied', 'shook', 'pay', 'STILL', 'condition', 'breeding', 'Parliament', 'Holborn', 'happy', 'repeat', 'turf', 'sweetest', 'risen', 'disarm', 'ring', 'sudden', 'prettily', 'widen', 'lamenting', 'wounded', 'contrivance', 'field', 'establishment', 'controlled', 'mindful', 'destroy', 'recommending', 'followed', 'rung', 'important', 'stylish', 'Extravagance', 'ridicule', 'window', 'right', 'dropt', 'happiness', 'same', 'Instead', 'anything', 'LESS', 'schemes', 'weaknesses', 'widely', 'finish', 'utility', 'soul', 'love', 'quietly', 'Pray', 'valley', 'holds', 'continually', 'sacred', 'recovering', 'quitted', 'alacrity', 'courted', '***', 'affront', 'douceur', 'despising', 'furniture', 'wager', 'steadfast', 'dress', 'extended', 'confiding', 'observe', 'honoured', 'allowed', 'DOES', 'SHE', 'needle', 'indignant', 'imitate', 'politeness', 'check', 'secret', 'feebly', 'expectation', 'WHERE', 'dislike', 'guilty', 'irrepressible', 'enjoy', 'passed', 'consumption', 'Add', 'crowd', 'meanness', 'worthless', 'really', 'impatiently', 'venture', 'lap', 'blessing', 'melancholy', 'dry', 'somewhat', 'refinement', 'circumstances', 'enclosure', 'swelling', 'importunity', 'desirous', 'miniature', 'enjoying', 'purchases', 'INconvenience', 'Still', 'unequivocal', 'receive', 'them', 'marriage', 'trembled', 'chance', 'shameless', 'form', 'expressions', 'youngest', 'unemployed', 'become', 'define', 'lifted', 'rejoice', 'obviating', 'situated', 'About', 'musical', 'exquisite', 'guess', 'doomed', 'wet', 'impulse', 'theme', 'summer', 'debate', 'prettier', 'emotion', 'anticipate', 'volunteer', 'housekeeping', 'lengths', 'grieves', 'conceive', 'Valley', 'identify', 'ecstasy', 'pray', 'Whoever', 'accordant', 'anticipating', 'midst', 'ensured', 'passionately', 'portrait', 'smokes', 'thanks', 'tended', 'learn', 'pointedly', 'barbarously', 'extorting', 'insipid', 'restored', 'assured', 'possibly', 'higher', 'penury', 'thankful', 'differently', 'wore', 'disposal', 'subjection', 'pimples', '7', 'busily', 'yesterday', 'Gardens', 'heroism', 'humiliations', 'dirt', 'frequently', 'plantations', 'retained', 'greatly', 'approach', 'introduce', 'expressly', 'return', '21', 'conceal', 'attentively', 'build', 'Upon', 'shades', 'irremediable', 'outgrown', 'cats', 'encouragement', 'birth', 'left', 'Dawlish', 'unfatherly', 'insinuations', 'cherries', 'infamous', 'afterwards', 'bribing', ':--\"', 'enabled', 'whist', 'There', 'clock', 'delightfully', 'pillow', 'lurking', 'whole', 'afflicted', 'fatiguing', 'Sackville', 'picture', 'deliberation', 'exercised', 'attached', 'longer', 'different', 'submit', 'agree', 'performing', 'merrier', 'round', 'cold', 'belonged', 'recent', 'sat', 'owned', 'casement', 'estimation', 'improvements', 'third', 'referred', 'observed', 'listen', 'discourse', 'persisting', 'ones', 'deeper', 'vacate', 'hates', 'admission', 'without', 'extremest', 'theft', 'Rather', 'billiard', 'kill', 'conveniences', 'apricot', 'vexation', 'establishing', 'tete', 'branch', 'amount', 'guardians', 'cough', 'passions', 'offending', 'worried', 'composition', 'fool', 'announced', 'hazarded', 'evident', 'Engagement', 'undivided', 'speedy', 'lost', 'rugged', 'far', 'VERY', 'situations', 'spend', 'impartiality', 'lecture', 'lucky', 'crooked', 'clergyman', 'cavil', 'gives', 'whomsoever', 'mohrs', 'Strange', 'regain', 'indistinct', 'thither', 'colonel', 'intentionally', 'scrupled', '...', 'The', 'satisfactory', 'happening', 'reasoning', 'Knowing', 'admire', 'wherever', 'from', 'gracefulness', 'uncommon', 'inferiority', 'no', 'raised', 'stared', 'bold', 'nineteen', 'headed', 'apprehension', 'besides', 'detaining', 'affording', 'elect', 'departure', 'taxed', 'excepting', 'smaller', 'incessantly', 'coachmaker', 'riches', 'sprained', 'catching', 'uninteresting', 'smiled', 'sting', 'humiliating', 'deficient', 'confessed', 'scrupling', 'laboured', 'tolerable', 'oldest', 'unanimous', 'sweetmeats', 'ate', 'hackneyed', 'blush', 'apologies', 'mortify', 'investigation', 'supplying', 'lines', 'accents', 'hopeless', 'fates', 'blushes', 'blind', 'incompatible', 'mistrust', 'read', 'conforming', 'likeness', 'protested', 'election', 'blast', 'irregular', 'gentlemanlike', 'tone', 'rank', 'speaking', 'directed', 'staid', 'dreaded', 'amiss', 'honeysuckles', 'irreproachable', 'availed', 'dealt', 'none', 'contented', 'abroad', 'simpered', 'threatening', 'projecting', 'granted', 'nettles', 'imminent', 'several', 'sha', 'transacted', 'kindness', 'changes', 'Hanger', 'sends', 'seized', 'reminded', 'also', 'hesitatingly', \"?'\", 'implied', 'gravely', 'deed', 'captivating', 'east', 'sleepless', 'scattered', 'contradictory', 'unobserved', 'colder', 'remarks', 'sorrow', 'disposed', 'triumph', '40', 'perceiving', 'curious', 'fond', 'resume', 'motherly', 'drives', 'false', 'whom', 'lively', 'Esq', 'extorted', 'hearing', 'why', 'park', 'examined', 'required', 'mourning', 'punctual', 'apologising', 'impenetrable', 'wide', 'addition', 'friends', 'critical', 'Biddy', 'forfeiting', 'reasons', 'outweighs', 'attractions', 'maintenance', 'candid', 'irresolute', 'guided', 'sore', 'wants', 'ceiling', 'relations', 'delightful', 'ablest', 'carelessly', 'furnished', 'coats', 'maxim', 'Pall', 'stress', 'amazement', 'observations', 'integrity', 'spirits', 'Sincerely', 'sanguine', 'morrow', 'feather', 'warmth', 'indubitable', 'devil', 'pencil', 'Yes', 'enquire', 'puppies', 'forms', 'indeed', 'conspired', 'resisted', 'gave', 'Were', 'em', 'banished', 'visibly', 'valueless', 'completely', 'blame', 'patience', 'Ashamed', 'marking', 'detested', 'appropriate', 'discerning', 'knew', 'cast', '!\"--', 'No', 'using', 'residence', 'minds', 'insensibility', 'measured', 'willing', 'external', 'defects', 'strengthening', 'reflect', 'accosted', 'ingenious', 'unconcern', 'collation', 'Affecting', 'reproved', 'tame', 'get', 'Design', 'general', 'disrespectfully', 'profiting', 'interfering', 'Friday', 'advanced', 'concealment', 'grows', 'raillery', 'suspects', 'heroically', 'denoted', 'seat', 'generations', 'borne', 'Or', 'BEEN', '17', 'starved', 'introduced', 'brings', 'visit', 'spontaneous', 'determinate', 'Taylor', 'variety', 'Anne', 'answered', 'dissipated', 'lowness', 'glass', 'provoked', 'describe', 'obstinacy', 'couples', 'negotiation', 'notes', 'works', 'marrying', 'heightened', 'state', 'entered', 'clearing', 'slightingly', 'difficult', 'visitors', 'intruder', 'Elinor', 'moan', 'syllables', 'actually', '39', 'agitate', 'slope', 'partiality', 'stare', 'inevitable', 'altering', 'OCCASION', 'ineffectual', 'demands', 'considers', 'enemy', 'conceit', 'unfortunate', 'directing', 'indolence', 'shyness', 'impudently', 'appearance', 'defer', 'simpering', 'singly', 'loving', 'mental', 'Dr', 'daughters', 'violently', 'own', 'puzzle', 'seated', '?\"', 'report', 'enormously', 'rheumatic', 'grieve', 'independent', 'believed', 'belonging', 'horizon', 'detail', 'eat', 'crowned', 'halves', 'grievous', 'fault', 'cross', 'stealing', 'bowling', 'ere', 'chimney', 'incessant', 'sincerely', 'repeatedly', 'struck', 'entitled', 'luck', 'safeguard', 'backwardness', 'Tell', 'surpassing', 'severe', 'enfranchisement', 'mother', 'bruised', 'cry', 'founded', 'meal', 'Holburn', 'sporting', 'presents', 'EDWARD', 'trial', 'treating', 'hint', 'unwillingly', 'lie', 'steward', 'richer', 'despondence', 'fresh', 'travellers', 'accepted', 'treasured', 'impropriety', 'move', 'warranted', 'MIND', 'dressing', 'ample', 'presenting', 'contradict', 'cloud', 'booksellers', '20', 'Can', 'Others', 'strange', 'Somerset', 'beat', 'absolute', 'print', 'unequal', 'gloves', 'LONG', 'soured', 'china', 'unless', 'exigence', 'wretched', 'rendering', 'likes', 'disobedient', 'dotted', 'Norland', 'veracity', 'insulting', 'scanty', 'forget', 'colour', 'discern', 'SOMETIMES', 'hour', 'doubt', 'keen', 'weathered', 'sides', 'arriving', 'page', 'disclaiming', 'Excuse', 'mothers', 'all', 'imbibed', 'favourable', 'spare', 'clapped', 'inherit', 'hardily', 'involuntary', 'aching', 'Grandeur', 'September', 'raises', 'toward', 'playthings', 'conveniently', 'amiably', 'Mistress', 'artificial', 'direction', 'announcing', 'promontories', 'objection', 'unlucky', 'contraction', 'retreating', '29', 'banker', 'provisions', 'adieu', 'hardening', 'inexperience', 'submitting', 'decisions', 'cheat', 'adjusting', 'rapturous', 'affectionately', 'rid', 'affairs', 'for', 'indifferent', 'cheek', 'news', 'MONTH', 'delighful', 'people', 'abused', 'Who', 'redeem', 'damp', 'language', 'minor', 'smiles', 'fancying', 'entering', 'admitted', 'scruples', 'aches', 'most', 'arranged', 'shy', 'Believe', '12', 'distressing', 'sign', 'steadily', 'rider', 'persuasion', 'cultivated', 'thinks', 'preferment', 'these', 'forcing', 'such', 'ten', 'supposition', 'unaccountably', 'humility', 'gossip', 'afternoon', 'full', 'died', 'revealment', 'displeased', 'befallen', 'library', 'divide', 'inspect', 'comfort', 'ingratiating', 'plague', 'erred', 'beg', 'yielded', 'air', 'duty', 'absence', '1', 'plain', 'inn', 'recently', 'heartiness', 'appetite', 'preferring', 'Mansion', 'desponding', 'yes', 'tattered', 'tea', 'Vanity', 'governed', 'knave', 'rash', 'likely', 'foresaw', 'ye', 'accommodation', 'declares', 'modestest', 'comment', 'Ferrars', 'Oxford', 'reclaim', 'accordingly', 'hearer', 'tomorrow', 'believe', 'gentleman', 'coffee', 'compass', 'ONCE', 'neck', 'Duty', 'place', 'troublesome', 'tuned', ';--', 'rushed', 'gardener', 'concession', 'prevent', 'pleasantest', 'Beyond', 'Against', 'feared', 'steadiness', 'While', 'Reserved', 'vowed', 'LET', 'incurable', 'Constantia', 'civil', 'satisfy', 'sighing', 'related', 'originated', 'dispatched', 'indulging', 'decision', 'humble', 'maxims', 'spiritless', 'consultation', 'forlorn', 'diffuse', 'THEM', 'kitchen', 'encouraging', 'jointure', 'uncomfortable', 'judged', 'hysterics', 'fuss', 'torrent', 'seasons', 'riding', 'corner', 'murmurings', 'Thursday', 'absolutely', 'negative', 'knocking', 'met', 'extolling', 'creating', 'distrust', 'yourself', 'outdone', 'accent', 'attentive', 'reproaching', 'hospitable', 'Preparation', 'servant', 'acquit', 'viewed', 'habitual', 'meetings', 'send', 'wound', 'Magna', 'upright', 'settled', 'Henshawe', 'desertion', 'seal', 'divine', 'robbed', 'emergence', 'faulty', 'St', 'stirring', 'poured', '49', 'deficiencies', 'surely', 'exorbitant', 'already', 'admiring', 'five', 'supported', 'civility', 'concealing', 'exclamation', 'uncle', 'performance', 'Come', 'Hanover', 'reprimand', 'stranger', 'thrill', 'prepared', 'utter', 'arise', 'injured', 'heavily', 'club', 'care', 'approbation', 'droll', 'retrenched', 'public', 'awakened', 'reproving', 'REALLY', 'whenever', 'heads', 'valuable', 'injustice', 'handsomely', 'embellishments', 'genial', 'trades', 'considerable', 'Now', 'conversing', 'dirty', 'magnanimity', 'rectitude', 'Much', 'claim', 'indication', 'did', 'remainder', 'WERE', 'surprising', 'idolized', 'extraordinary', 'orders', 'horseback', 'Exeter', 'conceited', 'with', 'lip', 'shew', 'She', 'sympathy', 'disapproved', 'guineas', 'shrewd', 'trivial', 'vindication', 'white', 'lips', 'preparing', 'Bonomi', 'faint', 'learned', 'Robert', 'contenting', 'off', 'elegance', 'unabated', 'foibles', 'firmer', 'inheriting', 'enjoyment', 'belongs', 'country', 'unforeseen', 'assure', 'vivacity', 'A', 'sentences', 'bent', 'cote', 'Allow', 'awhile', 'turned', 'Lady', 'compunction', 'exceedingly', 'philosophy', 'meet', 'so', 'worded', 'depends', 'earnestly', 'commission', 'screened', 'abandoned', 'Sir', 'Hon', 'accurately', 'seriously', 'connoisseurship', 'deter', 'Gracious', 'cries', 'awkwardness', 'rain', 'confessedly', 'Nothing', 'pause', 'subdue', 'irritable', 'consternation', 'agreeable', 'strengthen', 'jewels', 'wrought', 'superintend', 'assented', 'rheumatisms', 'swoon', 'wealthy', 'material', 'saying', 'pleasant', 'Epicurism', 'entanglement', 'unpleasantness', 'affect', 'shrubbery', 'unpleasantest', 'words', 'slightly', 'bout', 'Somehow', 'frank', '9', 'notice', 'Cross', 'enamoured', 'praises', 'next', 'decent', 'adding', 'claiming', 'impertinence', 'discovering', 'vanish', 'objections', 'apprehensions', 'Gentleman', 'substance', 'drive', 'incomprehensible', 'instruction', 'stew', 'dejection', 'tasted', 'deliverance', 'Richardsons', 'mood', 'solidly', 'surviving', 'plenty', 'occupation', 'SHALL', 'anticipations', 'forgive', 'sealed', 'CATCHING', 'bit', 'reverie', 'irritation', 'hung', 'Ay', 'dying', 'inflicting', 'languages', 'inventing', 'contend', 'relate', 'try', 'contrary', 'infants', 'brooding', 'obtaining', 'glebe', 'wealth', 'shooting', 'applying', 'best', 'wiser', 'interest', 'snug', 'wildest', 'outraged', 'ALWAYS', 'height', 'saves', 'path', 'consider', 'stretch', 'foresee', 'compared', 'benignant', 'Consider', 'allow', 'transparency', 'eligible', 'take', 'Betty', 'HAD', 'always', 'widower', 'sex', 'generosity', 'slight', 'direct', 'lane', 'Secrecy', 'encumbered', 'blundered', 'boiled', 'horse', 'exactness', 'candlelight', 'often', 'shoulders', 'stopped', 'luxury', 'deceived', 'deficiency', 'suffice', '-?\"', 'allusion', 'understanding', 'pacified', 'lock', 'embarrassment', 'limits', 'asked', 'placed', 'greatest', ';\"--', 'gratifying', 'gathering', 'sympathize', 'lest', 'Short', 'plan', 'whatever', 'rapid', 'existed', 'TWO', 'release', 'residing', 'unitedly', 'permission', 'fainting', 'enquiring', 'puppyism', 'satirical', 'law', 'fortunately', 'grandeur', 'ushered', 'replying', 'intrusion', 'perceptible', 'charged', 'depend', 'doubts', '\"\\'', 'Lombardy', 'undoubted', 'cannot', 'negligence', 'abhor', 'speak', 'inquisitive', 'song', 'distinguish', 'sort', 'glad', 'forgetting', 'thoughts', 'likelihood', 'gift', 'acts', 'forced', 'rude', 'suspense', 'frequent', 'protect', 'follows', 'earthly', 'cautiousness', 'part', 'fully', 'resemblance', 'insincere', 'thirteen', 'mirth', 'contrition', 'fame', 'endeavour', 'varied', 'came', 'provided', 'lowering', 'thin', 'ungenerous', 'appointment', 'frightful', 'calculated', 'generous', 'medicine', 'Hitherto', 'look', 'regularity', 'lamentation', 'maid', 'interim', 'repair', 'hit', 'fancy', 'joking', 'braving', 'troop', 'persisted', 'cordially', 'journey', 'prose', 'genteelly', 'deserving', 'disposition', 'intention', 'abridgement', 'tongue', 'balls', 'nearest', 'light', 'COULD', 'appeared', 'parcels', 'recollecting', 'James', 'children', 'unobtrusiveness', 'away', 'reality', 'more', 'boy', 'astonishing', 'confidant', 'nearer', 'imperfectly', 'Life', 'poverty', 'falls', 'virtues', 'dearer', 'To', 'gloomy', 'Yet', 'Till', 'subsisting', 'parliament', 'felicity', 'Go', '28', 'compare', 'accommodating', 'conducted', 'Eliza', 'destroys', 'showed', 'insufferably', 'brief', 'souls', 'unceasing', 'glances', 'Please', 'avowal', 'trifle', 'deeply', 'alarming', 'or', 'inquietude', 'arguments', 'impudence', 'sharing', 'worry', 'Do', 'helpless', 'ESTEEM', 'remembering', 'unprincipled', 'recovered', 'reason', 'remembers', 'branched', 'book', 'vacant', 'dropped', 'lounging', 'calming', 'disturb', 'smile', 'atmosphere', 'conscious', 'supplied', 'obligingly', 'excursive', 'patronage', 'Good', 'attendants', 'rare', 'Volume', 'unrestrained', 'openly', 'Certainly', 'wrote', 'esteeming', 'strikes', 'prodigiously', 'have', 'remains', 'approve', 'shop', 'unchanging', 'season', 'accomplishment', 'meditated', 'affixed', 'dissimilar', 'imagined', 'Ungracious', 'pace', 'chanced', 'refusing', 'Very', 'Farm', 'Dashwood', 'sorry', 'proclaimed', 'disregarded', 'archness', 'pleasures', 'adhering', 'under', 'Sense', 'escape', 'running', 'blunt', 'purse', 'obtained', 'precision', 'unpleasant', 'Fifty', 'attending', 'meant', 'stipulate', 'speedily', 'inquire', 'pursue', 'labor', 'hints', 'engaging', 'silently', 'carelessness', 'Doctor', 'troubles', 'put', 'world', 'buy', 'effusions', 'indignity', 'eloping', 'insensible', 'exact', 'nurses', 'least', 'decide', 'curricle', 'niece', 'indolent', '6', '-?', 'concern', 'Cleveland', 'vigorous', 'agreeing', 'messages', 'unluckily', 'heavens', 'situation', 'descend', 'passage', 'Once', 'requesting', 'criminal', 'inclosing', 'counter', 'aspect', 'exactly', 'beautiful', 'Men', 'Imagine', 'annum', 'amply', 'mistakes', 'urgent', 'glance', '30', 'deliberate', 'penny', 'examining', 'sons', 'broke', 'views', 'meaning', 'bequeath', 'absurdity', 'abounded', 'resisting', 'Simpson', 'mean', 'blunder', 'detest', 'attempt', 'joys', 'reluctance', 'got', 'praise', 'walks', 'roused', 'before', 'indulge', 'quite', 'paint', 'mortified', 'overspreading', 'black', 'eligibility', 'twelvemonth', 'ride', 'and', 'gallop', 'ankle', 'censured', 'flushed', 'give', 'unconcerned', 'violence', 'exchanged', 'Bishop', 'miles', 'sister', 'remained', 'unexpected', 'probably', 'God', 'vulgarity', 'accompany', 'itself', 'previously', 'confederacy', 'imagination', 'stationer', 'combat', 'submitted', '\"', 'foreseen', 'abstracted', 'stirred', 'friendship', 'proud', 'successively', 'eating', 'expenses', 'Every', 'gratify', 'fatigues', \".'\", 'raise', 'beyond', 'exuberance', 'governing', 'professed', 'resist', 'removal', 'extremely', 'stop', 'handsomer', 'strangeness', 'complained', 'accounts', 'artless', 'attention', 'concluded', 'ennui', 'vouchsafe', 'night', 'unbounded', 'intends', 'noon', 'clothes', 'solicitous', 'bonnet', '44', 'calling', 'visited', 'agitated', 'sooner', 'variations', 'complaisance', 'patient', 'Ladyship', 'another', 'prejudices', 'eagerness', 'selfishness', 'breakfast', 'unworthiness', 'protest', 'partook', 'arms', 'perpetual', 'affirmative', 'thoughtless', 'dearest', 'card', 'shuffling', 'elder', 'argument', 'went', 'addresses', 'occasion', 'ungrateful', 'infection', 'consoled', 'constitution', 'Burgess', 'rushing', 'frivolous', 'edge', 'ways', 'days', 'jargon', 'reformed', 'inflict', 'groom', 'profited', 'drain', '1811', 'gravity', 'Mid', 'shown', 'bigger', 'unexhilarating', 'Which', 'trace', 'wicked', 'Priory', 'laudable', 'discovery', 'foresight', 'refused', 'freedom', 'suspicions', 'moved', 'Esteem', 'find', 'still', 'violoncello', 'Just', 'issued', 'interrupted', 'name', 'forty', 'ascertained', 'publishing', 'Monday', 'insincerity', 'feminine', 'annuities', 'lightly', 'grace', 'looks', 'deprive', 'regulated', 'explained', 'witness', 'instantaneous', 'gowns', 'obstacles', 'stated', 'lamps', 'reverse', 'demur', 'requires', 'eight', 'charge', 'theirs', 'bowed', 'pausing', 'chairs', 'speed', 'expression', 'ME', 'trim', 'contribution', 'personally', 'demonstrations', 'beloved', 'solemnity', 'scene', 'proclaiming', 'desperate', 'behave', 'guessed', 'reproach', 'fitted', 'private', 'deemed', '3', 'Let', 'relief', 'Sometimes', 'La', 'rapture', 'dissatisfied', 'convenience', 'atone', 'chambers', 'new', 'attachment', 'drink', 'appear', 'dinners', 'comings', 'compact', 'come', 'silly', 'strongest', 'hitherto', 'town', 'unchanged', 'tranquilize', 'Supposing', 'companion', 'case', 'during', 'preference', 'connect', 'everlasting', 'forbore', 'interrupting', 'aloud', 'suddenly', 'yet', 'Colonel', 'generally', 'conciliation', 'pursuits', 'elsewhere', 'lingering', 'gathered', 'death', 'prevail', 'Casino', 'hall', 'dining', 'dearly', 'humanity', 'employments', 'answer', 'finest', 'prescience', 'spared', 'adopted', 'Thunderbolts', 'guessing', 'interfere', 'attack', 'HERS', 'myself', 'series', 'tempt', 'enraged', 'protestations', 'unembarrassed', 'dreadfully', 'eloquence', 'offend', 'shift', 'body', 'decided', 'smartness', 'transact', 'beau', 'destiny', 'avail', 'behaviour', 'accepting', 'every', 'Shakespeare', 'back', 'quitting', 'conveyed', 'except', 'trusting', 'breakfasting', 'dwell', 'Pity', 'soft', 'vile', 'idled', 'whiter', 'WORD', 'acting', 'drawing', '16', 'Confess', 'listened', 'sense', 'ladyship', 'proportioned', 'solid', 'defend', 'neglect', 'proprietor', 'giddy', 'diffident', 'reflected', 'nature', 'tumbling', 'affection', 'sometimes', 'let', 'courting', 'memento', 'according', 'guest', 'strangers', 'Scott', 'delay', 'steep', 'We', 'consequence', ',--', 'representation', 'sitting', 'describing', 'revived', 'listener', 'conscientiously', 'wounding', 'surrounding', 'seats', 'unexpressed', 'kissed', 'fetching', 'Parsonage', 'adequate', 'prenticed', 'refinements', 'perplexed', 'widow', 'studied', 'looking', 'dejected', 'dogs', 'conclusion', 'pianoforte', 'inquiry', 'vouchsafed', 'torn', 'happened', 'demand', 'Really', 'Within', 'tax', 'associating', 'Sure', 'carpet', 'unexpectedly', 'colouring', 'contemptuously', 'unreasonable', 'allowances', 'mediation', 'caused', 'sprung', 'joked', 'walnut', 'forgiven', 'unknown', 'girl', 'handkerchief', 'welcomed', 'tidy', 'unshaken', 'prospect', 'hoped', 'urging', 'dawned', ',\"', 'since', 'd', 'Remember', 'value', 'nasty', 'carefulness', 'politics', 'test', 'closed', 'unsubdued', 'wait', 'acceptance', 'W', '!\\'\"', 'evidently', 'gone', 'produce', 'ungracious', 'understand', 'tithes', 'security', 'going', 'powers', 'severely', 'cheerful', 'countenance', 'appearances', 'advancing', 'gratefully', 'Few', 'compassionate', 'determination', 'run', 'doubted', 'caprice', 'forbear', 'grave', 'Without', 'learning', 'defect', 'whispering', 'incredulity', 'solemn', 'chamber', 'dancing', 'vigour', 'longest', 'fly', 'cause', 'confusedly', 'comprehended', 'dividing', 'bind', 'communication', 'saucy', 'tale', 'delight', 'because', 'moderate', 'courage', 'retailed', 'pardonable', 'omitted', 'pounds', 'convenient', 'protection', '35', 'ask', 'estimate', 'novelty', 'Hamlet', 'forth', 'fill', 'capability', 'staircase', 'll', 'overstrained', 'poorly', 'lawn', 'share', 'suffered', 'blackest', 'Michaelmas', 'sentence', 'parish', \";'\", 'endeavours', 'disagreement', 'Altogether', 'inforce', 'painting', 'disapproving', 'liberal', 'timber', 'genuine', 'frugality', '.--', 'pitched', 'exultation', 'worth', 'per', 'gross', 'complaint', 'interrupt', 'Encouraged', 'letter', 'grieving', 'suggested', 'concerned', 'Oh', 'my', 'inattentive', 'hanging', 'villain', 'inconveniences', 'disorder', 'court', 'sake', 'what', 'January', ':', 'sacrificing', 'lot', 'Three', 'HIS', 'remaining', 'despised', 'pursuit', 'hinder', 'thorns', 'couple', 'cure', 'mine', 'hours', 'intelligent', 'esteems', 'senses', 'Well', 'confined', 'invent', '50', 'heartily', 'complain', 'wisdom', 'frighten', 'seldom', 'insolent', 'wind', 'humouring', 'though', 'discretion', 'pretends', 'impose', 'inquired', 'Smith', 'As', 'usage', 'unkindly', 'singing', 'immoveable', 'rupture', 'cheeks', 'leagued', 'Last', 'safe', 'Devonshire', 'commanded', 'suspended', 'peculiar', 'travel', 'does', 'Astonishment', 'yield', 'persevered', 'liveliness', 'boldly', 'allowance', 'blinded', 'unreasonably', 'set', 'fettered', 'mulberry', 'ceasing', 'stammered', 'My', 'independently', 'ALL', 'fashionable', 'Don', 'sick', 'carried', 'presided', 'handle', 'westerly', 'principally', 'bitter', 'fretful', 'considerate', 'points', 'Columella', ')--', 'disgrace', 'Are', 'entrance', 'fastidious', 'ridiculous', 'derive', 'IS', 'signs', 'exclaimed', 'commonly', 'accomplished', 'merely', 'pretensions', 'pass', 'probability', 'mass', 'keeping', 'bell', 'complete', 'guarded', 'anxiety', 'screamed', 'sure', 'habit', 'music', 'single', 'reservedness', 'real', 'found', 'regulate', 'expressed', 'sharp', 'blights', 'owe', 'For', 'Aye', 'hardened', 'So', 'saw', 'persons', 'consideration', 'voices', 'suspected', 'blamable', 'failure', 'expects', 'Among', 'disappeared', 'eagerly', 'induced', 'militate', 'penetration', 'sound', 'religion', 'proclaim', 'earth', 'proofs', 'imaginable', 'figure', 'insufficiency', 'admires', 'inexcusable', 'solicitations', 'Amongst', 'included', 'plaguing', 'dispatch', 'WHAT', 'atoning', 'wept', 'graces', 'coachman', 'events', '45', 'approved', 'filigree', 'Careys', 'reconciled', 'Bad', 'disengagement', 'shut', 'prejudice', 'effectual', 'wife', 'unavoidable', 'copied', 'morality', 'money', 'publication', 'talked', 'memory', 'annihilation', 'eye', 'quiet', 'fixing', 'Something', 'estimable', 'dispirited', 'forwarding', 'unavailing', 'woman', 'threatened', 'be', 'scarcely', 'whither', 'outstripped', 'mark', 'uncertain', 'bequest', 'storm', 'families', 'throw', 'chaise', 'receipt', 'commendation', 'quick', 'rapturously', 'wanted', 'sportsman', 'essential', 'jilting', 'solicitation', 'himself', 'abhorred', 'remembrances', 'chuckle', 'officiously', 'tablecloth', 'dissipation', 'rob', 'apparently', 'attacked', 'reciprocal', 'rationally', 'slighter', 'laughter', 'funeral', 'losing', 'shelter', 'teach', 'genuinely', 'decisive', 'accommodate', 'closing', 'wood', 'graciousness', 'butcher', '!', 'reconsider', 'blessings', 'unspeakable', 'untouched', 'resettled', 'says', 'hardship', 'Think', 'unfair', 'reflecting', 'unlikely', 'KNEW', 'Harry', 'plate', 'stock', 'mutually', 'faces', 'indignation', 'persuading', 'sources', '-', 'complaining', 'uproar', 'rousing', 'rising', 'thick', 'II', 'Of', 'novel', 'few', 'preyed', 'undervalued', 'indispensably', 'flower', 'keep', 'Opportunity', 'conversed', 'Fanny', '...\"', '22', 'any', 'subdued', 'liquor', 'certainly', 'concise', 'sighed', 'action', 'serious', 'smitten', 'deliver', 'detract', 'danced', 'impatience', 'porter', 'else', '46', 'solemnly', 'indecision', 'impatient', 'feebleness', 'unfeigned', 'saved', 'benefit', 'calls', 'eager', 'explanation', 'tortured', 'denoting', 'interposed', 'purpose', 'unhappy', 'injunction', 'spoiling', 'bags', 'February', 'bachelor', 'lodges', 'positively', 'drove', 'angry', 'individual', 'incommode', 'tribute', 'immediate', 'tempers', 'rascally', 'Our', 'speculation', 'Between', 'totally', 'Cartwright', 'philippic', 'fatigued', 'treated', 'altogether', 'gratitude', 'howsever', 'scornfully', 'meadows', 'narrator', 'WILL', 'confidante', 'circuit', 'seen', 'sloping', 'hearty', 'friendly', 'Harris', 'was', 'extreme', 'censure', 'kicked', 'open', 'overcame', 'excuse', 'grievance', 'cant', 'dupe', 'painted', 'undeserving', 'intervals', 'succeeding', 'untried', 'thickly', 'robbing', 'existence', 'witticisms', 'tuition', 'houses', 'happiest', 'carriages', 'impartial', 'Sparks', 'Master', 'manner', 'petty', 'behind', 'purposely', 'intreat', 'beauty', 'her', 'themselves', 'vehemence', 'therefore', 'asunder', 'us', 'between', 'grown', 'preferable', 'names', 'fondness', 'particularity', 'prompted', 'luckily', 'imply', 'restless', 'known', 'Palmer', 'foolishly', 'stimulated', 'thistles', 'sagaciously', 'they', 'chusing', 'pride', 'hear', 'roared', 'only', 'favourite', 'meditations', 'liberty', 'banns', 'feels', 'pleased', 'cottage', 'home', 'Brown', 'rewarded', 'Jane', 'fainter', 'flourish', 'consisted', 'guests', 'beaux', 'knees', 'precise', 'Temple', 'calmly', 'shade', 'residue', 'brothers', 'strive', 'repeating', 'justify', 'gratification', 'employed', 'note', 'resists', 'suffers', 'deceiving', 'traded', 'courtesy', 'Delaford', 'indignantly', 'sounds', 'decently', 'superiority', 'Disappointment', 'attributing', 'shillings', 'room', 'frost', 'owners', 'time', 'ceased', 'Dullness', 'post', 'forgotten', 'healthful', 'Miss', 'shed', 'pleasantly', 'pulled', 'unreserved', 'ascended', 'artful', 'began', 'exclamations', 'thence', 'features', 'respectful', 'fat', 'willingness', 'whether', 'hated', 'disapproves', 'writing', 'sunk', 'intercourse', 'impertinently', 'puppy', 'Some', 'good', 'Portman', 'virtuous', 'don', 'inelegant', 'risking', 'unanswerable', 'placing', 'urgency', 'gentle', 'shivering', 'striving', 'dinner', 'helpmate', 'benevolence', 'consists', 'stayed', 'drinking', 'gloried', 'week', 'admitting', 'hereafter', 'proposition', ',)', 'laid', 'concessions', 'sisters', 'fir', 'endear', 'half', 'impertinent', 'joined', 'guidance', 'torture', 'distress', 'la', 'curiosity', 'visitor', 'steadier', 'living', 'pointer', 'youthful', 'counteract', 'garret', 'rejoiced', 'advised', 'monkey', 'slighting', 'inarticulate', '38', 'oh', 'dwelt', 'worse', 'instead', 'knowledge', '23', 'however', 'notions', 'which', 'blessed', 'afforded', 'cruelly', 'successfully', 'quarters', 'reasonable', 'coming', 'doors', 'deceive', 'farewell', 'respectable', 'invariable', 'missed', 'served', 'proved', 'those', 'embraces', 'talks', 'Sally', 'repose', 'freeze', 'jealousy', 'sensations', 'encouraged', 'seeming', 'seating', 'sociable', 'livings', 'smart', 'US', 'knack', 'prescribed', 'atoned', 'driving', 'brush', 'started', 'traced', 'involved', 'Little', 'refreshments', 'practice', 'road', 'frankness', 'starting', 'parted', 'unfolded', 'reports', 'envy', 'genius', 'misfortune', 'acutely', 'foreseeing', 'makes', 'sending', 'cheerfulness', 'procuring', 'address', 'length', 'hastily', 'keys', 'respecting', 'deserts', 'pressing', 'linger', 'a', 'assiduities', 'suitor', 'oath', 'restraint', 'hunts', 'anticipated', 'faded', 'expect', 'significant', 'two', 'imaginations', 'threats', 'precious', 'Again', 'received', 'pull', 'equality', 'immoderately', 'walked', 'consequently', 'disinterested', 'swallow', 'thrown', 'backwards', 'improving', 'favourites', 'art', 'Towards', 'distinguishing', 'rapidly', 'street', 'honour', 'stepped', 'measures', 'compound', 'anger', 'FERRARS', 'intruding', 'Astonished', 'Mine', 'decay', 'neglected', 'mountain', 'fit', 'Grecian', 'govern', 'wild', 'resigned', 'our', 'carrying', 'hair', 'ordered', 'treat', 'never', 'watch', 'change', 'middle', 'worthy', 'Allenham', 'deny', 'fortunate', 'aware', 'caricature', 'its', 'merest', 'holding', 'accident', 'blown', 'fail', 'correspondence', 'endeavoured', 'TWICE', 'honestly', 'secures', 'windows', 'lead', 'ay', 'justice', 'worlds', 'malevolence', 'opening', 'foretold', 'fourteen', 'dissent', 'philosophic', 'invented', 'stone', 'Bartlett', 'way', 'careful', 'lobby', 'unwarily', 'expand', 'ardour', 'flowed', 'await', 'chaperon', 'while', 'might', 'remark', 'cease', 'bursts', 'hills', 'medium', 'rub', 'building', 'scratch', 'watched', 'weeks', 'apothecary', 'bestow', 'diction', 'Take', 'flaring', 'about', 'happily', 'disagreements', 'recital', 'dog', 'distinguished', 'scale', 'clouds', 'infer', 'asleep', 'compliments', 'improperly', 'decrease', 'Building', 'angel', 'fullest', 'destroyed', 'perfection', 'shock', 'occupy', 'Ellison', 'being', 'asking', 'slumber', 'Luckily', 'circumstance', 'undesignedly', 'hither', 'heart', 'fertile', 'dissembling', 'benefactress', 'dismounted', 'preceded', 'necessitous', 'lightened', 'yearly', 'unamiable', 'possessed', 'joy', 'expense', 'charming', 'Relate', 'violins', 'decree', 'cod', 'article', 'seventeen', 'fourth', 'roads', 'reserved', 'delighted', 'reward', 'truly', 'unnecessary', 'luxurious', 'paused', 'solitude', 'improvement', 'mounted', 'hunt', 'styled', 'perfectly', 'smirked', 'sincere', 'told', 'firmly', 'destination', 'confirming', 'attaching', 'their', 'motives', 'degraded', 'duets', 'replied', 'ends', 'submissive', 'brought', 'discontented', 'banish', 'comprehension', 'transgressed', 'borrow', 'innocence', 'interests', 'him', 'commissioned', 'said', 'he', 'exclaim', 'beasts', 'moving', 'enough', 'indulgent', 'bears', 'environs', 'closer', 'significantly', 'seemed', 'lose', 'punctuality', 'securing', 'stable', 'judiciously', 'baby', 'goodby', 'forward', 'spoken', 'subject', 'improved', 'garden', 'blameless', 'dispersing', 'rather', 'Courtland', 'ground', 'desiring', 'answers', 'here', 'advance', 'transport', 'coxcomb', 'mercy', 'stood', 'ruined', 'Each', 'conference', 'unusually', 'succour', 'eldest', 'salutation', 'exercising', 'separately', 'complicated', 'healing', 'hundred', 'enumeration', 'moreover', 'disquiet', 'short', 'Most', 'discompose', 'D', 'observer', 'succeed', 'pleasanter', 'score', 'witnessed', 'duties', 'succeeded', 'establish', 'leave', 'growing', 'weddings', 'John', 'goings', 'Hope', 'laugh', 'disposing', 'Park', '.\"--', 'newspaper', 'despatch', 'lasting', 'hostile', 'confusion', 'released', 'headstrong', 'warning', 'illness', 'having', 'suited', 'collected', 'trick', 'uneasiness', 'exercise', 'lasted', 'cards', 'sacrificed', 'age', 'Marlborough', 'coldness', 'shape', 'jealousies', 'prior', 'beginning', 'view', 'perform', 'refreshed', 'drawn', 'steps', 'handed', 'dispose', 'lavender', 'ANY', 'performances', 'deprived', 'Richard', 'attempting', 'Barton', 'slow', 'prudently', 'symptom', 'obstacle', 'solicitude', 'unaffectedly', 'ornaments', 'rise', 'Indeed', 'Dear', 'ladies', 'rectory', 'induce', 'comforter', 'information', 'relative', 'assiduous', 'horrible', 'vulgar', 'poplars', 'permitted', 'led', 'sufficiently', 'spirit', 'command', 'stole', 'invention', 'became', 'dance', 'workmen', 'heaven', 'Going', 'uninfluenced', 'peace', 'inattention', 'accusation', 'confound', 'see', 'weak', 'horridly', 'steepest', 'enthusiastic', 'circle', 'parent', 'disastrous', 'effecting', 'Avignon', 'propose', 'examination', 'finds', 'romantic', 'curate', 'merriment', 'carries', 'insipidity', 'quieted', 'stepping', 'unhappiness', 'whence', 'offered', 'expensive', 'Wednesday', 'enrich', 'relics', 'end', 'terrible', 'CAN', 'owner', 'resuscitation', 'pocket', 'intimated', 'females', 'heir', 'pangs', 'interference', 'offences', 'expensiveness', 'summons', 'disappointing', 'older', 'urged', 'condolence', 'Gilberts', 'bye', 'awaking', 'enforcement', 'forgiveness', 'contracted', 'punishment', 'brood', 'opportunity', 'surrounded', 'example', 'avarice', 'nay', 'throughout', 'scheme', 'conscience', 'united', 'neat', 'blackguard', 'alter', 'spent', 'imperfection', 'opinions', 'Square', 'Sensibility', 'retreated', 'enfeebled', 'cousins', 'comments', 'discovered', 'gates', 'supplanted', 'ordained', 'fix', 'delays', 'irritated', 'frequency', 'commercial', 'lit', 'befalls', 'dares', 'equally', 'mentioning', 'inconsiderately', 'would', 'marry', 'termination', 'inconsolable', 'sellers', 'winks', 'violent', 'wiping', 'line', 'final', 'THESE', 'pasturage', 'morning', 'had', 'warmly', 'resolving', 'Watched', 'sport', 'bow', 'apartment', 'each', 'fatigue', 'acquaintance', 'sin', 'fearing', 'chat', 'tranquil', 'apologize', 'drew', 'insignificance', 'pursued', 'affluence', 'outlived', 'bright', 'loose', 'debts', 'repent', 'knowing', 'lessen', 'secrecy', 'convince', 'ash', 'bluster', 'frightened', 'qualified', 'sole', 'sensibly', 'appointed', 'live', 'resented', 'rocks', 'indigence', 'depended', 'installed', 'ought', 'weaken', 'Margaret', 'group', 'awaken', 'thorough', 'blasted', 'lay', 'tardy', 'Bristol', 'female', 'chair', 'Folly', 'played', 'practise', 'suspicion', 'contents', 'progress', 'not', 'practicable', 'obeyed', 'glowing', 'vigor', 'indulged', 'attended', 'conjecture', 'behaved', 'certainty', 'gazing', 'similar', 'other', 'awful', 'decisively', 'hold', 'sly', 'conjurer', 'intent', '26', 'stairs', 'aye', 'declined', 'instrument', 'attracted', 'madness', 'Exchange', 'accidently', 'ease', 'inhabiting', 'ordinary', 'experiencing', 'importunate', 'ONE', 'strong', 'malady', 'beauties', 'slowly', 'writer', 'ordination', 'shutting', 'promoting', 'acceptably', 'innumerable', 'LOOKED', 'division', 'usually', 'that', '33', 'warmest', 'playful', 'systems', 'Morton', 'ours', 'sugar', 'But', 'gum', 'taverns', 'opposed', 'secure', 'bore', 'affects', 'pardon', 'condescend', 'Whenever', 'fortune', 'representations', 'family', 'fortitude', 'barbarous', 'is', 'gales', 'ranked', 'withdrawn', 'relieve', 'Christian', 'joining', 'books', 'Early', 'vain', 'uppermost', 'regard', 'Engaged', 'strictest', 'evenings', 'throat', 'struggled', 'are', 'ailment', 'Want', 'extensive', 'respectability', 'clever', 'hardly', 'assertions', 'feeding', 'Determined', 'ability', 'certainties', 'village', 'consistent', 'dictate', 'Abundance', 'honourable', 'choice', 'perfections', 'formal', 'seclude', 'consequences', 'retreat', 'intentions', 'drift', 'requiring', 'audible', 'worthiest', 'undertaking', 'monopolize', 'hue', 'silence', 'competence', 'removed', 'unpacked', 'temperate', 'permit', 'Being', 'repressed', 'at', 'credulous', 'shoes', '200', \",'\", 'goes', 'flourishing', 'remembered', 'interruption', 'Should', 'disappoint', 'lamentations', 'Wait', 'amusement', 'apartments', 'hussy', 'becoming', 'comparisons', 'flattering', 'mortifying', 'denote', 'debt', 'conformity', 'Mary', 'inducement', 'acquisition', 'prospects', 'angrily', 'doting', 'eventually', 'mistaken', 'sufferings', 'continuance', 'Edward', 'northward', 'history', 'out', 'follow', 'punish', 'lies', 'rolling', 'restrained', 'affronting', 'apparent', 'Did', 'personal', 'bad', 'bowing', 'temple', 'greater', 'stopping', 'instigation', 'implies', 'stiffly', 'nerve', 'gay', 'cleared', 'taught', 'twelve', 'galling', 'picturesque', 'stuff', 'relinquished', 'pronounce', 'distractedly', 'faults', 'During', 'sweetly', 'adieus', 'begun', 'county', 'deciding', 'assist', 'travelled', 'dissatisfaction', 'nt', 'wooded', 'unsuited', 'JOHN', 'cherished', 'entirely', 'overcoming', 'manager', 'shall', 'dairy', 'surprised', 'miracle', 'reverted', 'seem', 'you', 'Pardon', 'insolence', '5', 'yourselves', 'detected', 'emigrant', 'congratulating', 'forfeit', 'infirmity', 'expressing', 'quietness', 'conduct', 'returned', 'scrawls', 'either', 'M', 'WE', 'Donavan', 'nods', 'presented', 'twice', 'Pleased', 'darling', 'gout', 'destruction', 'resolutely', 'premeditated', 'valued', 'talent', 'infirm', 'string', 'remain', 'noble', 'swollen', 'congratulate', 'dull', 'prepossession', 'misunderstood', 'Your', 'replace', 'imaginary', 'gained', 'repentance', 'grounds', 'if', 'performed', 'bestowed', 'terror', 'dream', 'inner', 'hesitation', '25', 'presumed', 'amongst', 'intermission', 'disgusted', 'valleys', 'pint', 'uncertainty', 'persevering', 'resolved', 'toothpick', 'enjoyed', 'gaze', 'fascinating', 'finishing', 'on', 'recollected', 'drawback', 'around', 'shake', 'haste', 'exterior', 'practices', 'inconstant', 'error', 'wildness', 'Reading', 'event', 'walk', 'prepossessing', 'teazed', 'hating', 'possessing', 'happier', 'hard', 'expeditiously', 'Conduit', 'unacknowledged', 'suggestion', 'natural', 'quit', 'distinction', 'wander', 'enquired', 'watchfulness', 'entire', 'uncordial', 'Would', 'horses', 'attach', 'curacy', 'wildly', 'reconciliation', 'unites', 'curtsying', 'provision', 'purchase', 'Streets', 'wisher', 'month', 'abundantly', 'sheath', 'determined', 'goodness', 'darker', 'settle', 'advantageous', 'bluntly', 'authority', 'ebullition', 'loves', 'parts', 'particular', 'exhilarated', 'quickly', 'house', 'walking', 'constrained', 'likewise', '\"--', 'throwing', 'reckons', 'frame', 'year', 'amuse', 'minutes', 'shuddering', 'stocks', 'dead', 'difficulties', 'habitation', 'alternative', 'study', 'inclinations', 'Thomas', 'abode', 'clear', 'relish', 'inhabit', 'sickness', 'spread', 'purity', 'falling', 'latter', 'repaid', 'future', 'wrung', 'contrast', 'evening', 'forgot', 'depravity', 'nicest', 'suit', 'declaring', 'Willoughbys', 'internally', 'neighbours', 'delineated', 'loved', 'intimate', 'press', 'feed', 'composed', 'somewhere', 'object', 'visits', 'strict', 'hoarded', 'harbour', 'glow', 'watching', 'covenant', 'arrangements', 'relationship', 'conjure', 'foundations', 'service', 'staying', 'informed', 'Hunters', 'turn', 'emphasis', 'dreading', 'reduced', 'unguarded', 'fine', 'fear', 'uncouth', 'palm', 'abuse', 'offended', 'refusal', 'honesty', 'vex', 'purposes', 'quicker', 'Since', 'newspapers', 'imprint', 't', 'free', 'communicate', 'bee', 'folly', 'wettest', ':--', 'eternal', 'overpowered', 'receiving', 'nourishment', 'laughed', '31', 'blindly', 'deepest', 'declare', 'arose', 'sisterly', 'uncommonly', 'observable', 'ARE', 'assent', 'secretly', 'graceful', 'overheard', 'scorn', 'refrain', 'sorrows', 'liable', 'Dennison', 'held', 'coloured', 'haughty', 'brilliancy', 'influenced', 'selfish', 'disqualifications', 'resources', 'sofa', 'nursing', 'propriety', 'by', 'addressing', 'communicating', 'surprise', 'unavoidably', 'impossibility', 'aggravation', 'enlarge', 'broader', 'slept', 'Exert', 'declaration', 'Westminster', 'connoisseur', 'regret', 'outweigh', 'suggest', 'classed', 'abuses', 'qualification', 'hallooing', 'Fifteen', 'hang', 'actual', 'keeps', 'maintained', 'seeing', '?--\"', 'unwilling', 'Lord', 'entertain', 'obtain', 'ignorant', 'betrayed', 'communicative', 'message', 'difference', 'mention', 'solely', 'comfortable', 'lover', 'hat', 'cool', 'fever', 'excessive', 'administering', 'heat', 'pink', 'forcibly', 'actions', 'beneficial', 'delivered', 'miserable', 'day', 'increase', 'prudent', 'goodwill', 'ROBERT', 'Hum', 'imagery', 'annexed', 'suspicious', 'Twice', 'mortification', 'HER', 'whims', 'thunderbolt', 'twisted', 'BOTH', 'connections', 'thirty', 'admirers', 'fashioned', 'farther', 'abatement', 'magnificent', 'contribute', 'Time', 'elucidation', 'highly', 'extent', 'imputed', 'trees', 'contrives', 'Dearest', 'shorten', 'red', 'green', 'calculation', 'Dashwoods', 'festival', 'accrue', 'despair', 'wearing', '34', 'raptures', 'Abbeyland', 'laughing', 'treatment', 'bidding', 'exclaiming', 'complacency', 'sang', 'bathed', 'Grey', 'renounced', 'presume', '10', 'am', 'match', 'bury', 'undervalue', 'rescued', 'lighter', 'gloom', 'deliberating', 'we', 'answerable', 'medicines', 'instance', 'guardianship', 'penetrate', 'befall', 'proportionately', 'seizure', 'party', 'supply', 'station', 'auspiciously', 'metaphor', 'used', 'disagreeable', 'justly', 'restorative', 'reach', 'wit', 'lessening', 'setting', 'polite', 'countless', 'aptitude', 'thanked', 'hospitality', 'repaired', 'injure', 'diverted', 'critique', 'fulfil', 'wonderer', 'elderly', 'evidence', 'recognition', 'preparations', 'candidly', 'acted', '.]', 'correct', 'this', 'food', 'supports', 'illiterate', 'significancy', 'fondly', 'energy', 'respected', 'forbearance', 'kingdom', 'unthought', 'obstructed', 'piece', 'amidst', 'reluctantly', 'estate', 'reaped', 'tendency', 'Mrs', 'collection', 'ventured', 'misapprehension', 'Walker', 'pointing', 'entertained', 'something', 'resembling', 'defence', 'hilarity', 'brightness', 'mighty', 'PARTIES', 'agreed', 'songs', 'little', 'Palmers', 'cordiality', 'attendant', 'dissented', 'derived', 'reputation', 'occasional', 'innate', 'officious', 'charm', 'conciliate', 'when', 'tenderest', 'verbal', 'weakness', 'fretted', 'disclosure', 'project', 'father', 'noisy', 'warrant', 'latest', 'honorably', 'Laughing', 'Never', 'considerations', 'nonsense', 'unsuspected', 'allowing', 'endure', 'commended', 'tranquillity', 'begging', 'quickened', 'enforced', 'endeavor', 'posts', 'tempted', 'charmed', 'voluntarily', 'suppose', 'hearts', 'infant', 'table', 'softener', 'neither', 'demeanor', 'total', 'matters', 'East', 'opposite', 'agonies', 'posture', 'salmon', 'polished', 'matrimony', 'THE', 'forbidding', 'unfortunately', 'considerably', 'consulted', 'END', 'unlike', 'prevailing', 'illustration', 'spoilt', 'uninformed', 'Lodging', 'embraced', 'knives', 'blood', 'looked', 'advise', 'Get', 'Almost', 'recurrence', 'sensible', 'boast', 'consolation', 'forwards', 'introducing', 'motion', 'spite', 'acquitting', 'wishes', 'testimony', 'nests', 'description', 'fancied', 'resentment', 'summoned', 'dessert', 'contributing', 'spoke', 'vexed', 'dreaming', 'disappointment', 'merits', 'fellow', 'learnt', 'mysterious', 'depressed', 'adopt', 'point', 'Longstaple', 'cherishing', 'packages', 'salts', 'wondering', 'woody', 'stronger', 'resolve', 'prevailed', 'alive', 'maids', 'born', '>', 'finger', 'proceed', 'shield', 'reading', 'ending', 'newness', 'discussions', 'awake', 'tiptoe', 'Thus', 'huswifes', 'recommendation', 'whip', 'Those', 'deserve', 'conclude', 'altered', 'separations', '15', 'wise', 'constancy', 'thinking', 'eighty', 'business', 'commands', 'built', 'reprobate', 'disinterestedness', 'dependence', 'abruptly', 'variation', 'wanting', 'concealed', 'discreet', 'engaged', '?)', 'newer', 'were', 'strains', 'payment', 'Harley', 'foolish', 'Regard', 'reasonably', 'possession', 'creatures', 'given', 'inevitably', 'unnatural', 'spraining', 'expose', 'guard', 'seven', 'wisest', 'c', 'stake', 'moiety', 'None', 'word', 'crept', 'suspecting', 'fifty', 'manners', 'retain', 'alighted', 'misconstruction', 'story', 'eyed', 'mentioned', 'pang', 'conquest', 'attend', 'unawares', '41', 'Benevolent', 'informing', 'enlargement', 'hears', 'composedly', 'grass', 'whoever', 'animated', 'discover', 'sit', 'Choice', 'whisper', 'property', 'talents', 'eyeing', 'confident', 'arbour', 'soon', 'modesty', 'modern', 'outward', 'ceremony', 'felicitations', 'degrees', 'anymore', 'promotion', 'basis', 'thing', 'prepare', 'respect', 'lief', 'acute', '8', 'THEY', 'helping', 'sought', 'exceeded', 'attribute', 'rage', 'plead', 'safety', 'seek', 'earned', 'sensation', 'scold', 'afraid', 'spot', 'projection', 'fetch', 'inform', 'added', 'unfairly', 'Steele', 'irresistible', 'reply', 'Mama', 'prosecution', 'summits', 'amazing', 'cousin', 'detecting', 'THIS', 'undeceiving', 'others', 'inadvertence', 'invitation', 'affectedly', 'plagued', 'obliging', 'harm', 'advances', 'directly', 'represent', 'hiding', 'anticipation', 'examine', 'working', 'froid', 'expedient', 'odd', 'poking', 'enjoyments', 'experience', 'showers', 'abruptness', 'unusual', 'secrets', 'supper', 'condemned', 'Another', '--(', 'survey', 'abhorrence', 'flannel', 'premises', 'hysterical', 'pointed', 'merit', 'crossness', 'pitied', 'abstruse', 'meritorious', 'NOW', 'beneath', 'cessation', 'apprehended', 'Scotland', 'profess', 'assurance', 'like', 'brother', 'marked', 'fast', 'aid', 'begins', 'preserver', 'hunters', 'gown', 'abilities', 'wretchedness', 'parties', 'studies', 'Their', 'effort', 'dread', 'easier', 'excellencies', 'landing', 'demure', 'scrupulous', 'toleration', 'fixed', 'vicinity', 'comprised', 'lodging', 'honourably', 'motive', 'betray', 'largest', 'daily', 'silk', 'nameless', 'matter', 'education', 'strikingly', 'useless', 'farm', 'admirable', 'villages', 'congratulated', 'act', 'hunted', 'unkindness', 'provocation', 'soldier', 'militated', 'dawdled', 'mend', 'unreserve', 'drop', 'Cassino', 'draw', 'friendliness', 'swept', 'bottoms', 'augmented', 'nine', 'continual', 'Hour', 'legal', 'mischievous', 'confirmed', 'domestic', 'order', 'requested', 'flatteries', 'assemblies', 'parting', 'All', 'instigated', 'sometime', 'October', 'second', 'checking', 'Austen', 'Was', 'popt', 'rent', 'bring', 'powerful', 'promises', 'restore', 'collecting', 'evils', 'yours', 'expel', 'volume', 'bulk', 'commiseration', 'dependent', 'invite', 'surpassed', 'ruin', 'assuring', 'require', 'providing', 'where', 'malice', 'strictly', 'fury', 'Unaccountable', 'humbled', 'plait', 'hesitated', 'unconquerable', 'leaves', 'tending', 'noticing', 'forbidden', 'foregoing', 'conveying', 'pleasantness', 'trifling', 'smooth', 'increased', 'ready', 'formed', 'seducer', 'housekeeper', 'heirs', 'rightly', 'It', 'improvident', 'Restless', 'infamously', 'acquainted', 'yew', 'fulfilled', 'carry', 'unsolicited', 'scissors', 'sight', 'needless', 'insurmountable', 'silenced', 'worldly', 'prosperously', 'duly', 'sober', '[', 'Wherever', 'nerves', 'occupied', 'eminence', 'comparison', 'advantage', 'Precious', 'determine', 'clerk', 'honest', 'frightens', 'perfect', 'F', 'forego', 'interesting', 'recalled', 'nonsensical', 'turning', 'whose', 'sum', 'pity', 'wanton', 'clearer', 'Berkeley', 'engrossed', 'invalid', 'call', 'writes', 'affair', 'Absence', 'Davies', 'intending', 'correspond', 'principles', 'space', 'When', 'holidays', 'affectionate', 'Quite', 'Must', 'finding', 'politely', 'Mab', 'satisfaction', 'amends', 'advantages', 'treachery', 'uneasy', 'disturbed', 'intimately', 'partly', 'befell', 'unwounded', 'following', 'estimating', 'Whatever', 'stupified', 'cheerless', 'Stanhill', 'solitary', 'excused', 'cost', 'leant', 'deceitful', 'ivory', 'knoll', 'dangerous', 'touch', 'inhabitants', 'apologized', 'trusted', 'dissuade', 'grey', 'Cottage', 'bringing', 'Misses', '!--', 'provide', 'preceding', 'moss', 'GAUCHERIE', 'past', 'tend', 'child', 'supplication', 'amazingly', 'condemning', 'Frosts', '2', 'Before', 'judgment', 'modest', 'offering', 'offices', 'dryness', 'coach', 'tears', 'principle', 'chief', 'persuaded', 'administer', 'kept', 'search', 'familiar', 'nodded', 'benefited', 'skin', 'chosen', ',', 'tricking', 'offer', 'footsteps', 'means', 'retired', 'utterance', 'Heaven', 'active', 'companions', 'hot', 'superior', 'dilatoriness', 'stolen', 'fortunes', 'quarrelling', 'Beautifully', 'blossoms', 'acquiesced', 'regiment', 'waistcoat', 'expressive', 'cautiously', 'commonest', 'contemptuous', 'restoring', 'opera', 'equal', 'infinitely', 'immovable', 'previous', 'won', 'meals', 'qualifications', 'removes', 'provoking', 'evil', 'rated', 'Perhaps', 'indisposition', 'imprudent', 'lady', 'decease', 'favour', 'hens', 'sale', 'sobered', 'linen', 'again', 'lengthened', 'habits', 'recollection', 'spring', 'jokes', 'belief', 'counsel', 'sweep', 'surpass', 'parents', 'Cowper', 'strongly', 'obliged', 'author', 'continue', 'then', 'precaution', 'kiss', 'alarm', 'foretell', 'forming', 'buying', 'saloon', 'legacies', 'Many', 'appetites', 'declared', 'shews', 'continuation', 'blameable', 'withstood', 'dissolving', 'conning', 'navy', 'moonlight', 'signify', 'pitying', 'idle', 'pained', 'entreaties', 'unsatiable', 'abominably', 'grounded', 'lovers', 'faster', 'MAY', 'horror', 'promised', 'render', 'yards', 'attempts', 'exchange', 'Whom', 'excited', 'ardent', 'tallest', 'protege', 'attitude', 'inquiries', 'later', 'standing', 'almost', 'unresisted', 'friend', 'professions', 'TRIED', 'satisfying', 'remove', 'possible', 'work', 'Continual', 'Though', 'amiable', 'facts', 'pre', ',-', 'inconsistency', 'proposal', 'shocking', 'dared', 'Middletons', 'passages', 'TOLD', 'dooming', 'pasture', 'caresses', 'ejaculation', 'start', 'dare', 'impression', 'caught', 'Domestic', 'named', 'tall', 'fickle', 'hastening', 'promoted', 'Does', 'bedroom', 'sportsmen', 'board', 'incivility', 'observation', 'fanciful', 'paid', 'thus', 'YOU', 'After', 'stay', 'ago', 'relied', 'What', 'blue', 'stroke', 'Mind', 'there', 'familiarity', 'constantly', 'clearly', 'increasing', 'breathing', 'easy', 'spoil', 'style', 'trust', 'patterns', 'intelligence', 'symptoms', 'falsehood', 'hoping', 'written', 'idea', 'defy', 'harshly', 'observing', 'servants', 'Extend', 'lesson', 'House', 'vanity', 'productive', 'jumbled', 'monstrous', 'Cruel', 'consequent', 'diminution', 'sent', 'Nobody', 'Tuesday', 'completed', 'sensitive', 'sold', 'above', 'understood', 'confession', 'talker', 'steady', 'lowered', 'pretend', 'chained', 'S', 'seems', 'faithful', 'newly', 'brown', 'piano', 'giving', 'acknowledging', 'continuing', 'engage', 'demanded', \"'--\", 'illusion', 'unbiased', 'praised', 'assigned', 'westward', 'witnesses', 'terminated', '!\"', 'Here', 'acquired', 'formality', 'orator', ')', 'deterred', 'surfaces', 'Buildings', 'need', 'disproportion', 'able', 'faintness', 'bespoke', 'create', 'containing', 'neighbourhood', 'editions', 'THERE', 'acknowledged', 'company', 'animation', 'attentions', 'proceeded', 'amounted', 'reminding', 'preparation', 'Godby', 'overlooked', 'acknowledge', 'Richardson', 'success', 'conditions', 'nuncheon', 'break', 'neighbour', 'Steeles', 'WILLOUGHBY', 'rose', 'outstretched', 'leading', 'self', 'ankles', 'THEIR', 'speaks', 'screams', 'impetuous', 'privacy', 'thoughtful', 'coincide', 'position', 'slyly', 'quivered', 'denial', 'gain', 'Considering', 'Impudence', 'insisted', 'must', 'rate', 'amusements', 'trying', 'formidable', 'properly', 'Willing', 'submission', 'excellence', 'colicky', 'reproached', 'arisen', 'measure', '.\"', 'seeking', 'motionless', 'engagements', 'confounded', 'bearing', 'exertion', 'Use', 'chicken', 'plump', 'I', 'imagining', 'regarding', 'Parrys', 'extending', 'inquisitiveness', 'tired', 'effusion', 'planning', 'Undoubtedly', 'hazard', 'materially', 'nights', 'stuffed', 'credit', 'suffer', \".'--\", 'Conversation', 'mysteriously', 'absurd', 'upon', 'canvassing', 'yard', 'Newton', 'employment', 'insured', 'sail', 'mixing', 'pronounced', 'You', 'assurances', 'listening', 'denied', 'drawings', 'gentility', 'perplexity', 'managed', 'numerous', 'fled', 'caution', 'sufficient', 'admiration', 'palanquins', 'experienced', 'honorable', 'grateful', 'needed', 'artlessness', 'completion', 'last', 'swell', 'regretting', 'imagine', 'leisure', 'possesses', 'compromise', 'autumn', 'ninny', 'unread', 'confidence', 'preferred', 'departing', 'disclosing', 'instructions', 'esteemed', ';', 'estranged', 'preserve', 'income', 'endeavors', 'sixpence', 'cows', 'Depend', 'remedies', '&', 'perverseness', 'FAITH', 'anew', 'Midsummer', 'negligent', 'involve', 'independence', 'formally', 'easily', 'unwillingness', 'meantime', 'crossing', 'tore', 'seconded', 'scorning', 'number', 'daggers', 'Nancy', 'men', 'fairly', 'shewn', 'ELINOR', 'sigh', 'sedateness', 'capable', 'limbs', 'conjectured', 'earliest', 'Greatness', 'collect', 'heard', 'Invited', 'sauntered', 'argue', 'silencing', 'ho', 'pretty', 'effected', 'patroness', 'quickest', 'pretence', 'banditti', 'deplorable', 'involuntarily', \"!'\", 'literature', 'quarter', 'm', '.', 'abundance', 'exertions', '.\\'\"', 'unsettle', 'your', 'embitter', 'garrets', 'lovely', 'Thank', 'subservient', 'ball', 'comparatively', 'sun', 'claims', 'Half', 'veal', 'bliss', 'remarkable', 'approached', 'abstraction', 'convert', 'grief', 'aimed', 'paper', 'blamed', 'fruit', 'resembled', 'instant', 'zealously', 'Marianne', 'romance', 'And', 'takes', 'chose', 'departed', 'ALMOST', 'delicacy', 'hopes', 'Ellisons', 'pronouncing', 'drunk', 'alteration', 'precisely', 'authors', 'landlord', 'doing', 'mornings', 'piqued', 'tolerably', 'extinguished', 'nurse', 'streamed', 'unremitting', 'weight', 'plums', 'inheritor', 'oneself', 'concerns', 'prudence', 'ungraciously', 'breach', 'communicated', 'talking', 'heavy', 'enforcing', 'rejected', 'crimsoned', 'wont', 'This', 'turns', 'mile', 'faith', 'affectation', 'striking', 'ever', 'improve', 'voluntary', 'converse', 'Williams', 'P', 'failed', 'standard', 'nothing', 'affliction', 'demesne', 'successful', 'unbroken', 'employ', 'Scarcely', 'tonight', 'prejudiced', 'Will', 'Sit', 'neighbouring', 'fate', 'portion', 'unintelligible', 'apology', 'political', 'Law', 'outwardly', 'tree', 'familiarly', 'Queen', 'astray', 'cunning', 'feeling', 'plighted', 'dried', 'very', 'copying', 'lower', 'smiling', 'nobly', 'aim', 'washing', 'sympathised', 'disengaged', 'through', 'pinching', 'ornamented', 'six', 'loud', 'watchful', 'inventive', 'could', 'flowing', 'painter', 'humoured', 'searched', 'softened', 'poultry', 'rings', 'distant', 'chatty', 'months', 'gloominess', 'misled', 'slighted', 'sensibility', 'city', 'irritability', 'inch', 'ears', 'forenoon', 'crime', 'soothings', 'speech', 'acquaintances', 'prefer', 'fallen', 'transporting', 'show', 'happens', 'inspiring', 'harmony', 'universal', 'the', 'mystery', 'laughs', 'affable', 'speculative', 'feet', 'introduction', 'beholding', 'practised', 'confess', 'arrive', 'cheated', 'inclined', 'Lucy', 'behold', 'an', 'ugly', 'referring', 'dined', 'disgusting', 'excessively', 'leaning', 'fowls', 'elevated', 'withhold', 'pieces', 'imperfect', 'pen', 'suffering', 'Thomson', 'NOT', 'satisfied', 'quarrelled', 'unpleasing', 'CHAPTER', 'decorum', 'wear', 'gaily', 'powered', 'diabolical', 'exhilaration', 'piquet', 'tender', 'THAT', 'alarmed', 'impediment', 'distressed', 'billiards', 'gradually', 'pattern', 'execution', 'producing', 'believes', 'four', 'wandering', 'infancy', 'DO', 'enter', 'patron', 'screens', 'Surely', 'ascertain', 'wonder', 'puts', 'husbands', 'formerly', 'overlook', 'shamefully', 'thought', 'revealed', '18', 'intend', 'band', 'assisting', 'ascending', 'honor', 'misapplied', 're', 'trials', 'doted', 'tis', 'degrade', 'across', 'entertainment', 'wonderful', 'suggesting', 'vestibule', 'large', 'smallest', '47', 'tumbled', 'school', 'necessity', 'source', 'well', 'thirds', 'gentlemen', 'possess', 'unjust', 'sadly', 'MUST', 'tricked', 'opposition', 'eighteen', 'indisposed', 'judgments', 'shutters', 'biased', 'unwelcome', 'Ah', 'interview', 'acacia', 'henceforward', 'forfeited', 'marries', 'ear', 'cheerfuller', 'it', 'occur', 'On', 'breast', 'sighted', 'sobs', 'shutter', 'his', 'changed', 'Combe', 'upstairs', 'common', 'spotted', 'attempted', 'meeting', 'seconds', 'intoxication', 'probabilities', 'giggling', 'stomach', 'promote', 'justification', 'army', 'regretted', 'as', 'reviving', 'pressed', 'imparted', 'However', 'covert', 'mild', 'folded', 'shoulder', 'guide', 'sincerity', 'candour', 'tenderness', 'feverish', 'burst', 'step', 'unmoved', 'lodgings', '11', 'stout', 'feelingly', 'bewitching', 'simple', 'fashion', 'disappointed', 'savings', 'unstudied', 'charms', 'young', 'WITHOUT', 'arrangement', 'insist', 'emergency', 'delivery', 'equalled', 'hop', 'idleness', 'conditioned', 'endured', 'madam', 'emptiness', 'hauteur', 'first', 'further', 'unpremeditated', 'kindest', 'unconscious', 'Clarke', 'fish', ';--\"', 'Whereas', 'suspect', 'dances', 'oblige', 'animating', 'canal', 'adorned', 'playfulness', 'inquiring', 'cash', 'conjectures', 'covering', 'finished', 'Impatient', 'created', 'scrutinies', 'assuage', 'wrapped', 'olives', 'necessarily', 'unfit', 'resided', 'readiness', 'assertion', 'depending', 'unite', '27', 'differed', 'bitterness', 'wish', 'Happy', 'chariot', 'agony', 'lastingly', 'hindrance', 'Music', 'influence', '--\"', 'injuries', 'excuses', 'nuisance', 'restriction', 'silks', 'reasonableness', 'passing', 'shrubberies', 'zeal', 'disbelief', '),', 'revive', 'west', 'From', 'opinion', 'person', 'divided', 'ridge', 'dispute', 'grieved', 'relapse', 'occasionally', 'questions', 'acquiescence', 'relieved', 'uselessly', 'exposed', 'breath', 'stares', 'discarded', 'tiled', 'malignant', 'struggling', 'know', 'distrusts', 'indisputable', 'healthy', 'lying', 'England', 'feigned', 'hers', 'villainy', 'worn', 'judge', 'touched', 'Twill', 'requisite', 'marriages', 'constant', 'gigs', 'Nor', 'temper', 'sakes', 'connection', 'owning', 'detestably', 'disinherited', 'flew', 'irksome', 'comforts', 'putrid', 'owed', 'discontents', 'closet', 'marmalade', 'privilege', 'reclining', 'excite', 'temporizing', 'firmness', 'shewed', 'remember', 'bespeak', 'o', 'beings', 'date', 'longed', 'shaken', 'bargain', 'oftenest', 'startled', 'rest', 'virtue', 'closely', 'contentment', 'thousand', 'Poor', 'endowed', 'spending', 'immediately', 'surplice', 'separate', 'paragraph', 'help', 'weather', 'tables', 'slightest', 'consented', 'blushed', 'today', 'Nay', 'stupor', 'desired', 'superannuated', 'indifference', 'hostess', 'mantelpiece', 'prophecies', 'insufficient', 'manly', 'Having', 'invited', 'positive', 'condemnation', 'reconcile', 'failing', 'economical', 'reflections', 'stockings', 'pleasure', 'endeavoring', 'sacrifice', 'propensity', 'heath', 'accounted', 'account', 'applied', 'hand', 'gladly', 'Willoughby', 'front', 'Reflection', 'indecorous', 'content', 'certain', 'carefully', 'Dartford', 'adjoining', 'liking', 'taking', 'Is', 'difficulty', 'instantaneously', 'tower', 'perceived', 'severity', 'swallowed', 'nicety', 'pour', 'ma', 'economically', 'simplicity', 'articulate', 'feature', 'tract', 'couched', 'Neither', 'profession', 'disliked', 'Shyness', 'discharged', 'Truth', 'unsuitableness', 'minuteness', 'naturally', 'attraction', 'Long', 'land', 'Martha', 'dullness', 'happen', 'saint', 'housemaid', 'Civil', 'complaints', 'waited', 'characters', 'breed', 'dignified', 'shared', 'noticed', 'called', 'barouches', 'flattered', 's', 'acknowledgment', 'nice', 'provoke', 'compliance', 'conclusions', 'occurred', 'obviated', 'attract', 'copy', 'inconstancy', 'Street', 'uncivil', 'spends', 'outrun', 'Then', 'showery', 'method', 'thoroughly', 'importance', 'aside', 'bias', 'narrow', 'His', 'admittance', 'shrugging', 'small', 'close', 'devoted', 'strengthened', 'guilt', 'homes', 'advancement', 'assembled', 'mankind', 'Fortunately', 'memorable', 'Four', 'me', '.)', 'accustom', 'how', 'libertine', 'inspection', 'dimensions', 'circumstanced', 'illiberal', 'jacket', 'enquiry', 'nabobs', 'uncheerful', 'quarrel', 'uniting', 'shortly', 'obey', 'sing', 'hartshorn', 'attained', 'towards', '14', 'observant', 'rendered', 'enable', 'square', 'exciting', 'rooted', 'declining', 'roof', 'herself', 'probable', 'hurrying', 'imprudently', 'making', 'truths', 'forebodings', 'side', 'explain', 'gravel', 'mantel', 'discontent', 'bear', 'ingenuity', 'force', 'rich', 'reform', 'friendliest', 'separation', 'worship', 'Born', 'affections', 'conquests', 'Anxiety', 'silent', 'knows', 'soothe', 'sweet', 'than', 'incitement', 'objects', 'lifting', 'scenes', 'appeal', 'Charlotte', 'badness', 'things', 'regrets', 'pulse', 'handsomest', 'kneeling', 'sentiments', 'ignorance', 'bred', 'visiting', 'ended', 'avoiding', 'waistcoats', 'revenge', 'recover', 'fulfill', 'affecting', 'descendant', 'At', 'exhausted', 'Seven', 'DEAR', 'jest', 'WAS', 'Sophia', 'fingers', 'times', 'pitiable', 'cutlets', 'delicacies', 'uniform', 'Sussex', 'THREE', 'indulgence', 'statement', 'additional', 'Me', 'sleep', 'changing', 'anxiously', 'etiquette', 'By', 'sparkling', 'dark', 'stormy', 'syllable', 'ideas', 'Indies', 'Sandersons', 'undoubtingly', 'invariably', 'somebody', 'borrowed', 'DRAW', 'some', 'civilly', 'cried', 'rouse', 'Annamaria', 'relation', 'inhabited', 'retirement', 'vague', 'penitence', 'proportion', 'propensities', 'compliant', 'Have', 'manage', 'promise', 'excess', 'unblemished', 'walls', 'intelligible', 'extremity', 'telling', 'nor', 'kisses', 'shortness', 'Madam', 'Pope', 'sashes', 'design', 'Kingham', 'confidential', 'plainly', 'reflection', 'undergoing', 'disinclination', 'maternal', 'justifying', 'disordered', 'concluding', 'reside', 'rested', 'against', 'arrival', 'persuade', 'prepossessed', 'nipped', 'unworthy', 'appearing', 'hate', 'Even', 'muslin', 'useful', 'simply', 'repulsive', 'but', 'fairer', 'ancient', 'alleged', 'twenty', 'lives', 'joint', 'believing', 'Mamma', 'hinted', 'rapidity', 'echoed', 'avoided', 'encroachments', 'coolness', 'acuteness', 'torment', 'burnt', 'now', 'save', 'urge', 'amended', 'within', 'scoundrel', 'dove', 'remind', 'approaching', 'momentary', 'interval', 'Concern', 'heights', 'dear', 'offence', 'renewing', 'laying', 'thoughtfulness', 'recovery', 'More', '19', 'contriving', 'getting', 'one', 'warmed', 'Westons', 'distance', 'Gone', 'mistress', 'drains', 'triumphantly', 'boyish', 'prosperity', 'noise', 'exist', 'ailments', 'unkind', 'till', 'SIR', 'concerning', 'civilities', 'mingle', 'fluctuating', 'calmness', 'voice', 'embarrassed', 'joyfully', 'considerately', 'answering', 'merited', 'recommended', 'just', 'undoubtedly', 'temptation', 'water', 'sheet', 'postponing', 'rubber', 'many', 'esteem', 'ungenteel', 'footman', 'errand', 'famous', 'embellishment', 'tediousness', 'Such', 'pupil', 'long', 'unfavourable', 'presence', 'blank', 'Opposition', 'debating', 'loss', 'ornament', 'foundation', 'charity', 'joyful', 'son', 'dismissed', 'waiting', 'uniformly', 'expecting', 'thoughtfully', 'will', 'shewing', 'repulsed', 'delayed', 'teazing', 'choose', 'refuse', 'younger', 'equals', 'opened', 'Had', 'circumspection', 'somehow', 'particulars', 'fervent', 'Pratt', 'advisable', 'professedly', 'bones', 'agitation', 'bedrooms', 'headache', 'wrong', 'relying', 'ingratitude', 'tranquility', 'gold', 'insulted', 'blooming', 'nobody', 'married', 'indelicacy', 'irreparable', 'afflictions', 'Norfolk', 'took', 'revival', 'reanimate', 'character', '?\"--', 'horrors', 'encouragements', 'discussion', 'Surprised', 'brilliant', 'sky', 'Excellent', 'door', 'proper', 'boys', 'sink', 'head', 'traits', 'brow', 'taken', 'expatiate', 'mouth', '42', 'result', 'chiefly', 'gallantry', 'old', 'gaiety', 'limited', 'in', 'tell', 'Two', 'expressively', 'rival', 'paying', 'deal', 'undecided', 'viewing', 'doubtless', 'rapacious', 'sneer', 'innocent', 'liked', 'bloom', 'repine', 'OWN', 'economy', 'scolded', 'perseverance', 'minute', 'draws', 'inexperienced', 'disgraceful', 'unnoticed', 'accommodations', 'unintentional', 'cruel', 'contrived', 'doat', 'origin', 'One', 'Far', 'coxcombs', 'Inn', 'enquiries', 'tenderly', 'anxious', 'attractive', 'seduction', 'fourteenth', 'usual', 'awakening', 'London', 'secured', 'recurred', 'Not', 'April', 'greatness', 'repining', 'entreat', '.--\"', 'parlors', 'displeasure', 'plea', 'produced', 'wedding', 'cases', 'faithfully', 'universally', 'Where', 'regards', 'has', 'brightened', '(', 'putting', 'nobleman', 'winding', 'ourselves', 'clemency', 'into', 'heightening', 'refreshment', 'concurrence', 'respects', 'expectations', 'cordial', 'Dorsetshire', 'captivate', 'turnpike', 'Improve', 'admired', 'L', 'juvenile', 'prove', 'sickly', 'grandmothers', 'unsteady', 'augmenting', 'gate', 'justified', 'subsisted', 'HAS', 'dishonorable', 'ringing', 'discomposed', 'grudge', 'tries', 'guardian', 'virulence', 'specimen', 'made', 'annuity', 'doubting', 'abridge', 'principal', 'begged', 'reliance', 'necessary', 'attendance', 'poor', 'discharging', 'choked', 'low', 'occasions', 'Drury', 'lessened', 'procure', 'bottom', 'enthusiasm', 'minutiae', 'landscape', 'With', 'openness', 'mansion', 'vastly', 'indefatigable', 'discernment', 'nearly', 'flattery', 'coat', 'power', 'remedy', 'rap', 'pages', 'fearful', 'counteracted', 'conform', 'beautifully', 'tedious', 'removing', 'Christmas', 'stretched', 'amendment', 'pain', 'exultingly', 'can', 'recollect', 'poignant', 'toned', 'languid', 'foot', 'fortnight', 'various', 'sooth', 'drops', 'impoverished', 'circles', 'Easter', 'moderation', 'consent', 'cautious', 'inviting', 'considered', 'occurrence', 'Soon', 'merry', 'unlover', 'entrusted', 'less', 'course', '32', 'unfulfilled', 'hazarding', 'hero', 'after', 'MY', 'broken', 'entreaty', 'spurned', 'travelling', 'resorted', 'impossible', 'fears', 'assistance', 'odious', 'playing', 'acquitted', '37', 'comprehend', 'March', 'unquiet', 'comer', 'comfortably', 'hurried', 'feel', 'cruelty', 'allowable', 'May', \"',\", 'joke', 'bequeathed', 'OUGHT', 'leaf', 'witty', 'filled', 'spacious', 'clue', 'excellent', 'downs', 'zealous', 'go', 'effect', 'Impossible', 'performers', 'alarms', 'Everybody', 'An', 'should', 'Whitakers', 'cutting', 'That', 'forwarded', 'firm', 'plants', 'bed', 'shot', 'casts', 'bustle', 'catch', 'arranging', 'proposals', 'distresses', 'Common', 'gape', 'play', 'recommend', 'vast', 'labour', 'alone', 'doatingly', 'briefly', 'natured', 'desirable', 'woods', 'expected', 'proposed', 'sunshine', 'renewal', 'twould', 'betraying', 'feelings', 'promptitude', 'blockhead', 'furnishing', 'inforced', 'Know', 'Tis', 'pure', 'connected', 'narration', 'celebration', 'been', 'outside', 'panting', 'creditable', 'respectfully', 'better', 'deserved', 'prayers', 'late', 'engagement', 'raising', 'entry', 'altar', 'cares', 'perhaps', 'kinder', 'misery', 'tried', 'rambles', 'trifled', 'lately', 'mind', 'Mr', 'game', 'intents', 'additions', 'disapprobation', 'man', 'ice', 'dine', 'subsist', 'leaving', 'judicious', 'astonishment', 'mutual', 'otherwise', 'unwell', 'ribbons', 'incapable', 'determining', 'fetches', 'worked', 'messenger', 'preserved', 'strike', 'begin', 'mosquitoes', 'human', 'ham', 'creation', 'nervous', 'Because', 'wicket', 'Gray', 'safely', 'unaffected', 'restraints', 'winter', 'excursion', 'outstaid', 'stating', 'neighbourly', 'meanwhile', 'paces', 'former', 'explanatory', 'ashamed', 'Like', 'subjects', 'reached', 'partners', 'option', 'grand', 'doctrine', 'incoherently', 'early', 'adapted', 'hence', 'loitered', 'promising', 'despise', 'contempt', 'add', 'notion', 'dispatches', 'splendidly', 'decline', 'absent', 'weakened', '4', 'alterations', 'THEN', 'bolder', 'bid', 'possessions', 'contrasted', 'smallness', 'Middleton', 'explanations', 'escaped', 'Misery', 'relatives', 'pique', 'reckoned', 'Recollecting', 'subsequent', 'may', 'ill', 'wished', 'rational', 'cheap', 'unpromising', 'acknowledgments', 'extravagant', 'obedient', 'construction', 'announce', 'taste', 'near', 'Forgive', 'lingered', 'rained', 'earlier', 'proof', 'indispensable', 'untied', 'accidental', 'accidentally', 'cottages', 'think', 'nodding', 'imprudence', 'Look', 'correctness', 'celebrated', 'to', 'hardships', 'request', 'whispered', 'original', 'heighten', 'hearted', 'desperately', 'unseen', 'foreplanned', 'easiest', 'Plymouth', 'New', 'avoid', 'pin', 'done', 'regarded', 'shame', 'serve', 'guarding', 'ponds', 'engross', 'warm', 'feeble', 'anybody', 'endeavouring', 'lawyer', 'worst', 'asserted', 'misinformed', 'pursuing', 'affability', 'TIME', ',\"--', 'deserted', 'brighter', 'larger', 'sterling', 'incumbent', 'alienated', 'acceptable', 'recall', 'unknowingly', 'incurred', 'unpardoned', 'breaking', 'occasioned', 'university', 'pretended', 'bless', 'shops', 'she', 'endurance', 'Eager', 'church', 'sorrowful', 'painful', 'tricks', 'stage', 'great', 'floor', 'varying', 'HE', 'flutter', 'nought', 'MADAM', 'leisurely', 'agreement', 'dignity', 'bashful', 'eyes', 'passion', 'lanes', 'local', 'twilight', 'high', 'displayed', 'flow', \"'\", 'forsaking', 'hollow', 'obstinate', 'truth', 'thank', 'forbade', '--', 'alloy', 'join', 'affected', 'plans', 'continued', '7000L', 'moments', 'projects', 'welcome', 'sad', 'advice', 'Court', 'Hush', 'pleasing', 'spreading', 'described', 'wrapt', 'respectably', 'species', 'gun', 'conjectural', 'apiece', 'welfare', 'reaching', 'awkward', 'unlocked', 'disadvantage', 'designs', 'screen', 'lesser', 'disregard', 'legacy', 'mildness', 'hurt', 'plantation', 'inspire', 'ecstatic', 'arm', 'surveying', 'ran', 'ruins', 'compassion', 'attainable', 'letting', 'along', '13', 'farthest', 'face', 'puzzled', 'scratching', 'similarity', 'doubly', 'SHOULD', 'eluded', 'afflicting', 'sallow', 'rejoicing', 'diminished', 'incautiousness', 'disgust', 'basket', 'extort', 'undiscerning', 'minutely', 'philanthropic', 'hardness', 'confused', 'liberality', 'Weymouth', 'conjecturing', 'showing', 'careless', 'blow', 'exceeding', 'impoverishing', 'even', 'regular', '?', 'reproaches', 'utmost', 'retarded', 'composure', 'kindly', 'carriage', 'unfeeling', 'amused', 'alike', 'checked', 'spunging', 'meditation', 'sagacity', 'sir', 'Henry', 'witnessing', 'rivals', 'suitable', 'compares', 'conversation', 'jealous', 'thankfully', 'price', 'addressed', 'incommoded', 'women', 'Saturday', 'contained', 'bestowing', 'bitch', 'interspersed', 'reproof', 'Somersetshire', 'sufferer', 'fall', 'topic', 'extinction', 'audacity', 'rheumatism', 'succession', 'provident', 'tastes', 'pair', 'scenery', 'detection', 'tormented', 'crying', 'interviews', 'Kensington', 'beset', 'contributed', 'concerto', 'hill', 'invaluable', 'established', 'forbid', 'due', '?--', 'Mall', 'intrinsically', 'returning', 'hateful', 'offspring', 'henceforth', 'talk', 'unfathomable', 'WOULD', 'terms', 'shan', 'privately', 'up', 'fox', 'venturing', 'broad', 'mutton', 'moment', 'Besides', 'remarkably', 'High', 'Comparisons', 'fire', 'differing', 'papers', 'write', 'minded', 'patronised', 'fifteen', 'unconnected', 'confinement', 'period', 'risk', 'aggrandizement', 'compliment', 'enlightened', 'nephew', 'procured', 'Prescriptions', 'exceed', 'irrational', 'They', 'cap', 'gentleness', 'companionableness', 'seclusion', 'conversations', 'wittiest', 'reserve', 'grew', 'society', 'He', 'bitterly', 'harmless', 'shedding', 'soften', 'particularly', 'occupations', 'injury', 'cheered', 'In', 'especially', 'image', 'reproachfully', 'Supported', 'appeased', 'afflict', 'servilely', 'November', 'fell', 'pecuniary', 'astonished', ';\"', 'daughter', 'wasted', 'straight', 'auditors', ',--\"', 'vent', 'disappointments', 'accustomary', 'arrived', 'alphabet', 'respective', 'accuse', 'Bond', 'narrowly', 'Cold', 'imperfections', 'counsellor', 'parsonage', 'LUCY', 'bodily', 'cordials', 'penitent', 'climbing', 'smoothly', 'ages', 'Business', 'say', 'orphan', 'wives', 'disputes', 'mound', '43', 'withdrew', 'cramps', 'forgave', 'dawdling', 'bide', 'permitting', 'Bath', 'wine', 'deception', 'dispersed', 'IN', 'although', 'despatching', 'inconvenience', 'directions', 'defended', 'mechanically', 'If', 'conviction', 'peculiarly', 'please', 'resolution', 'illaudable', 'inconsiderable', 'undeceive', 'These', 'familiarized', 'Rose', 'applauded', 'caressing', 'three', 'stupid', 'pitch', 'hazy', 'present', 'covered', 'do', 'support', 'renewed', 'Could', 'household', 'spasm', 'prodigious', 'Sharpe', 'size', 'Offended', 'consult', 'Careless', 'prosperous', 'Jenning', 'disliking', 'including', 'inferior', 'generously', 'elegant', 'pretext', 'debated', 'consciousness', 'office', 'Months', 'beds', 'inflicted', 'awoke', 'struggle', 'oppressed', 'calmer', 'years', 'wondered', 'deference', 'augment', 'prohibited', 'faultless', 'desire', 'together', 'afterward', 'obligations', 'use', 'entreated', 'Chagrined', 'bely', 'delicate', 'Other', 'retort', 'represented', 'soothing', 'parlour', 'cut', 'insult', 'naming', 'deserves', 'minuter', 'recognised', 'forte', 'constitutional', 'irritates', 'miss', 'youth', '48', 'hasty', 'services', 'representing', 'Disappointed', 'climate', 'sketch', 'Writing', 'driven', 'unobtrusive', '!--\"', 'sweetness', 'oftener', 'restrain', 'mama', 'congratulations', 'practiced', 'dreadful', 'bank', 'sixteen', 'manor', 'dresses', 'comprise', 'reminds', 'unaccountable', 'lament', 'supposed', 'alleviation', 'niggardly', 'trouble', 'perusal', 'wandered', 'anguish', 'mode', 'intimacy', 'articulation', 'irreconcilable', 'pains', 'William', 'application', 'hands', 'sobbed', 'attacks', 'shocked', 'duration', 'endless', 'unsuitable', 'sentiment', 'discharge', 'husband', 'prevented', 'AM', 'possessor', 'infatuation', 'ensued', 'judging', 'impracticable', 'meat', 'among', 'measuring', 'genteel', 'humour', 'clogged', 'eclat', 'accelerate', 'supposing', 'fair', 'possibility', 'question', 'defective', 'want', 'pocketbook', 'oddest', 'disapprove', 'divorce', 'confirm', 'spirited', 'exerted', 'passionate', 'expediency', 'oppression', 'Elliott', 'Down', 'patches', 'Concealing', 'dressed', 'objected', 'playfellows', 'scruple', 'timed', 'gaining', 'Her', 'weary', 'streets', 'considering', 'earnestness', 'resumed', 'intended', 've', 'store', 'dashing', 'devolved', 'pry', 'wholly', 'fright', 'perceive', 'lain', 'complexion', 'How', 'accept', 'clamorous', 'Has', 'deviation', 'conscientious', 'Whether', 'awaited', 'of', 'honours', 'hope', 'beef', 'opportunities', 'alluded', 'weakening', 'down', 'repetition', 'paleness', 'unpardonable', 'harp', 'impolitic', 'tidings', 'presently', 'painfully', 'rug', 'persecutions', 'pale', 'extravagance', 'everybody', 'doubtful', 'blushing', 'handsome', 'truest', 'comforted', '24', 'danger', 'intuitively', 'mistake', 'reparation', 'seduced', 'hastened', 'Whitwell', 'too', 'rascal', 'mere', 'below', 'threw', 'degree', 'survived', 'ineligible', 'who', 'claimed', 'pictures', 'health', 'calculate', 'whiled', 'gracious', 'both', 'nominal', 'perturbation', 'much', 'defined', 'finally', 'dismiss', 'express', 'beamed', 'comparative', 'overpowering', 'exert', 'tells', 'pointers', \"--'\"}\n",
      "6833\n"
     ]
    }
   ],
   "source": [
    "\n",
    "print(set(text2))\n",
    "print(len(set(text2)))"
   ]
  },
  {
   "cell_type": "markdown",
   "id": "4900d56d",
   "metadata": {},
   "source": [
    "to remove the non alphabetic strings in the problem we need to use the method  \n",
    "## .isalpha()"
   ]
  },
  {
   "cell_type": "code",
   "execution_count": 11,
   "id": "c57c15ad",
   "metadata": {},
   "outputs": [
    {
     "data": {
      "text/plain": [
       "6713"
      ]
     },
     "execution_count": 11,
     "metadata": {},
     "output_type": "execute_result"
    }
   ],
   "source": [
    "len(set([w for w in text2 if w.isalpha()]))"
   ]
  },
  {
   "cell_type": "markdown",
   "id": "b5e5952a",
   "metadata": {},
   "source": [
    "However, another problem is that the tokenizer splits words with apostrophes (i.e., contractions and possessives) into their constituent parts, so that a word such as didn't would become didn, ', and t. .isalpha() will remove apostrophes from the count, but it would be inaccurate to separately count all the enclitics d, ll, m, re, s, t, ves that result from tokenization. Therefore, we'll add the boolean and not in (\"d\", \"ll\", \"m\", \"re\", \"s\", \"t\", \"ve\") to the list comprehension to account for these"
   ]
  },
  {
   "cell_type": "code",
   "execution_count": 12,
   "id": "15810eba",
   "metadata": {},
   "outputs": [
    {
     "data": {
      "text/plain": [
       "6706"
      ]
     },
     "execution_count": 12,
     "metadata": {},
     "output_type": "execute_result"
    }
   ],
   "source": [
    "# adding a sort of condition to removal again \n",
    "len(set([w for w in text2 if w.isalpha() and w not in (\"d\", \"ll\", \"m\", \"re\", \"s\", \"t\", \"ve\")]))"
   ]
  },
  {
   "cell_type": "markdown",
   "id": "1c1f533d",
   "metadata": {},
   "source": [
    "☼ Compare the lexical diversity scores for humor and romance fiction in 1.1. Which genre is more lexically diverse?\n",
    "\n",
    "Humor (0.231) is about twice as lexically diverse as romance fiction (0.121).\n",
    "\n",
    "6.\n",
    "☼ Produce a dispersion plot of the four main protagonists in Sense and Sensibility: Elinor, Marianne, Edward, and Willoughby. What can you observe about the different roles played by the males and females in this novel? Can you identify the couples?"
   ]
  },
  {
   "cell_type": "code",
   "execution_count": 13,
   "id": "0817be5f",
   "metadata": {},
   "outputs": [
    {
     "data": {
      "image/png": "[encoded data removed]",
      "text/plain": [
       "<Figure size 640x480 with 1 Axes>"
      ]
     },
     "metadata": {},
     "output_type": "display_data"
    }
   ],
   "source": [
    "%matplotlib inline \n",
    "\n",
    "text2.dispersion_plot([\"Elinor\", \"Marianne\", \"Edward\", \"Willoughby\"])"
   ]
  },
  {
   "cell_type": "markdown",
   "id": "87b513dd",
   "metadata": {},
   "source": [
    "In natural language processing (NLP), a collocation refers to a sequence of words that tend to appear together frequently in a specific context. Collocations are words that have a strong tendency to co-occur more often than would be expected by chance. They are often used in a specific order to convey a particular meaning or idea. Collocations provide valuable insights into the way language is structured and the associations between words"
   ]
  },
  {
   "cell_type": "code",
   "execution_count": 14,
   "id": "4388f1e5",
   "metadata": {},
   "outputs": [
    {
     "name": "stdout",
     "output_type": "stream",
     "text": [
      "wanna chat; PART JOIN; MODE #14-19teens; JOIN PART; PART PART;\n",
      "cute.-ass MP3; MP3 player; JOIN JOIN; times .. .; ACTION watches; guys\n",
      "wanna; song lasts; last night; ACTION sits; -...)...- S.M.R.; Lime\n",
      "Player; Player 12%; dont know; lez gurls; long time\n"
     ]
    }
   ],
   "source": [
    "text5.collocations()\n"
   ]
  },
  {
   "cell_type": "code",
   "execution_count": 15,
   "id": "7f67f662",
   "metadata": {},
   "outputs": [
    {
     "data": {
      "text/plain": [
       "10025"
      ]
     },
     "execution_count": 15,
     "metadata": {},
     "output_type": "execute_result"
    }
   ],
   "source": [
    "# show the unique values number from the text\n",
    "len(set(text4))"
   ]
  },
  {
   "cell_type": "code",
   "execution_count": 16,
   "id": "4edcdfd7",
   "metadata": {},
   "outputs": [
    {
     "data": {
      "text/plain": [
       "{'Why',\n",
       " 'obligation',\n",
       " 'coffers',\n",
       " 'fiat',\n",
       " 'misinterpret',\n",
       " 'Love',\n",
       " 'Utopian',\n",
       " 'treasury',\n",
       " 'Paris',\n",
       " 'restraining',\n",
       " 'uncanny',\n",
       " 'errors',\n",
       " 'lamented',\n",
       " 'wishing',\n",
       " 'shallow',\n",
       " 'inclination',\n",
       " 'revenues',\n",
       " 'southeastern',\n",
       " 'interpretation',\n",
       " 'dies',\n",
       " 'fog',\n",
       " 'induces',\n",
       " 'policy',\n",
       " 'color',\n",
       " 'Growing',\n",
       " 'Nationâ',\n",
       " 'supporters',\n",
       " 'conspicuous',\n",
       " 'sacrifices',\n",
       " 'true',\n",
       " 'earnest',\n",
       " 'indicate',\n",
       " 'leadership',\n",
       " 'desperation',\n",
       " 'infusing',\n",
       " 'incurring',\n",
       " 'lived',\n",
       " 'optimisticâ',\n",
       " 'centennials',\n",
       " 'solve',\n",
       " 'solecism',\n",
       " 'admit',\n",
       " 'potent',\n",
       " 'distribute',\n",
       " 'centers',\n",
       " 'deepen',\n",
       " 'arsenals',\n",
       " 'display',\n",
       " 'comes',\n",
       " 'everything',\n",
       " 'cover',\n",
       " 'unmade',\n",
       " 'aloofness',\n",
       " 'Caesar',\n",
       " 'conserving',\n",
       " 'earner',\n",
       " 'goals',\n",
       " 'imperious',\n",
       " 'hurry',\n",
       " 'juggler',\n",
       " 'instantly',\n",
       " 'evince',\n",
       " 'enriched',\n",
       " 'slave',\n",
       " 'auspicious',\n",
       " 'shunned',\n",
       " 'fact',\n",
       " 'depart',\n",
       " 'recommendations',\n",
       " 'arrives',\n",
       " 'untrusting',\n",
       " 'strength',\n",
       " 'preach',\n",
       " 'effects',\n",
       " 'attributed',\n",
       " 'assail',\n",
       " 'highest',\n",
       " ']',\n",
       " 'steamers',\n",
       " 'readily',\n",
       " 'triumphed',\n",
       " 'letters',\n",
       " 'associate',\n",
       " 'majorities',\n",
       " 'felt',\n",
       " 'loyalty',\n",
       " 'rekindling',\n",
       " 'consciences',\n",
       " 'temporary',\n",
       " 'forts',\n",
       " 'remembrance',\n",
       " 'frankly',\n",
       " 'Anxious',\n",
       " 'bound',\n",
       " 'hamper',\n",
       " 'sung',\n",
       " 'seizing',\n",
       " 'overcome',\n",
       " 'Columbia',\n",
       " 'life',\n",
       " 'Politics',\n",
       " 'rises',\n",
       " 'virility',\n",
       " 'packed',\n",
       " 'forefront',\n",
       " 'proportionate',\n",
       " 'impotence',\n",
       " 'Only',\n",
       " 'make',\n",
       " 'beachhead',\n",
       " 'reunion',\n",
       " 'once',\n",
       " 'eminent',\n",
       " 'discoveries',\n",
       " 'Act',\n",
       " 'Jealous',\n",
       " 'Shall',\n",
       " 'production',\n",
       " 'grosser',\n",
       " 'ownership',\n",
       " 'valiantly',\n",
       " 'operating',\n",
       " 'pleading',\n",
       " 'south',\n",
       " 'seasonable',\n",
       " 'over',\n",
       " 'separated',\n",
       " 'strengths',\n",
       " 'cherish',\n",
       " 'luring',\n",
       " 'narrowed',\n",
       " 'excises',\n",
       " 'sacredly',\n",
       " 'Americas',\n",
       " 'interested',\n",
       " 'settling',\n",
       " 'delirium',\n",
       " 'wronged',\n",
       " 'everyone',\n",
       " 'quest',\n",
       " 'sane',\n",
       " 'degeneration',\n",
       " 'contain',\n",
       " 'control',\n",
       " 'maimed',\n",
       " 'meddle',\n",
       " 'extension',\n",
       " 'afford',\n",
       " 'oppose',\n",
       " 'writings',\n",
       " 'awaiting',\n",
       " 'Overwhelmingly',\n",
       " 'curb',\n",
       " 'misguided',\n",
       " 'Moscow',\n",
       " 'factories',\n",
       " 'sell',\n",
       " 'impotency',\n",
       " 'partial',\n",
       " 'firmest',\n",
       " 'Floridas',\n",
       " 'assisted',\n",
       " 'rightful',\n",
       " 'Barbary',\n",
       " 'inconvenient',\n",
       " 'ordeal',\n",
       " 'god',\n",
       " 'industries',\n",
       " 'stand',\n",
       " 'arrogance',\n",
       " 'attachments',\n",
       " 'convinced',\n",
       " 'whatsoever',\n",
       " 'unable',\n",
       " 'resistance',\n",
       " 'undisturbed',\n",
       " 'Content',\n",
       " 'nobler',\n",
       " 'encourage',\n",
       " 'agricultural',\n",
       " 'centered',\n",
       " 'mob',\n",
       " 'lighten',\n",
       " 'Action',\n",
       " 'rewards',\n",
       " 'effectually',\n",
       " 'radiant',\n",
       " 'invitations',\n",
       " '30th',\n",
       " 'Johnson',\n",
       " 'inspired',\n",
       " 'Scripture',\n",
       " 'kind',\n",
       " 'ruling',\n",
       " 'hides',\n",
       " 'relearned',\n",
       " 'discrimination',\n",
       " 'exclusively',\n",
       " 'achieving',\n",
       " 'condoned',\n",
       " 'defray',\n",
       " 'calm',\n",
       " 'Italy',\n",
       " 'wave',\n",
       " 'ceremonial',\n",
       " 'Certain',\n",
       " 'democracy',\n",
       " 'framework',\n",
       " 'deep',\n",
       " 'task',\n",
       " 'undertake',\n",
       " 'sedulously',\n",
       " 'management',\n",
       " 'ambition',\n",
       " 'apprehensive',\n",
       " 'busy',\n",
       " 'consistency',\n",
       " 'poet',\n",
       " 'idealistic',\n",
       " 'Inconsiderable',\n",
       " 'unreclaimed',\n",
       " 'legislators',\n",
       " 'precautions',\n",
       " 'repeated',\n",
       " 'destinies',\n",
       " 'accompanied',\n",
       " 'despotic',\n",
       " 'atrocity',\n",
       " 'challenged',\n",
       " 'humbly',\n",
       " 'justiciable',\n",
       " 'assemblage',\n",
       " 'pay',\n",
       " 'choices',\n",
       " 'condition',\n",
       " 'obedience',\n",
       " 'bulwarks',\n",
       " 'Parliament',\n",
       " 'happy',\n",
       " 'hesitate',\n",
       " 'patriot',\n",
       " 'repeat',\n",
       " 'incompetence',\n",
       " 'spiral',\n",
       " 'annually',\n",
       " 'risen',\n",
       " 'Bible',\n",
       " 'favor',\n",
       " 'sudden',\n",
       " 'upper',\n",
       " 'foreign',\n",
       " 'counting',\n",
       " 'widen',\n",
       " 'wounded',\n",
       " 'avenues',\n",
       " 'field',\n",
       " 'establishment',\n",
       " 'controlled',\n",
       " 'mindful',\n",
       " 'destroy',\n",
       " 'princes',\n",
       " 'reclaiming',\n",
       " 'followed',\n",
       " 'recommending',\n",
       " 'ceded',\n",
       " 'cradle',\n",
       " 'inscribes',\n",
       " 'isthmus',\n",
       " 'propitious',\n",
       " 'consoling',\n",
       " 'factor',\n",
       " 'important',\n",
       " 'spirituality',\n",
       " 'freely',\n",
       " 'Homestead',\n",
       " 'unfurl',\n",
       " 'capitals',\n",
       " 'conferred',\n",
       " 'exploit',\n",
       " 'voter',\n",
       " 'window',\n",
       " 'right',\n",
       " 'flatterer',\n",
       " 'averted',\n",
       " 'depth',\n",
       " 'happiness',\n",
       " 'groups',\n",
       " 'competitive',\n",
       " 'Perpetual',\n",
       " 'assault',\n",
       " 'thereto',\n",
       " 'surround',\n",
       " 'same',\n",
       " 'Instead',\n",
       " 'anything',\n",
       " 'augments',\n",
       " 'inherent',\n",
       " 'massed',\n",
       " 'Crime',\n",
       " 'Sacredly',\n",
       " 'schemes',\n",
       " 'weaknesses',\n",
       " 'widely',\n",
       " 'atrocious',\n",
       " 'finish',\n",
       " 'societies',\n",
       " 'soul',\n",
       " 'flames',\n",
       " 'Expenditure',\n",
       " 'love',\n",
       " 'quietly',\n",
       " 'valley',\n",
       " 'manifest',\n",
       " 'holds',\n",
       " 'framing',\n",
       " 'continually',\n",
       " 'exhausting',\n",
       " 'sacred',\n",
       " 'recovering',\n",
       " 'asylum',\n",
       " 'neighbors',\n",
       " 'alacrity',\n",
       " 'confuse',\n",
       " 'annals',\n",
       " 'Distrust',\n",
       " 'rejection',\n",
       " 'patrol',\n",
       " 'populace',\n",
       " 'assembly',\n",
       " 'dress',\n",
       " 'steadfast',\n",
       " 'extended',\n",
       " 'corrupt',\n",
       " 'confiding',\n",
       " 'peacefullyâ',\n",
       " 'detachment',\n",
       " 'observe',\n",
       " 'allowed',\n",
       " 'insure',\n",
       " 'indignant',\n",
       " 'imitate',\n",
       " 'understandable',\n",
       " 'industrial',\n",
       " 'beating',\n",
       " 'check',\n",
       " 'secret',\n",
       " 'grant',\n",
       " 'expectation',\n",
       " 'decades',\n",
       " 'guilty',\n",
       " 'contributions',\n",
       " 'Local',\n",
       " 'enjoy',\n",
       " 'scourge',\n",
       " 'transaction',\n",
       " 'passed',\n",
       " 'Egypt',\n",
       " 'vicissitudes',\n",
       " 'arrest',\n",
       " 'phases',\n",
       " 'consumption',\n",
       " 'deferred',\n",
       " 'contracts',\n",
       " 'swift',\n",
       " 'tiger',\n",
       " 'worthless',\n",
       " 'really',\n",
       " 'heedless',\n",
       " 'servitude',\n",
       " 'venture',\n",
       " 'agriculture',\n",
       " 'extremities',\n",
       " 'Commerce',\n",
       " 'blessing',\n",
       " 'dreary',\n",
       " 'heated',\n",
       " 'melancholy',\n",
       " 'dry',\n",
       " 'somewhat',\n",
       " 'prohibition',\n",
       " 'circumstances',\n",
       " 'entertaining',\n",
       " 'dissenting',\n",
       " 'eject',\n",
       " 'unimagined',\n",
       " 'constrain',\n",
       " 'unwasted',\n",
       " 'importunity',\n",
       " 'tear',\n",
       " 'Practices',\n",
       " 'desirous',\n",
       " 'enjoying',\n",
       " 'votes',\n",
       " 'transported',\n",
       " 'abject',\n",
       " 'formulation',\n",
       " 'stakes',\n",
       " 'stability',\n",
       " 'Clinton',\n",
       " 'kings',\n",
       " 'patiently',\n",
       " 'interlocked',\n",
       " 'Still',\n",
       " 'unequivocal',\n",
       " 'receive',\n",
       " 'them',\n",
       " 'invincible',\n",
       " 'Spain',\n",
       " 'immigrant',\n",
       " 'Moreover',\n",
       " 'chance',\n",
       " 'sternly',\n",
       " 'predecessors',\n",
       " 'shout',\n",
       " 'functionaries',\n",
       " 'aboriginal',\n",
       " 'form',\n",
       " 'penalties',\n",
       " 'youngest',\n",
       " 'unemployed',\n",
       " 'become',\n",
       " 'frauds',\n",
       " 'manifests',\n",
       " 'defining',\n",
       " 'judicial',\n",
       " 'lifted',\n",
       " 'invested',\n",
       " 'define',\n",
       " 'presidency',\n",
       " 'rejoice',\n",
       " 'faire',\n",
       " 'situated',\n",
       " 'About',\n",
       " 'seventy',\n",
       " 'charges',\n",
       " 'subsists',\n",
       " 'surveys',\n",
       " 'acquiring',\n",
       " 'doomed',\n",
       " 'Burma',\n",
       " 'detriment',\n",
       " 'fight',\n",
       " 'jobs',\n",
       " 'impulse',\n",
       " 'weapons',\n",
       " 'raging',\n",
       " '¡¦',\n",
       " 'faithfull',\n",
       " 'theme',\n",
       " 'debate',\n",
       " 'summer',\n",
       " 'beckons',\n",
       " 'emotion',\n",
       " 'slaughter',\n",
       " 'population',\n",
       " 'anticipate',\n",
       " 'volunteer',\n",
       " 'errant',\n",
       " 'omission',\n",
       " 'conceive',\n",
       " 'conceded',\n",
       " 'frontiers',\n",
       " 'Americanism',\n",
       " 'Valley',\n",
       " 'appraise',\n",
       " 'Whoever',\n",
       " 'pray',\n",
       " 'deposits',\n",
       " 'antipathies',\n",
       " 'Various',\n",
       " 'splendid',\n",
       " 'anticipating',\n",
       " 'midst',\n",
       " 'approximate',\n",
       " 'redemption',\n",
       " 'ensured',\n",
       " 'teaches',\n",
       " 'transcends',\n",
       " 'passionately',\n",
       " 'thanks',\n",
       " 'tended',\n",
       " 'learn',\n",
       " 'noted',\n",
       " 'fastened',\n",
       " 'proudly',\n",
       " 'monuments',\n",
       " 'restored',\n",
       " 'rectified',\n",
       " 'assured',\n",
       " 'Together',\n",
       " 'Missouri',\n",
       " 'quality',\n",
       " 'possibly',\n",
       " 'higher',\n",
       " 'penury',\n",
       " 'matchless',\n",
       " 'differently',\n",
       " 'thankful',\n",
       " 'elapsed',\n",
       " 'disposal',\n",
       " 'offers',\n",
       " 'misjudged',\n",
       " 'dictates',\n",
       " '7',\n",
       " 'yesterday',\n",
       " 'tribunal',\n",
       " 'heroism',\n",
       " 'internationality',\n",
       " 'unfailing',\n",
       " 'humiliations',\n",
       " 'Wise',\n",
       " 'trend',\n",
       " 'concert',\n",
       " 'frequently',\n",
       " 'splendor',\n",
       " 'retained',\n",
       " 'greatly',\n",
       " 'executed',\n",
       " 'construed',\n",
       " 'approach',\n",
       " 'abundant',\n",
       " 'prostration',\n",
       " 'Islands',\n",
       " 'tenure',\n",
       " 'modem',\n",
       " 'expressly',\n",
       " 'return',\n",
       " 'mentor',\n",
       " 'build',\n",
       " 'recourse',\n",
       " 'suppress',\n",
       " 'disruption',\n",
       " 'shades',\n",
       " 'Upon',\n",
       " 'outgrown',\n",
       " 'fruits',\n",
       " 'encouragement',\n",
       " 'birth',\n",
       " 'left',\n",
       " 'modify',\n",
       " 'tribulation',\n",
       " 'transition',\n",
       " 'ethics',\n",
       " 'convulsions',\n",
       " 'devastated',\n",
       " 'dogmatic',\n",
       " 'founding',\n",
       " 'thrust',\n",
       " 'insurance',\n",
       " 'obliteration',\n",
       " 'fugitives',\n",
       " 'deems',\n",
       " 'examples',\n",
       " 'enabled',\n",
       " 'model',\n",
       " 'delinquency',\n",
       " 'financial',\n",
       " 'There',\n",
       " 'unrepealed',\n",
       " 'tribe',\n",
       " 'Wars',\n",
       " 'lurking',\n",
       " 'whole',\n",
       " 'CRIMINAL',\n",
       " 'encourages',\n",
       " 'horizons',\n",
       " 'picture',\n",
       " 'deliberation',\n",
       " 'broadening',\n",
       " 'precepts',\n",
       " 'exercised',\n",
       " 'attached',\n",
       " 'longer',\n",
       " 'preconceived',\n",
       " 'bodies',\n",
       " 'inexorable',\n",
       " 'encroaching',\n",
       " 'agree',\n",
       " 'different',\n",
       " 'submit',\n",
       " 'performing',\n",
       " 'ambiguity',\n",
       " 'overwhelmingly',\n",
       " 'censorship',\n",
       " 'cold',\n",
       " 'injuring',\n",
       " 'warms',\n",
       " 'belonged',\n",
       " 'recent',\n",
       " 'agreements',\n",
       " 'steamship',\n",
       " 'estimation',\n",
       " 'improvements',\n",
       " 'boycott',\n",
       " 'third',\n",
       " 'referred',\n",
       " 'observed',\n",
       " 'listen',\n",
       " 'knight',\n",
       " 'ones',\n",
       " 'aspirations',\n",
       " 'agreeably',\n",
       " 'deeper',\n",
       " 'fare',\n",
       " 'lacking',\n",
       " 'discard',\n",
       " 'custody',\n",
       " 'admission',\n",
       " 'without',\n",
       " 'Rather',\n",
       " 'combinations',\n",
       " 'kill',\n",
       " 'vexation',\n",
       " 'establishing',\n",
       " 'toiled',\n",
       " 'challenges',\n",
       " 'branch',\n",
       " 'amount',\n",
       " 'Athens',\n",
       " 'guardians',\n",
       " 'passions',\n",
       " 'Association',\n",
       " 'composition',\n",
       " 'big',\n",
       " 'pressure',\n",
       " 'discriminations',\n",
       " 'prolific',\n",
       " 'ascertaining',\n",
       " 'announced',\n",
       " 'hazarded',\n",
       " 'Britannic',\n",
       " 'evident',\n",
       " 'responded',\n",
       " 'speedy',\n",
       " 'lost',\n",
       " 'defender',\n",
       " 'rugged',\n",
       " 'guaranties',\n",
       " 'far',\n",
       " 'spend',\n",
       " 'impartiality',\n",
       " 'insurrection',\n",
       " 'O',\n",
       " 'lucky',\n",
       " 'hazards',\n",
       " 'gives',\n",
       " 'whomsoever',\n",
       " 'regain',\n",
       " 'weal',\n",
       " '1812',\n",
       " 'devise',\n",
       " 'ebbing',\n",
       " 'hire',\n",
       " 'obstruction',\n",
       " '...',\n",
       " 'incredible',\n",
       " 'The',\n",
       " 'satisfactory',\n",
       " 'agent',\n",
       " 'reasoning',\n",
       " 'fed',\n",
       " 'Knowing',\n",
       " 'wherever',\n",
       " 'secession',\n",
       " 'from',\n",
       " 'dedicate',\n",
       " 'no',\n",
       " 'raised',\n",
       " 'Island',\n",
       " 'bold',\n",
       " 'apprehension',\n",
       " 'besides',\n",
       " 'affording',\n",
       " 'shepherd',\n",
       " 'sovereigns',\n",
       " 'dissemination',\n",
       " 'recruiting',\n",
       " 'elect',\n",
       " 'departure',\n",
       " 'aggregations',\n",
       " 'excepting',\n",
       " '1886',\n",
       " 'smaller',\n",
       " 'riches',\n",
       " 'exacting',\n",
       " 'enterprising',\n",
       " 'edicts',\n",
       " 'uninteresting',\n",
       " 'providential',\n",
       " 'smiled',\n",
       " 'subterfuges',\n",
       " 'approximated',\n",
       " 'sting',\n",
       " 'illuminated',\n",
       " 'humiliating',\n",
       " 'largely',\n",
       " 'furnishes',\n",
       " 'unwarrantable',\n",
       " 'tyrant',\n",
       " 'purged',\n",
       " 'drifted',\n",
       " 'felicitate',\n",
       " 'undeserved',\n",
       " 'antifederal',\n",
       " 'oldest',\n",
       " 'unanimous',\n",
       " 'courageous',\n",
       " 'stupefies',\n",
       " 'bleed',\n",
       " 'realistically',\n",
       " 'southern',\n",
       " 'Korea',\n",
       " 'seize',\n",
       " 'allegiance',\n",
       " 'elected',\n",
       " 'ultimately',\n",
       " 'investigation',\n",
       " 'popular',\n",
       " 'heritage',\n",
       " 'supplying',\n",
       " 'lines',\n",
       " 'boundaries',\n",
       " 'hopeless',\n",
       " 'arises',\n",
       " 'uninjured',\n",
       " 'insignificant',\n",
       " 'levees',\n",
       " 'Golden',\n",
       " 'North',\n",
       " 'blind',\n",
       " 'navigation',\n",
       " 'incompatible',\n",
       " 'mistrust',\n",
       " 'read',\n",
       " 'conforming',\n",
       " 'likeness',\n",
       " 'appropriation',\n",
       " 'election',\n",
       " 'blast',\n",
       " 'quote',\n",
       " 'assignment',\n",
       " 'patronizes',\n",
       " 'tone',\n",
       " 'supplies',\n",
       " 'warns',\n",
       " 'directed',\n",
       " 'rank',\n",
       " 'speaking',\n",
       " 'dreaded',\n",
       " 'superiors',\n",
       " 'availed',\n",
       " 'dealt',\n",
       " 'none',\n",
       " 'refuses',\n",
       " 'contented',\n",
       " 'translated',\n",
       " 'inequality',\n",
       " 'sublime',\n",
       " 'abroad',\n",
       " 'proceeding',\n",
       " 'threatening',\n",
       " 'nationhood',\n",
       " 'pile',\n",
       " 'prideful',\n",
       " 'unlimited',\n",
       " 'skill',\n",
       " 'pledge',\n",
       " 'rail',\n",
       " 'teachings',\n",
       " 'peacefully',\n",
       " 'granted',\n",
       " 'imminent',\n",
       " 'several',\n",
       " 'ebb',\n",
       " 'threefold',\n",
       " '19th',\n",
       " 'Northerners',\n",
       " 'uncompromising',\n",
       " 'hath',\n",
       " 'sustaining',\n",
       " 'violate',\n",
       " 'domain',\n",
       " 'restores',\n",
       " 'rights',\n",
       " 'kindness',\n",
       " 'pledging',\n",
       " 'changes',\n",
       " 'grandchildren',\n",
       " 'peaceful',\n",
       " 'Washington',\n",
       " 'Jefferson',\n",
       " 'RESPONSIBILITIES',\n",
       " 'sends',\n",
       " 'seized',\n",
       " 'numberless',\n",
       " 'also',\n",
       " 'reminded',\n",
       " 'implied',\n",
       " 'True',\n",
       " 'headedness',\n",
       " 'necessaries',\n",
       " 'foreigners',\n",
       " 'deed',\n",
       " 'jars',\n",
       " 'east',\n",
       " 'Infinite',\n",
       " 'scattered',\n",
       " 'uncomplaining',\n",
       " 'expiration',\n",
       " 'remarks',\n",
       " 'microchip',\n",
       " 'sorrow',\n",
       " 'disobedience',\n",
       " 'triumph',\n",
       " '40',\n",
       " 'weaker',\n",
       " 'imitating',\n",
       " 'indebtedness',\n",
       " 'initiated',\n",
       " 'delights',\n",
       " 'resume',\n",
       " 'false',\n",
       " 'whom',\n",
       " 'extorted',\n",
       " 'hearing',\n",
       " 'why',\n",
       " 'pat',\n",
       " 'required',\n",
       " 'receding',\n",
       " 'expansion',\n",
       " 'inducing',\n",
       " 'wide',\n",
       " 'impenetrable',\n",
       " 'addition',\n",
       " 'friends',\n",
       " 'critical',\n",
       " 'reasons',\n",
       " 'reap',\n",
       " 'revelation',\n",
       " 'dew',\n",
       " 'maintenance',\n",
       " 'candid',\n",
       " 'guided',\n",
       " 'originating',\n",
       " 'sore',\n",
       " 'evacuation',\n",
       " 'upbraidings',\n",
       " 'wants',\n",
       " 'rigid',\n",
       " 'ceiling',\n",
       " 'relations',\n",
       " 'contemplations',\n",
       " 'carelessly',\n",
       " 'furnished',\n",
       " 'perish',\n",
       " 'Situated',\n",
       " 'hostilities',\n",
       " 'maxim',\n",
       " 'changeless',\n",
       " 'substitutes',\n",
       " 'stress',\n",
       " 'harsh',\n",
       " 'observations',\n",
       " 'integrity',\n",
       " 'Monroe',\n",
       " 'spirits',\n",
       " 'sanguine',\n",
       " 'robes',\n",
       " 'courier',\n",
       " 'indications',\n",
       " 'warmth',\n",
       " 'fuel',\n",
       " 'officials',\n",
       " 'Yes',\n",
       " 'forms',\n",
       " 'halfway',\n",
       " 'indeed',\n",
       " 'Fruitful',\n",
       " 'fought',\n",
       " 'loses',\n",
       " 'fortifies',\n",
       " 'dominate',\n",
       " 'indicted',\n",
       " 'resisted',\n",
       " 'bonds',\n",
       " 'fortify',\n",
       " 'dangers',\n",
       " 'swear',\n",
       " 'gave',\n",
       " 'Holy',\n",
       " 'Society',\n",
       " 'engenders',\n",
       " 'Steps',\n",
       " 'Memorial',\n",
       " 'banished',\n",
       " 'afield',\n",
       " 'fiscal',\n",
       " 'enshrined',\n",
       " 'barter',\n",
       " 'eminently',\n",
       " 'cementing',\n",
       " 'larceny',\n",
       " 'invidious',\n",
       " 'quieter',\n",
       " 'completely',\n",
       " 'blame',\n",
       " 'patience',\n",
       " 'Resting',\n",
       " 'fellowmen',\n",
       " 'appropriate',\n",
       " 'knew',\n",
       " 'cast',\n",
       " 'adverted',\n",
       " 'Alleghanies',\n",
       " 'platform',\n",
       " 'fifth',\n",
       " 'overrule',\n",
       " 'No',\n",
       " 'importation',\n",
       " 'radically',\n",
       " 'achievement',\n",
       " 'chase',\n",
       " 'drifting',\n",
       " 'using',\n",
       " 'laborer',\n",
       " 'inconsiderate',\n",
       " 'notably',\n",
       " 'ministers',\n",
       " 'Commission',\n",
       " 'residence',\n",
       " 'minds',\n",
       " 'racing',\n",
       " 'measured',\n",
       " 'willing',\n",
       " 'specifying',\n",
       " 'external',\n",
       " 'defects',\n",
       " 'coherence',\n",
       " 'Forces',\n",
       " 'strengthening',\n",
       " 'reflect',\n",
       " 'thirteenth',\n",
       " 'proficiency',\n",
       " '225',\n",
       " 'Administered',\n",
       " 'delusions',\n",
       " 'get',\n",
       " 'models',\n",
       " 'general',\n",
       " 'stead',\n",
       " 'interfering',\n",
       " 'inculcating',\n",
       " 'students',\n",
       " 'advanced',\n",
       " 'autocratic',\n",
       " 'grows',\n",
       " 'expands',\n",
       " 'roll',\n",
       " 'widened',\n",
       " 'tide',\n",
       " 'seat',\n",
       " 'burden',\n",
       " 'bill',\n",
       " 'loath',\n",
       " 'communications',\n",
       " 'Rome',\n",
       " 'generations',\n",
       " 'borne',\n",
       " 'Through',\n",
       " 'Or',\n",
       " 'impregnably',\n",
       " 'vaults',\n",
       " 'starved',\n",
       " 'introduced',\n",
       " 'Mothers',\n",
       " 'brings',\n",
       " 'disparage',\n",
       " 'visit',\n",
       " 'metals',\n",
       " 'gains',\n",
       " 'Hence',\n",
       " 'achieved',\n",
       " 'variety',\n",
       " 'delusion',\n",
       " 'answered',\n",
       " 'exposing',\n",
       " 'dissipated',\n",
       " 'describe',\n",
       " 'freshman',\n",
       " 'negotiation',\n",
       " 'notes',\n",
       " 'memorial',\n",
       " 'philanthropist',\n",
       " 'works',\n",
       " 'formidably',\n",
       " 'usâ',\n",
       " 'embrace',\n",
       " 'hardier',\n",
       " 'equalâ',\n",
       " 'steer',\n",
       " ...}"
      ]
     },
     "execution_count": 16,
     "metadata": {},
     "output_type": "execute_result"
    }
   ],
   "source": [
    "set(text4)\n",
    "# printing the text"
   ]
  },
  {
   "cell_type": "code",
   "execution_count": 17,
   "id": "f375b56a",
   "metadata": {},
   "outputs": [
    {
     "data": {
      "text/plain": [
       "\"Something more interesting than 'My String'\""
      ]
     },
     "execution_count": 17,
     "metadata": {},
     "output_type": "execute_result"
    }
   ],
   "source": [
    "my_string = \"Something more interesting than 'My String'\"\n",
    "\n",
    "my_string"
   ]
  },
  {
   "cell_type": "code",
   "execution_count": 18,
   "id": "21a32e90",
   "metadata": {},
   "outputs": [
    {
     "name": "stdout",
     "output_type": "stream",
     "text": [
      "Something more interesting than 'My String'\n"
     ]
    }
   ],
   "source": [
    "print(my_string)"
   ]
  },
  {
   "cell_type": "code",
   "execution_count": 23,
   "id": "cc65d14e",
   "metadata": {},
   "outputs": [
    {
     "name": "stdout",
     "output_type": "stream",
     "text": [
      "Something more interesting than 'My String'--Something more interesting than 'My String'--Something more interesting than 'My String'--\n"
     ]
    }
   ],
   "source": [
    "# printing the string 3 times \n",
    "print((my_string + \"--\")*3)"
   ]
  },
  {
   "cell_type": "code",
   "execution_count": 24,
   "id": "b78c33a2",
   "metadata": {},
   "outputs": [
    {
     "name": "stdout",
     "output_type": "stream",
     "text": [
      "Something more interesting than 'My String' Something more interesting than 'My String' Something more interesting than 'My String'\n"
     ]
    }
   ],
   "source": [
    "# joining each occurence with each other \n",
    "print(' '.join([my_string] * 3))"
   ]
  },
  {
   "cell_type": "code",
   "execution_count": 28,
   "id": "3ebf85a8",
   "metadata": {},
   "outputs": [
    {
     "name": "stdout",
     "output_type": "stream",
     "text": [
      "['manav', 'is', 'trying', 'to', 'learn', 'nltk']\n",
      "manav is trying to learn nltk\n",
      "['manav', 'is', 'trying', 'to', 'learn', 'nltk'] "
     ]
    }
   ],
   "source": [
    "# maing a string list \n",
    "my_sent = [\"manav\", \"is\", \"trying\", \"to\", \"learn\",\"nltk\"]\n",
    "\n",
    "print(my_sent)\n",
    "\n",
    "# printing the list in the form of string \n",
    "my_string = ' '.join(my_sent)\n",
    "print(my_string)\n",
    "\n",
    "# converting it again to list \n",
    "print(my_string.split() , end = \" \")\n",
    "\n"
   ]
  },
  {
   "cell_type": "code",
   "execution_count": 35,
   "id": "36978430",
   "metadata": {},
   "outputs": [
    {
     "name": "stdout",
     "output_type": "stream",
     "text": [
      "['Manav', 'Malhotra']\n",
      "['is', 'a', 'gym', 'coder']\n",
      "Manav Malhotra is a gym coder.\n",
      "29\n",
      "6\n"
     ]
    }
   ],
   "source": [
    "# joining two phrases into single sentence \n",
    "phrase1 = [\"Manav\" , \"Malhotra\"]\n",
    "phrase2 = [\"is\", \"a\",\"gym\",\"coder\"]\n",
    "\n",
    "print(phrase1)\n",
    "print(phrase2)\n",
    "\n",
    "# joining two phrases into single sentence\n",
    "actual = ' '.join(phrase1  + phrase2)\n",
    "print(actual + '.')\n",
    "\n",
    "print(len(actual))\n",
    "print(len(phrase1 + phrase2))"
   ]
  },
  {
   "cell_type": "code",
   "execution_count": 37,
   "id": "44f7aadf",
   "metadata": {},
   "outputs": [
    {
     "name": "stdout",
     "output_type": "stream",
     "text": [
      "['In', 'the', 'beginning', 'God', 'created', 'the', 'heaven', 'and', 'the', 'earth', '.'] "
     ]
    }
   ],
   "source": [
    "# printing the sentence from text 3 \n",
    "print(sent3, end = ' ')"
   ]
  },
  {
   "cell_type": "code",
   "execution_count": 38,
   "id": "b4d679ee",
   "metadata": {},
   "outputs": [
    {
     "name": "stdout",
     "output_type": "stream",
     "text": [
      "1\n",
      "5\n",
      "8\n"
     ]
    }
   ],
   "source": [
    "i = 0\n",
    "for w in sent3:\n",
    "    if w == 'the':\n",
    "        i = sent3.index(w, i, -1)\n",
    "        print(i)\n",
    "        i += 1"
   ]
  },
  {
   "cell_type": "code",
   "execution_count": 44,
   "id": "a38716a7",
   "metadata": {},
   "outputs": [
    {
     "name": "stdout",
     "output_type": "stream",
     "text": [
      "{'', 'Why', 'smirkz', 'Love', '!!!!!!!!!!!!!!!!!!!!!!!', 'byeeeeeeee', 'pictured', 'hio', '=)', 'stationed', 'dies', 'U31', 'policy', 'hii', 'color', 'true', 'monday', 'Parkway', 'lived', 'U168', 'savvy', 'bbl', 'U40', 'weenis', 'admit', 'crust', '))))', 'guitar', 'themselvs', 'ooppsss', 'comes', 'stubborn', 'ass', 'cover', 'everything', 'BE', 'shopgirl', 'poop', \"'re\", 'hurry', 'multitasking', 'hey', 'o.0', 'polllution', 'gently', '((((((((((((', 'girls', '~blusherZ~', 'ole', 'thinkin', 'flavour', '?.', 'kneess', 'YaY', 'estra', 'cell', 'sleepin', 'john', 'felt', 'duh', '))))))))))))))', 'frankly', 'bound', 'spain', 'life', 'sum1', 'hhehe', 'Only', '<<<<<<,', '((((((', 'o.O', 'O.K', 'make', 'reunion', 'once', 'BOOTY', 'mornign', 'whats', 'burryed', 'spit', 'south', 'netflix', 'bumper', 'over', 'outta', 'U129', 'CALI', 'aunt', 'licks', 'Yarrrr', 'bf', '75', 'interested', 'les', 'cutie', 'peppersteak', 'thanksss', 'everyone', 'yoder', 'loser', 'Ms', 'shouldnt', 'wheres', 'insuklting', 'control', 'Yeh', 'horrid', 'freaked', 'tab', 'sell', 'partial', 'kinda', 'spank', 'douchebag', 'perverted', 'rooms', 'god', 'YOUR', 'stand', 'purple', 'nickname', 'freind', 'convinced', 'Dokken', 'eats', 'st', 'yayayayayyy', 'rumours', 'chineese', 'patsy', 'Silent', 'cho-co-la-te', 't he', 'lotsa', '185', 'perving', 'kind', 'rumour', 'crack', \"passin'\", 'scream', 'calm', 'Nu', 'shhhh', 'boning', 'deep', 'pasties', \"pm'n\", 'busy', 'cheating', 'tapes', 'Series', '36', 'Midwest', 'alright', 'U15', 'shook', 'op', '1996', 'Fishers', 'pay', 'choices', 'condition', 'breeding', 'OC', 'hfglhs', 'happy', 'goodnite', 'tyvm', 'boots', 'ring', 'Bible', 'suck', 'whoopZ', 'field', 'bitdh', 'ur', 'U42', 'important', 'NC', '60s', 'YALL', 'voter', 'window', 'ken', 'U134', 'right', \"N'T\", 'wo', 'junk', 'same', 'anything', 'jajajaaa', 'yoghurt', '^^', 'hawaii', 'slick', 'Lets', 'finish', 'soul', 'rooster', 'love', 'throws', 'scuse', 'shakes', 'injureis', 'evah', 'theere', 'ewwwwww', 'holds', 'LIX', 'WHOA', '10th', 'NO', 'recovering', 'dratts', 'furniture', 'cyber.', 'See', 'adoted', 'Watching', 'ny', 'subscriptions', 'allowed', 'nelson', 'DOES', 'genital', 'Mp3', 'check', 'doodle', 'secret', 'michigan', 'decades', 'Turn', 'enjoy', 'ai', 'herE', 'U112', 'passed', '[[[[[[[[[[[[[[[[[[', '<<', 'yell', 'towels', 'AHHAH', 'Cardnials', 'hots', 'heyyyyyyyy', 'SLEEP', 'really', '57', 'oO', 'lap', 'dry', 'Covered', 'entertaining', 'swelling', \"sayin'\", 'BYE', 'soojn', 'U80', 'flirting', 'Still', '*grins*', 'them', 'marriage', 'massaged', 'chance', 'lmaooooo', 'WITH', 'form', 'SEEN', 'become', 'Jayse', 'cheers', 'orgies', 'ben', 'anyways', 'GIRL', 'bugs', 'yuuuuuuuuuuuummmmmmmmmmmm', 'About', 'docs', 'guess', 'fight', 'wet', 'redirect', 'weapons', 'summer', 'nut', 'siver', 'happpy', 'pray', 'client', 'freeeezinggg', 'passionately', 'smokes', 'thanks', 'learn', 'noted', 'plus', 'poooland', 'biiiatch', 'hi', 'possibly', 'sweater', 'Oklahoma', 'Cute', 'differently', 'wore', 'bunch', 'cancer', '7', 'U86', 'foxes', 'yesterday', 'react', 'lol', '-->', 'dirt', 'Check', 'bum', 'Road', 'Roses', 'TC', 'e', 'anyway', 'congressman', 'return', 'Simple', 'ft', '21', 'build', 'cardinals', 'shades', 'senseless', 'Uhhh', 'smax', 'therapist', 'tapping', 'widdle', 'left', 'choke', 'umm', 'financial', 'clock', 'pro', 'pillow', 'whole', 'yucky', 'HAHA', 'picture', '280', 'longer', 'awesomee', 'bodies', 'kissing', 'cpr', 'agree', 'different', 'grilfriend', 'congrats', 'round', 'pwns', 'cold', 'Teck', 'bikini', 'sat', 'Females', 'bluer', 'third', 'canadian', 'listen', 'ones', 'huh', 'U16', 'deeper', 'MISHAP', 'lacking', 'hates', 'headlights', 'without', 'theft', 'kill', 'defrags', 'tatatatnanaantatat', ',,,,,,,', 'gotta', 'CHIPS', 'Broken', 'fettish', 'cough', 'Way', '220', 'big', 'fool', 'RULES', 'excitin', 'dumb', 're-thinking', 'lost', 'far', 'spend', 'O', 'lucky', 'aok', 'gives', '65%', 'CHATHIDE', 'profilrs', '...', 'The', 'happening', 'downloaded', 'from', '224', 'cus', 'tommorrow', 'herd', 'no', 'vuela', 'headed', 'oot', 'besides', 'senor', 'yea', 'abs', ':-@', 'appologise', 'U820', 'popcorn', 'confessed', 'bible', 'oldest', 'byb', 'shups', 'Everytime', 'ate', 'drags', 'heck', 'git', 'U165', 'elected', 'popular', 'U26', 'doll', 'Ug', 'Welcome', 'Slip', 'North', 'blind', 'glitches', 'read', 'election', 'ne', 'neysa', 'speaking', 'dreaded', 'texas', 'none', 'contented', 'U12', 'mhm', 'paitently', 'hu', 'Ahhhh', 'outa', 'sustaining', 'U36', 'rights', 'noth', 'manson', '<<<<<<<<<<<<<<', 'teens', 'Guess', 'U50', 'reminded', 'also', \"?'\", 'alo', 'chococake', 'bouts', 'Up', 'kookies', 'nawt', 'dawg', 'east', 'Maybe', 'canadaian', 'U39', 'kick', 'coastal', 'U20', 'U138', 'thru', 'curious', 'scrambled', 'pleaseeeee', 'Fingers', 'hearing', 'omg', 'why', 'park', 'plenaty', 'hissy', 'hooooo', 'Paul', 'U105', 'sneak', 'wide', 'NICK', 'friends', 'Whisper', 'bumped', 'reasons', 'fliuds', 'thunder', '???????', 'ID', 'sore', '........................', 'Eastern', 'wants', 'shoots', 'appologize', 'harsh', 'chik', 'spirits', 'couldnt', 'acros', 'wussups', 'Came', 'Thanks', 'devil', 'Yes', 'Martian', 'indeed', '45.5', 'geeZe', 'lysol', 'havent', 'Jason', 'swear', 'boi', 'Holy', 'meds', 'Were', 'profiles', 'em', 'snickers', 'whoo', 'obscene', 'U143', 'HERE', 'hugzzzzzzz', 'alwys', 'knew', 'cast', 'platform', 'da', 'No', 'chase', 'using', 'Aww', 'consultant', 'comin', 'AFK', 'sdlfkjsj', 'chick', 'hahahaha', '.(..(.vMp3 v1.7.4.).)', 'get', 'sooo', 'bonus', 'sue', 'lets', 'Friday', 'ripping', 'roll', 'seat', 'eng', 'headach', 'pot', 'lucifuge', 'helloooo', 'brakes', 'gooo', 'Through', 'Or', 'bothering', '17', 'brings', 'whiskey', 'confusting', 'detroit', 'notes', 'works', 'aqwesome', 'state', 'byes', 'Snake', 'SExy', 'wears', 'U197', 'welll', '<----------', '!???', 'syllables', 'actually', '39', '20S', 'kness', '******', 'Whistlin', 'nic', 'er', 'frozen', 'parrot', 'noting', 'thanx', 'creative', 'mwahhs', 'sexs', 'wearin', 'Dr', 'daughters', 'hugss', 'own', 'Birdgang', 'cho-co-late', 'caiuse', 'Tower', 'shocks', 'eat', 'hoo', 'wth', 'fault', 'ahem', 'pounce', 'drools', 'stealing', 'BLONDES', '1016.', 'carolina', 'bottle', 'niteeeeeeeeeeeeeeeeeee', 'ere', '64.8', 'Yay', 'hugggs', 'entitled', 'COM', '.owner.', 'luck', 'hahahahahahaha', 'Tell', 'mother', 'naked', 'sux', 'prime', '(((((((((((((', '+', 'cry', '6:41', 'muahsssssssssssssssssss', 'Nevermind', 'kool', 'hint', 'Lithium', 'nauty', 'lie', 'lucifer', 'loaded', 'nakie', 'geeshhh', 'move', 'Nickelback', 'cloud', '20', \"rollin'\", 'nc', 'Can', 'Pa', 'strange', '*WOW*', 'LATE', 'vetrabrate', 'geessh', 'sheesin', 'Home', 'beat', 'stores', 'wid', 'LONG', '1985', 'vamp', 'glorious', 'china', '=O', 'unless', 'preoccupied', 'kawing', 'likes', 'clicked', 'cute', 'DAMN', 'streaks', 'hix', ':.', 'forget', 'Joshy', 'hour', 'WA', 'doubt', 'prono', 'gurrrrl', '3:45', 'promoter', 'frst', 'cooter', 'page', '(((((((((((((((', 'irl', 'syndrome', 'mothers', 'all', 'heyyyyyyyyyyyyyy', 'list', 'gimp', 'aching', 'dump', 'clinicals', 'sayn', 'toward', 'graciously', 'U181', 'actualy', '!!.', 'planned', 'U33', 'foreplay', 'pork', '29', 'U113', 'ga', 'huggs', 'rid', 'affairs', 'for', 'ahah', 'Salut', 'Playing', '( o Y o )', 'people', 'imhave', 'Who', 'NONE', 'elections', 'smiles', 'bc', 'hheeyyy', 'ps2', 'bra', 'clown', '-stay-', 'toes', 'most', 'retared', 'Mercy', 'crib', '12', 'superman', 'Great', 'weave', 'jimmy', 'sign', 'ohhhh', 'yay', 'rider', 'Dolls', '>>>', 'thinks', 'drinks', 'nope', 'these', 'such', ':P', 'adams', 'warnings', 'ahhhhhhhhhhhhhh', 'strickly', 'online', ')))))))))))))', 'huge', 'afternoon', 'offa', 'seagulls', 'full', 'died', 'Lmao', 'Ha', 'woooooooooaaaahhhhhhhhhhhh', 'beg', 'air', 'zzzzzzzz', 'ssi', 'pool', ',,,,', '1', 'Ummm', 'urls', 'every1', 'euphamisms', 'recently', 'WHISPre', 'choc', 'soybeans', 'Troll', 'grins', 'yes', 'n', 'job', 'U989', 'Whispering', 'r', 'U83', 'k-mart', 'bloody', 'comment', 'wee', 'lapd', 'U76', 'mom', 'LATER', 'peanut', 'tomorrow', 'believe', 'JOIN', 'Id', 'coffee', 'jus', 'louisianna', 'neck', 'impaired', 'place', 'ooeer', 'tuned', 'U111', 'sweetie', 'Romance', '360', 'im', 'wha', '))))))))))', 'coast', 'sucking', 'leaders', '<perk>', 'U99', 'homophobic', 'nudes', 'Ut', 'Sunrise', 'pffft', 'lasts30', '98.5', 'cop', 'kitchen', 'brb', 'slipped', 'riding', 'corner', 'Zebrahead', 'blooded', 'kit', '<<<<<<<', 'uffff', 'divorced', 'Christianity', 'met', 'Chat', 'belong', 'yourself', 'accent', 'pimp', 'Dr.', 'sexi', 'Male', '818', 'send', 'teeth', 'Painted', 'satisfie', 'owww', 'sweats', 'Rush', 'yeee', 'tabbed', 'St', 'Scorpio', 'damn', '49', 'already', 'ja', 'Mooooooooooooooooooooooooooo', 'five', 'David', 'pathetic', 'necromancers', 'ELSE', 'buses', 'anti-sexy', 'coem', 'jammers', '>.>->', 'murder', 'Come', 'eeww', 'oo', 'blues', 'stranger', \"e'wjfghky\", 'ally', 'Finding', 'thrill', 'nce', 'smoke', 'beachhhh', ';-(', \"'n'\", 'Foley', 'urself', 'tounge', 'ogan', '76%', 'nakey', 'club', 'care', 'pinches', 'tickets', 'rainbow', 'bob', 'Cool', 'TRUTH', 'Kentucky', 'whenever', 'heads', 'San', 'bein', 'Bloooooooooood', 'Now', 'Biographys', 'itch', 'dirty', 'funny', 'Kittie', 'teachers', 'Damn', 'sp', 'did', 'base', 'farms', 'Meep', 'Easily', 'HolocaustYourMom', 'orders', 'WOMAN', 'Days', '=]', 'conceited', 'ignored', 'with', 'lip', 'perth', '(*&(^', 'She', 'chucking', 'sympathy', 'barrel', 'serg', 'dont', '423', '!!!!!!!!!!!!!!!!!!!!!!!!!!!!', 'white', 'ooperative', 'dahlin', ')))))))', 'tv', 'faint', 'poll', 'off', 'w/b', 'wall', 'country', 'touches', 'disturbing', 'Catterick', 'trolls', 'A', 'sentences', 'tooo', 'Fergalicious', 'awhile', ':/', 'turned', 'unisom', 'exit', 'ky', 'ol', 'meet', 'wantin', 'so', 'tackles', 'brat', 'Unboring', 'fishercat', 'U132', 'depends', 'Chickens', 'freaks', 'metal', '~!', 'seriously', '....................', 'catches', 'cries', 'ahhhh', 'rain', 'msners', 'Nothing', 'australia', 'driveby', 'Eticket', 'babay', 'hugsss', 'heyyyyyyyyy', 'al', 'inheritance', 'weekend', 'fiddles', 'anal', 'o.o', '(((((((((((((((((((((((((', 'saying', 'snowy', 'lol.', 'Visit', 'words', 'U117', 'U87', 'bout', '9', 'lamborgini', 'next', 'vanished', 'decent', 'stron', 'controllers', 'dueling', ')))', 'beans', '12%', 'refer', 'j', 'drive', 'Liam', 'roses', 'deliverance', 'fired', 'Salisbury', 'criss', 'forgive', 'youer', 'brass', 'bit', 'trance', 'jumps', 'enuff', 'YoU', 'enters', 'helpful', 'bored', 'aussies', 'butter', 'try', 'fawk', 'baord', 'pisses', 'eskimo', 'extras', 'wanan', 'splenda', 'best', 'hump', 'ppolitical', 'o0o', '//www.wunderground.com/cgi-bin/findweather/getForecast?query=95953#FIR', 'pepper', 'wz', 'fck', 'AKST', 'disc', \"O's\", 'allow', 'bummer', 'slipping', 'pushed', 'no-no', 'nirvana', 'take', 'Average', 'blech', 'woooohoooo', 'ques', 'always', 'birfday', 'gee', 'sex', 'mike', 'aint', '47.', 'cheep', 'horse', 'hes', 'often', 'shoulders', 'stopped', 'deceived', 'euphemism', 'suffice', 'republican', 'Figured', 'okikes', 'Michigan', 'limits', 'asked', 'Yeah', 'rethinks', 'VIRGINIA', 'photshopped', 'U5', 'stans', 'faints', 'mmmmm', 'plan', 'whatever', 'downloading', 'ar', 'scrabble', '300', 'spose', 'release', 'TWO', 'HUGE', 'U819', 'permission', 'law', 'hottie', 'kold', 'Hill', 'ppl', '*blush*', 'obsession', 'cannot', 'vindictive', 'PMSL', 'f', 'song', 'reproduce', 'sorta', 'sort', 'ooh', 'glad', 'U4', '))))))))))))))))))))))))))))', 'fwd', 'Too', 'gaspppp', ']]]]]]]]]]]]]]]]]]]]]', '59', 'thoughts', 'wahoooooooo', 'Kiss', '++', 'earrings', 'gift', '93', 'Tisk', 'biz', 'limit', 'lix', 'U24', 'homeboys', 'EVERYTHING', 'part', 'coworkers', 'hahaha', 'came', 'isnt', 'lust', 'msn', 'razor', 'medicine', 'Drew', 'look', 'Connected', 'riiiiight', 'U55', 'abide', 'conway', 'hit', 'seduce', ')?', 'wiltshire', 'joking', 'Upstate', 'coughs', 'wack', 'nap', ':p', 'tongue', 'lights', 'balls', 'light', 'muahssssssssssssssss', 'gayoholic', 'U155', 'Morgan', 'yummylicious', 'biatch', 'James', 'children', 'away', 'reality', 'snores', 'more', 'nortenos', 'boy', 'ros', 'Justin', 'tu', 'ouch', 'hehehee', 'tenn', 'wouldnt', 'Life', 'falls', 'To', 'erics', 'hm', 'jacking', 'mirror', 'currious', 'anti', 'Go', '28', '<~~~', 'wheel', 'IT', 'killing', '))))))))))))))))))))))', 'appleton', 'Omg', 'Please', 'hih', 'deeply', 'or', 'betta', 'rapest', 'sharing', 'worry', 'Do', 'CDT', 'howl', 'farmer', 'identity', 'dizzy', 'lincoln', 'reason', 'remembers', 'U141', 'book', 'dropped', 'tx', 'smile', 'temptations', 'goneee', 'Good', 'runs', 'vigilant', 'toss', 'dis', 'steak', 'U56', 'wrote', 'fragged', 'have', 'freak', 'gal', 'Ack', 'lick', '((((((((((((((((((((((((((', '.............', 'tart', 'dd', 'shop', 'wings', 'mwahhss', 'season', '92129', 'Thugs', 'FROM', 'P.', 'limp', 'hilarious', 'Very', 'ae', 'heyy', 'sorry', 'stripper', 'tosses', 'pseudo', 'kts', 'under', 'loveing', 'stalk', 'running', 'TY', 'blunt', 'pmsl', 'naw', 'crosses', 'homeade', 'PM', 'heyyyy', 'aligator', 'gn', 'bother', 'meant', 'whoaaaaaaaaaaaa', 'males', 'dj', 'WEEEEEEEEEEEEEEEEEE', 'maidstone', 'U54', 'U68', 'chant', 'raining', 'agaibn', 'animal', 'Eyes', 'put', 'roleplay', 'world', ';]', 'chics', 'buy', 'pasa', \"it's\", 'sowwy', 'least', 'pushes', 'COME', '6', 'Shakin', 'highway', '56.', 'concern', 'Cleveland', 'messages', 'DJ', 'Dreams', 'heavens', '\"...', 'situation', 'gals', '>.>', 'Amy', 'tom', 'thumb', 'U82', 'Virius', 'counter', 'Lovely', 'exactly', 'Red', 'male', 'Men', 'beautiful', 'o_0', 'United', 'empty', '30', 'neighbor', 'juice', 'broke', 'coconuts', 'sticking', 'resisting', 'sleepy', 'hiy', 'mean', 'mopeds', 'Fort', 'WHO', 'onuimso', 'jw', 'Playstation', 'got', 'walks', 'pc', 'orgy', 'before', 'willis', 'Horace', 'ohio', 'HOT', '<33333333333333333', '!!!!!!!!', 'quite', 'waters', 'Perception', 'black', 'cars', 'killed', 'ride', 'thot', 'laughin', 'Player', 'and', 'american', 'PmS', 'hiYas', 'laterssss', 'fuddahnut', 'ohhhhhhhhhhhhhhhh', 'graphics', 'give', 'exchanged', 'snow', 'tradition', 'diego', 'miles', 'Ok', 'sister', 'probably', 'God', 'b4', 'itself', 'bbs', 'orange', 'hammock', 'revolving', 'oatmeal', '\"', 'drank', 'hater', 'suggestions', 'stirred', 'MSN', 'blowup', 'Craig', ')))))))))))))))))', 'fits', 'http://forums.talkcity.com/tc-adults/start ', '95953', 'proud', 'U60', 'eating', 'myspace.com', 'U30', 'nebraska', 'ughhh', \"ex's\", 'ballin', '100', 'stop', 'attention', 'shots', 'pop', 'night', 'astral', 'sexy', 'gguyyyzzzz', 'fucks', 'sheesh', 'clothes', 'Changing', 'otay', 'frustrating', 'MOUTH', '6:38', 'calling', 'magical', 'sympathies', 'intersting', 'sauce', 'another', 'knocked', 'fantasy', 'chocolate', 'virginity', 'scare', 'whoa', 'arms', 'U97', 'backatchya', 'card', 'co op', 'MAN', 'adduser', 'went', '?????', 'rowdy', 'Swinging', 'wonders', 'infection', 'bay', 'Sunny', 'surgery', 'Gothic', ']:)', 'lingo', 'ways', 'refrains', 'days', 'hehehehe', 'Leeches', 'wanders', 'bootay', 'nickleback', 'untouchable', \"'ll\", 'splelnig', 'akon', 'butt', 'de', 'wicked', 'Mom', 'dragged', 'turkish', 'cute.-ass', 'atmospheric', 'LOUD', 'Hallo', 'moved', 'tennies', 'tooooooooooo', 'find', 'Lousiana', 'U149', 'still', 'Just', 'name', 'anyyyyyyyyyyyyyyyyy', 'hon', 'puter', 'moanin', 'smooch', 'LMAO', 'nicer', 'eighth', 'insanity', 'diggin', 'looks', 'beach', \"pro's\", 'aloha', 'stated', 'woah', 'aberdeen', 'outhouse', 'Highway', 'charge', 'japanese', 'LOVES', 'speed', 'car', 'expression', 'ME', '!=', 'wahoooooooski', '=[', 'IF', 'P.ussy', 'scintillating', 'relaxes', 'boom', '99', 'worries', 'behave', 'Foxwoods', 'mature', 'scarecrow', 'private', 'agurlwithbigguns', 'yer', '3', 'poot', 'Let', 'mauh', 'Booyah', 'spaces', 'asss', 'Wellbutrin', 'tryer', 'sldfjlsdf', 'Help', 'First', 'Tiff', 'U85', 'new', 'Current', 'drink', 'clap', 'appear', 'ewedding', 'happend', 'come', 'sup', 'beats', 'neone', 'town', 'Video', 'Show', 'case', 'grea', 'during', 'Joey', 'preference', 'U104', 'yet', 'PS', 'arround', 'co', '^^^', 'G', 'elsewhere', '!!!!!!!', 'Change', 'Hand', 'e-husband', 'death', 'hall', '85%', 'maybe', 'hahahahahahahahahahahahahahahaha', 'humanity', '..', 'catastrophic', 'answer', 'TO', 'Question', 'adopted', 'pvt', '((((((((((((((((((((', 'guessing', 'garlic', 'myself', 'bounced', 'series', \"'d\", 'infor', 'Matt', 'body', 'decided', 'Strapped', \"pm's\", 'Evil', 'destiny', 'washington', 'wowsa', 'U146', 'every', 'back', 'bread', 'sheep', 'except', 'lamborghini', 'femine', 'offensive', 'jerimiah', 'NOTICE', 'soft', 'raed', 'Lmfao', 'constituents', 'acting', '16', 'Cream', 'tah', 'Ciara', 'sense', 'cook', 'muahhhhh', 'swats', 'barely', 'laguna', 'blowjob', 'whhhooooo', 'bites', 'sometimes', 'let', 'flaw', 'sori', 'guest', 'strangers', 'Scott', 'weed', 'shane', 'We', 'gags', 'sitting', 'Holla', 'pussies', 'seth', 'paragraphs', 'wothough', 'buddyyyyyy', 'kissed', 'wiggleZ', 'atl', 'f*cktards', 'bought', 'U0', 'HUH', 'S.M.R.', '\\\\ty', 'anithing', 'shaun', 'widow', 'studied', '.. .', 'looking', 'dogs', 'pervs', 'happened', 'Really', 'demand', 'Sure', 'carpet', 'Swackhammer', 'wv', 'aiiiiiiiiiiiiiiiiiiiiiiii', 'Night', 'Looking', 'caused', 'beckley', 'U988', 'Eggs', 'fo', 'girl', 'record', 'jude', 'toke', 'apron', 'yep', 'rafters', 'since', 'seconds.', 'dating', 'timing', '((((((((((((((((((((((((', 'babies', 'header', 'Fairbanks', 'd', 'Remember', 'ladis', 'puff', 'nasty', 'politics', 'dollars', 'test', '<<<', 'pit', 'grassy', 'million', 'cusion', 'wait', 'whupped', 'W', 'e-bay', 'backfrontsidewaysandallaroundtheworld', 'gone', 'understand', 'filthy', 'Aberdeen', 'eeewww', 'nerd', 'registration', 'Sorry', 'U58', 'going', 'K', 'bomb', 'powers', 'wire', 'checkin', 'fuck', 'Iowa', 'biggest', 'run', '4:03', 'messed', 'chest', 'achiever', 'kep', 'cyclone', '(((((((((((((((((((((', 'mkay', 'whispering', 'geez', '99703', '*drools*', 'dancing', 'bug', 'Jones', 'silver', 'barks', 'fly', 'yap', 'cause', 'Greetings', 'ewwwww', 'howdy', 'straightens', 'because', 'jeff', 'kennedy', 'ssid', 'pounds', 'saratoga', '35', 'ask', 'rough', 'll', '.:', 'scary', 'U34', 'sweeeeeeeeet', 'shirt', 'shore', 'fitness', 'share', 'mmhmm', 'italians', 'wrecked', 'moonie', 'Ico', 'dat', 'bike', 'aynawy', 'Earth', 'bi', 'OF', '98.6', 'overplaying', 'worth', 'per', 'Um', 'suggested', 'syck', 'mofo', 'Amazingness', 'Oh', 'my', 'gaming', 'bandito', 'ooo', 'hiya', 'hanging', 'othah', 'tryin', 'what', ':', 'td', 'lot', 'mad', '28147', 'Three', 'sites', 'Bloooooooooooood', 'perfectionist', 'PayPal', 'cure', 'couple', 'Post-haste', 'sf', 'mine', 'holla', 'hours', 'intelligent', 'lag', 'Well', 'gezzz', 'hmph', 'kansas', '50', 'cuppers', 'complain', '. . .', 'Dang', 'tacoma', 'guns', ':-o', 'waz', 'ASS', 'wind', 'cam', '. ...', 'jump', 'though', 'discretion', 'haters', 'As', 'singing', 'chatted', 'Whats', '#', 'Last', 'charger', 'safe', 'commanded', 'PMing', 'bot', '<<<<<', 'oxymoron', 'lmfao', 'does', 'Whaaa', 'slkfjsldkfjs', 'placce', 'Dakota', 'Own', 'Trivium', 'set', 'wins', 'checks', 'Tina', 'Flatts', 'Hay', 'whisperer', 'burpin', 'My', '<-', 'PART', 'ALL', 'sick', 'handle', 'mmmmmmmmmm', 'ing', 'h.s', 'cuddle', 'Are', '2DAY', 'IS', '!??', 'tightly', 'farting', 'downnnnnn', 'controlling', ',,,,,,,,,,,', 'bong', ')))))))))))))))))))))', 'miiiiiinnnnnnnnnneeeeeeee', 'pass', 'clooney', 'gigantic', 'mass', 'hurting', 'bell', 'anxiety', 'sure', 'music', 'passes', 'paints', 'single', 'PRIVMSG', 'towel', 'HEY', 'CSI', '(((((..', 'penis', 'real', 'found', 'fascination', 'sharp', 'For', 'beams', 'saw', 'So', 'voices', 'meredith', 'jerks', 'area', 'G-Mobile', 'mainland', 'sores', 'sound', 'religion', 'Pierre', \"RN's\", 'coffe', 'fucking', 'rape', 'Paxil', 'figure', 'boredom', 'Always', 'computers', 'cock', 'included', 'U128', 'coughed', '45', 'sneezed', '-6', '18ST', 'sprays', 'U116', 'shut', 'suprised', 'STOP', 'wife', 'neighborhood', 'picks', 'money', 'harley', 'chocha', 'mmm', 'ahead', 'subscription', 'talked', 'amen', 'appreciate', 'wooo', 'awesomes', 'virgo', 'despises', 'eye', 'quiet', 'ohhh', 'shit', 'Something', 'woman', 'be', 'gays', 'mark', 'Break', 'dust', 'lube', 'Bonus', 'u', 'throw', 'LOLOLOLLL', 'handheld', 'hardware', 'Books', 'quick', 'blinks', 'wanted', 'U115', 'canned', 'shrugs', 'himself', 'chuckle', 'shpwing', 'U84', 'misses', '!...', 'Pounder', 'hyy', 'sexual', 'beatles', 'Sneeze', 'peolpe', 'rob', 'Ladies', '........', 'warts', 'Lime', 'tabasco', 'Mmm', 'losing', 'virginal', 'teach', 'wooooohoooo', 'toenails', 'wansta', 'grrrrrrrr', 'wisconsin', 'chatr', 'wood', 'coupons', 'denzel', 'WOW', 'rarly', '!', 'barn', 'blessings', 'untouched', 'heheh', '..................', 'says', 'U41', 'Think', 'co-op', 'product', 'jucilicious', '-', 'searching', '70%', '~smirkZ~', 'e-mail', 'II', 'Of', 'novel', 'few', 'Ive', 'italy', 'ladz', 'dem', 'brady', 'U96', 'flower', 'UK', 'virgin', 'keep', 'buttons', 'luvs', 'ltr', '22', 'any', 'Chris', 'action', 'serious', 'alot', 'Naples', 'homicide', 'else', 'Rooster', 'spouse', 'Awww', 'eeeek', 'doe', 'ft.', '46', 'Nashville', 'davis', 'gettysburg', 'hairs', 'Better', '!!!!....', 'Deep', 'calls', 'canada', 'erotic', 'thingy', 'U62', 'national', 'Hello', 'winds', 'class', 'booboo', 'i', 'individual', 'bes', 'immediate', '<<<<,', 'comfy', 'Our', 'totally', 'haha', 'sips', 'Meh', 'pine', 'HELLO', 'innocense', 'WILL', 'sexuality', 'whew', 'seen', 'tuesday', 'Hughes', 'friendly', 'ltnc', 'U9', 'ah', 'was', 'kicked', 'open', 'cant', 'blade', 'hahahaHA', '2:55', 'any1', 'grope', 'Heys', 'elvis', 'hI', 'id', 'Jess', 'houses', 'hgey', 'dun', 'woot', 'behind', 'honey', 'bone', 'o0', 'her', 'sox', 'themselves', 'huskers', 'Niceeeee', 'rag', 'term', 'us', 'comon', 'between', 'grown', 'tdr', 'names', 'U11', 'sexcite', 'thang', 'spelled', 'bedford', 'floating', 'awsome', 'known', '700', \"shakin'\", 'toy', 'solution', 'U219', 'they', 'BOY', 'hear', 'only', 'feels', 'U57', 'pleased', 'home', 'sounded', 'Jane', '2nd', \"@-,'~\", 'awwwwwww', 'knees', 'Apparently', 'neked', 'tick', 'burns', 'fluids', 'repeating', 'brothers', 'X', 'employed', 'underwear', 'note', 'suffers', 'key', 'tho', 'toledo', 'courtesy', 'hangin', 'immersed', 'AGAIN', 'burger', 'sounds', 'grettings', 'Stalker', 'Death', 'room', 'time', 'ANYONE', 'post', 'warned', 'werent', 'forgotten', 'seminilla', 'U126', 'arrested', 'Okkkkkk', 'lavendar', ':)', 'noooooooooooooo', 'url', 'ovr', 'muh', 'Cookies', 'fat', 'whether', 'U74', 'phylosipher', 'riiiight', 'canadain', 'writing', 'Fisher', 'attorney', 'mornin', 'good', 'U107', 'twoel', 'oates', 'fuked', \"makin'\", 'span', 'courtney', 'counts', 'annoying', '??', 'dinner', 'LPN', 'fot', 'Sup', 'exwife', 'weigh', 'nuff', 'ive', 'rubs', 'drinking', 'Bwhaha', 'doggies', 'week', 'tha', 'Cards', 'laid', 'outlook', 'hel', 'sisters', 'U175', 'fir', 'half', 'joined', 'lord', 'la', 'U59', 'nj', 'AOL.COM', 'living', 'pointer', 'U17', '38', 'dislocated', 'oh', 'HOW', 'YES', 'Kansas', 'worse', 'instead', 'Yikes', 'danes', '23', 'however', 'ltnsea', 'C', 'permanent', 'which', '&^', '\"?', 'UnScramble', 'coming', 'doors', 'missed', 'starts', \"cyberin'\", 'QUESTION', 'geeshh', 'those', 'talks', 'neverneverland', 'wel', 'willams', 'Mono', 'ciggareets', 'Geographic', 'ABOUT', 'DOWNS', 'priorities', 'x', 'smart', 'Holland', 'pedals', 'started', 'boo', 'truck', 'Jam', 'involved', 'Little', 'Randy', 'socks', 'road', '$$', 'starting', 'sunny', 'choco', '??!!', 'ban', 'loosen', 'Offspring', 'makes', 'april', '1.98', 'U70', 'propper', 'seuss', 'foothills', 'Cheeeez', 'Benjamin', 'Favorite', 'address', 'radio', 'keys', '!!', 'boght', 'a', 'el', 'haaa', 'Aiken', 'expect', 'Uhh', 'two', 'hohohohhohhoo', 'Hummmm', 'Again', 'pull', 'cali', 'walked', 'seee', 'smacked', 'shorty', 'wOOt', 'bulls', '......', 'swallow', 'thrown', 'art', 'albert', 'gawd', 'rapidly', 'street', 'cereals', 'CST', 'pissed', '?!?!', 'muhaha', 'english', 'Any', '??!?!??!', 'Mine', 'mountain', 'amy', 'fit', '102.6', 'wild', 'pinch', 'our', 'carrying', 'hair', 'never', 'iamahotnipwithhotnippics', 'watch', 'change', 'middle', 'yu', 'orta', 'cyb3r', 'ads', 'aware', 'Gay', 'hello', 'its', 'accident', 'hickory', 'cookies', 'SHOWS', 'LIVE', 'sucked', 'lead', 'tune', 'jail', 'cyber', 'spell', 'knockin', 'poem', 'wow', 'ontario', 'hell', 'way', 'careful', 'caint', 'yum', 'typed', 'Back', 'argh', 'lbs', 'U37', 'while', 'might', 'OK', '(((((', \"ol'\", 'medium', 'rub', 'watched', 'weeks', '???', 'Take', 'oooOOOOoooo', 'Biiiiiitch', 'nitty', 'sext', 'about', 'happily', 'Over', 'sticky', 'dog', 'asleep', 'nawwww', '>:->', 'angel', 'xD', 'being', 'asking', 'moral', 'heart', 'flavor', 'hub', '=-\\\\', 'joy', 'spewing', 'cums', 'asses', 'fourth', 'perk', 'ysssssssss', 'player', 'roads', 'Hail', 'Save', 'heyheyhey', 'losted', 'du', 'kids', 'Hi', 'told', 'U122', 'impressed', 'Chop', 'lotta', 'macho', 'beleive', 'bite', 'their', 'Point', 'twizted', 'KNOW', 'teacher', 'rule', 'brought', 'U52', 'judges', 'withdrawl', 'Ctrl', 'yepper', 'Lee', 'gamefly', 'chokes', 'him', 'w', 'IL', 'said', 'he', 'lurkin', 'moving', 'talkcity', 'definitley', 'enough', 'bears', 'AHAHHA', 'Haha', 'miiiiiiiiiiiiinnnnnnnnnnneeeeeeeeee', 'lose', 'workout', 'chatter', 'baby', 'chatting', 'forward', 'mmmmmmmmmmmmm', 'febe', 'quizes', 'subject', 'riverside', 'xxxed', 'rather', 'ground', '=p', 'answers', 'AWAY', 'here', 'wher', 'mercy', 'kiddin', 'U95', 'dik', 'goths', '$', 'disagree', 'Pastor', '<333333333', 'grabs', 'maddish', 'puhleaze', 'complicated', '.......', 'Maps', 'sho', 'biyatch', 'moron', 'weeeeeeeee', 'short', 'SAY', 'steve', 'D', 'reads', 'leave', 'growing', 'John', 'predicted', 'laugh', 'newspaper', 'dixie', 'thats', 'Course', 'warning', '????????', 'yah', 'boss', 'rum', 'having', 'builds', 'ck', 'age', 'clients', 'shape', 'U520', 'complex', 'czeching', 'alert', 'U65', 'U44', 'TX', 'drawn', 'firs', 'ANY', 'whitte', 'Richard', 'listenin', 'norny', 'U163', 'slow', 'buff', 'yoooou', 'sincy', 'progressive', 'humor', 'Indeed', 'ladies', 'o.k.', 'temples', 'shower', 'prison', 'iamahotniplickme', '-------------', 'Spank', 'information', 'horrible', 'Ooo', 'playas', 'hep', 'invention', 'Wowsa', 'pissing', 'Ugh', 'dance', 'heaven', 'DON', 'see', 'oooh', 'circle', 'coherent', 'parent', '?!?!?', 'cigars', 'yup', 'whipped', 'austin', 'worl', 'Rascal', 'homosexual', 'finds', 'shelf', 'Length', 'romantic', 'f.', 'Oy', 'Swim', 'lambergini', 'Kick', 'gloria', 'VVil', 'thje', 'track', 'asnwer', 'shining', 'evertonr', 'ther', 'Gorda', 'Tide', 'expensive', 'Wednesday', 'drug', 'end', 'terrible', 'CAN', 'magine', 'pmers', 'minigames', 'pocket', 'bunny', 'pick', 'sharpie', 'mittens', 'soory', 'BAAAAALLLLLLLLIIIIIIINNNNNNNNNNN', 'ooer', 'whud', 'females', '55%', 'peddle', 'texan', 'U156', 'hurr', '2Pac', 'U72', 'dated', 'trippin', 'telllin', 'older', 'computor', 'Joe', '>_>', 'Shaneeeeeeeee', 'bye', 'wed-lock', 're-thinks', 'punishment', 'horrified', 'puke', 'sunglasses', 'stoned', 'opportunity', 'lixxx', 'wazz', 'bend', 'alohaaa', 'teehee', '99701', 'waddles', 'Ahh', 'Barometer', '(__I__)', 'Daveeee', 'bigest', 'wrap', 'Someone', 'comments', 'Seee', 'hide', 'until', 'fix', 'would', 'marry', 'U10', 'antidepressants', '453', 'winks', 'line', 'tonawanda', 'Pearl', 'bikes', 'morning', 'had', 'depression', 'belly', 'whjat', 'curls', 'sport', 'bow', 'apartment', 'football', 'each', 'beattles', 'kinky', 'Dude', 'chat', 'swing', 'Carolina', \"'ello\", 'maine', 'drew', 'pursued', 'sucks', '<<<<<<', 'Metallica', 'Borat', 'bosom', 'bright', 'drivin', 'coexistence', 'sweetshybbw', '69', 'hheeyy', 'affari', 'loveliest', 'coolcat', '((((((((((', 'live', 'Whitesnake', 'rocks', 'match.', 'switch', 'jungle', 'Constitution', 'RI', 'Ahhh', 'U98', 'bahahahaa', 'Louisville', 'female', 'chair', 'favorite', 'played', 'cottons', 'Ghetto', 'bois', 'Rock', 'erm', 'not', 'Clock', 'pedofile', 'stalked', 'urs', 'LA', 'U110', '*', 'other', 'BOOTS', 'trigger', 'USA', 'hold', 'HALO', 'bak', 'roomies', '!!...', 'Denver', 'crazy', 'Chamillionaire', 'wrek', 'conspiracy', '26', '.(.', 'flirts', 'stairs', 'perved', 'attracted', 'Smoochies', 'ebay', 'claws', 'heya', 'sesky', 'yoll', 'U88', 'brad', 'ruff', 'yahoo', 'Ohhh', 'ONE', 'strong', 'slowly', 'vinyl', 'fawked', 'teo', 'rules', 'usually', 'that', '33', 'sugar', 'But', 'gum', 'fascist', 'unreal', 'alotta', 'affects', 'jerkettes', 'ehh', 'family', 'courst', 'hafta', 'is', 'wakes', \"mf'er\", 'nickelback', 'golf', 'itches', 'dokey', 'joining', 'petition', 'thristy', 'Dipset', 'indoor', 'scared', 'babycakeses', 'wif', 'o/~', 'PMs', 'Marlaya', 'Observed', 'omnious', 'battery', 'are', 'sleeved', 'everyday', 'washboard', 'enuf', 'CHAT', 'alzheimers', 'hardly', '=(', 'recomend', 'technical', 'hotties', 'village', 'van', 'arggghhh', 'kidding', 'choice', 'hmmmm', 'torah', 'balance', 'Yo', 'Uh', 'mmmmmmmmmmmmmm', 'jammies', 'yout', 'at', 'luv', 'lung', 'shoes', 'goes', 'walmart', 'druid', '#40sPlus', 'fractured', 'interruption', 'Depends', 'gottsa', 'NIght', 'nick', '!!!!!', 'w/', 'Puddle', '-_-', 'Finger', 'Evanescence', 'Mary', 'Florida', 'Ark', 'birthday', 'JESUS', 'Repeatedly', '(((((((((', 'Mo', 'halloween', 'ringtones', 'beanbag', 'history', 'babe', 'out', 'follow', 'tummy', 'whereabouts', 'U81', 'allergies', 'Images', 'lies', 'goin', 'rolling', 'pa', 'damnit', 'Did', 'mami', 'yawns', 'traffic', 'personal', 'bad', 'hb', 'e-v-e-r-y', 'sean', 'U2', 'Guy', 'chapter', 'ooopppps', 'gay', 'cleared', 'center', 'surfing', 'Harmony', 'omggg', 'stuff', 'fillin', 'ahh', 'Tense', 'Max', 'rang', 'moanz', 'nicname', 'tape', 'yas', 'withing', 'babes', 'deciding', 'belongings', 'forwads', 'criss-cross', 'es', 'slaps', 'declaw', 't/y', 'tail', 'shall', 'surprised', 'seem', 'U67', 'you', 'PErvs', 'resize', 'Nova', '0', 'upset', '.op.', 'OUT', '5', 'wa', 'originally', 'kev', 'gear', 'weeeeeeeeeeeeeeee', 'lists', 'updated', 'U21', 'boing', 'either', 'lb', 'M', 'chilly', 'nods', 'fenks', 'frm', 'twice', 'dissing', 'pervin', 'darling', 'sicily', 'destruction', 'bet', 'elevation', 'mary', 'fruity', 'deleware', 'GN', 'string', 'defragging', 'cooking', 'girlfriend', 'remain', 'needer', 'tits', 'yak', 'Your', 'video', '?????????', 'trash', 'scuk', 'gained', 'imaginary', 'if', 'nawp', 'Fade', 'barfights', 'RIGHT', 'dream', 'eww', 'movie', 'therapy', '25', 'sleeps', 'moaning', '43.', 'maniacal', 'U63', 'AKDT', 'aww', 'Added', 'copone', 'on', 'tennesee', 'classroom', 'around', 'elbows', 'soup', ';-)', 'excuuuuuuse', 'NY', 'comps', 'snuggles', 'upstate', 'errrrr', 'hahahahaaa', 'gritt', 'oatmel', 'Reading', 'walk', 'U100', 'hard', 'salt', 'Nadda', 'natural', 'gettin', 'quit', 'ooooooo', 'jumpin', 'Would', 'myspace', 'Albany', 'illinois', 'bacl', 'puzzles', 'bossy', 'misbehaving', 'xmas', 'signed', 'aime', 'month', 'Officer', 'veg', 'mang', 'Yoko', 'goodness', 'nana', 'settle', '.45', 'loves', 'compoud', 'fucker', 'douche', 'lmaooo', 'ed', 'flavors', 'cal', 'particular', 'mexican', 'fiance', 'trapped', 'out.', 'house', 'caps', 'unwind', '(((((((((((', 'assumes', 'trashed', 'year', 'minutes', 'stocks', 'plz', 'dead', '#14-19teens', 'Out', 'clear', 'stick', '*waves*', 'knuckles', 'spread', 'yess', 'falling', 'Splashing', 'sumpin', 'addicted', 'future', 'freakishly', 'lesbo', 'THERES', 'awww', 'Edgewood', 'evening', 'confusing', 'forgot', 'moves', 'fav', 'anythin', 'nodda', 'doupt', 'cris-cross', '93%', 'wat', 'FreesBee', 'loved', 'poeple', 'somewhere', 'GOING', 'ROOM', 'devotion', 'watching', 'hiii', 'busted', '????', 'service', 'sucker', 'donno', 'FEMALE', 'turn', 'HAHAHA', 'ldskdlsf', 'peeps', 'fine', 'fear', 'F5', 'offended', 'Ohh', 'honesty', 'nuttin', 'U92', 'yelling', 'gray', 't', 'free', 'grrl', 'ifr', ':):):)', 'studio', 'mess', 'laughed', 'CHOCO', '31', 'computer', 'Dood', 'ARE', 'use full', 'impared', 'hav', 'refrain', 'Girl', 'Song', 'hahhahahaha', '121.7', 'MATCH', '246', 'tere', ':-)', 'spanked', 'waddup', 'fl', '29803', 'by', 'meeeeeeeeeeeee', 'scum', 'surprise', 'praying', 'bied', 'hahahhahah', 'chica', '..(..', 'puppet', 'slept', 'U7', 'Kewl', 'FL', 'regret', 'Older', 'suggest', 'Jonesboro', 'forever', 'dick', 'Americans', 'homies', 'pokkies', 'pokes', 'pouts', 'hang', 'keeps', 'owuldnt', 'Whore', 'seeing', 'boring', 'Lord', 'hr', 'entertain', 'invisiable', 'addict', 'fallout', 'hooo', 'lake', 'hahahaa', 'reunion.', 'showered', 'lurch', 'difference', 'ep', 'lover', 'Hahhaa', 'cool', 'hat', 'heat', 'pink', 'zone', 'flooder', 'ontrobution', 'n9ne', 'bull', 'johnson', 'day', ',,', ')))))))))', 'Coincidence', 'correction', 'Prof', 'fun', 'shup', 'PST', 'twisted', 'Finally', 'U90', 'alley', 'nicnames', 'contact', 'stretches', 'deals', 'whatca', 'fella', '!!!!!!!!!', 'contribute', 'hopin', 'oooooooooooo', 'Time', 'sand', 'Groups', 'props', 'LAst', 'boinked', 'cepn', 'Ridin', 'End', 'Box', 'LOUDER', 'whou', '(.', 'callifornia', 'red', 'green', 'wearing', ')))))))))))', '34', 'Vroooom', 'pounces', '!?', 'muscle', \"t'anks\", 'fighting', 'bisexual', 'huggss', 'laughing', '............', 'nicks', 'ello', '1012.', 'sea', '<---', 'HAVE', 'attic', 'sang', 'hook', 'presume', '10', 'am', 'match', 'Row', 'vm', 'Relax', 'we', 'pouting', 'wubs', 'pfft', 'arent', 'WANNA', 'U169', 'distracted', 'party', 'idiot', 'jar', 'Jon', 'used', 'pet', 'cams', 'powter', 'mi', 'microwave', 'plays', 'reach', 'steal', 'gm', 'wit', 'polite', 'valiant', 'issues', 'JUST', 'nude', 'huuuuuuuuuuuuuuuuuuuuuuuuuuuuuuuuuuugZ', 'piggy', 'pos', 'dolls', 'pad', 'soakin', 'U64', '1-900-anal-sex', 'Werd', 'problem', 'sports', 'SSRI', 'this', 'food', 'palmer', 'peel', 'Considerably', 'heal', 'harvest', 'muahz', 'pm', 'energy', 'petanmart', 'PEOPLE', 'Niceeee', 'Messaging', ':love:', 'piece', 'Pic', 'psh', 'U43', 'diseast', 'fock', 'salvation', 'rockies', 'Kellogs', 'ciao', 'pointing', 'something', 'S3x0r', 'BUt', 'profile', 'Barbieee', '/', 'chattin', 'norman', 'Live', 'ahhh', 'songs', 'little', 'U153', 'Pullin', 'comenting', 'yow', 'occasional', 'crashed', 'kewl', 'jackie', 'essentially', 'rofl', 'charm', 'when', 'adults', 'burp', '20.', 'Dew', 'latest', 'needy', 'thirsty', 'crusty', 'classic', 'normy', 'nonsense', 'beer', 'teasing', 'hmmmmm', 'jerk', '>?', 'torturing', 'posts', 'suppose', 'table', 'softener', 'neither', 'FACE', 'con', 'total', 'U29', 'bj', 'booty', 'heyyyyy', 'opposite', 'TYPR', 'bust', 'alternatives', 'bro', 'THE', 'qwertyuiop', 'Plssss', 'Web', 'halfa', 'hubbys', 'blood', 'newp', 'looked', 'Get', 'Almost', 'forwards', 'Aw', 'lyin', '$27', 'wishes', 'U154', 'mame', 'unique', 'smells', 'woo', 'UFC', 'twin', 'gees', 'fellow', 'depressed', 'caca', '90', 'U120', 'eroticaust', 'point', 'wondering', 'dr', 'alive', 'born', '>', 'didnt', 'mmmmk', 'finger', 'cops', '8082653953', 'border', 'reading', 'OOooOO', 'lisa', 'awake', 'heyyyyyyyyyy', 'DETROIT', 'whip', 'research', \"shinnin'\", \"scrollin'\", 'smack', 'tryina', 'sheepishly', '15', 'thinking', 'Fighting', 'sock', 'heeheeheeheeheehee', 'built', '(((', 'win', 'dyslexic', 'wanting', 'elo', 'were', 'balck', 'U121', 'specially', 'NTMN', 'mp3', 'U106', 'given', 'Away', 'PMING', 'West', 'guard', 'Checked', '!!!!!!!!!!!!!', 'weeeeeeeeeeeeeeeeeeeeeeeeed', 'c', 'stake', 'None', 'numbers', 'word', 'idnt', 'manners', 'ussy', 'toe', 'yeah', 'com', 'morbidly', 'remembah', '!!!!!!!!!!!', 'scorpion', 'story', '39.3', 'uh', 'pppppppppppew', 'afk', 'martinis', 'attend', 'U46', '41', 'whoever', 'sit', 'bares', 'tiff', 'whisper', 'akron', 'chronic', 'haze', 'yooou', 'va', '=/', 'byeeeeeeeeeeeee', 'QQ', 'IRC', 'soon', 'degrees', 'cat', 'Yea', 'biebsa', 'anymore', 'thing', 'respect', 'opener', 'tisk', 'phil', 'doody', 'icky', 'Indiantown', 'level', '8', 'NAME', 'bumber', 'THEY', 'helping', 'pandas', 'yerself', 'MORE', 'title', 'allo', 'Okay', 'nada', 'yo', 'yikes', 'U119', 'wc', 'spot', 'horriable', '55', 'typo', 'flashed', 'soo', 'gets', 'gret', 'howz', 'cuddlicious', 'added', 'porn', 'Ask', 'babble', 'beuty', 'amazing', 'congrat', 'cousin', 'relax', 'freaking', 'others', 'experimenting', 'fraggle', 'munches', 'Filth', 'hiding', 'saME', 'U73', 'lovelies', 'working', 'welome', 'odd', 'U19', 'experience', 'brbbb', 'totaly', 'forgets', 'unusual', '<<<<', 'Chingy', 'ummm', 'corny', 'didnts', 'fkajslf', 'hug', 'pants', 'cessation', 'excitement', 'pills', 'like', 'pokin', 'brother', 'marked', 'fast', 'wheeeeeeeeeeeeeeeeeeeeeeeeeeeeeeeeee', 'periodically', 'cream', 'adventure', 'hunters', 'overtime', 'SOME', 'dentist', 'effort', 'easier', 'hmmmmmmm', 'U71', 'fixed', 'meyooky', 'mising', 'fries', 'GNG', 'midgets', 'matter', 'naughty', 'keyboard', 'depressant', 'hoi', 'chats', 'spins', 'lmaoooo', 'loc', 'streched', 'act', 'Cum', 'george', 'SINGLEEEEEEEE', 'ryaon', '@', 'complains', 'jack', 'goody', 'teenagers', 'cheer', 'drop', 'draw', 'label', 'ans', 'fighter', 'MUAH', 'U45', 'student', 'snort', 'missing', '; ..', 'throught', 'ty', ':-(', 'hiiii', 'pope', 'goodbye', 'Slide', 'brain', 'GOOD', 'chp', 'SIZE', 'U190', 'gomer', 'sometime', 'DONT', 'October', 'second', 'checking', 'Jerketts', 'U49', 'rent', 'dispatcher', 'U101', 'bring', 'pp', 'yours', 'walrus', ')))))))))))))))))))', 'humple', 'christ', 'born-again', 'invite', 'gf', 'yello', 'um', 'martin', 'where', 'Troy', '??????', 'plently', 'mcgraw', ':beer:', 'u550436035', 'U8', 'leaves', 'wasup', 'whore', 'Burger', 'HOTT', 'okies', 'hank', 'ready', 'problemo', 'redraft', 'hellos', 'crisis', 'It', 'U69', 'feat', 'carry', 'hick', 'shoppin', 'console', 'hows', 'possum', 'ltns', 'CA', 'Advisory', 'menu', 'KoOL', 'member', 'Ultimate', 'sober', '1980', 'webcam', 'waitin', 'Zoloft', 'beeeeehave', 'tellin', 'bandsaw', 'blocking', 'In.', 'honest', 'purty', 'respec', 'ether', 'perfect', 'F', 'Heyyyyyyy', 'interesting', 'button', 'mspace', 'turning', 'mouse', 'gas', 'whose', 'physically', '>>>>>>>>>>>', 'sum', 'england', 'drama', 'Diary', 'hugsssssssss', 'call', 'affair', 'scusezzy', 'Talk', 'OR', 'earplugs', 'space', 'mango', 'When', 'wana', 'backroom', 'claire', 'LOl', 'politely', 'finding', \"'.\", 'lil', 'concrete', '138', 'randy', 'following', 'rock', 'winner', 'spin', 'cost', 'chopped', 'min', 'touch', 'listens', 'eric', 'scopes', 'drawers', ',,,', 'misty', \"iggy'd\", '57401', 'hurling', 'GIRLS', '10:49', 'pweeze', 'provide', 'GUYS', 'past', 'tend', 'child', 'elle', 'cabbage', 'lois', 'jeans', 'pics', 'rush', 'PDT', ';0', '2', 'soaked', 'kid', 'om', 'tears', 'waht', 'categories', 'kept', 'bus', 'psychologist', 'Touching', 'hedge', 'gettign', '<----', 'dobson', 'laptop', 'punch', '\"s', 'BUT', 'skin', 'wonderin', ',', 'soy', 'offer', 'type', 'n;t', 'means', 'f.b.i.', 'misbeahve', 'zzzzzzzing', 'officer', 'hot', 'superior', 'cool1024', 'latins', '*hugs*', 'appears', 'U79', 'whered', 'FOLKS', 'subsitute', 'awwwwww', 'hives', 'equal', 'eeeeeeeeewwwwwwww', 'won', \"yw's\", 'removes', '!!!!!!!!!!!!!!!!!!!!!!!!!!!', 'evil', '. .', 'watches', 'lady', '?....', 'Punta', 'major', 'yawn', '1200', 'hugsssss', 'haw', 'again', 'Shinedown', 'AI', 'spring', 'jokes', 'Hahaaaa', 'egg', 'n.n', 'grrrrrrrrr', 'parents', '<33', 'DELIGHTFUL', 'yummy', 'then', 'bouncer', 'ewwww', 'nails', 'police', 'jammed', 'Chica', 'kiss', 'vomiting', 'herpes', 'buying', 'lolol', 'candy', 'Actually', 'fake', 'geesh', 'hendrix', 'md', 'Room', 'slip', 'nooooo', \"ok'd\", ':tongue:', 'PERVS', 'pleez', 'metallica', 'jesus', 'harder', 'Ruth', 'robbie', 'proocessing', 'lovers', 'youuu', 'blah', 'King', 'descriminate', 'faster', 'chuckles', 'btw', 'horror', 'topics', 'skydiving', 'yards', 'pujols', 'exchange', \"'s\", 'sluggish', 'pie', 'die', 'Anyway', 'thomas', 'bishes', 'Tim', 'lots', 'whispers', 'later', 'pulling', 'prays', 'standing', 'perked', 'almost', 'greeter', 'friend', 'closes', 'Oak', 'Howdy', '<3333', 'remove', 'dsklgjsdk', 'grin', 'work', 'tks', \"martini's\", 'kina', 'conversion', 'colors', 'special', 'mines', 'killeded', 'grrr', 'florida', 'superhiway', \"@..3-,'~.\", 'assholes', 'electric', 'cuffed', '@$$', 'start', 'impression', 'caught', 'named', 'tall', '33982', 'TALK', 'DING', 'Ty', 'theres', 'talented', 'gurls', 'Does', '=D', 'bedroom', 'freakin', 'board', 'temp', '!!!!', 'paid', 'Gracemont', '................', 'mixed', 'YOU', 'stay', '*spank*', 'Heyyy', 'heartbreaker', 'dryer', 'U148', 'ago', 'What', 'blue', 'sis', 'U', 'there', 'chinese', '#talkcity_adults', 'anygirl', 'clearly', 'supervisor', 'standin', 'easy', 'kicks', 'trust', 'woof', 'arrange', 'hoping', 'takers', 'yoko', \"<3's\", 'laffin', 'U66', 'idea', 'martini', 'coudl', 'lesson', 'x-mas', 'queen', 'sullivan', 'nd', 'iamahotnipwithpics', 'boot', 'problems', 'geeze', 'addy', 'footprints', 'chip', \"ya'\", 'sent', 'daniel', 'nad', 'sensitive', 'giva', 'Rothlisburger', \"doin'\", 'wimmins', 'above', 'anyhow', 'Breaking', 'U78', 'abou', 'pretend', 'apple', 'S', 'seems', 'delivers', 'brown', 'giving', '9:10', '-...)...-', 'Hard', 'Alaska', 'd=', 'Here', 'U158', ')', 'couch', 'n\"t', 'need', 'google', 'able', '>>>>>>>>>>', '05.', 'facilitated', 'Kids', 'cline', 'cuss', 'blazed', 'ACTION', 'bag', 'THERE', 'Phil', 'City', 'tough', 'wash', 'People', '.;)', 'chanowner', 'break', '(((((((', 'flippin', 'physical', 'rose', 'leading', 'self', '--------->', 'screams', 'flops', 'Soilwork', 'shouting', 'sassy', 'position', 'Niters', 'distrustful', 'denial', 'bleach', 'aussie', 'U91', 'island', 'must', 'bachelorette', 'Cyber', 'development', 'trying', '1cos', 'capab;e', 'plows', 'Ohio', 'AROUND', 'heh', 'armtnpeat', 'paypal', 'grammar', 'convo', '#prideisland', 'cos', 'surf', 'seeking', 'sunset', 'deaf', 'serties', 'illin', 'tennessee', 'wasnt', 'chicken', 'ahahah', 'nevah', 'I', 'gritty', '1930', 'pervert', 'creme', 'regarding', 'tired', 'uuuhhh', 'guyz', 'GrlZ', 'ca', 'kickass', 'nights', 'Gs', 'credit', 'suffer', 'awwwwwwwwww', 'spark', '.....', 'hx', 'flooding', '1299', 'yard', 'apoligize', 'U51', 'You', 'willy', '20s', 'prisoners', 'listening', 'Dying', 'Space', 'Hold', 'hahahahahaha', 'trippy', 'babi', 'vega', 'breathe', 'caution', 'Cry', 'boobs', 'ticket', 'TELLIN', 'needed', 'buffalo', 'cooooooooookiiiiiiiiiiiieeeeeeeeeeee', 'hong', 'Maidstone', 'Kent', 'last', 'fongul', 'scar', '396', 'aTerry', 'Jordison', 'U542', 'Oops', 'byeeee', 'yepper s', 'ok', 'imagine', 'perv', 'cherry', 'EST', 'yeppers', 'Man', 'gurlie', '92780', 'mena', 'Bye', ';', 'fantastical', 'simular', '&', 'geeks', 'scramble', 'U38', 'DAamn', 'team', 'lurks', 'ignore', 'handy', 'Laguna', 'twister', 'lucy-fur', 'receprion', 'number', 'litening', 'men', 'hits', 'rey', 'sigur', 'sigh', 'bagels', 'capable', 'exception', 'collect', 'heard', 'manhattan', 'noooooooooo', 'peeks', 'ho', '*sniffs*', 'pretty', 'Hero', 'humid', 'heee', 'marilyn', 'appearently', 'literature', 'm', '.', 'Jeter', 'waking', 'encore', 'mmmmmm', 'log', 'goddamn', 'your', 'homework', 'lovely', 'iamahotnip', 'Thank', 'ball', 'visual', 'recognize', 'fetterline', 'sun', 'fuckin', 'lmaoo', 'rotflmao', 'cow', 'bliss', 'schlep', 'U103', 'grrrrrring', 'grief', 'paper', 'lonely', 'fruit', 'hawt', 'CAPS', 'And', 'romance', 'takes', 'kent', \"'ve\", 'shoot', 'ghet', ':]', 'drunk', 'doing', 'Define', 'gente', 'early20s', 'U109', 'nurse', 'site', '68%', 'halo', 'weight', 'babiess', 'quistion', 'goofy', 'moans', 'monsters', 'Raymond', 'Apocalypse', 'turkey', 'tug', 'tock', 'talking', 'Ocean', 'sets', 'wont', 'This', 'wax', 'turns', 'ever', 'hmm', 'U142', 'Doing', 'games', 'converse', 'tlak', 'P', 'xxxxxx', 'nothing', 'doublewide', 'California', 'oppsss', 'sexist', 'cotton', 'vs.', 'uyes', 'lez', 'pineapples', 'dya', \"k's\", 'enjoys', 'tonight', 'tonite', 'Will', 'asl', 'channel', 'cnnecticut', 'piff', 'Supreme', 'Im', 'political', 'backup', 'hopefully', '<333', 'U139', \"talkin'\", 'feeling', 'givs', 'sweat', 'very', 'York', 'churches', 'oppertunity', 'aim', 'folks', 'baked', 'through', 'gonna', 'Lol', 'six', 'QUIT', 'loud', 'Lay', 'guys', 'stays', 'shakin', 'could', 'JRZ', 'Ontario', 'downtown', 'http', 'definitely', 'packs', '.A.n.a.c.?.n.?.a.', 'months', 'mercedes', 'cripos', 'ribs', 'city', 'inch', 'ears', 'Need', 'fulfilling', 'Screach', 'democrats', 'mm', 'matrix', 'Dustin', ':o *', 'speech', 'email', 'lex', 'show', 'happens', 'the', 'mystery', 'laughs', '9.53', 'official', 'peoples', 'moths', 'feet', 'DOING', 'refill', 'spelling', 'Zyban', 'super', 'an', 'ugly', 'prob', 'leash', 'disgusting', 'chcken', 'petunias', 'awwww', 'lool', 'dildo', 'Shore', 'minister', 'tc', 'nekkies', 'mmmomom', 'dang', 'bucks', 'sexiest', 'NOT', 'hangs', '46.', 'asks', 'dl', 'wear', 'doin', 'talkin', 'THAT', 'Ima', 'STALLION', 'applaudes', 'de-tubetop', 'duet', 'AHAHH', 'results', 'four', 'DO', 'enter', 'AND', 'lazy', 'Drive', 'violators', 'DVD', 'aaaaaaaaaaaaaaaaa', 'puts', 'wonder', 'hrs', 'adjusts', '3~<-..4@.', 'thought', '18', 'band', 'tips', 'wuuppin', 'sleep over', 're', 'trials', 'O.o', '!!!!!!!!!!!!!!!!!!!!!!!!!!!!!!!!!!!!!!!!!!!!!!!!!!!!!!', '147.7', 'across', 'wonderful', 'Muahz', 'stalker', 'noo', 'B', 'que', 'large', '47', 'kidnaped', 'Usually', 'gtg', 'school', 'hubby', 'well', 'nite', 'livin', 'Hey', 'abourted', 'gentlemen', 'schmoopies', 'leg', '!.', 'DIRTY', 'Ah', 'cuteness', 'interview', 'techniques', 'lipstick', 'youuuu', 'ear', 'it', 'Judy', 'Jesus', 'lmao', ')))))', 'paradis', 'everone', 'On', '55.', 'Sun', 'his', 'changed', 'husteling', 'swim', 'Elle', 'wiltou', 'msg', 'common', 'Wind', 'fan', 'attempted', 'current', 'questioned', 'shell', 'meeting', 'seconds', 'giggling', 'jk', 'PA', 'army', '80', 'as', 'HI', 'este', 'guide', 'jush', 'banjoes', 'mah', 'Thats', ':@', 'Ben', '11', 'hugs', 'naughtier', 'bio', 'kellogs', 'strait', 'disappointed', 'walderslade', 'awrighty', 'young', 'emergency', 'IM', 'U13', 'realise', 'numb', 'denomination', 'SEE', 'hop', ':O', 'oopps', 'victors', 'corn', '~winkZ~', 'Tennessee', 'U14', 'RUN', 'first', 'further', '06.', '###', 'heading', 'fish', 'typing', 'tighty', 'hgfhgfjgf', 'U196', 'dances', 'contemplating', '..............................', 'ducking', 'Nope', 'cash', 'lunch', 'U114', 'okey', 'finished', 'idiots', 'Compliments', 'whisling', 'lala', 'burito', 'OOPS', 'whistles', '2006', 'mahn', 'lolololll', 'kissy', 'depending', 'Bud', 'drivers', 'TEXT', 'TALKING', 'arizona', 'Wisconsin', '27', ':|', 'finers', '30.00.', 'wish', 'opps', 'proked', 'beaten', 'fallz', 'outrageously', '((((((((', 'cruise', 'Russion', 'Music', '*VBS*', 'passing', 'CO', 'Ships', 'pic', 'west', 'From', 'pukes', 'crossed', 'oi', '####', 'opinion', 'person', 'HHEEYYYYYYYYYYYYYYYYYYYYYYYYYYYYYYYYYYYYYYYYYYYYYYY', 'trailer', 'shes', 'questions', 'U3', 'cakes', 'y', 'breath', 'stares', 'dum', 'know', 'smirks', 'stressed', 'lying', 'Nooo', 'ridem', 'eay', 'judge', '77', 'plow', 'ono', 'Set', 'scroll', 'ghost', 'mac', 'cup', 'connection', 'http://www.shadowbots.com', 'sposs', 'star', 'mum', 'fart', 'freaing', 'closet', 'yes.', '30.', 'wellbutrin', 'px', 'www.Wunderground.com', 'mmmmmmmmiiiiiiiiinnnnnnnnneeeeeeee', 'lawl', 'cyb3r-lover', '#prideIsland', 'remember', 'extensions', ';p', 'o', 'oooooooooooooonnnnnnnnnnnneeeeeeeeeeeeeeesssssssss', 'date', '3333333', 'flight', 'MODE', 'Obviously', 'hehehe', 'rolled', 'caan', 'shaken', 'thanksgiving', 'Lives', 'paste', 'yr', 'rest', 'flame', 'smewchies', 'K-Fed', 'darlings', 'U123', 'Poor', 'chews', 'spending', 'exchanging', 'stuck', 'paragraph', 'help', 'weather', 'college', 'sits', 'yesh', 'technologically', 'today', 'Quarter', 'fishercats', 'wheels', 'watchin', 'Hungry', 'pies', 'brooklyn', 'pineapple', 'World', 'Rutger', 'hand', 'pension', 'Hmm', 'Pat', 'front', 'FINE', 'stinky', 'donuts', 'carefully', 'recieve', '1.99', 'liking', 'taking', 'Is', '6:51', 'Tyrese', 'borderline', 'pour', 'History', 'ma', 't/c', 'edgewood', 'ha', 'alterz', 'cigarette', 'othing', 'splinter', 'hitting', 'controllin', 'webcams', 'chops', 'Hiya', 'Truth', 'soccer', 'lesbian', 'attraction', 'Long', 'prolly', 'darlin', 'land', 'happen', 'prittier', 'betrayal', 'pours', 'monthes', 'U150', 'called', 'suked', 'flattered', 's', 'okay', 'louis', 'nice', 'ima', 'rolls', 'suprise', 'whewwwwww', 'paxil', 'Then', 'aside', 'poorrr', 'Type', 'small', 'close', 'Lil', 'U118', 'homes', ':blush:', 'robert', 'smell', 'lllllllliiiiiiiiiikeee', 'me', '.)', 'how', 'cutes', 'Money', 'U53', 'magnet', 'quarrel', 'basically', 'sing', 'hahah', 'aka', '14', 'yrs', 'enable', 'boned', 'y/w', 'roof', 'herself', '-s', 'pro-se', 'Dixie', 'School', 'obviously', 'dork', 'Salesman', 'poked', 'making', 'side', 'SOMETHING', 'Fixed', 'desert', 'bear', 'rich', 'barbie', 'Born', 'trip', 'hun', 'Downy', 'knows', 'sweet', 'scrolls', 'than', 'hott', 'column', 'e-herpes', 'eeekk', 'things', 'tootsie', \"PM's\", 'aggravated', 'heeee', 'bred', '^', 'bases', 'chatland', 'ewww', 'outs', 'N\"T', 'hahahah', 'At', 'fingers', 'comp', 'dojn', 'times', 'wallpaper', 'waves', '29.88.', 'gator', 'uniform', 'hartford', 'Crazy', 'charlie', 'bar', 'n e', 'Me', 'invisible', 'Fix', 'sleep', 'changing', 'contagious', 'guyzz', 'willie', 'dark', 'king', 'roaring', 'hmmmmmmmm', 'blowing', 'beeehave', 'balad', 'Steel', 'ya', 'somebody', 'Care', 'moon', 'some', '51', 'dman', 'relation', 'hungry', 'beam', '<', 'Have', 'prep', 'pumpkin', 'manage', 'promise', 'laundry', 'goodie', 'b/c', 'payday', '!!!!!!', 'o_O', 'Lies', '!!!!!!!!!!', 'f**kalicious', 'telling', 'kisses', 'N', 'whys', 'il', 'Rofl', 'dumbass', 'fabric', 'against', 'eh', 'j/k', 'heyyyyyy', 'anyone', 'hate', 'Even', 'kentucky', 'simply', 'but', 'OOH', 'raymond', 'nz', '`', 'lives', 'Kold', 'boooooooooooglyyyyyy', 'daft', 'camel', 'mostly', 'nightie', 'peek', 'talkiing', 'WTF', 'VBox', 'now', 'definately', 'Marvin', 'within', 'raarrrrrr', 'edmonton', 'bbiam', 'ahhahahaha', 'dear', 'everbody', \"g'\", 'SYNDORME', 'offence', '19', 'getting', 'Track', 'one', 'Washing', 'distance', 'U164', 'phone', 'ms.', 'settles', 'dangit', 'memories', 'holdin', 'noise', 'Cradle', \"stuffin'\", 'brrrrrrr', 'Private', 'till', 'concerning', 'gaaaaaaay', 'blueberry', '((((', '-(', 'voice', 'LOL', 'Tigers', 'American', 'leakin', 'Patient', 'answering', 'just', 'U102', 'yikesssss', '56', 'humm', 'water', 'sheet', 'many', 'comprende', 'esteem', 'futurama', 'youve', 'nads', 'bitches', 'innocently', 'hhaaaaatttee', 'famous', 'Lion', 'files', 'Flames', 'saving', 'long', 'crop', 'blank', 'BIG', 'loss', 'Connecticutt', 'Memory', 'retahhhhded', 'U172', 'ominous', 'son', 'yeas', 'waiting', 'hawT', 'internet', 'sunnn', 'inhales', 'will', 'kc', 'software', 'wildcard', 'scorpio', 'choose', 'younger', 'pming', 'ohhhhhh', 'typin', 'U22', 'somehow', 'bones', 'hehe', 'wrong', 'pumpkins', 'Ct', '^_^', 'smacks', 'gold', 'win win', 'frenchkiss', 'nobody', 'married', 'doctor', 'cookie', 'Norfolk', 'took', 'U32', 'Same', 'horny', 'minus', 'sky', 'door', 'push', 'Huh', 'proper', 'boys', 'sink', 'head', 'garciae', 'taken', 'mouth', 'dreams', 'ditto', 'result', 'old', 'prrty', 'Pour', 'in', 'tell', 'Bloooooooood', 'access', 'deal', 'OMG', 'whos', 'missin', 'dayum', 'innocent', 'liked', 'hola', 'guy', '53', 'minute', 'slam', 'Stop', 'clubs', 'truss', 'doesnt', 'vodka', 'chunks', 'schedule', 'sticks', 'christian', 'giggles', 'thah', 'Fergie', 'FF', 'hPa', 'ahhhhhh', 'frags', 'z-ro', 'usual', 'cramp', 'London', 'shows', 'reminder', 'Not', 'pssssh', 'kneez', 'repeats', 'waaa', 'shouldve', 'wedding', '60', 'skateboard', 'Where', 'has', 'sammich', 'j/p', 'Unlimited', '(', 'brightened', 'putting', 'popped', 'lookin', 'realises', 'disease', '!!!.', 'into', 'spat', 'coonarsee', 'Dawnstar', 'oil', 'nose', 'adds', 'brwn', 'n/', 'tries', 'made', 'bagel', 'satan', 'byeee', 'chattanooga', 'whilst', 'poor', 'YOu', 'low', 'grade', 'nostrils', 'wb', 'spiff', 'guts', 'Resident', 'fishin', 'hearin', 'freeezinggggg', 'tthe', 'usa', 'U1', 'p', 'coat', 'woohoo', 'power', 'gagas', 'til', 'rap', 'pages', 'un-freeze', 'involves', 'removing', 'waits', 'double', 'hertory', 'pain', 'sales', 'can', '*smewchies*', 'e1', 'MRIs', 'foot', 'drops', ';)', \"='s\", 'moped', 'moderation', 'Fetish', 'thx', 'inviting', 'sighs', '<3333333333333333', 'considered', 'MP3', 'salsa', 'saunders', 'CUZ', 'tracey', 'hog', 'U18', '!!!', 'Children', '579', 'technique', 'course', 'yawnssss', '32', 'wooooooooooooohoooooooooooooooo', 'after', 'MY', 'yessum', '.(..(.vMp3 vi.p.t.)..).', 'impossible', '6:53', 'playing', 'spanish', 'dunno', 'R', '...........', 'practically', '37', 'non-smoker', 'pssst', 'dyed', 'specials', 'feel', 'ohh', '~', 'mmmkay', 'joke', '#talkcity-20s', 'blankie', 'figured', 'suree', 'eeewwwwww', 'pr', 'filled', 'ihavehotnips', 'clue', 'specialist', 'excellent', 'downs', 'U1370', 'Reub', '2.3', 'go', '!!!!!!!!!!!!!!!!!!!!!!', ':(', 'doc', 'CT', 'U130', 'An', 'should', 'U35', 'toop', 'operator', 'U147', 'cutting', 'That', 'chatt', 'abortions', 'sw', 'bed', 'shot', 'casts', 'thows', 'withdrawal', 'catch', 'rememberer', 'aim.com', 'shine', 'MD', 'holiday', 'peace-and-quiet', ')))))))))))))))', 'ta', ',,,,,', 'play', 'heyyy', 'alone', '295', 'Hott', 'hearthechatters', 'woods', 'quiz', '<empty>', 'depeche', 'dam', 'LoL', '(((((((((((((((((', 'sunshine', 'deop', 'feelings', 'someday', 'stories', 'pure', 'alcohol', 'golden', 'Arkansas', 'been', 'outside', 'o<|=D', 'mwahs', 'blew', 'issue', 'boed', 'better', '<,', 'late', ':D', 'muahhh', 'whooo', '75%', 'altar', 'wean', 'cares', 'INTERESTING', 'perhaps', 'tried', 'Fails', 'box', 'SO', '<3', 'mind', 'game', '-17', 'man', 'ex', 'ice', 'Roadrunner', 'leaving', 'WHY', 'jujubees', 'hatchet', 'darwin', 'aw', 'Sat', 'singer', 'deaths', 'pigs', 'lagging', 'worked', 'cupper', 'hmmm', 'nah', 'messenger', 'begin', 'dunkin', 'human', 'smallfry', 'Living', 'shorter', 'Wyte', 'hmmmmmmmmmm', 'moms', 'hahaaa', 'burried', 'Because', 'rocker', 'CanEhda', 'winter', 'pussy', 'laffs', '4.20', 'U108', 'drugs', 'uk', 'former', 'ashamed', 'love4s', 'Like', 'themself', 'reached', 'babblein', 'dreammm', 'option', 'bloe', 'mowin', 'royalty', 'victims', 'White', 'early', 'chatroom', 'heroes', 'bare', 'jeep', 'bouncers', 'nothin', '!!!!!.', '4', 'hom', '!!!!!!!!!!!!!!!!', 'christianity', 'cooler', 'cya', 'burps', 'tory', 'Nice', 'ugh', 'root', 'dint', 'xcitable', 'U23', 'escaped', 'Anyone', 'estefan', 'MsUtah', 'goodnight', 'may', 'danny', 'ill', 'H0rny', 'Hug', 'ewwwwwww', 'heeeey', 'cheap', 'mexicans', 'butterscotch', 'incoming', 'dad', '((((((((((((((', 'U25', 'Heya', 'construction', 'james', 'taste', 'aaahhhh', 'U27', 'near', 'cyas', 'covers', 'rained', 'think', 'opr', 'cougs', 'Look', 'Elev', 'boost', 'massage', 'to', 'original', 'ooooook', 'cuz', 'wtf', 'mite', 'pal', '\\\\', 'New', 'done', 'sucka', 'lthen', 'Rang', 'redneck', 'touchy', 'anytime', 'yada', 'U89', 'U144', 'warm', 'Been', 'Eddie', 'anybody', 'worst', 'handing', 'TIME', 'streetcar', 'handyMan', '.........', 'Wb', '=', 'wireless', 'dude', 'U28', 'tazzmaniane', 'recall', 'fellows', 'l', 'controll', 'bless', 'youre', 'b-day', 'she', 'Record', 'painful', 'Daniel', 'great', 'floor', 'fawker', 'helped', 'HE', 'boyfriend', 'ms', 'solved', 'oklahoma', 'playstation', 'cheaking', 'lubbs', 'chit', 'dirrrrty', 'eyes', 'WHISPER', 'flesh', 'b', 'local', 'high', 'tingly', 'flow', '100%', \"'\", 'munch', 'thank', 'U6', 'U61', '--', 'muahzzzz', \"miss'n\", 'legs', 'smoking', 'dummmm', 'mins', 'oOo', 'welcome', 'smoker', 'cripes', 'weird', 'sad', 'reallly', 'shortage', 'advice', 'whaaaaats', 'booted', 'Laters', 'belive', 'gun', 'welfare', 'whatcha', 'european', 'buh', 'screen', 'regularly', 'soda', 'welcomes', 'gotaa', 'hurt', 're-think', 'jr', 'margarita', 'arm', 'reschedual', 'ran', 'mmmm', 'yvw', 'crowded', 'along', '13', 'face', 'bowl', 'Rule', 'Until', 'Devil', 'uses', 'breaks', 'nbc', 'Bone', 'movin', 'wats', 'Boone', 'molest', 'lasts', 'basket', 'vicious', 'seeee', 'confused', 'Wainwright', 'teh', '_', 'blow', 'even', 'U145', '?', 'knee', 'Wtf', 'retarded', 'wanna', 'sleeping', 'ohwa', 'rats', 'az', 'asshole', 'Round', '//', '1900', 'feeds', 'Its', 'kong', 'summon', 'conversation', 'kmph', 'lovin', 'LONLEY', 'EVEN', 'Boyz', 'price', 'women', 'Saturday', 'hail', 'bitch', 'sry', 'fall', 'topic', 'Sat.', 'ops', 'sooners', 'tastes', 'pair', 'crying', 'johny', 'hill', '?!', 'dabble', 'roller', 'disocvered', 'nyone', 'yall', 'coggieeee', '73042', 'hah', 'masturbating', 'talk', 'oops', 'oooooooooooglyyyyyyyy', 'innit', 'WOULD', 'awesome', 'nm', 'up', 'main', 'italian', 'completly', 'knock', 'itz', 'thnx', 'moment', 'High', 'fire', 'Wow', 'necklace', 'write', 'wut', '>>>>>>>>>>>>', 'minded', '14-16', '))))))))))))', 'period', 'U48', 'san', 'alohas', 'beside', 'shivers', 'afe', 'They', 'sings', 'grew', 'society', 'askin', 'troll', 'He', 'laters', 'U75', '7:45', 'nu', 'U170', 'prisoner', 'In', 'zombie', 'needs', 'scorpions', 'especially', 'eeek', 'snorts', 'mikeeeeeeeeeeeeeeeeeeeeeeeeee', 'sumfin', 'daughter', 'straight', 'Froogle', 'vent', 'combo', 'U136', 'arrived', 'Beach', 'China', 'softner', 'U133', '+*+*+*+*', 'holocaust', 'crap', '!!!!!!.', 'yw', 'GA', 'rashes', 'ages', 'top', 'say', 'Norah', 'News', '....', '43', 'weasel', 'Everyone', 'roomate', 'whiteys', 'wonna', 'shush', 'cramps', 'mothas', 'slap', 'Cardinals', 'wine', 'declawed', '??@', 'IN', '-21', 'Ceiling', 'If', 'me/', 'iz', 'please', 'bruises', 'scares', 'teck', \"s'\", 'kitty', 'popper', 'ROFL', 'three', 'hired', 'stupid', 'topless', 'hazy', 'hiom', 'covered', 'trout', 'do', 'burned', 'swamp', 'Could', 'llloooozzzzeeerrrrzzzzzzzzzzzzzzzzzzzzzzzzzzzzzzzzzzzzzzzzzzzzzzzzz', 't-shirt', 'lame', 'size', 'hogs', 'sec', 'tok', 'Gosh', 'goooooo', 'office', 'fee', 'fu', 'grrrrrrrrrrrrrrrrr', 'kitten', 'years', 'wondered', 'system', 'poof', 'maryland', '(((((((((((((((((((((((', 'consuming', 'Rick', 'theory', 'desire', 'acid', 'together', 'vote', 'Heyy', 'use', 'knw', 'Temp.', 'soothing', 'cut', 'fantastic', \"'m\", 'WHEN', 'tad', 'bbbbbyyyyyyyeeeeeeeee', 'O.k.', '247', 'despie', 'Silverstein', 'dontcha', 'tjhe', 'miss', 'nationality', 'cingular', 'eva', 'screamo', 'benz', 'eitther', 'brunswick', 'samn', 'azerbaijan', 'costumes', 'Permenant', 'Dawn', 'climate', 'LuverZ', 'Drop', '))))))))', 'bwahahahahahahahahahaha', 'mama', 'asthma', 'adreniline', 'pms', 'bird', 'U137', 'supposed', '..........', 'trouble', 'H', 'mode', '59%', 'South', 'twit', 'fer', 'Humidity', 'hands', 'endless', 'shocked', 'sleepover', 'husband', 'AM', 'racist', 'meat', 'clay', 'gosh', 'frown', 'realize', '((((((((((((((((((', 'p u s s y', 'JTo', 'Diego', 'banned', 'fair', 'question', 'Stick', 'f-ing', 'want', 'Food', 'elbowS', '?..', 'chanop', 'nyc', 'items', 'Sessions', 'smarter', 'Down', 'cheking', 'dressed', \"y'\", 'Sexy', 'imma', 'cmon', 'Her', '...................', 'considering', \"n't\", 'U47', 'store', 'playin', 'raaaaaaaaaaaaaaaaaaaaaaaaaaaaa', 'hassle', 'accept', 'How', 'ENOUGH', '<--', '--------------------', 'of', 'k', 'hope', 'specalily', 'drifter', 'obbts', 'moochhhhhhhhh', 'down', 'Reminder', '-o', 'Hugs', 'contast', 'concernin', 'scuba', 'Lampert', 'ensure', ')))))))))))))))))))))))))))))))', 'T-Mobile', 'everybody', 'goof', 'french', 'handsome', '24', 'inside', 'danger', 'mistake', 'sevendust', 'splains', 'too', 'whuuped', 'someone', 'holy', '16.', 'threw', 'LoVe', 'who', 'farts', '73%', 'Nooooooooooooooo', 'muzak', 'pictures', 'xbox', 'h', \"c'm\", 'XXXXXXXXXX', 'both', \"''\", 'ignoring', 'mono', 'wuts', 'much', 'latina', 'finally', 'hugging', 'Whereabouts', 'havin', 'dotn', '.).', 'housewife', '<33333'}\n",
      "{'bad', 'breaks', 'Broken', 'Bone', 'boned', 'Boone', 'byeeeeeeee', 'boot', 'basket', 'boss', 'big', 'brain', 'bucks', 'builds', 'bootay', 'blow', 'Breaking', 'butt', 'babes', 'bear', 'bring', 'barbie', 'bbl', 'belongings', 'brown', 'Born', 'born-again', 'BE', 'bot', 'Boyz', 'bitch', 'bc', 'buff', 'bra', 'besides', 'bred', 'bases', 'band', 'burpin', 'BUt', 'Barbieee', 'boing', 'beach', 'blazed', 'Burger', 'bag', 'Bwhaha', 'bound', 'B', 'bible', 'byb', 'bet', 'biz', 'break', 'bar', 'blankie', 'BOOTY', 'boom', 'bong', 'burp', 'behave', 'blind', 'burryed', 'beg', 'bumper', 'bleach', 'blowing', 'bell', 'beeehave', 'balad', 'beer', 'bachelorette', 'Booyah', 'bf', 'barfights', 'beams', 'beeeeehave', 'beside', 'bandsaw', 'blocking', 'bj', 'beam', 'booty', 'bust', 'balls', 'bro', 'button', 'bed', 'b/c', 'bloody', 'beats', 'bouts', 'biatch', 'believe', 'banjoes', 'bunny', 'blood', 'boredom', 'BAAAAALLLLLLLLIIIIIIINNNNNNNNNNN', 'Ben', 'boo', 'backroom', 'boy', 'bio', 'ban', 'Beach', 'bye', 'bacl', 'but', 'bossy', 'Benjamin', 'bumped', 'boooooooooooglyyyyyy', 'bend', 'been', 'boning', 'brb', 'Barometer', 'busy', 'boght', 'blew', 'boed', 'better', 'blooded', 'born', 'bigest', 'bbiam', 'be', 'babi', 'bounced', 'belong', 'betta', 'border', 'breathe', 'Break', 'box', 'Bonus', 'breeding', 'boobs', 'body', 'bulls', 'buffalo', 'boots', 'Bible', 'Books', 'blinks', 'burito', 'book', 'byeeee', 'bitdh', 'bikes', 'back', 'boi', 'bread', 'bruises', 'Bud', 'belly', 'built', 'beatles', 'brrrrrrr', 'begin', 'bow', 'beattles', 'Bye', 'blueberry', 'buses', 'burried', 'bus', 'Because', 'balck', 'beaten', 'blues', 'burned', 'BUT', 'beachhhh', 'Borat', 'bosom', 'bright', 'barn', 'blessings', 'babblein', 'bloe', 'barely', 'bitches', 'busted', 'blowjob', 'bob', 'blunt', 'bites', 'breath', 'bare', 'bein', 'bonus', 'blank', 'bother', 'bouncers', 'BIG', 'bahahahaa', 'bagels', 'Bloooooooooood', 'Biographys', 'brady', 'burps', 'bares', 'base', 'buttons', 'bbbbbyyyyyyyeeeeeeeee', 'Back', 'bois', 'brakes', 'buddyyyyyy', 'bothering', 'bought', 'buy', 'byeeeeeeeeeeeee', 'benz', 'brings', 'barrel', 'brunswick', 'biebsa', 'ball', 'BOOTS', 'Biiiiiitch', 'Better', 'butterscotch', 'bones', 'bliss', 'bak', 'bwahahahahahahahahahaha', 'BYE', 'bumber', 'bouncer', 'byes', 'beckley', 'being', 'bird', 'by', 'brad', 'beautiful', 'boost', 'booboo', 'buying', 'bes', 'bied', 'boys', 'babies', 'become', 'babiess', 'broke', 'brat', 'But', 'ben', 'babble', 'bugs', 'Bloooooooood', 'backfrontsidewaysandallaroundtheworld', 'Birdgang', 'beuty', 'banned', 'Been', 'boring', 'before', 'brooklyn', 'bomb', 'blade', 'babycakeses', 'black', 'blah', 'babay', 'biggest', 'btw', 'brbbb', 'battery', 'BLONDES', 'bless', 'beleive', 'bite', 'b-day', 'bottle', 'bull', 'brought', 'bishes', 'bug', 'borderline', 'barks', 'bout', 'b4', 'backup', 'behind', 'biiiatch', 'bbs', 'boyfriend', 'bone', 'balance', 'bunch', 'because', 'brother', 'beans', 'between', 'b', 'blowup', 'bears', 'bum', 'bedford', 'baked', 'baby', 'boinked', 'betrayal', 'brightened', 'Box', 'BOY', 'build', 'ballin', 'brass', 'bit', 'bisexual', 'beat', 'bored', 'bike', 'brwn', 'bi', 'butter', 'baord', 'booted', 'bedroom', 'board', 'belive', 'best', 'burns', 'brothers', 'bagel', 'buh', 'byeee', 'bandito', 'birthday', 'bodies', 'blue', 'biyatch', 'backatchya', 'both', 'bikini', 'beanbag', 'babe', 'bluer', 'bummer', 'Bloooooooooooood', 'burger', 'blech', 'bay', 'bowl', 'basically', 'birfday'}\n",
      "['B', 'b', 'b-day', 'b/c', 'b4', 'BAAAAALLLLLLLLIIIIIIINNNNNNNNNNN', 'babay', 'babble', 'babblein', 'babe', 'babes', 'babi', 'babies', 'babiess', 'baby', 'babycakeses', 'bachelorette', 'back', 'Back', 'backatchya', 'backfrontsidewaysandallaroundtheworld', 'backroom', 'backup', 'bacl', 'bad', 'bag', 'bagel', 'bagels', 'bahahahaa', 'bak', 'baked', 'balad', 'balance', 'balck', 'ball', 'ballin', 'balls', 'ban', 'band', 'bandito', 'bandsaw', 'banjoes', 'banned', 'baord', 'bar', 'barbie', 'Barbieee', 'bare', 'barely', 'bares', 'barfights', 'barks', 'barn', 'Barometer', 'barrel', 'base', 'bases', 'basically', 'basket', 'battery', 'bay', 'bbbbbyyyyyyyeeeeeeeee', 'bbiam', 'bbl', 'bbs', 'bc', 'BE', 'be', 'beach', 'Beach', 'beachhhh', 'beam', 'beams', 'beanbag', 'beans', 'bear', 'bears', 'beat', 'beaten', 'beatles', 'beats', 'beattles', 'beautiful', 'Because', 'because', 'beckley', 'become', 'bed', 'bedford', 'bedroom', 'beeeeehave', 'beeehave', 'been', 'Been', 'beer', 'before', 'beg', 'begin', 'behave', 'behind', 'bein', 'being', 'beleive', 'believe', 'belive', 'bell', 'belly', 'belong', 'belongings', 'Ben', 'ben', 'bend', 'Benjamin', 'benz', 'bes', 'beside', 'besides', 'best', 'bet', 'betrayal', 'betta', 'better', 'Better', 'between', 'beuty', 'bf', 'bi', 'biatch', 'bible', 'Bible', 'biebsa', 'bied', 'big', 'BIG', 'bigest', 'biggest', 'biiiatch', 'Biiiiiitch', 'bike', 'bikes', 'bikini', 'bio', 'Biographys', 'bird', 'Birdgang', 'birfday', 'birthday', 'bisexual', 'bishes', 'bit', 'bitch', 'bitches', 'bitdh', 'bite', 'bites', 'biyatch', 'biz', 'bj', 'black', 'blade', 'blah', 'blank', 'blankie', 'blazed', 'bleach', 'blech', 'bless', 'blessings', 'blew', 'blind', 'blinks', 'bliss', 'blocking', 'bloe', 'BLONDES', 'blood', 'blooded', 'bloody', 'Bloooooooood', 'Bloooooooooood', 'Bloooooooooooood', 'blow', 'blowing', 'blowjob', 'blowup', 'blue', 'blueberry', 'bluer', 'blues', 'blunt', 'board', 'bob', 'bodies', 'body', 'boed', 'boght', 'boi', 'boing', 'boinked', 'bois', 'bomb', 'Bone', 'bone', 'boned', 'bones', 'bong', 'boning', 'Bonus', 'bonus', 'boo', 'booboo', 'boobs', 'book', 'Books', 'boom', 'Boone', 'boooooooooooglyyyyyy', 'boost', 'boot', 'bootay', 'booted', 'boots', 'BOOTS', 'BOOTY', 'booty', 'Booyah', 'Borat', 'border', 'borderline', 'bored', 'boredom', 'boring', 'Born', 'born', 'born-again', 'bosom', 'boss', 'bossy', 'bot', 'both', 'bother', 'bothering', 'bottle', 'bought', 'bounced', 'bouncer', 'bouncers', 'bound', 'bout', 'bouts', 'bow', 'bowl', 'box', 'Box', 'boy', 'BOY', 'boyfriend', 'boys', 'Boyz', 'bra', 'brad', 'brady', 'brain', 'brakes', 'brass', 'brat', 'brb', 'brbbb', 'bread', 'break', 'Break', 'Breaking', 'breaks', 'breath', 'breathe', 'bred', 'breeding', 'bright', 'brightened', 'bring', 'brings', 'bro', 'broke', 'Broken', 'brooklyn', 'brother', 'brothers', 'brought', 'brown', 'brrrrrrr', 'bruises', 'brunswick', 'brwn', 'btw', 'bucks', 'Bud', 'buddyyyyyy', 'buff', 'buffalo', 'bug', 'bugs', 'buh', 'build', 'builds', 'built', 'bull', 'bulls', 'bum', 'bumber', 'bummer', 'bumped', 'bumper', 'bunch', 'bunny', 'Burger', 'burger', 'burito', 'burned', 'burns', 'burp', 'burpin', 'burps', 'burried', 'burryed', 'bus', 'buses', 'bust', 'busted', 'busy', 'BUt', 'but', 'BUT', 'But', 'butt', 'butter', 'butterscotch', 'button', 'buttons', 'buy', 'buying', 'bwahahahahahahahahahaha', 'Bwhaha', 'by', 'byb', 'bye', 'Bye', 'BYE', 'byeee', 'byeeee', 'byeeeeeeee', 'byeeeeeeeeeeeee', 'byes']\n"
     ]
    }
   ],
   "source": [
    "# check the text 4 and find all the words that start from b and then print them in sorted form \n",
    "\n",
    "# printing the words of the text4\n",
    "print(set(text5))\n",
    "\n",
    "# printing the words start from b \n",
    "print(set([w for w in text5 if w.startswith(\"b\") or w.startswith(\"B\")]))\n",
    "\n",
    "# printing the words start from b in sorted form\n",
    "print(sorted(set([w for w in text5 if w.startswith(('b', 'B'))]), key = str.casefold))\n"
   ]
  },
  {
   "cell_type": "code",
   "execution_count": 50,
   "id": "bf190e7b",
   "metadata": {},
   "outputs": [
    {
     "name": "stdout",
     "output_type": "stream",
     "text": [
      "[0, 1, 2, 3, 4, 5, 6, 7, 8, 9]\n",
      "[1, 2, 3, 4, 5, 6, 7, 8, 9, 10]\n",
      "[1, 3, 5, 7, 9]\n"
     ]
    }
   ],
   "source": [
    "# printing the range of number from 1 to 10 \n",
    "print(list(range(10)))\n",
    "print(list(range(1,11)))\n",
    "print(list(range(1,10,2)))"
   ]
  },
  {
   "cell_type": "code",
   "execution_count": 51,
   "id": "4e34bff7",
   "metadata": {},
   "outputs": [
    {
     "data": {
      "text/plain": [
       "629"
      ]
     },
     "execution_count": 51,
     "metadata": {},
     "output_type": "execute_result"
    }
   ],
   "source": [
    "# using the word to find it's index in the text \n",
    "text9.index('sunset')"
   ]
  },
  {
   "cell_type": "code",
   "execution_count": 65,
   "id": "197a71db",
   "metadata": {},
   "outputs": [
    {
     "name": "stdout",
     "output_type": "stream",
     "text": [
      "The index of sunset is 629\n",
      "first sentence ends at index 21\n",
      "['[', 'The', 'Man', 'Who', 'Was', 'Thursday', 'by', 'G', '.', 'K', '.', 'Chesterton', '1908', ']', 'To', 'Edmund', 'Clerihew', 'Bentley', 'A', 'cloud', 'was'].[ The Man Who Was Thursday by G . K . Chesterton 1908 ] To Edmund Clerihew Bentley A cloud was\n"
     ]
    }
   ],
   "source": [
    "for i in range(600,700):\n",
    "    if text9[i] == 'sunset':\n",
    "        print(f'The index of sunset is {i}')\n",
    "        break\n",
    "\n",
    "for i in range(0,len(text5)):\n",
    "    if text5[i] == '.':\n",
    "        print(f\"first sentence ends at index {i}\")\n",
    "        break\n",
    "\n",
    "print(text9[0:21],end = \".\")\n",
    "\n",
    "\n",
    "print(' '.join(text9[0:21]))\n"
   ]
  },
  {
   "cell_type": "code",
   "execution_count": 66,
   "id": "0a66f67d",
   "metadata": {},
   "outputs": [
    {
     "name": "stdout",
     "output_type": "stream",
     "text": [
      "C H A P T E R I T H E T W O P O E T S O F S A F F R O N P A R K T H E s u b u r b o f S a f f r o n P a r k l a y o n t h e s u n s e t s i d e o f L o n d o n, a s r e d a n d r a g g e d a s a c l o u d o f s u n s e t. \n"
     ]
    }
   ],
   "source": [
    "full_sent = \"\"\n",
    "alpha_text = []\n",
    "\n",
    "for i in range(613, 644):\n",
    "    \n",
    "    if text9[i].isalpha():\n",
    "        alpha_text += text9[i]\n",
    "    else:\n",
    "        full_sent += (' '.join(alpha_text) + text9[i] + ' ')\n",
    "        alpha_text = []\n",
    "        \n",
    "print(full_sent)"
   ]
  },
  {
   "cell_type": "code",
   "execution_count": 70,
   "id": "be054a39",
   "metadata": {},
   "outputs": [
    {
     "data": {
      "text/plain": [
       "['aye', 'captain']"
      ]
     },
     "execution_count": 70,
     "metadata": {},
     "output_type": "execute_result"
    }
   ],
   "source": [
    "# sorting of the words \n",
    "test = [\"Aye\",\"aye\",\"captain\"]\n",
    "sorted(set(w.lower() for w in test))\n"
   ]
  },
  {
   "cell_type": "code",
   "execution_count": 72,
   "id": "49c74493",
   "metadata": {},
   "outputs": [
    {
     "data": {
      "text/plain": [
       "{'aye', 'captain'}"
      ]
     },
     "execution_count": 72,
     "metadata": {},
     "output_type": "execute_result"
    }
   ],
   "source": [
    "# converting the whole list in lower case \n",
    "set(w.lower() for w in test)"
   ]
  },
  {
   "cell_type": "code",
   "execution_count": 73,
   "id": "46cfc1f8",
   "metadata": {},
   "outputs": [
    {
     "data": {
      "text/plain": [
       "19317"
      ]
     },
     "execution_count": 73,
     "metadata": {},
     "output_type": "execute_result"
    }
   ],
   "source": [
    "# trying it on text 1 \n",
    "len(sorted(w.lower() for w in set(text1)))"
   ]
  }
 ],
 "metadata": {
  "kernelspec": {
   "display_name": "Python 3",
   "language": "python",
   "name": "python3"
  },
  "language_info": {
   "codemirror_mode": {
    "name": "ipython",
    "version": 3
   },
   "file_extension": ".py",
   "mimetype": "text/x-python",
   "name": "python",
   "nbconvert_exporter": "python",
   "pygments_lexer": "ipython3",
   "version": "3.10.12"
  }
 },
 "nbformat": 4,
 "nbformat_minor": 5
}
